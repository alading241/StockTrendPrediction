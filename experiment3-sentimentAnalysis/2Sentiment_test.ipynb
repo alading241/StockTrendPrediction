{
 "cells": [
  {
   "cell_type": "code",
   "execution_count": 1,
   "metadata": {},
   "outputs": [
    {
     "name": "stderr",
     "output_type": "stream",
     "text": [
      "d:\\ProgramData\\Anaconda3\\lib\\site-packages\\gensim\\utils.py:1212: UserWarning: detected Windows; aliasing chunkize to chunkize_serial\n",
      "  warnings.warn(\"detected Windows; aliasing chunkize to chunkize_serial\")\n",
      "d:\\ProgramData\\Anaconda3\\lib\\site-packages\\h5py\\__init__.py:36: FutureWarning: Conversion of the second argument of issubdtype from `float` to `np.floating` is deprecated. In future, it will be treated as `np.float64 == np.dtype(float).type`.\n",
      "  from ._conv import register_converters as _register_converters\n",
      "Using TensorFlow backend.\n"
     ]
    }
   ],
   "source": [
    "#! /bin/env python\n",
    "# -*- coding: utf-8 -*-\n",
    "\"\"\"\n",
    "预测\n",
    "\"\"\"\n",
    "import jieba\n",
    "import numpy as np\n",
    "from gensim.models.word2vec import Word2Vec\n",
    "from gensim.corpora.dictionary import Dictionary\n",
    "from keras.preprocessing import sequence\n",
    "from snownlp import SnowNLP as mynlptool\n",
    "import yaml\n",
    "from keras.models import model_from_yaml\n",
    "np.random.seed(1337)  # For Reproducibility\n",
    "import sys\n",
    "sys.setrecursionlimit(1000000)\n",
    "\n",
    "# define parameters\n",
    "maxlen = 100\n",
    "\n",
    "def create_dictionaries(model=None,\n",
    "                        combined=None):\n",
    "    ''' Function does are number of Jobs:\n",
    "        1- Creates a word to index mapping\n",
    "        2- Creates a word to vector mapping\n",
    "        3- Transforms the Training and Testing Dictionaries\n",
    "\n",
    "    '''\n",
    "    if (combined is not None) and (model is not None):\n",
    "        gensim_dict = Dictionary()\n",
    "        gensim_dict.doc2bow(model.wv.vocab.keys(),\n",
    "                            allow_update=True)\n",
    "        #  freqxiao10->0 所以k+1\n",
    "        w2indx = {v: k+1 for k, v in gensim_dict.items()}#所有频数超过10的词语的索引,(k->v)=>(v->k)\n",
    "        w2vec = {word: model[word] for word in w2indx.keys()}#所有频数超过10的词语的词向量, (word->model(word))\n",
    "\n",
    "        def parse_dataset(combined): # 闭包-->临时使用\n",
    "            ''' Words become integers\n",
    "            '''\n",
    "            data=[]\n",
    "            for sentence in combined:\n",
    "                new_txt = []\n",
    "                for word in sentence:\n",
    "                    try:\n",
    "                        new_txt.append(w2indx[word])\n",
    "                    except:\n",
    "                        new_txt.append(0) # freqxiao10->0\n",
    "                data.append(new_txt)\n",
    "            return data # word=>index\n",
    "        combined=parse_dataset(combined)\n",
    "        combined= sequence.pad_sequences(combined, maxlen=maxlen)#每个句子所含词语对应的索引，所以句子中含有频数小于10的词语，索引为0\n",
    "        return w2indx, w2vec,combined\n",
    "    else:\n",
    "        print ('No data provided...')\n",
    "\n",
    "\n",
    "def input_transform(string):\n",
    "    words=jieba.lcut(string)\n",
    "    words=np.array(words).reshape(1,-1)\n",
    "    model=Word2Vec.load('Word2vec_model.pkl')\n",
    "    _,_,combined=create_dictionaries(model,words)\n",
    "    return combined\n",
    "\n",
    "\n",
    "def lstm_predict(string):\n",
    "    print ('loading model......')\n",
    "    with open('lstm.yml', 'r') as f:\n",
    "        yaml_string = yaml.load(f)\n",
    "    model = model_from_yaml(yaml_string)\n",
    "\n",
    "    print ('loading weights......')\n",
    "    model.load_weights('lstm.h5')\n",
    "    model.compile(loss='categorical_crossentropy',\n",
    "                  optimizer='adam',metrics=['accuracy'])\n",
    "    data=input_transform(string)\n",
    "    data.reshape(1,-1)\n",
    "    #print data\n",
    "    result=model.predict_classes(data)\n",
    "    # print result # [[1]]\n",
    "    if result[0]==1:\n",
    "        print (string,' positive')\n",
    "    elif result[0]==0:\n",
    "        print (string,' neural')\n",
    "    else:\n",
    "        print (string,' negative')\n",
    "\n",
    "\n",
    "# string='酒店的环境非常好，价格也便宜，值得推荐'\n",
    "# string='手机质量太差了，傻逼店家，赚黑心钱，以后再也不会买了'\n",
    "# string = \"这是我看过文字写得很糟糕的书，因为买了，还是耐着性子看完了，但是总体来说不好，文字、内容、结构都不好\"\n",
    "# string = \"虽说是职场指导书，但是写的有点干涩，我读一半就看不下去了！\"\n",
    "# string = \"书的质量还好，但是内容实在没意思。本以为会侧重心理方面的分析，但实际上是婚外恋内容。\"\n",
    "# string = \"不是太好\"\n",
    "# string = \"不错不错\"\n",
    "# string = \"真的一般，没什么可以学习的\"\n",
    "\n",
    "# lstm_predict(string)"
   ]
  },
  {
   "cell_type": "code",
   "execution_count": 18,
   "metadata": {},
   "outputs": [
    {
     "name": "stdout",
     "output_type": "stream",
     "text": [
      "loading model......\n",
      "loading weights......\n"
     ]
    },
    {
     "name": "stderr",
     "output_type": "stream",
     "text": [
      "d:\\ProgramData\\Anaconda3\\lib\\site-packages\\ipykernel_launcher.py:35: DeprecationWarning: Call to deprecated `__getitem__` (Method will be removed in 4.0.0, use self.wv.__getitem__() instead).\n"
     ]
    },
    {
     "name": "stdout",
     "output_type": "stream",
     "text": [
      "这个股票下跌，糟糕透了  neural\n"
     ]
    }
   ],
   "source": [
    "# string='酒店的环境非常好，价格也便宜，值得推荐'\n",
    "# string='手机质量太差了，傻逼店家，赚黑心钱，以后再也不会买了'\n",
    "# string = \"这是我看过文字写得很糟糕的书，因为买了，还是耐着性子看完了，但是总体来说不好，文字、内容、结构都不好\"\n",
    "# string = \"虽说是职场指导书，但是写的有点干涩，我读一半就看不下去了！\"\n",
    "# string = \"书的质量还好，但是内容实在没意思。本以为会侧重心理方面的分析，但实际上是婚外恋内容。\"\n",
    "# string = \"不是太好\"\n",
    "# string = \"不错不错\"\n",
    "# string = \"真的一般，没什么可以学习的\"\n",
    "string = '这个股票下跌，糟糕透了'\n",
    "\n",
    "lstm_predict(string)"
   ]
  },
  {
   "cell_type": "markdown",
   "metadata": {},
   "source": [
    "进行情感分析"
   ]
  },
  {
   "cell_type": "code",
   "execution_count": 2,
   "metadata": {},
   "outputs": [],
   "source": [
    "\n",
    "\n",
    "# string='酒店的环境非常好，价格也便宜，值得推荐'\n",
    "string='手机质量太差了，傻逼店家，赚黑心钱，以后再也不会买了'\n",
    "# string = \"这是我看过文字写得很糟糕的书，因为买了，还是耐着性子看完了，但是总体来说不好，文字、内容、结构都不好\"\n",
    "# string = \"虽说是职场指导书，但是写的有点干涩，我读一半就看不下去了！\"\n",
    "# string = \"书的质量还好，但是内容实在没意思。本以为会侧重心理方面的分析，但实际上是婚外恋内容。\"\n",
    "# string = \"不是太好\"\n",
    "\n",
    "\n",
    "\n"
   ]
  },
  {
   "cell_type": "code",
   "execution_count": 7,
   "metadata": {
    "scrolled": true
   },
   "outputs": [
    {
     "data": {
      "text/plain": [
       "(0.0004931080011100208,\n",
       " \"['这家', '公司', '太差', '了', '，', '傻', '逼', '公司', '，', '赚', '黑心', '钱', '，', '以后', '再', '也', '不', '会', '买', '了']\",\n",
       " \"[('这家', 'r'), ('公司', 'n'), ('太差', 'Ag'), ('了', 'y'), ('，', 'w'), ('傻', 'a'), ('逼', 'v'), ('公司', 'n'), ('，', 'w'), ('赚', 'v'), ('黑心', 'nr'), ('钱', 'nr'), ('，', 'w'), ('以后', 'f'), ('再', 'd'), ('也', 'd'), ('不', 'd'), ('会', 'v'), ('买', 'v'), ('了', 'y')]\")"
      ]
     },
     "execution_count": 7,
     "metadata": {},
     "output_type": "execute_result"
    }
   ],
   "source": [
    "string='这家公司太差了，傻逼公司，赚黑心钱，以后再也不会买了'\n",
    "s = mynlptool(string)\n",
    "s.sentiments, str(s.words), str(list(s.tags))"
   ]
  },
  {
   "cell_type": "code",
   "execution_count": 6,
   "metadata": {},
   "outputs": [
    {
     "data": {
      "text/plain": [
       "(0.971132196567387,\n",
       " \"['这', '只', '股票', '非常', '好', '，', '价格', '也', '便宜', '，', '值得', '推荐']\",\n",
       " \"[('这', 'r'), ('只', 'q'), ('股票', 'n'), ('非常', 'd'), ('好', 'a'), ('，', 'w'), ('价格', 'n'), ('也', 'd'), ('便宜', 'a'), ('，', 'w'), ('值得', 'v'), ('推荐', 'v')]\")"
      ]
     },
     "execution_count": 6,
     "metadata": {},
     "output_type": "execute_result"
    }
   ],
   "source": [
    "string='这只股票非常好，价格也便宜，值得推荐'\n",
    "s = mynlptool(string)\n",
    "s.sentiments, str(s.words), str(list(s.tags))"
   ]
  },
  {
   "cell_type": "code",
   "execution_count": 3,
   "metadata": {},
   "outputs": [
    {
     "data": {
      "text/plain": [
       "(0.9331816845145019,\n",
       " \"['股票', '快', '涨']\",\n",
       " \"[('股票', 'n'), ('快', 'd'), ('涨', 'v')]\")"
      ]
     },
     "execution_count": 3,
     "metadata": {},
     "output_type": "execute_result"
    }
   ],
   "source": [
    "string = \"股票快涨\"\n",
    "s = mynlptool(string)\n",
    "s.sentiments, str(s.words), str(list(s.tags))"
   ]
  },
  {
   "cell_type": "code",
   "execution_count": 5,
   "metadata": {},
   "outputs": [
    {
     "data": {
      "text/plain": [
       "(0.35270721476344424,\n",
       " \"['特别', '垃圾', '的', '股票']\",\n",
       " \"[('特别', 'a'), ('垃圾', 'n'), ('的', 'u'), ('股票', 'n')]\")"
      ]
     },
     "execution_count": 5,
     "metadata": {},
     "output_type": "execute_result"
    }
   ],
   "source": [
    "string = \"特别垃圾的股票\"\n",
    "s = mynlptool(string)\n",
    "s.sentiments, str(s.words), str(list(s.tags))"
   ]
  },
  {
   "cell_type": "code",
   "execution_count": 2,
   "metadata": {},
   "outputs": [],
   "source": [
    "import pandas as pd"
   ]
  },
  {
   "cell_type": "code",
   "execution_count": 3,
   "metadata": {},
   "outputs": [],
   "source": [
    "combine_df = pd.read_csv('combine_df.csv')"
   ]
  },
  {
   "cell_type": "code",
   "execution_count": 78,
   "metadata": {},
   "outputs": [
    {
     "data": {
      "text/html": [
       "<div>\n",
       "<style scoped>\n",
       "    .dataframe tbody tr th:only-of-type {\n",
       "        vertical-align: middle;\n",
       "    }\n",
       "\n",
       "    .dataframe tbody tr th {\n",
       "        vertical-align: top;\n",
       "    }\n",
       "\n",
       "    .dataframe thead th {\n",
       "        text-align: right;\n",
       "    }\n",
       "</style>\n",
       "<table border=\"1\" class=\"dataframe\">\n",
       "  <thead>\n",
       "    <tr style=\"text-align: right;\">\n",
       "      <th></th>\n",
       "      <th>发表时间</th>\n",
       "      <th>评论标题</th>\n",
       "      <th>sentiment_value</th>\n",
       "      <th>sentiment_label</th>\n",
       "    </tr>\n",
       "  </thead>\n",
       "  <tbody>\n",
       "    <tr>\n",
       "      <th>0</th>\n",
       "      <td>20160401</td>\n",
       "      <td>等待非农就业数据 美股午盘维持小幅上扬</td>\n",
       "      <td>0.897162</td>\n",
       "      <td>1</td>\n",
       "    </tr>\n",
       "    <tr>\n",
       "      <th>1</th>\n",
       "      <td>20160401</td>\n",
       "      <td>4月1日股市早盘内参：上交所决定4月8日起暂停*S</td>\n",
       "      <td>0.250485</td>\n",
       "      <td>0</td>\n",
       "    </tr>\n",
       "    <tr>\n",
       "      <th>2</th>\n",
       "      <td>20160401</td>\n",
       "      <td>净买入再超20亿元 沪股通扫货四大券商股</td>\n",
       "      <td>0.304655</td>\n",
       "      <td>0</td>\n",
       "    </tr>\n",
       "    <tr>\n",
       "      <th>3</th>\n",
       "      <td>20160401</td>\n",
       "      <td>专家:三月反攻圆满收官 四月行情值得期待</td>\n",
       "      <td>0.991793</td>\n",
       "      <td>1</td>\n",
       "    </tr>\n",
       "    <tr>\n",
       "      <th>4</th>\n",
       "      <td>20160401</td>\n",
       "      <td>梧桐树扎根A股“一箭双雕”</td>\n",
       "      <td>0.992092</td>\n",
       "      <td>1</td>\n",
       "    </tr>\n",
       "  </tbody>\n",
       "</table>\n",
       "</div>"
      ],
      "text/plain": [
       "       发表时间                       评论标题  sentiment_value  sentiment_label\n",
       "0  20160401        等待非农就业数据 美股午盘维持小幅上扬         0.897162                1\n",
       "1  20160401  4月1日股市早盘内参：上交所决定4月8日起暂停*S         0.250485                0\n",
       "2  20160401       净买入再超20亿元 沪股通扫货四大券商股         0.304655                0\n",
       "3  20160401       专家:三月反攻圆满收官 四月行情值得期待         0.991793                1\n",
       "4  20160401              梧桐树扎根A股“一箭双雕”         0.992092                1"
      ]
     },
     "execution_count": 78,
     "metadata": {},
     "output_type": "execute_result"
    }
   ],
   "source": [
    "combine_df.head()"
   ]
  },
  {
   "cell_type": "code",
   "execution_count": 9,
   "metadata": {},
   "outputs": [],
   "source": [
    "sentiment_list = []"
   ]
  },
  {
   "cell_type": "code",
   "execution_count": 10,
   "metadata": {},
   "outputs": [],
   "source": [
    "for i in combine_df['评论标题']:\n",
    "    s = mynlptool(i)\n",
    "    sentiment_list.append(s.sentiments)"
   ]
  },
  {
   "cell_type": "code",
   "execution_count": 13,
   "metadata": {},
   "outputs": [
    {
     "data": {
      "text/plain": [
       "(112380, (112380, 2))"
      ]
     },
     "execution_count": 13,
     "metadata": {},
     "output_type": "execute_result"
    }
   ],
   "source": [
    "len(sentiment_list), combine_df.shape"
   ]
  },
  {
   "cell_type": "code",
   "execution_count": 14,
   "metadata": {},
   "outputs": [],
   "source": [
    "combine_df['sentiment_value'] = sentiment_list"
   ]
  },
  {
   "cell_type": "code",
   "execution_count": 96,
   "metadata": {},
   "outputs": [
    {
     "data": {
      "text/html": [
       "<div>\n",
       "<style scoped>\n",
       "    .dataframe tbody tr th:only-of-type {\n",
       "        vertical-align: middle;\n",
       "    }\n",
       "\n",
       "    .dataframe tbody tr th {\n",
       "        vertical-align: top;\n",
       "    }\n",
       "\n",
       "    .dataframe thead th {\n",
       "        text-align: right;\n",
       "    }\n",
       "</style>\n",
       "<table border=\"1\" class=\"dataframe\">\n",
       "  <thead>\n",
       "    <tr style=\"text-align: right;\">\n",
       "      <th></th>\n",
       "      <th>date</th>\n",
       "      <th>news_title</th>\n",
       "      <th>sentiment_value</th>\n",
       "      <th>sentiment_label</th>\n",
       "    </tr>\n",
       "  </thead>\n",
       "  <tbody>\n",
       "    <tr>\n",
       "      <th>0</th>\n",
       "      <td>2016-04-01 00:03:56</td>\n",
       "      <td>等待非农就业数据 美股午盘维持小幅上扬</td>\n",
       "      <td>0.897162</td>\n",
       "      <td>1</td>\n",
       "    </tr>\n",
       "    <tr>\n",
       "      <th>1</th>\n",
       "      <td>2016-04-01 01:01:06</td>\n",
       "      <td>4月1日股市早盘内参：上交所决定4月8日起暂停*S</td>\n",
       "      <td>0.250485</td>\n",
       "      <td>0</td>\n",
       "    </tr>\n",
       "    <tr>\n",
       "      <th>2</th>\n",
       "      <td>2016-04-01 01:19:11</td>\n",
       "      <td>净买入再超20亿元 沪股通扫货四大券商股</td>\n",
       "      <td>0.304655</td>\n",
       "      <td>0</td>\n",
       "    </tr>\n",
       "    <tr>\n",
       "      <th>3</th>\n",
       "      <td>2016-04-01 01:22:06</td>\n",
       "      <td>专家:三月反攻圆满收官 四月行情值得期待</td>\n",
       "      <td>0.991793</td>\n",
       "      <td>1</td>\n",
       "    </tr>\n",
       "    <tr>\n",
       "      <th>4</th>\n",
       "      <td>2016-04-01 01:38:17</td>\n",
       "      <td>梧桐树扎根A股“一箭双雕”</td>\n",
       "      <td>0.992092</td>\n",
       "      <td>1</td>\n",
       "    </tr>\n",
       "    <tr>\n",
       "      <th>5</th>\n",
       "      <td>2016-04-01 01:39:06</td>\n",
       "      <td>央行今年第一季度调查问卷显示：股票投资被挤出</td>\n",
       "      <td>0.909551</td>\n",
       "      <td>1</td>\n",
       "    </tr>\n",
       "    <tr>\n",
       "      <th>6</th>\n",
       "      <td>2016-04-01 01:54:09</td>\n",
       "      <td>“深港通”适时启动 最终如何影响两地市场？</td>\n",
       "      <td>0.746931</td>\n",
       "      <td>0</td>\n",
       "    </tr>\n",
       "    <tr>\n",
       "      <th>7</th>\n",
       "      <td>2016-04-01 02:18:11</td>\n",
       "      <td>今年深化经济体制改革重点确定 适时启动“深港</td>\n",
       "      <td>0.999867</td>\n",
       "      <td>1</td>\n",
       "    </tr>\n",
       "    <tr>\n",
       "      <th>8</th>\n",
       "      <td>2016-04-01 02:30:12</td>\n",
       "      <td>两融余额重回8800亿 时隔3个月再现月度净买入</td>\n",
       "      <td>0.546472</td>\n",
       "      <td>0</td>\n",
       "    </tr>\n",
       "    <tr>\n",
       "      <th>9</th>\n",
       "      <td>2016-04-01 02:32:12</td>\n",
       "      <td>深化资本市场改革 适时启动深港通</td>\n",
       "      <td>0.999866</td>\n",
       "      <td>1</td>\n",
       "    </tr>\n",
       "    <tr>\n",
       "      <th>10</th>\n",
       "      <td>2016-04-01 02:36:13</td>\n",
       "      <td>疯狂的A股IPO 全年约200家新股上市融资额最高10</td>\n",
       "      <td>0.101867</td>\n",
       "      <td>-1</td>\n",
       "    </tr>\n",
       "    <tr>\n",
       "      <th>11</th>\n",
       "      <td>2016-04-01 03:09:17</td>\n",
       "      <td>四大行去年日均赚19亿 高管齐称业绩微增来之不</td>\n",
       "      <td>0.624496</td>\n",
       "      <td>0</td>\n",
       "    </tr>\n",
       "    <tr>\n",
       "      <th>12</th>\n",
       "      <td>2016-04-01 03:58:25</td>\n",
       "      <td>增配优质蓝筹股 部分机构看好估值切换行情</td>\n",
       "      <td>0.820274</td>\n",
       "      <td>1</td>\n",
       "    </tr>\n",
       "    <tr>\n",
       "      <th>13</th>\n",
       "      <td>2016-04-01 03:59:23</td>\n",
       "      <td>“壳”里有乾坤 机构挖掘“借壳”概念股</td>\n",
       "      <td>0.162583</td>\n",
       "      <td>0</td>\n",
       "    </tr>\n",
       "    <tr>\n",
       "      <th>14</th>\n",
       "      <td>2016-04-01 04:00:45</td>\n",
       "      <td>回应海外资金投资A股热情 累计逾800亿美元QFII</td>\n",
       "      <td>0.975384</td>\n",
       "      <td>1</td>\n",
       "    </tr>\n",
       "    <tr>\n",
       "      <th>15</th>\n",
       "      <td>2016-04-01 04:08:41</td>\n",
       "      <td>央行调查：过半居民称目前房价过高 近两成居民</td>\n",
       "      <td>0.037301</td>\n",
       "      <td>-1</td>\n",
       "    </tr>\n",
       "    <tr>\n",
       "      <th>16</th>\n",
       "      <td>2016-04-01 04:26:45</td>\n",
       "      <td>北京市酝酿楼市新政 “90/70”政策重返市场</td>\n",
       "      <td>0.264877</td>\n",
       "      <td>0</td>\n",
       "    </tr>\n",
       "    <tr>\n",
       "      <th>17</th>\n",
       "      <td>2016-04-01 05:11:28</td>\n",
       "      <td>隔夜外盘：欧美股市收跌 金价收获30年来最佳季</td>\n",
       "      <td>0.993624</td>\n",
       "      <td>1</td>\n",
       "    </tr>\n",
       "    <tr>\n",
       "      <th>18</th>\n",
       "      <td>2016-04-01 06:13:26</td>\n",
       "      <td>龙虎榜里的江湖：手法凶悍 豪赌妖股</td>\n",
       "      <td>0.999089</td>\n",
       "      <td>1</td>\n",
       "    </tr>\n",
       "    <tr>\n",
       "      <th>19</th>\n",
       "      <td>2016-04-01 06:27:26</td>\n",
       "      <td>深化经济体制改革确定十大重点 国企改革列在首</td>\n",
       "      <td>0.999944</td>\n",
       "      <td>1</td>\n",
       "    </tr>\n",
       "    <tr>\n",
       "      <th>20</th>\n",
       "      <td>2016-04-01 06:36:29</td>\n",
       "      <td>百亿社保基金入市步伐加快 安全性应是首要考量</td>\n",
       "      <td>0.964516</td>\n",
       "      <td>1</td>\n",
       "    </tr>\n",
       "    <tr>\n",
       "      <th>21</th>\n",
       "      <td>2016-04-01 06:49:43</td>\n",
       "      <td>银监会发文加强信托市场风险防控 合理控制杠杆</td>\n",
       "      <td>0.844218</td>\n",
       "      <td>1</td>\n",
       "    </tr>\n",
       "    <tr>\n",
       "      <th>22</th>\n",
       "      <td>2016-04-01 07:44:58</td>\n",
       "      <td>郭施亮：外汇局全资子公司现身A股 背后说明什么</td>\n",
       "      <td>0.589114</td>\n",
       "      <td>0</td>\n",
       "    </tr>\n",
       "    <tr>\n",
       "      <th>23</th>\n",
       "      <td>2016-04-01 08:04:06</td>\n",
       "      <td>这个重大利好很多人还不知道</td>\n",
       "      <td>0.566324</td>\n",
       "      <td>0</td>\n",
       "    </tr>\n",
       "    <tr>\n",
       "      <th>24</th>\n",
       "      <td>2016-04-01 08:20:03</td>\n",
       "      <td>有色企业跌倒2015 稀有金属行业几乎全面亏损</td>\n",
       "      <td>0.159869</td>\n",
       "      <td>0</td>\n",
       "    </tr>\n",
       "    <tr>\n",
       "      <th>25</th>\n",
       "      <td>2016-04-01 08:40:58</td>\n",
       "      <td>习近平会见奥巴马：避免任何可能加剧朝鲜半岛局</td>\n",
       "      <td>0.948540</td>\n",
       "      <td>1</td>\n",
       "    </tr>\n",
       "    <tr>\n",
       "      <th>26</th>\n",
       "      <td>2016-04-01 08:50:36</td>\n",
       "      <td>A股能否惊天行情 就看今晚20:30！</td>\n",
       "      <td>0.756269</td>\n",
       "      <td>0</td>\n",
       "    </tr>\n",
       "    <tr>\n",
       "      <th>27</th>\n",
       "      <td>2016-04-01 09:01:03</td>\n",
       "      <td>重返荣枯线！3月官方PMI为50.2% 创9个月新高</td>\n",
       "      <td>0.840640</td>\n",
       "      <td>1</td>\n",
       "    </tr>\n",
       "    <tr>\n",
       "      <th>28</th>\n",
       "      <td>2016-04-01 09:37:57</td>\n",
       "      <td>央行今日将实施1400亿元逆回购 本周净投放150亿</td>\n",
       "      <td>0.843271</td>\n",
       "      <td>1</td>\n",
       "    </tr>\n",
       "    <tr>\n",
       "      <th>29</th>\n",
       "      <td>2016-04-01 10:13:27</td>\n",
       "      <td>创业板跳水跌逾2% 外汇局概念股盘中走强</td>\n",
       "      <td>0.435270</td>\n",
       "      <td>0</td>\n",
       "    </tr>\n",
       "    <tr>\n",
       "      <th>30</th>\n",
       "      <td>2016-04-01 10:55:21</td>\n",
       "      <td>新华社：楼市调控逻辑或生变 从去库存到去杠杆</td>\n",
       "      <td>0.866240</td>\n",
       "      <td>1</td>\n",
       "    </tr>\n",
       "    <tr>\n",
       "      <th>31</th>\n",
       "      <td>2016-04-01 11:14:57</td>\n",
       "      <td>五大利空突袭考验四月行情 市场分化或更剧烈</td>\n",
       "      <td>0.949188</td>\n",
       "      <td>1</td>\n",
       "    </tr>\n",
       "    <tr>\n",
       "      <th>32</th>\n",
       "      <td>2016-04-01 11:31:18</td>\n",
       "      <td>沪指午后逆转 银行保险石油等权重大力护盘</td>\n",
       "      <td>0.107178</td>\n",
       "      <td>-1</td>\n",
       "    </tr>\n",
       "    <tr>\n",
       "      <th>33</th>\n",
       "      <td>2016-04-01 11:45:32</td>\n",
       "      <td>沪指跌1.42%失守3000点</td>\n",
       "      <td>0.767404</td>\n",
       "      <td>0</td>\n",
       "    </tr>\n",
       "    <tr>\n",
       "      <th>34</th>\n",
       "      <td>2016-04-01 11:46:02</td>\n",
       "      <td>李大霄：银行股具有相对较高投资价值</td>\n",
       "      <td>0.883595</td>\n",
       "      <td>1</td>\n",
       "    </tr>\n",
       "    <tr>\n",
       "      <th>35</th>\n",
       "      <td>2016-04-01 11:51:54</td>\n",
       "      <td>媒体称稀土商业收储正式启动</td>\n",
       "      <td>0.132830</td>\n",
       "      <td>-1</td>\n",
       "    </tr>\n",
       "    <tr>\n",
       "      <th>36</th>\n",
       "      <td>2016-04-01 12:03:26</td>\n",
       "      <td>2016股份行监管关注互联网金融、债券、股票联动</td>\n",
       "      <td>0.999076</td>\n",
       "      <td>1</td>\n",
       "    </tr>\n",
       "    <tr>\n",
       "      <th>37</th>\n",
       "      <td>2016-04-01 12:19:25</td>\n",
       "      <td>李大霄：银行业大面积倒退概率低 银行股有吸引</td>\n",
       "      <td>0.465843</td>\n",
       "      <td>0</td>\n",
       "    </tr>\n",
       "    <tr>\n",
       "      <th>38</th>\n",
       "      <td>2016-04-01 13:00:43</td>\n",
       "      <td>周小川：中国将扩大特别提款权的使用</td>\n",
       "      <td>0.917943</td>\n",
       "      <td>1</td>\n",
       "    </tr>\n",
       "    <tr>\n",
       "      <th>39</th>\n",
       "      <td>2016-04-01 13:10:43</td>\n",
       "      <td>亚太股市周五普跌 日经225指数收盘大跌3.5%</td>\n",
       "      <td>0.464983</td>\n",
       "      <td>0</td>\n",
       "    </tr>\n",
       "    <tr>\n",
       "      <th>40</th>\n",
       "      <td>2016-04-01 14:26:16</td>\n",
       "      <td>深圳调整房产交易评估价格 二手房税费会增加</td>\n",
       "      <td>0.000071</td>\n",
       "      <td>-1</td>\n",
       "    </tr>\n",
       "    <tr>\n",
       "      <th>41</th>\n",
       "      <td>2016-04-01 14:29:53</td>\n",
       "      <td>央行：3月常备借贷便利操作共166.7亿元 利率3.2</td>\n",
       "      <td>0.875725</td>\n",
       "      <td>1</td>\n",
       "    </tr>\n",
       "    <tr>\n",
       "      <th>42</th>\n",
       "      <td>2016-04-01 14:31:57</td>\n",
       "      <td>沪官方回应公积金贷款收紧传闻 称有调整但细节</td>\n",
       "      <td>0.739529</td>\n",
       "      <td>0</td>\n",
       "    </tr>\n",
       "    <tr>\n",
       "      <th>43</th>\n",
       "      <td>2016-04-01 14:59:00</td>\n",
       "      <td>沪指4月迎来开门红 权重股护盘3000点失而复得</td>\n",
       "      <td>0.020008</td>\n",
       "      <td>-1</td>\n",
       "    </tr>\n",
       "    <tr>\n",
       "      <th>44</th>\n",
       "      <td>2016-04-01 15:25:16</td>\n",
       "      <td>下周股市三大猜想及应对策略：市场震荡整固将持</td>\n",
       "      <td>0.997812</td>\n",
       "      <td>1</td>\n",
       "    </tr>\n",
       "    <tr>\n",
       "      <th>45</th>\n",
       "      <td>2016-04-01 15:54:19</td>\n",
       "      <td>财政部副部长史耀斌就中国主权信用评级问题答记</td>\n",
       "      <td>0.019630</td>\n",
       "      <td>-1</td>\n",
       "    </tr>\n",
       "    <tr>\n",
       "      <th>46</th>\n",
       "      <td>2016-04-01 15:57:57</td>\n",
       "      <td>财政部回应中国评级展望被下调：评级公司对我国</td>\n",
       "      <td>0.983578</td>\n",
       "      <td>1</td>\n",
       "    </tr>\n",
       "    <tr>\n",
       "      <th>47</th>\n",
       "      <td>2016-04-01 16:06:24</td>\n",
       "      <td>央行：更加注重松紧适度 灵活运用多种货币政策</td>\n",
       "      <td>0.994603</td>\n",
       "      <td>1</td>\n",
       "    </tr>\n",
       "    <tr>\n",
       "      <th>48</th>\n",
       "      <td>2016-04-01 16:33:38</td>\n",
       "      <td>牛又喝一回水？</td>\n",
       "      <td>0.195694</td>\n",
       "      <td>0</td>\n",
       "    </tr>\n",
       "    <tr>\n",
       "      <th>49</th>\n",
       "      <td>2016-04-01 16:40:47</td>\n",
       "      <td>证监会：新三板转板公司前提须符合A股上市条件</td>\n",
       "      <td>0.085546</td>\n",
       "      <td>-1</td>\n",
       "    </tr>\n",
       "  </tbody>\n",
       "</table>\n",
       "</div>"
      ],
      "text/plain": [
       "                   date                   news_title  sentiment_value  \\\n",
       "0   2016-04-01 00:03:56          等待非农就业数据 美股午盘维持小幅上扬         0.897162   \n",
       "1   2016-04-01 01:01:06    4月1日股市早盘内参：上交所决定4月8日起暂停*S         0.250485   \n",
       "2   2016-04-01 01:19:11         净买入再超20亿元 沪股通扫货四大券商股         0.304655   \n",
       "3   2016-04-01 01:22:06         专家:三月反攻圆满收官 四月行情值得期待         0.991793   \n",
       "4   2016-04-01 01:38:17                梧桐树扎根A股“一箭双雕”         0.992092   \n",
       "5   2016-04-01 01:39:06       央行今年第一季度调查问卷显示：股票投资被挤出         0.909551   \n",
       "6   2016-04-01 01:54:09        “深港通”适时启动 最终如何影响两地市场？         0.746931   \n",
       "7   2016-04-01 02:18:11       今年深化经济体制改革重点确定 适时启动“深港         0.999867   \n",
       "8   2016-04-01 02:30:12     两融余额重回8800亿 时隔3个月再现月度净买入         0.546472   \n",
       "9   2016-04-01 02:32:12             深化资本市场改革 适时启动深港通         0.999866   \n",
       "10  2016-04-01 02:36:13  疯狂的A股IPO 全年约200家新股上市融资额最高10         0.101867   \n",
       "11  2016-04-01 03:09:17      四大行去年日均赚19亿 高管齐称业绩微增来之不         0.624496   \n",
       "12  2016-04-01 03:58:25         增配优质蓝筹股 部分机构看好估值切换行情         0.820274   \n",
       "13  2016-04-01 03:59:23          “壳”里有乾坤 机构挖掘“借壳”概念股         0.162583   \n",
       "14  2016-04-01 04:00:45   回应海外资金投资A股热情 累计逾800亿美元QFII         0.975384   \n",
       "15  2016-04-01 04:08:41       央行调查：过半居民称目前房价过高 近两成居民         0.037301   \n",
       "16  2016-04-01 04:26:45      北京市酝酿楼市新政 “90/70”政策重返市场         0.264877   \n",
       "17  2016-04-01 05:11:28      隔夜外盘：欧美股市收跌 金价收获30年来最佳季         0.993624   \n",
       "18  2016-04-01 06:13:26            龙虎榜里的江湖：手法凶悍 豪赌妖股         0.999089   \n",
       "19  2016-04-01 06:27:26       深化经济体制改革确定十大重点 国企改革列在首         0.999944   \n",
       "20  2016-04-01 06:36:29       百亿社保基金入市步伐加快 安全性应是首要考量         0.964516   \n",
       "21  2016-04-01 06:49:43       银监会发文加强信托市场风险防控 合理控制杠杆         0.844218   \n",
       "22  2016-04-01 07:44:58      郭施亮：外汇局全资子公司现身A股 背后说明什么         0.589114   \n",
       "23  2016-04-01 08:04:06                这个重大利好很多人还不知道         0.566324   \n",
       "24  2016-04-01 08:20:03      有色企业跌倒2015 稀有金属行业几乎全面亏损         0.159869   \n",
       "25  2016-04-01 08:40:58       习近平会见奥巴马：避免任何可能加剧朝鲜半岛局         0.948540   \n",
       "26  2016-04-01 08:50:36          A股能否惊天行情 就看今晚20:30！         0.756269   \n",
       "27  2016-04-01 09:01:03   重返荣枯线！3月官方PMI为50.2% 创9个月新高         0.840640   \n",
       "28  2016-04-01 09:37:57   央行今日将实施1400亿元逆回购 本周净投放150亿         0.843271   \n",
       "29  2016-04-01 10:13:27         创业板跳水跌逾2% 外汇局概念股盘中走强         0.435270   \n",
       "30  2016-04-01 10:55:21       新华社：楼市调控逻辑或生变 从去库存到去杠杆         0.866240   \n",
       "31  2016-04-01 11:14:57        五大利空突袭考验四月行情 市场分化或更剧烈         0.949188   \n",
       "32  2016-04-01 11:31:18         沪指午后逆转 银行保险石油等权重大力护盘         0.107178   \n",
       "33  2016-04-01 11:45:32              沪指跌1.42%失守3000点         0.767404   \n",
       "34  2016-04-01 11:46:02            李大霄：银行股具有相对较高投资价值         0.883595   \n",
       "35  2016-04-01 11:51:54                媒体称稀土商业收储正式启动         0.132830   \n",
       "36  2016-04-01 12:03:26     2016股份行监管关注互联网金融、债券、股票联动         0.999076   \n",
       "37  2016-04-01 12:19:25       李大霄：银行业大面积倒退概率低 银行股有吸引         0.465843   \n",
       "38  2016-04-01 13:00:43            周小川：中国将扩大特别提款权的使用         0.917943   \n",
       "39  2016-04-01 13:10:43     亚太股市周五普跌 日经225指数收盘大跌3.5%         0.464983   \n",
       "40  2016-04-01 14:26:16        深圳调整房产交易评估价格 二手房税费会增加         0.000071   \n",
       "41  2016-04-01 14:29:53  央行：3月常备借贷便利操作共166.7亿元 利率3.2         0.875725   \n",
       "42  2016-04-01 14:31:57       沪官方回应公积金贷款收紧传闻 称有调整但细节         0.739529   \n",
       "43  2016-04-01 14:59:00     沪指4月迎来开门红 权重股护盘3000点失而复得         0.020008   \n",
       "44  2016-04-01 15:25:16       下周股市三大猜想及应对策略：市场震荡整固将持         0.997812   \n",
       "45  2016-04-01 15:54:19       财政部副部长史耀斌就中国主权信用评级问题答记         0.019630   \n",
       "46  2016-04-01 15:57:57       财政部回应中国评级展望被下调：评级公司对我国         0.983578   \n",
       "47  2016-04-01 16:06:24       央行：更加注重松紧适度 灵活运用多种货币政策         0.994603   \n",
       "48  2016-04-01 16:33:38                      牛又喝一回水？         0.195694   \n",
       "49  2016-04-01 16:40:47       证监会：新三板转板公司前提须符合A股上市条件         0.085546   \n",
       "\n",
       "    sentiment_label  \n",
       "0                 1  \n",
       "1                 0  \n",
       "2                 0  \n",
       "3                 1  \n",
       "4                 1  \n",
       "5                 1  \n",
       "6                 0  \n",
       "7                 1  \n",
       "8                 0  \n",
       "9                 1  \n",
       "10               -1  \n",
       "11                0  \n",
       "12                1  \n",
       "13                0  \n",
       "14                1  \n",
       "15               -1  \n",
       "16                0  \n",
       "17                1  \n",
       "18                1  \n",
       "19                1  \n",
       "20                1  \n",
       "21                1  \n",
       "22                0  \n",
       "23                0  \n",
       "24                0  \n",
       "25                1  \n",
       "26                0  \n",
       "27                1  \n",
       "28                1  \n",
       "29                0  \n",
       "30                1  \n",
       "31                1  \n",
       "32               -1  \n",
       "33                0  \n",
       "34                1  \n",
       "35               -1  \n",
       "36                1  \n",
       "37                0  \n",
       "38                1  \n",
       "39                0  \n",
       "40               -1  \n",
       "41                1  \n",
       "42                0  \n",
       "43               -1  \n",
       "44                1  \n",
       "45               -1  \n",
       "46                1  \n",
       "47                1  \n",
       "48                0  \n",
       "49               -1  "
      ]
     },
     "execution_count": 96,
     "metadata": {},
     "output_type": "execute_result"
    }
   ],
   "source": [
    "combine_df.head(50)"
   ]
  },
  {
   "cell_type": "markdown",
   "metadata": {},
   "source": [
    "#### 使用分位点"
   ]
  },
  {
   "cell_type": "code",
   "execution_count": 47,
   "metadata": {},
   "outputs": [],
   "source": [
    "# quantile033 = combine_df['sentiment_value'].quantile([0.33]).iloc[0]\n",
    "# quantile067 = combine_df['sentiment_value'].quantile([0.67]).iloc[0]"
   ]
  },
  {
   "cell_type": "code",
   "execution_count": 48,
   "metadata": {},
   "outputs": [
    {
     "data": {
      "text/plain": [
       "(0.4224526875888923, 0.9030995071236522)"
      ]
     },
     "execution_count": 48,
     "metadata": {},
     "output_type": "execute_result"
    }
   ],
   "source": [
    "# quantile033, quantile067"
   ]
  },
  {
   "cell_type": "code",
   "execution_count": 49,
   "metadata": {},
   "outputs": [],
   "source": [
    "# sentiment_label_list = []\n",
    "# for i in sentiment_list:\n",
    "#     if i <= quantile033:\n",
    "#         sentiment_label_list.append(-1)\n",
    "#     elif quantile033 <= i <= quantile067:\n",
    "#         sentiment_label_list.append(0)\n",
    "#     else:\n",
    "#         sentiment_label_list.append(1)"
   ]
  },
  {
   "cell_type": "markdown",
   "metadata": {},
   "source": [
    "#### 使用具体值"
   ]
  },
  {
   "cell_type": "code",
   "execution_count": 97,
   "metadata": {},
   "outputs": [],
   "source": [
    "\n",
    "sentiment_label_list = []\n",
    "for i in sentiment_list:\n",
    "    if i < 0.15:\n",
    "        sentiment_label_list.append(-1)\n",
    "    elif 0.15 <= i <= 0.8:\n",
    "        sentiment_label_list.append(0)\n",
    "    else:\n",
    "        sentiment_label_list.append(1)"
   ]
  },
  {
   "cell_type": "code",
   "execution_count": 98,
   "metadata": {},
   "outputs": [
    {
     "data": {
      "text/plain": [
       "[1, 0, 0, 1, 1, 1, 0, 1, 0, 1]"
      ]
     },
     "execution_count": 98,
     "metadata": {},
     "output_type": "execute_result"
    }
   ],
   "source": [
    "sentiment_label_list[0:10]"
   ]
  },
  {
   "cell_type": "code",
   "execution_count": 99,
   "metadata": {},
   "outputs": [
    {
     "data": {
      "text/plain": [
       "[0.8971616704178463,\n",
       " 0.2504854889989895,\n",
       " 0.3046549302317092,\n",
       " 0.991793438939429,\n",
       " 0.9920923196743372,\n",
       " 0.9095511870707171,\n",
       " 0.7469307418918795,\n",
       " 0.9998666838277758,\n",
       " 0.5464716060533193,\n",
       " 0.9998660304154927]"
      ]
     },
     "execution_count": 99,
     "metadata": {},
     "output_type": "execute_result"
    }
   ],
   "source": [
    "sentiment_list[0:10]"
   ]
  },
  {
   "cell_type": "code",
   "execution_count": 100,
   "metadata": {},
   "outputs": [
    {
     "data": {
      "text/plain": [
       "count    112380.000000\n",
       "mean          0.265786\n",
       "std           0.730009\n",
       "min          -1.000000\n",
       "25%           0.000000\n",
       "50%           0.000000\n",
       "75%           1.000000\n",
       "max           1.000000\n",
       "dtype: float64"
      ]
     },
     "execution_count": 100,
     "metadata": {},
     "output_type": "execute_result"
    }
   ],
   "source": [
    "new_series = pd.Series(sentiment_label_list)\n",
    "new_series.describe()"
   ]
  },
  {
   "cell_type": "code",
   "execution_count": 101,
   "metadata": {},
   "outputs": [],
   "source": [
    "combine_df['sentiment_label'] = sentiment_label_list"
   ]
  },
  {
   "cell_type": "code",
   "execution_count": 102,
   "metadata": {},
   "outputs": [
    {
     "data": {
      "text/html": [
       "<div>\n",
       "<style scoped>\n",
       "    .dataframe tbody tr th:only-of-type {\n",
       "        vertical-align: middle;\n",
       "    }\n",
       "\n",
       "    .dataframe tbody tr th {\n",
       "        vertical-align: top;\n",
       "    }\n",
       "\n",
       "    .dataframe thead th {\n",
       "        text-align: right;\n",
       "    }\n",
       "</style>\n",
       "<table border=\"1\" class=\"dataframe\">\n",
       "  <thead>\n",
       "    <tr style=\"text-align: right;\">\n",
       "      <th></th>\n",
       "      <th>date</th>\n",
       "      <th>news_title</th>\n",
       "      <th>sentiment_value</th>\n",
       "      <th>sentiment_label</th>\n",
       "    </tr>\n",
       "  </thead>\n",
       "  <tbody>\n",
       "    <tr>\n",
       "      <th>0</th>\n",
       "      <td>2016-04-01 00:03:56</td>\n",
       "      <td>等待非农就业数据 美股午盘维持小幅上扬</td>\n",
       "      <td>0.897162</td>\n",
       "      <td>1</td>\n",
       "    </tr>\n",
       "    <tr>\n",
       "      <th>1</th>\n",
       "      <td>2016-04-01 01:01:06</td>\n",
       "      <td>4月1日股市早盘内参：上交所决定4月8日起暂停*S</td>\n",
       "      <td>0.250485</td>\n",
       "      <td>0</td>\n",
       "    </tr>\n",
       "    <tr>\n",
       "      <th>2</th>\n",
       "      <td>2016-04-01 01:19:11</td>\n",
       "      <td>净买入再超20亿元 沪股通扫货四大券商股</td>\n",
       "      <td>0.304655</td>\n",
       "      <td>0</td>\n",
       "    </tr>\n",
       "    <tr>\n",
       "      <th>3</th>\n",
       "      <td>2016-04-01 01:22:06</td>\n",
       "      <td>专家:三月反攻圆满收官 四月行情值得期待</td>\n",
       "      <td>0.991793</td>\n",
       "      <td>1</td>\n",
       "    </tr>\n",
       "    <tr>\n",
       "      <th>4</th>\n",
       "      <td>2016-04-01 01:38:17</td>\n",
       "      <td>梧桐树扎根A股“一箭双雕”</td>\n",
       "      <td>0.992092</td>\n",
       "      <td>1</td>\n",
       "    </tr>\n",
       "  </tbody>\n",
       "</table>\n",
       "</div>"
      ],
      "text/plain": [
       "                  date                 news_title  sentiment_value  \\\n",
       "0  2016-04-01 00:03:56        等待非农就业数据 美股午盘维持小幅上扬         0.897162   \n",
       "1  2016-04-01 01:01:06  4月1日股市早盘内参：上交所决定4月8日起暂停*S         0.250485   \n",
       "2  2016-04-01 01:19:11       净买入再超20亿元 沪股通扫货四大券商股         0.304655   \n",
       "3  2016-04-01 01:22:06       专家:三月反攻圆满收官 四月行情值得期待         0.991793   \n",
       "4  2016-04-01 01:38:17              梧桐树扎根A股“一箭双雕”         0.992092   \n",
       "\n",
       "   sentiment_label  \n",
       "0                1  \n",
       "1                0  \n",
       "2                0  \n",
       "3                1  \n",
       "4                1  "
      ]
     },
     "execution_count": 102,
     "metadata": {},
     "output_type": "execute_result"
    }
   ],
   "source": [
    "combine_df.head()"
   ]
  },
  {
   "cell_type": "code",
   "execution_count": 103,
   "metadata": {},
   "outputs": [],
   "source": [
    "# 暂存一份\n",
    "combine_df.to_csv('combine_df_with_sentimetnLabel.csv', index=False)"
   ]
  },
  {
   "cell_type": "code",
   "execution_count": 119,
   "metadata": {},
   "outputs": [],
   "source": [
    "combine_df = pd.read_csv('combine_df_with_sentimetnLabel.csv',header = 0)"
   ]
  },
  {
   "cell_type": "code",
   "execution_count": 120,
   "metadata": {},
   "outputs": [],
   "source": [
    "# combine_df.rename(columns={'发表时间':'date', '评论标题':'news_title'}, inplace=True)"
   ]
  },
  {
   "cell_type": "code",
   "execution_count": 121,
   "metadata": {},
   "outputs": [
    {
     "data": {
      "text/html": [
       "<div>\n",
       "<style scoped>\n",
       "    .dataframe tbody tr th:only-of-type {\n",
       "        vertical-align: middle;\n",
       "    }\n",
       "\n",
       "    .dataframe tbody tr th {\n",
       "        vertical-align: top;\n",
       "    }\n",
       "\n",
       "    .dataframe thead th {\n",
       "        text-align: right;\n",
       "    }\n",
       "</style>\n",
       "<table border=\"1\" class=\"dataframe\">\n",
       "  <thead>\n",
       "    <tr style=\"text-align: right;\">\n",
       "      <th></th>\n",
       "      <th>date</th>\n",
       "      <th>news_title</th>\n",
       "      <th>sentiment_value</th>\n",
       "      <th>sentiment_label</th>\n",
       "    </tr>\n",
       "  </thead>\n",
       "  <tbody>\n",
       "    <tr>\n",
       "      <th>0</th>\n",
       "      <td>2016-04-01 00:03:56</td>\n",
       "      <td>等待非农就业数据 美股午盘维持小幅上扬</td>\n",
       "      <td>0.897162</td>\n",
       "      <td>1</td>\n",
       "    </tr>\n",
       "    <tr>\n",
       "      <th>1</th>\n",
       "      <td>2016-04-01 01:01:06</td>\n",
       "      <td>4月1日股市早盘内参：上交所决定4月8日起暂停*S</td>\n",
       "      <td>0.250485</td>\n",
       "      <td>0</td>\n",
       "    </tr>\n",
       "    <tr>\n",
       "      <th>2</th>\n",
       "      <td>2016-04-01 01:19:11</td>\n",
       "      <td>净买入再超20亿元 沪股通扫货四大券商股</td>\n",
       "      <td>0.304655</td>\n",
       "      <td>0</td>\n",
       "    </tr>\n",
       "    <tr>\n",
       "      <th>3</th>\n",
       "      <td>2016-04-01 01:22:06</td>\n",
       "      <td>专家:三月反攻圆满收官 四月行情值得期待</td>\n",
       "      <td>0.991793</td>\n",
       "      <td>1</td>\n",
       "    </tr>\n",
       "    <tr>\n",
       "      <th>4</th>\n",
       "      <td>2016-04-01 01:38:17</td>\n",
       "      <td>梧桐树扎根A股“一箭双雕”</td>\n",
       "      <td>0.992092</td>\n",
       "      <td>1</td>\n",
       "    </tr>\n",
       "  </tbody>\n",
       "</table>\n",
       "</div>"
      ],
      "text/plain": [
       "                  date                 news_title  sentiment_value  \\\n",
       "0  2016-04-01 00:03:56        等待非农就业数据 美股午盘维持小幅上扬         0.897162   \n",
       "1  2016-04-01 01:01:06  4月1日股市早盘内参：上交所决定4月8日起暂停*S         0.250485   \n",
       "2  2016-04-01 01:19:11       净买入再超20亿元 沪股通扫货四大券商股         0.304655   \n",
       "3  2016-04-01 01:22:06       专家:三月反攻圆满收官 四月行情值得期待         0.991793   \n",
       "4  2016-04-01 01:38:17              梧桐树扎根A股“一箭双雕”         0.992092   \n",
       "\n",
       "   sentiment_label  \n",
       "0                1  \n",
       "1                0  \n",
       "2                0  \n",
       "3                1  \n",
       "4                1  "
      ]
     },
     "execution_count": 121,
     "metadata": {},
     "output_type": "execute_result"
    }
   ],
   "source": [
    "combine_df.head()"
   ]
  },
  {
   "cell_type": "code",
   "execution_count": 122,
   "metadata": {},
   "outputs": [],
   "source": [
    "#将label 按照日期统计和\n",
    "new_time = pd.to_datetime(combine_df['date']).apply(lambda x:x.strftime('%Y%m%d'))"
   ]
  },
  {
   "cell_type": "code",
   "execution_count": 125,
   "metadata": {},
   "outputs": [
    {
     "data": {
      "text/plain": [
       "((112379,), (112379, 4))"
      ]
     },
     "execution_count": 125,
     "metadata": {},
     "output_type": "execute_result"
    }
   ],
   "source": [
    "new_time.shape, combine_df.shape"
   ]
  },
  {
   "cell_type": "code",
   "execution_count": 126,
   "metadata": {},
   "outputs": [],
   "source": [
    "combine_df['date'] = new_time"
   ]
  },
  {
   "cell_type": "code",
   "execution_count": 128,
   "metadata": {},
   "outputs": [
    {
     "data": {
      "text/html": [
       "<div>\n",
       "<style scoped>\n",
       "    .dataframe tbody tr th:only-of-type {\n",
       "        vertical-align: middle;\n",
       "    }\n",
       "\n",
       "    .dataframe tbody tr th {\n",
       "        vertical-align: top;\n",
       "    }\n",
       "\n",
       "    .dataframe thead th {\n",
       "        text-align: right;\n",
       "    }\n",
       "</style>\n",
       "<table border=\"1\" class=\"dataframe\">\n",
       "  <thead>\n",
       "    <tr style=\"text-align: right;\">\n",
       "      <th></th>\n",
       "      <th>date</th>\n",
       "      <th>news_title</th>\n",
       "      <th>sentiment_value</th>\n",
       "      <th>sentiment_label</th>\n",
       "    </tr>\n",
       "  </thead>\n",
       "  <tbody>\n",
       "    <tr>\n",
       "      <th>112374</th>\n",
       "      <td>20170930</td>\n",
       "      <td>国庆出境自驾游市场升温 年轻群体占比上升</td>\n",
       "      <td>0.584701</td>\n",
       "      <td>0</td>\n",
       "    </tr>\n",
       "    <tr>\n",
       "      <th>112375</th>\n",
       "      <td>20170930</td>\n",
       "      <td>新华社解读央行对普惠金融实施定向降准：结构性</td>\n",
       "      <td>0.996771</td>\n",
       "      <td>1</td>\n",
       "    </tr>\n",
       "    <tr>\n",
       "      <th>112376</th>\n",
       "      <td>20170930</td>\n",
       "      <td>青岛出台楼市调控政策 严格控制住宅用地价格</td>\n",
       "      <td>0.132093</td>\n",
       "      <td>-1</td>\n",
       "    </tr>\n",
       "    <tr>\n",
       "      <th>112377</th>\n",
       "      <td>20170930</td>\n",
       "      <td>一文读懂央行定向降准：6大疑问逐个解析(深度)</td>\n",
       "      <td>0.977962</td>\n",
       "      <td>1</td>\n",
       "    </tr>\n",
       "    <tr>\n",
       "      <th>112378</th>\n",
       "      <td>20170930</td>\n",
       "      <td>海南实行“多证合一、一照一码”</td>\n",
       "      <td>0.450917</td>\n",
       "      <td>0</td>\n",
       "    </tr>\n",
       "  </tbody>\n",
       "</table>\n",
       "</div>"
      ],
      "text/plain": [
       "            date               news_title  sentiment_value  sentiment_label\n",
       "112374  20170930     国庆出境自驾游市场升温 年轻群体占比上升         0.584701                0\n",
       "112375  20170930   新华社解读央行对普惠金融实施定向降准：结构性         0.996771                1\n",
       "112376  20170930    青岛出台楼市调控政策 严格控制住宅用地价格         0.132093               -1\n",
       "112377  20170930  一文读懂央行定向降准：6大疑问逐个解析(深度)         0.977962                1\n",
       "112378  20170930          海南实行“多证合一、一照一码”         0.450917                0"
      ]
     },
     "execution_count": 128,
     "metadata": {},
     "output_type": "execute_result"
    }
   ],
   "source": [
    "combine_df.tail()"
   ]
  },
  {
   "cell_type": "code",
   "execution_count": 134,
   "metadata": {},
   "outputs": [
    {
     "data": {
      "text/plain": [
       "date      sentiment_label\n",
       "20160401  -1                 11\n",
       "           0                 27\n",
       "           1                 35\n",
       "20160402  -1                  5\n",
       "           0                 17\n",
       "           1                 30\n",
       "20160403  -1                  7\n",
       "           0                 23\n",
       "           1                 15\n",
       "20160404  -1                  5\n",
       "           0                 13\n",
       "           1                 22\n",
       "20160405  -1                 14\n",
       "           0                 24\n",
       "           1                 31\n",
       "20160406  -1                 12\n",
       "           0                 33\n",
       "           1                 31\n",
       "20160407  -1                 13\n",
       "           0                 27\n",
       "dtype: int64"
      ]
     },
     "execution_count": 134,
     "metadata": {},
     "output_type": "execute_result"
    }
   ],
   "source": [
    "combine_df.groupby(['date', 'sentiment_label']).size().head(20)"
   ]
  },
  {
   "cell_type": "code",
   "execution_count": 135,
   "metadata": {},
   "outputs": [],
   "source": [
    "date_sentiment_value_df = combine_df.groupby(['date', ])['sentiment_label'].sum()"
   ]
  },
  {
   "cell_type": "code",
   "execution_count": 136,
   "metadata": {},
   "outputs": [
    {
     "data": {
      "text/plain": [
       "date\n",
       "20160401    24\n",
       "20160402    25\n",
       "20160403     8\n",
       "20160404    17\n",
       "20160405    17\n",
       "20160406    19\n",
       "20160407    15\n",
       "20160408    31\n",
       "20160409    25\n",
       "20160410     9\n",
       "Name: sentiment_label, dtype: int64"
      ]
     },
     "execution_count": 136,
     "metadata": {},
     "output_type": "execute_result"
    }
   ],
   "source": [
    "date_sentiment_value_df.head(10)"
   ]
  },
  {
   "cell_type": "code",
   "execution_count": 138,
   "metadata": {},
   "outputs": [
    {
     "data": {
      "text/plain": [
       "(548,)"
      ]
     },
     "execution_count": 138,
     "metadata": {},
     "output_type": "execute_result"
    }
   ],
   "source": [
    "date_sentiment_value_df.shape"
   ]
  },
  {
   "cell_type": "code",
   "execution_count": 141,
   "metadata": {},
   "outputs": [],
   "source": [
    "date_sentiment_value_df = date_sentiment_value_df.reset_index()"
   ]
  },
  {
   "cell_type": "code",
   "execution_count": 147,
   "metadata": {},
   "outputs": [
    {
     "data": {
      "text/html": [
       "<div>\n",
       "<style scoped>\n",
       "    .dataframe tbody tr th:only-of-type {\n",
       "        vertical-align: middle;\n",
       "    }\n",
       "\n",
       "    .dataframe tbody tr th {\n",
       "        vertical-align: top;\n",
       "    }\n",
       "\n",
       "    .dataframe thead th {\n",
       "        text-align: right;\n",
       "    }\n",
       "</style>\n",
       "<table border=\"1\" class=\"dataframe\">\n",
       "  <thead>\n",
       "    <tr style=\"text-align: right;\">\n",
       "      <th></th>\n",
       "      <th>trade_date</th>\n",
       "      <th>sentiment_label</th>\n",
       "    </tr>\n",
       "  </thead>\n",
       "  <tbody>\n",
       "    <tr>\n",
       "      <th>0</th>\n",
       "      <td>20160401</td>\n",
       "      <td>24</td>\n",
       "    </tr>\n",
       "    <tr>\n",
       "      <th>1</th>\n",
       "      <td>20160402</td>\n",
       "      <td>25</td>\n",
       "    </tr>\n",
       "    <tr>\n",
       "      <th>2</th>\n",
       "      <td>20160403</td>\n",
       "      <td>8</td>\n",
       "    </tr>\n",
       "    <tr>\n",
       "      <th>3</th>\n",
       "      <td>20160404</td>\n",
       "      <td>17</td>\n",
       "    </tr>\n",
       "    <tr>\n",
       "      <th>4</th>\n",
       "      <td>20160405</td>\n",
       "      <td>17</td>\n",
       "    </tr>\n",
       "  </tbody>\n",
       "</table>\n",
       "</div>"
      ],
      "text/plain": [
       "  trade_date  sentiment_label\n",
       "0   20160401               24\n",
       "1   20160402               25\n",
       "2   20160403                8\n",
       "3   20160404               17\n",
       "4   20160405               17"
      ]
     },
     "execution_count": 147,
     "metadata": {},
     "output_type": "execute_result"
    }
   ],
   "source": [
    "date_sentiment_value_df.head()"
   ]
  },
  {
   "cell_type": "code",
   "execution_count": 145,
   "metadata": {},
   "outputs": [],
   "source": [
    "date_sentiment_value_df.rename(columns={'date':'trade_date', }, inplace=True)"
   ]
  },
  {
   "cell_type": "code",
   "execution_count": 146,
   "metadata": {},
   "outputs": [],
   "source": [
    "date_sentiment_value_df.to_csv('sentiment_final_count_withdate.csv', index=False)"
   ]
  },
  {
   "cell_type": "code",
   "execution_count": null,
   "metadata": {},
   "outputs": [],
   "source": []
  }
 ],
 "metadata": {
  "kernelspec": {
   "display_name": "Python 3",
   "language": "python",
   "name": "python3"
  },
  "language_info": {
   "codemirror_mode": {
    "name": "ipython",
    "version": 3
   },
   "file_extension": ".py",
   "mimetype": "text/x-python",
   "name": "python",
   "nbconvert_exporter": "python",
   "pygments_lexer": "ipython3",
   "version": "3.6.5"
  }
 },
 "nbformat": 4,
 "nbformat_minor": 2
}
