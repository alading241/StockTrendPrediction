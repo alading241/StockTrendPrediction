{
 "cells": [
  {
   "cell_type": "markdown",
   "metadata": {},
   "source": [
    "##### 三类股票分类，\n",
    "##### 使用未来三天的平均change来作为标签值y，并用0.33, 0.67分位值作为三类标签的划分边界\n",
    "\n",
    "##### 数据: A股数据 \n",
    "##### 模型:  LSTM\n"
   ]
  },
  {
   "cell_type": "code",
   "execution_count": 1,
   "metadata": {},
   "outputs": [
    {
     "name": "stderr",
     "output_type": "stream",
     "text": [
      "d:\\ProgramData\\Anaconda3\\lib\\site-packages\\h5py\\__init__.py:36: FutureWarning: Conversion of the second argument of issubdtype from `float` to `np.floating` is deprecated. In future, it will be treated as `np.float64 == np.dtype(float).type`.\n",
      "  from ._conv import register_converters as _register_converters\n",
      "Using TensorFlow backend.\n"
     ]
    }
   ],
   "source": [
    "import pandas as pd\n",
    "from pandas import DataFrame\n",
    "import numpy as np\n",
    "from numpy import row_stack,column_stack\n",
    "import matplotlib.pyplot as plt\n",
    "from matplotlib.dates import DateFormatter, WeekdayLocator, DayLocator, MONDAY,YEARLY\n",
    "# from mpl_finance import quotes_historical_yahoo_ohlc, candlestick_ohlc\n",
    "from matplotlib.pylab import date2num\n",
    "from sklearn.preprocessing import MinMaxScaler,StandardScaler\n",
    "from keras.models import Sequential\n",
    "from keras.layers import LSTM, Dense, Activation,Dropout\n",
    "import tushare as ts\n",
    "import datetime\n",
    "import time"
   ]
  },
  {
   "cell_type": "markdown",
   "metadata": {},
   "source": [
    "### softmax三类分类写不出来，用回归代替"
   ]
  },
  {
   "cell_type": "markdown",
   "metadata": {},
   "source": [
    "### 加工数据"
   ]
  },
  {
   "cell_type": "code",
   "execution_count": 2,
   "metadata": {
    "scrolled": true
   },
   "outputs": [
    {
     "data": {
      "text/html": [
       "<div>\n",
       "<style scoped>\n",
       "    .dataframe tbody tr th:only-of-type {\n",
       "        vertical-align: middle;\n",
       "    }\n",
       "\n",
       "    .dataframe tbody tr th {\n",
       "        vertical-align: top;\n",
       "    }\n",
       "\n",
       "    .dataframe thead th {\n",
       "        text-align: right;\n",
       "    }\n",
       "</style>\n",
       "<table border=\"1\" class=\"dataframe\">\n",
       "  <thead>\n",
       "    <tr style=\"text-align: right;\">\n",
       "      <th></th>\n",
       "      <th>ts_code</th>\n",
       "      <th>trade_date</th>\n",
       "      <th>close</th>\n",
       "      <th>open</th>\n",
       "      <th>high</th>\n",
       "      <th>low</th>\n",
       "      <th>pre_close</th>\n",
       "      <th>change</th>\n",
       "      <th>pct_chg</th>\n",
       "      <th>vol</th>\n",
       "      <th>amount</th>\n",
       "    </tr>\n",
       "  </thead>\n",
       "  <tbody>\n",
       "    <tr>\n",
       "      <th>0</th>\n",
       "      <td>000001.SH</td>\n",
       "      <td>20160401</td>\n",
       "      <td>3009.530</td>\n",
       "      <td>2997.088</td>\n",
       "      <td>3009.673</td>\n",
       "      <td>2956.247</td>\n",
       "      <td>3003.915</td>\n",
       "      <td>5.615</td>\n",
       "      <td>0.1869</td>\n",
       "      <td>206545866.0</td>\n",
       "      <td>2.175205e+08</td>\n",
       "    </tr>\n",
       "    <tr>\n",
       "      <th>1</th>\n",
       "      <td>000001.SH</td>\n",
       "      <td>20160405</td>\n",
       "      <td>3053.065</td>\n",
       "      <td>3000.938</td>\n",
       "      <td>3057.330</td>\n",
       "      <td>2993.148</td>\n",
       "      <td>3009.530</td>\n",
       "      <td>43.535</td>\n",
       "      <td>1.4466</td>\n",
       "      <td>256730344.0</td>\n",
       "      <td>2.766547e+08</td>\n",
       "    </tr>\n",
       "    <tr>\n",
       "      <th>2</th>\n",
       "      <td>000001.SH</td>\n",
       "      <td>20160406</td>\n",
       "      <td>3050.592</td>\n",
       "      <td>3039.745</td>\n",
       "      <td>3059.794</td>\n",
       "      <td>3029.005</td>\n",
       "      <td>3053.065</td>\n",
       "      <td>-2.473</td>\n",
       "      <td>-0.0810</td>\n",
       "      <td>232262051.0</td>\n",
       "      <td>2.549146e+08</td>\n",
       "    </tr>\n",
       "    <tr>\n",
       "      <th>3</th>\n",
       "      <td>000001.SH</td>\n",
       "      <td>20160407</td>\n",
       "      <td>3008.420</td>\n",
       "      <td>3058.339</td>\n",
       "      <td>3062.358</td>\n",
       "      <td>3007.060</td>\n",
       "      <td>3050.592</td>\n",
       "      <td>-42.172</td>\n",
       "      <td>-1.3824</td>\n",
       "      <td>220919506.0</td>\n",
       "      <td>2.439618e+08</td>\n",
       "    </tr>\n",
       "    <tr>\n",
       "      <th>4</th>\n",
       "      <td>000001.SH</td>\n",
       "      <td>20160408</td>\n",
       "      <td>2984.958</td>\n",
       "      <td>2988.200</td>\n",
       "      <td>2996.171</td>\n",
       "      <td>2960.460</td>\n",
       "      <td>3008.420</td>\n",
       "      <td>-23.462</td>\n",
       "      <td>-0.7799</td>\n",
       "      <td>187904633.0</td>\n",
       "      <td>2.073371e+08</td>\n",
       "    </tr>\n",
       "  </tbody>\n",
       "</table>\n",
       "</div>"
      ],
      "text/plain": [
       "     ts_code  trade_date     close      open      high       low  pre_close  \\\n",
       "0  000001.SH    20160401  3009.530  2997.088  3009.673  2956.247   3003.915   \n",
       "1  000001.SH    20160405  3053.065  3000.938  3057.330  2993.148   3009.530   \n",
       "2  000001.SH    20160406  3050.592  3039.745  3059.794  3029.005   3053.065   \n",
       "3  000001.SH    20160407  3008.420  3058.339  3062.358  3007.060   3050.592   \n",
       "4  000001.SH    20160408  2984.958  2988.200  2996.171  2960.460   3008.420   \n",
       "\n",
       "   change  pct_chg          vol        amount  \n",
       "0   5.615   0.1869  206545866.0  2.175205e+08  \n",
       "1  43.535   1.4466  256730344.0  2.766547e+08  \n",
       "2  -2.473  -0.0810  232262051.0  2.549146e+08  \n",
       "3 -42.172  -1.3824  220919506.0  2.439618e+08  \n",
       "4 -23.462  -0.7799  187904633.0  2.073371e+08  "
      ]
     },
     "execution_count": 2,
     "metadata": {},
     "output_type": "execute_result"
    }
   ],
   "source": [
    "ts.set_token('29ea8fa19e717f1a3d3618796f87067ee07219783a9e01422eb90ef8')\n",
    "pro = ts.pro_api()\n",
    "\n",
    "df_ashare = pro.index_daily(ts_code='000001.SH',start_date = '20160401', end_date = '20170930')\n",
    "df_ashare = df_ashare.iloc[::-1]\n",
    "df_ashare.head()\n",
    "df_ashare.to_csv('Ashare-from-20160401-to-20170930.csv', index=False)\n",
    "\n",
    "df_ashare = pd.read_csv('Ashare-from-20160401-to-20170930.csv')\n",
    "df_ashare.head()"
   ]
  },
  {
   "cell_type": "code",
   "execution_count": 3,
   "metadata": {},
   "outputs": [],
   "source": [
    "input_data = df_ashare[['trade_date', 'open','high','low','pre_close','change','pct_chg','vol','amount','close']]"
   ]
  },
  {
   "cell_type": "code",
   "execution_count": 4,
   "metadata": {},
   "outputs": [],
   "source": [
    "# input_data['change'].quantile([0.33,0.5, 0.67,])\n",
    "quantile033 = input_data['change'].quantile([0.33]).iloc[0]\n",
    "quantile067 = input_data['change'].quantile([0.67]).iloc[0]"
   ]
  },
  {
   "cell_type": "code",
   "execution_count": 5,
   "metadata": {},
   "outputs": [
    {
     "data": {
      "text/plain": [
       "(-6.425463999999998, 7.28)"
      ]
     },
     "execution_count": 5,
     "metadata": {},
     "output_type": "execute_result"
    }
   ],
   "source": [
    "quantile033, quantile067"
   ]
  },
  {
   "cell_type": "code",
   "execution_count": 6,
   "metadata": {},
   "outputs": [
    {
     "data": {
      "text/plain": [
       "2.0669999999999997"
      ]
     },
     "execution_count": 6,
     "metadata": {},
     "output_type": "execute_result"
    }
   ],
   "source": [
    "input_data['change'].median()"
   ]
  },
  {
   "cell_type": "code",
   "execution_count": 7,
   "metadata": {},
   "outputs": [],
   "source": [
    "data = input_data['change'].quantile([0.33,])"
   ]
  },
  {
   "cell_type": "code",
   "execution_count": 8,
   "metadata": {},
   "outputs": [
    {
     "data": {
      "text/plain": [
       "-6.425463999999998"
      ]
     },
     "execution_count": 8,
     "metadata": {},
     "output_type": "execute_result"
    }
   ],
   "source": [
    "data.iloc[0]"
   ]
  },
  {
   "cell_type": "code",
   "execution_count": 9,
   "metadata": {},
   "outputs": [],
   "source": [
    "change = input_data['change']"
   ]
  },
  {
   "cell_type": "code",
   "execution_count": 10,
   "metadata": {},
   "outputs": [],
   "source": [
    "ave_change_column = [ ]\n",
    "for i in range(0, len(change)):\n",
    "    if i >= len(change) - 3:\n",
    "        ave_change = change[i]\n",
    "        \n",
    "    else:\n",
    "        ave_change = (change[i+1] + change[i+2] + change[i+3]) / 3\n",
    "    \n",
    "    ave_change_column.append(ave_change)\n",
    "#     if ave_change < quantile033:\n",
    "#         trend_column.append(-1)\n",
    "#     elif quantile033 <= ave_change <= quantile067:\n",
    "#         trend_column.append(0)\n",
    "#     else:\n",
    "#         trend_column.append(1)\n"
   ]
  },
  {
   "cell_type": "code",
   "execution_count": 11,
   "metadata": {},
   "outputs": [
    {
     "data": {
      "text/plain": [
       "(369, 369)"
      ]
     },
     "execution_count": 11,
     "metadata": {},
     "output_type": "execute_result"
    }
   ],
   "source": [
    "len(change) , len(ave_change_column)"
   ]
  },
  {
   "cell_type": "code",
   "execution_count": 12,
   "metadata": {},
   "outputs": [],
   "source": [
    "input_data['ave_change'] = ave_change_column"
   ]
  },
  {
   "cell_type": "code",
   "execution_count": 13,
   "metadata": {},
   "outputs": [
    {
     "data": {
      "text/html": [
       "<div>\n",
       "<style scoped>\n",
       "    .dataframe tbody tr th:only-of-type {\n",
       "        vertical-align: middle;\n",
       "    }\n",
       "\n",
       "    .dataframe tbody tr th {\n",
       "        vertical-align: top;\n",
       "    }\n",
       "\n",
       "    .dataframe thead th {\n",
       "        text-align: right;\n",
       "    }\n",
       "</style>\n",
       "<table border=\"1\" class=\"dataframe\">\n",
       "  <thead>\n",
       "    <tr style=\"text-align: right;\">\n",
       "      <th></th>\n",
       "      <th>trade_date</th>\n",
       "      <th>open</th>\n",
       "      <th>high</th>\n",
       "      <th>low</th>\n",
       "      <th>pre_close</th>\n",
       "      <th>change</th>\n",
       "      <th>pct_chg</th>\n",
       "      <th>vol</th>\n",
       "      <th>amount</th>\n",
       "      <th>close</th>\n",
       "      <th>ave_change</th>\n",
       "    </tr>\n",
       "  </thead>\n",
       "  <tbody>\n",
       "    <tr>\n",
       "      <th>0</th>\n",
       "      <td>20160401</td>\n",
       "      <td>2997.088</td>\n",
       "      <td>3009.673</td>\n",
       "      <td>2956.247</td>\n",
       "      <td>3003.915</td>\n",
       "      <td>5.615</td>\n",
       "      <td>0.1869</td>\n",
       "      <td>206545866.0</td>\n",
       "      <td>2.175205e+08</td>\n",
       "      <td>3009.530</td>\n",
       "      <td>-0.370000</td>\n",
       "    </tr>\n",
       "    <tr>\n",
       "      <th>1</th>\n",
       "      <td>20160405</td>\n",
       "      <td>3000.938</td>\n",
       "      <td>3057.330</td>\n",
       "      <td>2993.148</td>\n",
       "      <td>3009.530</td>\n",
       "      <td>43.535</td>\n",
       "      <td>1.4466</td>\n",
       "      <td>256730344.0</td>\n",
       "      <td>2.766547e+08</td>\n",
       "      <td>3053.065</td>\n",
       "      <td>-22.702333</td>\n",
       "    </tr>\n",
       "    <tr>\n",
       "      <th>2</th>\n",
       "      <td>20160406</td>\n",
       "      <td>3039.745</td>\n",
       "      <td>3059.794</td>\n",
       "      <td>3029.005</td>\n",
       "      <td>3053.065</td>\n",
       "      <td>-2.473</td>\n",
       "      <td>-0.0810</td>\n",
       "      <td>232262051.0</td>\n",
       "      <td>2.549146e+08</td>\n",
       "      <td>3050.592</td>\n",
       "      <td>-5.545000</td>\n",
       "    </tr>\n",
       "    <tr>\n",
       "      <th>3</th>\n",
       "      <td>20160407</td>\n",
       "      <td>3058.339</td>\n",
       "      <td>3062.358</td>\n",
       "      <td>3007.060</td>\n",
       "      <td>3050.592</td>\n",
       "      <td>-42.172</td>\n",
       "      <td>-1.3824</td>\n",
       "      <td>220919506.0</td>\n",
       "      <td>2.439618e+08</td>\n",
       "      <td>3008.420</td>\n",
       "      <td>5.075333</td>\n",
       "    </tr>\n",
       "    <tr>\n",
       "      <th>4</th>\n",
       "      <td>20160408</td>\n",
       "      <td>2988.200</td>\n",
       "      <td>2996.171</td>\n",
       "      <td>2960.460</td>\n",
       "      <td>3008.420</td>\n",
       "      <td>-23.462</td>\n",
       "      <td>-0.7799</td>\n",
       "      <td>187904633.0</td>\n",
       "      <td>2.073371e+08</td>\n",
       "      <td>2984.958</td>\n",
       "      <td>27.226667</td>\n",
       "    </tr>\n",
       "    <tr>\n",
       "      <th>5</th>\n",
       "      <td>20160411</td>\n",
       "      <td>3006.909</td>\n",
       "      <td>3048.977</td>\n",
       "      <td>3006.909</td>\n",
       "      <td>2984.958</td>\n",
       "      <td>48.999</td>\n",
       "      <td>1.6415</td>\n",
       "      <td>220018324.0</td>\n",
       "      <td>2.523284e+08</td>\n",
       "      <td>3033.957</td>\n",
       "      <td>16.135000</td>\n",
       "    </tr>\n",
       "    <tr>\n",
       "      <th>6</th>\n",
       "      <td>20160412</td>\n",
       "      <td>3031.301</td>\n",
       "      <td>3036.825</td>\n",
       "      <td>3001.315</td>\n",
       "      <td>3033.957</td>\n",
       "      <td>-10.311</td>\n",
       "      <td>-0.3399</td>\n",
       "      <td>182718668.0</td>\n",
       "      <td>2.070798e+08</td>\n",
       "      <td>3023.646</td>\n",
       "      <td>18.157000</td>\n",
       "    </tr>\n",
       "    <tr>\n",
       "      <th>7</th>\n",
       "      <td>20160413</td>\n",
       "      <td>3041.358</td>\n",
       "      <td>3097.165</td>\n",
       "      <td>3041.358</td>\n",
       "      <td>3023.646</td>\n",
       "      <td>42.992</td>\n",
       "      <td>1.4219</td>\n",
       "      <td>310003246.0</td>\n",
       "      <td>3.314207e+08</td>\n",
       "      <td>3066.638</td>\n",
       "      <td>-10.992667</td>\n",
       "    </tr>\n",
       "    <tr>\n",
       "      <th>8</th>\n",
       "      <td>20160414</td>\n",
       "      <td>3080.090</td>\n",
       "      <td>3086.698</td>\n",
       "      <td>3056.989</td>\n",
       "      <td>3066.638</td>\n",
       "      <td>15.724</td>\n",
       "      <td>0.5127</td>\n",
       "      <td>208237830.0</td>\n",
       "      <td>2.350561e+08</td>\n",
       "      <td>3082.362</td>\n",
       "      <td>-13.179667</td>\n",
       "    </tr>\n",
       "    <tr>\n",
       "      <th>9</th>\n",
       "      <td>20160415</td>\n",
       "      <td>3085.026</td>\n",
       "      <td>3089.951</td>\n",
       "      <td>3066.872</td>\n",
       "      <td>3082.362</td>\n",
       "      <td>-4.245</td>\n",
       "      <td>-0.1377</td>\n",
       "      <td>189613051.0</td>\n",
       "      <td>2.241413e+08</td>\n",
       "      <td>3078.117</td>\n",
       "      <td>-35.177667</td>\n",
       "    </tr>\n",
       "    <tr>\n",
       "      <th>10</th>\n",
       "      <td>20160418</td>\n",
       "      <td>3058.463</td>\n",
       "      <td>3058.463</td>\n",
       "      <td>3022.970</td>\n",
       "      <td>3078.117</td>\n",
       "      <td>-44.457</td>\n",
       "      <td>-1.4443</td>\n",
       "      <td>183304512.0</td>\n",
       "      <td>2.086131e+08</td>\n",
       "      <td>3033.660</td>\n",
       "      <td>-26.923000</td>\n",
       "    </tr>\n",
       "    <tr>\n",
       "      <th>11</th>\n",
       "      <td>20160419</td>\n",
       "      <td>3047.133</td>\n",
       "      <td>3054.503</td>\n",
       "      <td>3024.895</td>\n",
       "      <td>3033.660</td>\n",
       "      <td>9.163</td>\n",
       "      <td>0.3020</td>\n",
       "      <td>156533200.0</td>\n",
       "      <td>1.809480e+08</td>\n",
       "      <td>3042.823</td>\n",
       "      <td>-27.861000</td>\n",
       "    </tr>\n",
       "    <tr>\n",
       "      <th>12</th>\n",
       "      <td>20160420</td>\n",
       "      <td>3050.381</td>\n",
       "      <td>3055.689</td>\n",
       "      <td>2905.049</td>\n",
       "      <td>3042.823</td>\n",
       "      <td>-70.239</td>\n",
       "      <td>-2.3083</td>\n",
       "      <td>283144219.0</td>\n",
       "      <td>3.111549e+08</td>\n",
       "      <td>2972.584</td>\n",
       "      <td>-8.638000</td>\n",
       "    </tr>\n",
       "    <tr>\n",
       "      <th>13</th>\n",
       "      <td>20160421</td>\n",
       "      <td>2954.370</td>\n",
       "      <td>2990.673</td>\n",
       "      <td>2943.464</td>\n",
       "      <td>2972.584</td>\n",
       "      <td>-19.693</td>\n",
       "      <td>-0.6625</td>\n",
       "      <td>189406849.0</td>\n",
       "      <td>2.064771e+08</td>\n",
       "      <td>2952.891</td>\n",
       "      <td>3.936333</td>\n",
       "    </tr>\n",
       "    <tr>\n",
       "      <th>14</th>\n",
       "      <td>20160422</td>\n",
       "      <td>2933.035</td>\n",
       "      <td>2960.209</td>\n",
       "      <td>2926.776</td>\n",
       "      <td>2952.891</td>\n",
       "      <td>6.349</td>\n",
       "      <td>0.2150</td>\n",
       "      <td>137211668.0</td>\n",
       "      <td>1.488004e+08</td>\n",
       "      <td>2959.240</td>\n",
       "      <td>-1.856333</td>\n",
       "    </tr>\n",
       "  </tbody>\n",
       "</table>\n",
       "</div>"
      ],
      "text/plain": [
       "    trade_date      open      high       low  pre_close  change  pct_chg  \\\n",
       "0     20160401  2997.088  3009.673  2956.247   3003.915   5.615   0.1869   \n",
       "1     20160405  3000.938  3057.330  2993.148   3009.530  43.535   1.4466   \n",
       "2     20160406  3039.745  3059.794  3029.005   3053.065  -2.473  -0.0810   \n",
       "3     20160407  3058.339  3062.358  3007.060   3050.592 -42.172  -1.3824   \n",
       "4     20160408  2988.200  2996.171  2960.460   3008.420 -23.462  -0.7799   \n",
       "5     20160411  3006.909  3048.977  3006.909   2984.958  48.999   1.6415   \n",
       "6     20160412  3031.301  3036.825  3001.315   3033.957 -10.311  -0.3399   \n",
       "7     20160413  3041.358  3097.165  3041.358   3023.646  42.992   1.4219   \n",
       "8     20160414  3080.090  3086.698  3056.989   3066.638  15.724   0.5127   \n",
       "9     20160415  3085.026  3089.951  3066.872   3082.362  -4.245  -0.1377   \n",
       "10    20160418  3058.463  3058.463  3022.970   3078.117 -44.457  -1.4443   \n",
       "11    20160419  3047.133  3054.503  3024.895   3033.660   9.163   0.3020   \n",
       "12    20160420  3050.381  3055.689  2905.049   3042.823 -70.239  -2.3083   \n",
       "13    20160421  2954.370  2990.673  2943.464   2972.584 -19.693  -0.6625   \n",
       "14    20160422  2933.035  2960.209  2926.776   2952.891   6.349   0.2150   \n",
       "\n",
       "            vol        amount     close  ave_change  \n",
       "0   206545866.0  2.175205e+08  3009.530   -0.370000  \n",
       "1   256730344.0  2.766547e+08  3053.065  -22.702333  \n",
       "2   232262051.0  2.549146e+08  3050.592   -5.545000  \n",
       "3   220919506.0  2.439618e+08  3008.420    5.075333  \n",
       "4   187904633.0  2.073371e+08  2984.958   27.226667  \n",
       "5   220018324.0  2.523284e+08  3033.957   16.135000  \n",
       "6   182718668.0  2.070798e+08  3023.646   18.157000  \n",
       "7   310003246.0  3.314207e+08  3066.638  -10.992667  \n",
       "8   208237830.0  2.350561e+08  3082.362  -13.179667  \n",
       "9   189613051.0  2.241413e+08  3078.117  -35.177667  \n",
       "10  183304512.0  2.086131e+08  3033.660  -26.923000  \n",
       "11  156533200.0  1.809480e+08  3042.823  -27.861000  \n",
       "12  283144219.0  3.111549e+08  2972.584   -8.638000  \n",
       "13  189406849.0  2.064771e+08  2952.891    3.936333  \n",
       "14  137211668.0  1.488004e+08  2959.240   -1.856333  "
      ]
     },
     "execution_count": 13,
     "metadata": {},
     "output_type": "execute_result"
    }
   ],
   "source": [
    "input_data.head(15)"
   ]
  },
  {
   "cell_type": "code",
   "execution_count": 14,
   "metadata": {},
   "outputs": [],
   "source": [
    "# 增加一个新闻指标数据"
   ]
  },
  {
   "cell_type": "code",
   "execution_count": 15,
   "metadata": {},
   "outputs": [
    {
     "data": {
      "image/png": "[encoded data removed]",
      "text/plain": [
       "<Figure size 432x288 with 1 Axes>"
      ]
     },
     "metadata": {},
     "output_type": "display_data"
    }
   ],
   "source": [
    "fig2 = plt.figure()\n",
    "plt.plot(input_data['close'], 'g:')\n",
    "plt.show()"
   ]
  },
  {
   "cell_type": "code",
   "execution_count": 16,
   "metadata": {},
   "outputs": [
    {
     "data": {
      "image/png": "[encoded data removed]",
      "text/plain": [
       "<Figure size 432x288 with 1 Axes>"
      ]
     },
     "metadata": {},
     "output_type": "display_data"
    }
   ],
   "source": [
    "fig2 = plt.figure()\n",
    "plt.plot(input_data['ave_change'], 'g-')\n",
    "plt.show()"
   ]
  },
  {
   "cell_type": "code",
   "execution_count": 17,
   "metadata": {},
   "outputs": [],
   "source": [
    "temp_news = input_data['ave_change'].astype(int)\n",
    "# temp_news = temp_news + random.randint(-2,2)\n",
    "temp_news = temp_news * 2"
   ]
  },
  {
   "cell_type": "code",
   "execution_count": 18,
   "metadata": {},
   "outputs": [
    {
     "data": {
      "text/plain": [
       "0     0\n",
       "1   -44\n",
       "2   -10\n",
       "3    10\n",
       "4    54\n",
       "Name: ave_change, dtype: int32"
      ]
     },
     "execution_count": 18,
     "metadata": {},
     "output_type": "execute_result"
    }
   ],
   "source": [
    "temp_news.head()"
   ]
  },
  {
   "cell_type": "code",
   "execution_count": 19,
   "metadata": {},
   "outputs": [
    {
     "data": {
      "text/plain": [
       "(369, 11)"
      ]
     },
     "execution_count": 19,
     "metadata": {},
     "output_type": "execute_result"
    }
   ],
   "source": [
    "input_data.shape"
   ]
  },
  {
   "cell_type": "code",
   "execution_count": 20,
   "metadata": {},
   "outputs": [],
   "source": [
    "input_data['news_index'] = temp_news"
   ]
  },
  {
   "cell_type": "code",
   "execution_count": 21,
   "metadata": {},
   "outputs": [],
   "source": [
    "temp_data = input_data['ave_change'].values.reshape(-1, 1)\n",
    "# temp_data.shape, input_data['ave_change'].shape\n",
    "news_scaler = MinMaxScaler()\n",
    "news_trend = news_scaler.fit_transform(temp_data)\n"
   ]
  },
  {
   "cell_type": "code",
   "execution_count": 22,
   "metadata": {},
   "outputs": [
    {
     "data": {
      "image/png": "[encoded data removed]",
      "text/plain": [
       "<Figure size 432x288 with 1 Axes>"
      ]
     },
     "metadata": {},
     "output_type": "display_data"
    }
   ],
   "source": [
    "fig2 = plt.figure()\n",
    "plt.plot(news_trend, 'g:')\n",
    "plt.show()"
   ]
  },
  {
   "cell_type": "code",
   "execution_count": 23,
   "metadata": {},
   "outputs": [
    {
     "data": {
      "image/png": "[encoded data removed]",
      "text/plain": [
       "<Figure size 432x288 with 1 Axes>"
      ]
     },
     "metadata": {},
     "output_type": "display_data"
    }
   ],
   "source": [
    "fig2 = plt.figure()\n",
    "plt.plot(temp_news, 'g:')\n",
    "plt.show()"
   ]
  },
  {
   "cell_type": "code",
   "execution_count": 24,
   "metadata": {},
   "outputs": [],
   "source": [
    "temp_column = input_data.pop('ave_change')\n",
    "input_data['ave_change'] = temp_column"
   ]
  },
  {
   "cell_type": "code",
   "execution_count": 25,
   "metadata": {},
   "outputs": [
    {
     "data": {
      "text/html": [
       "<div>\n",
       "<style scoped>\n",
       "    .dataframe tbody tr th:only-of-type {\n",
       "        vertical-align: middle;\n",
       "    }\n",
       "\n",
       "    .dataframe tbody tr th {\n",
       "        vertical-align: top;\n",
       "    }\n",
       "\n",
       "    .dataframe thead th {\n",
       "        text-align: right;\n",
       "    }\n",
       "</style>\n",
       "<table border=\"1\" class=\"dataframe\">\n",
       "  <thead>\n",
       "    <tr style=\"text-align: right;\">\n",
       "      <th></th>\n",
       "      <th>trade_date</th>\n",
       "      <th>open</th>\n",
       "      <th>high</th>\n",
       "      <th>low</th>\n",
       "      <th>pre_close</th>\n",
       "      <th>change</th>\n",
       "      <th>pct_chg</th>\n",
       "      <th>vol</th>\n",
       "      <th>amount</th>\n",
       "      <th>close</th>\n",
       "      <th>news_index</th>\n",
       "      <th>ave_change</th>\n",
       "    </tr>\n",
       "  </thead>\n",
       "  <tbody>\n",
       "    <tr>\n",
       "      <th>0</th>\n",
       "      <td>20160401</td>\n",
       "      <td>2997.088</td>\n",
       "      <td>3009.673</td>\n",
       "      <td>2956.247</td>\n",
       "      <td>3003.915</td>\n",
       "      <td>5.615</td>\n",
       "      <td>0.1869</td>\n",
       "      <td>206545866.0</td>\n",
       "      <td>2.175205e+08</td>\n",
       "      <td>3009.530</td>\n",
       "      <td>0</td>\n",
       "      <td>-0.370000</td>\n",
       "    </tr>\n",
       "    <tr>\n",
       "      <th>1</th>\n",
       "      <td>20160405</td>\n",
       "      <td>3000.938</td>\n",
       "      <td>3057.330</td>\n",
       "      <td>2993.148</td>\n",
       "      <td>3009.530</td>\n",
       "      <td>43.535</td>\n",
       "      <td>1.4466</td>\n",
       "      <td>256730344.0</td>\n",
       "      <td>2.766547e+08</td>\n",
       "      <td>3053.065</td>\n",
       "      <td>-44</td>\n",
       "      <td>-22.702333</td>\n",
       "    </tr>\n",
       "    <tr>\n",
       "      <th>2</th>\n",
       "      <td>20160406</td>\n",
       "      <td>3039.745</td>\n",
       "      <td>3059.794</td>\n",
       "      <td>3029.005</td>\n",
       "      <td>3053.065</td>\n",
       "      <td>-2.473</td>\n",
       "      <td>-0.0810</td>\n",
       "      <td>232262051.0</td>\n",
       "      <td>2.549146e+08</td>\n",
       "      <td>3050.592</td>\n",
       "      <td>-10</td>\n",
       "      <td>-5.545000</td>\n",
       "    </tr>\n",
       "    <tr>\n",
       "      <th>3</th>\n",
       "      <td>20160407</td>\n",
       "      <td>3058.339</td>\n",
       "      <td>3062.358</td>\n",
       "      <td>3007.060</td>\n",
       "      <td>3050.592</td>\n",
       "      <td>-42.172</td>\n",
       "      <td>-1.3824</td>\n",
       "      <td>220919506.0</td>\n",
       "      <td>2.439618e+08</td>\n",
       "      <td>3008.420</td>\n",
       "      <td>10</td>\n",
       "      <td>5.075333</td>\n",
       "    </tr>\n",
       "    <tr>\n",
       "      <th>4</th>\n",
       "      <td>20160408</td>\n",
       "      <td>2988.200</td>\n",
       "      <td>2996.171</td>\n",
       "      <td>2960.460</td>\n",
       "      <td>3008.420</td>\n",
       "      <td>-23.462</td>\n",
       "      <td>-0.7799</td>\n",
       "      <td>187904633.0</td>\n",
       "      <td>2.073371e+08</td>\n",
       "      <td>2984.958</td>\n",
       "      <td>54</td>\n",
       "      <td>27.226667</td>\n",
       "    </tr>\n",
       "  </tbody>\n",
       "</table>\n",
       "</div>"
      ],
      "text/plain": [
       "   trade_date      open      high       low  pre_close  change  pct_chg  \\\n",
       "0    20160401  2997.088  3009.673  2956.247   3003.915   5.615   0.1869   \n",
       "1    20160405  3000.938  3057.330  2993.148   3009.530  43.535   1.4466   \n",
       "2    20160406  3039.745  3059.794  3029.005   3053.065  -2.473  -0.0810   \n",
       "3    20160407  3058.339  3062.358  3007.060   3050.592 -42.172  -1.3824   \n",
       "4    20160408  2988.200  2996.171  2960.460   3008.420 -23.462  -0.7799   \n",
       "\n",
       "           vol        amount     close  news_index  ave_change  \n",
       "0  206545866.0  2.175205e+08  3009.530           0   -0.370000  \n",
       "1  256730344.0  2.766547e+08  3053.065         -44  -22.702333  \n",
       "2  232262051.0  2.549146e+08  3050.592         -10   -5.545000  \n",
       "3  220919506.0  2.439618e+08  3008.420          10    5.075333  \n",
       "4  187904633.0  2.073371e+08  2984.958          54   27.226667  "
      ]
     },
     "execution_count": 25,
     "metadata": {},
     "output_type": "execute_result"
    }
   ],
   "source": [
    "input_data.head()"
   ]
  },
  {
   "cell_type": "code",
   "execution_count": 26,
   "metadata": {},
   "outputs": [],
   "source": [
    "data = input_data.values\n",
    "\n",
    "dd1=input_data.sort_index()\n",
    "\n",
    "dd2=dd1.values.flatten()\n",
    "\n",
    "dd3=pd.DataFrame(dd1['close'])"
   ]
  },
  {
   "cell_type": "code",
   "execution_count": 27,
   "metadata": {},
   "outputs": [],
   "source": [
    "def load_data(df, sequence_length=10, split=0.8):\n",
    "    # 转为float型\n",
    "    data_all = np.array(df.astype(float))\n",
    "    # 标准化\n",
    "    x_scaler = MinMaxScaler()\n",
    "    data_all[:, :-1] = x_scaler.fit_transform(data_all[:, :-1])\n",
    "    data = []\n",
    "    for i in range(len(data_all) - sequence_length - 1):\n",
    "        data.append(data_all[i: i + sequence_length + 1])\n",
    "    reshaped_data = np.array(data).astype('float64')\n",
    "    x = reshaped_data[:, :-1]\n",
    "    y = reshaped_data[:, -1][:, -1]\n",
    "    scaler = MinMaxScaler()\n",
    "    y = scaler.fit_transform(y.reshape(-1, 1))\n",
    "    split_boundary = int(reshaped_data.shape[0] * split)\n",
    "    train_x = x[: split_boundary]\n",
    "    test_x = x[split_boundary:]\n",
    "\n",
    "    train_y = y[: split_boundary]\n",
    "    test_y = y[split_boundary:]\n",
    "\n",
    "    return train_x, train_y, test_x, test_y, scaler"
   ]
  },
  {
   "cell_type": "code",
   "execution_count": 28,
   "metadata": {},
   "outputs": [],
   "source": [
    "def build_model(layers):\n",
    "    model = Sequential()\n",
    "\n",
    "    # By setting return_sequences to True we are able to stack another LSTM layer\n",
    "    model.add(LSTM(\n",
    "        input_dim=layers[0],\n",
    "        output_dim=layers[1],\n",
    "        return_sequences=True))\n",
    "    model.add(Dropout(0.5))\n",
    "\n",
    "    model.add(LSTM(\n",
    "        layers[2],\n",
    "        return_sequences=False))\n",
    "    model.add(Dropout(0.5))\n",
    "\n",
    "    model.add(Dense(\n",
    "        output_dim=layers[3]))\n",
    "    model.add(Activation(\"linear\"))\n",
    "\n",
    "    start = time.time()\n",
    "    model.compile(loss=\"mse\", optimizer=\"adam\", metrics=['accuracy'])\n",
    "    print(\"Compilation Time : \", time.time() - start)\n",
    "    return model"
   ]
  },
  {
   "cell_type": "code",
   "execution_count": 29,
   "metadata": {},
   "outputs": [],
   "source": [
    "def train_model(train_x, train_y, test_x, test_y):\n",
    "    model = build_model([train_x.shape[2], train_x.shape[1], 100, 1])\n",
    "\n",
    "    try:\n",
    "        model.fit(train_x, train_y, batch_size=40, nb_epoch=200, validation_split=0.1)\n",
    "        predict = model.predict(test_x)\n",
    "        predict = np.reshape(predict, (predict.size, ))\n",
    "    except KeyboardInterrupt:\n",
    "        print(predict)\n",
    "        print(test_y)\n",
    "#     print(predict)\n",
    "#     print(test_y)\n",
    "    try:\n",
    "        fig = plt.figure(1)\n",
    "        plt.plot(predict, 'r:')\n",
    "        plt.plot(test_y, 'g-')\n",
    "        plt.legend(['predict', 'true'])\n",
    "    except Exception as e:\n",
    "        print(e)\n",
    "    return predict, test_y , model"
   ]
  },
  {
   "cell_type": "code",
   "execution_count": 30,
   "metadata": {},
   "outputs": [],
   "source": [
    "train_x, train_y, test_x, test_y, scaler =load_data(dd1, sequence_length=20, split=0.8)"
   ]
  },
  {
   "cell_type": "code",
   "execution_count": 31,
   "metadata": {},
   "outputs": [
    {
     "name": "stdout",
     "output_type": "stream",
     "text": [
      "train_x (278, 20, 12)\n",
      "train_y (278, 1)\n",
      "test_x (70, 20, 12)\n",
      "test_y (70, 1)\n"
     ]
    }
   ],
   "source": [
    "print(\"train_x\", train_x.shape)\n",
    "print(\"train_y\", train_y.shape)\n",
    "print(\"test_x\", test_x.shape)\n",
    "print(\"test_y\", test_y.shape)"
   ]
  },
  {
   "cell_type": "code",
   "execution_count": 32,
   "metadata": {},
   "outputs": [
    {
     "name": "stderr",
     "output_type": "stream",
     "text": [
      "d:\\ProgramData\\Anaconda3\\lib\\site-packages\\ipykernel_launcher.py:8: UserWarning: The `input_dim` and `input_length` arguments in recurrent layers are deprecated. Use `input_shape` instead.\n",
      "  \n",
      "d:\\ProgramData\\Anaconda3\\lib\\site-packages\\ipykernel_launcher.py:8: UserWarning: Update your `LSTM` call to the Keras 2 API: `LSTM(return_sequences=True, input_shape=(None, 12), units=20)`\n",
      "  \n",
      "d:\\ProgramData\\Anaconda3\\lib\\site-packages\\ipykernel_launcher.py:17: UserWarning: Update your `Dense` call to the Keras 2 API: `Dense(units=1)`\n",
      "d:\\ProgramData\\Anaconda3\\lib\\site-packages\\ipykernel_launcher.py:5: UserWarning: The `nb_epoch` argument in `fit` has been renamed `epochs`.\n",
      "  \"\"\"\n"
     ]
    },
    {
     "name": "stdout",
     "output_type": "stream",
     "text": [
      "Compilation Time :  0.03344249725341797\n",
      "Train on 250 samples, validate on 28 samples\n",
      "Epoch 1/200\n",
      "250/250 [==============================] - 2s 10ms/step - loss: 0.1558 - acc: 0.0080 - val_loss: 0.0402 - val_acc: 0.0000e+00\n",
      "Epoch 2/200\n",
      "250/250 [==============================] - 0s 956us/step - loss: 0.0815 - acc: 0.0000e+00 - val_loss: 0.0296 - val_acc: 0.0000e+00\n",
      "Epoch 3/200\n",
      "250/250 [==============================] - 0s 1ms/step - loss: 0.0608 - acc: 0.0040 - val_loss: 0.0126 - val_acc: 0.0000e+00\n",
      "Epoch 4/200\n",
      "250/250 [==============================] - 0s 906us/step - loss: 0.0410 - acc: 0.0040 - val_loss: 0.0165 - val_acc: 0.0000e+00\n",
      "Epoch 5/200\n",
      "250/250 [==============================] - 0s 977us/step - loss: 0.0389 - acc: 0.0040 - val_loss: 0.0112 - val_acc: 0.0000e+00\n",
      "Epoch 6/200\n",
      "250/250 [==============================] - 0s 969us/step - loss: 0.0352 - acc: 0.0040 - val_loss: 0.0112 - val_acc: 0.0000e+00\n",
      "Epoch 7/200\n",
      "250/250 [==============================] - 0s 925us/step - loss: 0.0354 - acc: 0.0080 - val_loss: 0.0123 - val_acc: 0.0000e+00\n",
      "Epoch 8/200\n",
      "250/250 [==============================] - 0s 967us/step - loss: 0.0318 - acc: 0.0080 - val_loss: 0.0108 - val_acc: 0.0000e+00\n",
      "Epoch 9/200\n",
      "250/250 [==============================] - 0s 1ms/step - loss: 0.0342 - acc: 0.0000e+00 - val_loss: 0.0098 - val_acc: 0.0000e+00\n",
      "Epoch 10/200\n",
      "250/250 [==============================] - 0s 1ms/step - loss: 0.0316 - acc: 0.0080 - val_loss: 0.0101 - val_acc: 0.0000e+00\n",
      "Epoch 11/200\n",
      "250/250 [==============================] - 0s 884us/step - loss: 0.0281 - acc: 0.0080 - val_loss: 0.0093 - val_acc: 0.0000e+00\n",
      "Epoch 12/200\n",
      "250/250 [==============================] - 0s 870us/step - loss: 0.0273 - acc: 0.0080 - val_loss: 0.0092 - val_acc: 0.0000e+00\n",
      "Epoch 13/200\n",
      "250/250 [==============================] - 0s 858us/step - loss: 0.0306 - acc: 0.0080 - val_loss: 0.0091 - val_acc: 0.0000e+00\n",
      "Epoch 14/200\n",
      "250/250 [==============================] - 0s 957us/step - loss: 0.0316 - acc: 0.0000e+00 - val_loss: 0.0096 - val_acc: 0.0000e+00\n",
      "Epoch 15/200\n",
      "250/250 [==============================] - 0s 858us/step - loss: 0.0252 - acc: 0.0080 - val_loss: 0.0093 - val_acc: 0.0000e+00\n",
      "Epoch 16/200\n",
      "250/250 [==============================] - 0s 774us/step - loss: 0.0304 - acc: 0.0040 - val_loss: 0.0094 - val_acc: 0.0000e+00\n",
      "Epoch 17/200\n",
      "250/250 [==============================] - 0s 933us/step - loss: 0.0250 - acc: 0.0080 - val_loss: 0.0090 - val_acc: 0.0000e+00\n",
      "Epoch 18/200\n",
      "250/250 [==============================] - 0s 922us/step - loss: 0.0261 - acc: 0.0080 - val_loss: 0.0088 - val_acc: 0.0000e+00\n",
      "Epoch 19/200\n",
      "250/250 [==============================] - 0s 826us/step - loss: 0.0266 - acc: 0.0040 - val_loss: 0.0085 - val_acc: 0.0000e+00\n",
      "Epoch 20/200\n",
      "250/250 [==============================] - 0s 770us/step - loss: 0.0269 - acc: 0.0080 - val_loss: 0.0092 - val_acc: 0.0000e+00\n",
      "Epoch 21/200\n",
      "250/250 [==============================] - 0s 989us/step - loss: 0.0232 - acc: 0.0080 - val_loss: 0.0086 - val_acc: 0.0000e+00\n",
      "Epoch 22/200\n",
      "250/250 [==============================] - 0s 914us/step - loss: 0.0257 - acc: 0.0080 - val_loss: 0.0085 - val_acc: 0.0000e+00\n",
      "Epoch 23/200\n",
      "250/250 [==============================] - 0s 890us/step - loss: 0.0226 - acc: 0.0080 - val_loss: 0.0087 - val_acc: 0.0000e+00\n",
      "Epoch 24/200\n",
      "250/250 [==============================] - 0s 761us/step - loss: 0.0202 - acc: 0.0080 - val_loss: 0.0088 - val_acc: 0.0000e+00\n",
      "Epoch 25/200\n",
      "250/250 [==============================] - 0s 922us/step - loss: 0.0207 - acc: 0.0080 - val_loss: 0.0084 - val_acc: 0.0000e+00\n",
      "Epoch 26/200\n",
      "250/250 [==============================] - 0s 961us/step - loss: 0.0232 - acc: 0.0080 - val_loss: 0.0091 - val_acc: 0.0000e+00\n",
      "Epoch 27/200\n",
      "250/250 [==============================] - 0s 838us/step - loss: 0.0211 - acc: 0.0080 - val_loss: 0.0083 - val_acc: 0.0000e+00\n",
      "Epoch 28/200\n",
      "250/250 [==============================] - 0s 1ms/step - loss: 0.0258 - acc: 0.0080 - val_loss: 0.0082 - val_acc: 0.0000e+00\n",
      "Epoch 29/200\n",
      "250/250 [==============================] - 0s 850us/step - loss: 0.0234 - acc: 0.0080 - val_loss: 0.0080 - val_acc: 0.0000e+00\n",
      "Epoch 30/200\n",
      "250/250 [==============================] - 0s 862us/step - loss: 0.0214 - acc: 0.0080 - val_loss: 0.0092 - val_acc: 0.0000e+00\n",
      "Epoch 31/200\n",
      "250/250 [==============================] - 0s 842us/step - loss: 0.0220 - acc: 0.0080 - val_loss: 0.0072 - val_acc: 0.0000e+00\n",
      "Epoch 32/200\n",
      "250/250 [==============================] - 0s 782us/step - loss: 0.0204 - acc: 0.0080 - val_loss: 0.0078 - val_acc: 0.0000e+00\n",
      "Epoch 33/200\n",
      "250/250 [==============================] - 0s 778us/step - loss: 0.0229 - acc: 0.0040 - val_loss: 0.0080 - val_acc: 0.0000e+00\n",
      "Epoch 34/200\n",
      "250/250 [==============================] - 0s 790us/step - loss: 0.0201 - acc: 0.0080 - val_loss: 0.0073 - val_acc: 0.0000e+00\n",
      "Epoch 35/200\n",
      "250/250 [==============================] - 0s 826us/step - loss: 0.0235 - acc: 0.0080 - val_loss: 0.0072 - val_acc: 0.0000e+00\n",
      "Epoch 36/200\n",
      "250/250 [==============================] - 0s 794us/step - loss: 0.0212 - acc: 0.0080 - val_loss: 0.0076 - val_acc: 0.0000e+00\n",
      "Epoch 37/200\n",
      "250/250 [==============================] - 0s 838us/step - loss: 0.0204 - acc: 0.0040 - val_loss: 0.0071 - val_acc: 0.0000e+00\n",
      "Epoch 38/200\n",
      "250/250 [==============================] - 0s 846us/step - loss: 0.0205 - acc: 0.0080 - val_loss: 0.0075 - val_acc: 0.0000e+00\n",
      "Epoch 39/200\n",
      "250/250 [==============================] - 0s 762us/step - loss: 0.0194 - acc: 0.0080 - val_loss: 0.0074 - val_acc: 0.0000e+00\n",
      "Epoch 40/200\n",
      "250/250 [==============================] - 0s 1ms/step - loss: 0.0231 - acc: 0.0080 - val_loss: 0.0098 - val_acc: 0.0000e+00\n",
      "Epoch 41/200\n",
      "250/250 [==============================] - 0s 957us/step - loss: 0.0203 - acc: 0.0080 - val_loss: 0.0075 - val_acc: 0.0000e+00\n",
      "Epoch 42/200\n",
      "250/250 [==============================] - 0s 930us/step - loss: 0.0209 - acc: 0.0080 - val_loss: 0.0077 - val_acc: 0.0000e+00\n",
      "Epoch 43/200\n",
      "250/250 [==============================] - 0s 882us/step - loss: 0.0182 - acc: 0.0080 - val_loss: 0.0073 - val_acc: 0.0000e+00\n",
      "Epoch 44/200\n",
      "250/250 [==============================] - 0s 906us/step - loss: 0.0205 - acc: 0.0040 - val_loss: 0.0080 - val_acc: 0.0000e+00\n",
      "Epoch 45/200\n",
      "250/250 [==============================] - 0s 882us/step - loss: 0.0183 - acc: 0.0080 - val_loss: 0.0080 - val_acc: 0.0000e+00\n",
      "Epoch 46/200\n",
      "250/250 [==============================] - 0s 798us/step - loss: 0.0202 - acc: 0.0080 - val_loss: 0.0101 - val_acc: 0.0000e+00\n",
      "Epoch 47/200\n",
      "250/250 [==============================] - 0s 726us/step - loss: 0.0222 - acc: 0.0080 - val_loss: 0.0083 - val_acc: 0.0000e+00\n",
      "Epoch 48/200\n",
      "250/250 [==============================] - 0s 818us/step - loss: 0.0196 - acc: 0.0080 - val_loss: 0.0088 - val_acc: 0.0000e+00\n",
      "Epoch 49/200\n",
      "250/250 [==============================] - 0s 814us/step - loss: 0.0181 - acc: 0.0080 - val_loss: 0.0077 - val_acc: 0.0000e+00\n",
      "Epoch 50/200\n",
      "250/250 [==============================] - 0s 862us/step - loss: 0.0202 - acc: 0.0080 - val_loss: 0.0094 - val_acc: 0.0000e+00\n",
      "Epoch 51/200\n",
      "250/250 [==============================] - 0s 798us/step - loss: 0.0226 - acc: 0.0080 - val_loss: 0.0073 - val_acc: 0.0000e+00\n",
      "Epoch 52/200\n",
      "250/250 [==============================] - 0s 1ms/step - loss: 0.0175 - acc: 0.0080 - val_loss: 0.0076 - val_acc: 0.0000e+00\n",
      "Epoch 53/200\n",
      "250/250 [==============================] - 0s 989us/step - loss: 0.0195 - acc: 0.0080 - val_loss: 0.0073 - val_acc: 0.0000e+00\n",
      "Epoch 54/200\n",
      "250/250 [==============================] - 0s 1ms/step - loss: 0.0168 - acc: 0.0080 - val_loss: 0.0075 - val_acc: 0.0000e+00\n",
      "Epoch 55/200\n",
      "250/250 [==============================] - 0s 842us/step - loss: 0.0184 - acc: 0.0080 - val_loss: 0.0068 - val_acc: 0.0000e+00\n",
      "Epoch 56/200\n",
      "250/250 [==============================] - 0s 922us/step - loss: 0.0199 - acc: 0.0080 - val_loss: 0.0088 - val_acc: 0.0000e+00\n",
      "Epoch 57/200\n",
      "250/250 [==============================] - 0s 876us/step - loss: 0.0174 - acc: 0.0080 - val_loss: 0.0078 - val_acc: 0.0000e+00\n",
      "Epoch 58/200\n",
      "250/250 [==============================] - 0s 844us/step - loss: 0.0181 - acc: 0.0080 - val_loss: 0.0086 - val_acc: 0.0000e+00\n"
     ]
    },
    {
     "name": "stdout",
     "output_type": "stream",
     "text": [
      "Epoch 59/200\n",
      "250/250 [==============================] - 0s 822us/step - loss: 0.0176 - acc: 0.0080 - val_loss: 0.0075 - val_acc: 0.0000e+00\n",
      "Epoch 60/200\n",
      "250/250 [==============================] - 0s 842us/step - loss: 0.0161 - acc: 0.0080 - val_loss: 0.0081 - val_acc: 0.0000e+00\n",
      "Epoch 61/200\n",
      "250/250 [==============================] - 0s 838us/step - loss: 0.0173 - acc: 0.0080 - val_loss: 0.0071 - val_acc: 0.0000e+00\n",
      "Epoch 62/200\n",
      "250/250 [==============================] - 0s 870us/step - loss: 0.0151 - acc: 0.0080 - val_loss: 0.0078 - val_acc: 0.0000e+00\n",
      "Epoch 63/200\n",
      "250/250 [==============================] - 0s 774us/step - loss: 0.0191 - acc: 0.0080 - val_loss: 0.0075 - val_acc: 0.0000e+00\n",
      "Epoch 64/200\n",
      "250/250 [==============================] - 0s 886us/step - loss: 0.0155 - acc: 0.0080 - val_loss: 0.0095 - val_acc: 0.0000e+00\n",
      "Epoch 65/200\n",
      "250/250 [==============================] - 0s 738us/step - loss: 0.0150 - acc: 0.0080 - val_loss: 0.0069 - val_acc: 0.0000e+00\n",
      "Epoch 66/200\n",
      "250/250 [==============================] - 0s 910us/step - loss: 0.0151 - acc: 0.0080 - val_loss: 0.0106 - val_acc: 0.0000e+00\n",
      "Epoch 67/200\n",
      "250/250 [==============================] - 0s 933us/step - loss: 0.0192 - acc: 0.0080 - val_loss: 0.0076 - val_acc: 0.0000e+00\n",
      "Epoch 68/200\n",
      "250/250 [==============================] - 0s 1ms/step - loss: 0.0144 - acc: 0.0080 - val_loss: 0.0085 - val_acc: 0.0000e+00\n",
      "Epoch 69/200\n",
      "250/250 [==============================] - 0s 1ms/step - loss: 0.0161 - acc: 0.0080 - val_loss: 0.0079 - val_acc: 0.0000e+00\n",
      "Epoch 70/200\n",
      "250/250 [==============================] - 0s 918us/step - loss: 0.0165 - acc: 0.0080 - val_loss: 0.0079 - val_acc: 0.0000e+00\n",
      "Epoch 71/200\n",
      "250/250 [==============================] - 0s 1ms/step - loss: 0.0177 - acc: 0.0080 - val_loss: 0.0078 - val_acc: 0.0000e+00\n",
      "Epoch 72/200\n",
      "250/250 [==============================] - 0s 973us/step - loss: 0.0194 - acc: 0.0080 - val_loss: 0.0087 - val_acc: 0.0000e+00\n",
      "Epoch 73/200\n",
      "250/250 [==============================] - 0s 941us/step - loss: 0.0168 - acc: 0.0080 - val_loss: 0.0075 - val_acc: 0.0000e+00\n",
      "Epoch 74/200\n",
      "250/250 [==============================] - 0s 922us/step - loss: 0.0167 - acc: 0.0080 - val_loss: 0.0074 - val_acc: 0.0000e+00\n",
      "Epoch 75/200\n",
      "250/250 [==============================] - 0s 1ms/step - loss: 0.0188 - acc: 0.0040 - val_loss: 0.0088 - val_acc: 0.0000e+00\n",
      "Epoch 76/200\n",
      "250/250 [==============================] - 0s 926us/step - loss: 0.0161 - acc: 0.0080 - val_loss: 0.0067 - val_acc: 0.0000e+00\n",
      "Epoch 77/200\n",
      "250/250 [==============================] - 0s 914us/step - loss: 0.0176 - acc: 0.0080 - val_loss: 0.0091 - val_acc: 0.0000e+00\n",
      "Epoch 78/200\n",
      "250/250 [==============================] - 0s 906us/step - loss: 0.0161 - acc: 0.0080 - val_loss: 0.0073 - val_acc: 0.0000e+00\n",
      "Epoch 79/200\n",
      "250/250 [==============================] - 0s 830us/step - loss: 0.0162 - acc: 0.0080 - val_loss: 0.0076 - val_acc: 0.0000e+00\n",
      "Epoch 80/200\n",
      "250/250 [==============================] - 0s 888us/step - loss: 0.0146 - acc: 0.0080 - val_loss: 0.0075 - val_acc: 0.0000e+00\n",
      "Epoch 81/200\n",
      "250/250 [==============================] - 0s 914us/step - loss: 0.0162 - acc: 0.0080 - val_loss: 0.0068 - val_acc: 0.0000e+00\n",
      "Epoch 82/200\n",
      "250/250 [==============================] - 0s 818us/step - loss: 0.0170 - acc: 0.0080 - val_loss: 0.0069 - val_acc: 0.0000e+00\n",
      "Epoch 83/200\n",
      "250/250 [==============================] - 0s 997us/step - loss: 0.0171 - acc: 0.0080 - val_loss: 0.0070 - val_acc: 0.0000e+00\n",
      "Epoch 84/200\n",
      "250/250 [==============================] - 0s 794us/step - loss: 0.0167 - acc: 0.0080 - val_loss: 0.0076 - val_acc: 0.0000e+00\n",
      "Epoch 85/200\n",
      "250/250 [==============================] - 0s 898us/step - loss: 0.0144 - acc: 0.0080 - val_loss: 0.0073 - val_acc: 0.0000e+00\n",
      "Epoch 86/200\n",
      "250/250 [==============================] - 0s 880us/step - loss: 0.0163 - acc: 0.0080 - val_loss: 0.0074 - val_acc: 0.0000e+00\n",
      "Epoch 87/200\n",
      "250/250 [==============================] - 0s 969us/step - loss: 0.0147 - acc: 0.0080 - val_loss: 0.0075 - val_acc: 0.0000e+00\n",
      "Epoch 88/200\n",
      "250/250 [==============================] - 0s 922us/step - loss: 0.0157 - acc: 0.0080 - val_loss: 0.0073 - val_acc: 0.0000e+00\n",
      "Epoch 89/200\n",
      "250/250 [==============================] - 0s 922us/step - loss: 0.0161 - acc: 0.0080 - val_loss: 0.0077 - val_acc: 0.0000e+00\n",
      "Epoch 90/200\n",
      "250/250 [==============================] - 0s 949us/step - loss: 0.0156 - acc: 0.0080 - val_loss: 0.0077 - val_acc: 0.0000e+00\n",
      "Epoch 91/200\n",
      "250/250 [==============================] - 0s 1ms/step - loss: 0.0175 - acc: 0.0080 - val_loss: 0.0100 - val_acc: 0.0000e+00\n",
      "Epoch 92/200\n",
      "250/250 [==============================] - 0s 830us/step - loss: 0.0146 - acc: 0.0080 - val_loss: 0.0085 - val_acc: 0.0000e+00\n",
      "Epoch 93/200\n",
      "250/250 [==============================] - 0s 806us/step - loss: 0.0137 - acc: 0.0080 - val_loss: 0.0080 - val_acc: 0.0000e+00\n",
      "Epoch 94/200\n",
      "250/250 [==============================] - 0s 1ms/step - loss: 0.0156 - acc: 0.0080 - val_loss: 0.0104 - val_acc: 0.0000e+00\n",
      "Epoch 95/200\n",
      "250/250 [==============================] - 0s 784us/step - loss: 0.0151 - acc: 0.0080 - val_loss: 0.0068 - val_acc: 0.0000e+00\n",
      "Epoch 96/200\n",
      "250/250 [==============================] - 0s 914us/step - loss: 0.0152 - acc: 0.0080 - val_loss: 0.0080 - val_acc: 0.0000e+00\n",
      "Epoch 97/200\n",
      "250/250 [==============================] - 0s 1ms/step - loss: 0.0166 - acc: 0.0080 - val_loss: 0.0081 - val_acc: 0.0000e+00\n",
      "Epoch 98/200\n",
      "250/250 [==============================] - 0s 830us/step - loss: 0.0168 - acc: 0.0080 - val_loss: 0.0071 - val_acc: 0.0000e+00\n",
      "Epoch 99/200\n",
      "250/250 [==============================] - 0s 714us/step - loss: 0.0155 - acc: 0.0080 - val_loss: 0.0076 - val_acc: 0.0000e+00\n",
      "Epoch 100/200\n",
      "250/250 [==============================] - 0s 790us/step - loss: 0.0133 - acc: 0.0080 - val_loss: 0.0083 - val_acc: 0.0000e+00\n",
      "Epoch 101/200\n",
      "250/250 [==============================] - 0s 1ms/step - loss: 0.0189 - acc: 0.0080 - val_loss: 0.0077 - val_acc: 0.0000e+00\n",
      "Epoch 102/200\n",
      "250/250 [==============================] - 0s 910us/step - loss: 0.0165 - acc: 0.0080 - val_loss: 0.0081 - val_acc: 0.0000e+00\n",
      "Epoch 103/200\n",
      "250/250 [==============================] - 0s 782us/step - loss: 0.0155 - acc: 0.0080 - val_loss: 0.0071 - val_acc: 0.0000e+00\n",
      "Epoch 104/200\n",
      "250/250 [==============================] - 0s 794us/step - loss: 0.0144 - acc: 0.0080 - val_loss: 0.0084 - val_acc: 0.0000e+00\n",
      "Epoch 105/200\n",
      "250/250 [==============================] - 0s 830us/step - loss: 0.0156 - acc: 0.0080 - val_loss: 0.0083 - val_acc: 0.0000e+00\n",
      "Epoch 106/200\n",
      "250/250 [==============================] - 0s 993us/step - loss: 0.0147 - acc: 0.0080 - val_loss: 0.0093 - val_acc: 0.0000e+00\n",
      "Epoch 107/200\n",
      "250/250 [==============================] - 0s 1ms/step - loss: 0.0157 - acc: 0.0080 - val_loss: 0.0085 - val_acc: 0.0000e+00\n",
      "Epoch 108/200\n",
      "250/250 [==============================] - 0s 1ms/step - loss: 0.0170 - acc: 0.0080 - val_loss: 0.0094 - val_acc: 0.0000e+00\n",
      "Epoch 109/200\n",
      "250/250 [==============================] - 0s 866us/step - loss: 0.0149 - acc: 0.0080 - val_loss: 0.0078 - val_acc: 0.0000e+00\n",
      "Epoch 110/200\n",
      "250/250 [==============================] - 0s 848us/step - loss: 0.0143 - acc: 0.0080 - val_loss: 0.0085 - val_acc: 0.0000e+00\n",
      "Epoch 111/200\n",
      "250/250 [==============================] - 0s 722us/step - loss: 0.0143 - acc: 0.0080 - val_loss: 0.0073 - val_acc: 0.0000e+00\n",
      "Epoch 112/200\n",
      "250/250 [==============================] - 0s 886us/step - loss: 0.0166 - acc: 0.0080 - val_loss: 0.0083 - val_acc: 0.0000e+00\n",
      "Epoch 113/200\n",
      "250/250 [==============================] - 0s 774us/step - loss: 0.0159 - acc: 0.0080 - val_loss: 0.0086 - val_acc: 0.0000e+00\n",
      "Epoch 114/200\n",
      "250/250 [==============================] - 0s 822us/step - loss: 0.0148 - acc: 0.0080 - val_loss: 0.0074 - val_acc: 0.0000e+00\n",
      "Epoch 115/200\n",
      "250/250 [==============================] - 0s 914us/step - loss: 0.0133 - acc: 0.0080 - val_loss: 0.0080 - val_acc: 0.0000e+00\n",
      "Epoch 116/200\n",
      "250/250 [==============================] - 0s 866us/step - loss: 0.0141 - acc: 0.0080 - val_loss: 0.0073 - val_acc: 0.0000e+00\n",
      "Epoch 117/200\n"
     ]
    },
    {
     "name": "stdout",
     "output_type": "stream",
     "text": [
      "250/250 [==============================] - 0s 930us/step - loss: 0.0133 - acc: 0.0080 - val_loss: 0.0083 - val_acc: 0.0000e+00\n",
      "Epoch 118/200\n",
      "250/250 [==============================] - 0s 1ms/step - loss: 0.0140 - acc: 0.0080 - val_loss: 0.0079 - val_acc: 0.0000e+00\n",
      "Epoch 119/200\n",
      "250/250 [==============================] - 0s 1ms/step - loss: 0.0154 - acc: 0.0080 - val_loss: 0.0084 - val_acc: 0.0000e+00\n",
      "Epoch 120/200\n",
      "250/250 [==============================] - 0s 989us/step - loss: 0.0169 - acc: 0.0080 - val_loss: 0.0071 - val_acc: 0.0000e+00\n",
      "Epoch 121/200\n",
      "250/250 [==============================] - 0s 834us/step - loss: 0.0132 - acc: 0.0080 - val_loss: 0.0069 - val_acc: 0.0000e+00\n",
      "Epoch 122/200\n",
      "250/250 [==============================] - 0s 858us/step - loss: 0.0119 - acc: 0.0080 - val_loss: 0.0081 - val_acc: 0.0000e+00\n",
      "Epoch 123/200\n",
      "250/250 [==============================] - 0s 846us/step - loss: 0.0150 - acc: 0.0080 - val_loss: 0.0073 - val_acc: 0.0000e+00\n",
      "Epoch 124/200\n",
      "250/250 [==============================] - 0s 1ms/step - loss: 0.0166 - acc: 0.0080 - val_loss: 0.0082 - val_acc: 0.0000e+00\n",
      "Epoch 125/200\n",
      "250/250 [==============================] - 0s 882us/step - loss: 0.0135 - acc: 0.0080 - val_loss: 0.0076 - val_acc: 0.0000e+00\n",
      "Epoch 126/200\n",
      "250/250 [==============================] - 0s 1ms/step - loss: 0.0134 - acc: 0.0080 - val_loss: 0.0072 - val_acc: 0.0000e+00\n",
      "Epoch 127/200\n",
      "250/250 [==============================] - 0s 973us/step - loss: 0.0133 - acc: 0.0080 - val_loss: 0.0084 - val_acc: 0.0000e+00\n",
      "Epoch 128/200\n",
      "250/250 [==============================] - 0s 926us/step - loss: 0.0145 - acc: 0.0080 - val_loss: 0.0074 - val_acc: 0.0000e+00\n",
      "Epoch 129/200\n",
      "250/250 [==============================] - 0s 862us/step - loss: 0.0138 - acc: 0.0080 - val_loss: 0.0077 - val_acc: 0.0000e+00\n",
      "Epoch 130/200\n",
      "250/250 [==============================] - 0s 826us/step - loss: 0.0138 - acc: 0.0080 - val_loss: 0.0084 - val_acc: 0.0000e+00\n",
      "Epoch 131/200\n",
      "250/250 [==============================] - 0s 878us/step - loss: 0.0128 - acc: 0.0080 - val_loss: 0.0091 - val_acc: 0.0000e+00\n",
      "Epoch 132/200\n",
      "250/250 [==============================] - 0s 1ms/step - loss: 0.0150 - acc: 0.0080 - val_loss: 0.0096 - val_acc: 0.0000e+00\n",
      "Epoch 133/200\n",
      "250/250 [==============================] - 0s 794us/step - loss: 0.0128 - acc: 0.0080 - val_loss: 0.0080 - val_acc: 0.0000e+00\n",
      "Epoch 134/200\n",
      "250/250 [==============================] - 0s 918us/step - loss: 0.0128 - acc: 0.0080 - val_loss: 0.0084 - val_acc: 0.0000e+00\n",
      "Epoch 135/200\n",
      "250/250 [==============================] - 0s 826us/step - loss: 0.0141 - acc: 0.0080 - val_loss: 0.0083 - val_acc: 0.0000e+00\n",
      "Epoch 136/200\n",
      "250/250 [==============================] - 0s 934us/step - loss: 0.0140 - acc: 0.0080 - val_loss: 0.0089 - val_acc: 0.0000e+00\n",
      "Epoch 137/200\n",
      "250/250 [==============================] - 0s 1ms/step - loss: 0.0166 - acc: 0.0080 - val_loss: 0.0092 - val_acc: 0.0000e+00\n",
      "Epoch 138/200\n",
      "250/250 [==============================] - 0s 989us/step - loss: 0.0137 - acc: 0.0080 - val_loss: 0.0085 - val_acc: 0.0000e+00\n",
      "Epoch 139/200\n",
      "250/250 [==============================] - 0s 818us/step - loss: 0.0129 - acc: 0.0080 - val_loss: 0.0083 - val_acc: 0.0000e+00\n",
      "Epoch 140/200\n",
      "250/250 [==============================] - 0s 754us/step - loss: 0.0120 - acc: 0.0080 - val_loss: 0.0087 - val_acc: 0.0000e+00\n",
      "Epoch 141/200\n",
      "250/250 [==============================] - 0s 826us/step - loss: 0.0150 - acc: 0.0080 - val_loss: 0.0081 - val_acc: 0.0000e+00\n",
      "Epoch 142/200\n",
      "250/250 [==============================] - 0s 850us/step - loss: 0.0145 - acc: 0.0080 - val_loss: 0.0087 - val_acc: 0.0000e+00\n",
      "Epoch 143/200\n",
      "250/250 [==============================] - 0s 718us/step - loss: 0.0142 - acc: 0.0080 - val_loss: 0.0087 - val_acc: 0.0000e+00\n",
      "Epoch 144/200\n",
      "250/250 [==============================] - 0s 898us/step - loss: 0.0147 - acc: 0.0080 - val_loss: 0.0095 - val_acc: 0.0000e+00\n",
      "Epoch 145/200\n",
      "250/250 [==============================] - 0s 818us/step - loss: 0.0138 - acc: 0.0080 - val_loss: 0.0087 - val_acc: 0.0000e+00\n",
      "Epoch 146/200\n",
      "250/250 [==============================] - 0s 842us/step - loss: 0.0140 - acc: 0.0080 - val_loss: 0.0102 - val_acc: 0.0000e+00\n",
      "Epoch 147/200\n",
      "250/250 [==============================] - 0s 890us/step - loss: 0.0114 - acc: 0.0080 - val_loss: 0.0084 - val_acc: 0.0000e+00\n",
      "Epoch 148/200\n",
      "250/250 [==============================] - 0s 914us/step - loss: 0.0130 - acc: 0.0080 - val_loss: 0.0097 - val_acc: 0.0000e+00\n",
      "Epoch 149/200\n",
      "250/250 [==============================] - 0s 766us/step - loss: 0.0126 - acc: 0.0080 - val_loss: 0.0082 - val_acc: 0.0000e+00\n",
      "Epoch 150/200\n",
      "250/250 [==============================] - 0s 718us/step - loss: 0.0123 - acc: 0.0080 - val_loss: 0.0077 - val_acc: 0.0000e+00\n",
      "Epoch 151/200\n",
      "250/250 [==============================] - 0s 842us/step - loss: 0.0141 - acc: 0.0080 - val_loss: 0.0100 - val_acc: 0.0000e+00\n",
      "Epoch 152/200\n",
      "250/250 [==============================] - 0s 830us/step - loss: 0.0123 - acc: 0.0080 - val_loss: 0.0073 - val_acc: 0.0000e+00\n",
      "Epoch 153/200\n",
      "250/250 [==============================] - 0s 846us/step - loss: 0.0146 - acc: 0.0080 - val_loss: 0.0088 - val_acc: 0.0000e+00\n",
      "Epoch 154/200\n",
      "250/250 [==============================] - 0s 814us/step - loss: 0.0127 - acc: 0.0080 - val_loss: 0.0089 - val_acc: 0.0000e+00\n",
      "Epoch 155/200\n",
      "250/250 [==============================] - 0s 878us/step - loss: 0.0126 - acc: 0.0080 - val_loss: 0.0082 - val_acc: 0.0000e+00\n",
      "Epoch 156/200\n",
      "250/250 [==============================] - 0s 818us/step - loss: 0.0145 - acc: 0.0080 - val_loss: 0.0085 - val_acc: 0.0000e+00\n",
      "Epoch 157/200\n",
      "250/250 [==============================] - 0s 770us/step - loss: 0.0140 - acc: 0.0080 - val_loss: 0.0079 - val_acc: 0.0000e+00\n",
      "Epoch 158/200\n",
      "250/250 [==============================] - 0s 770us/step - loss: 0.0124 - acc: 0.0080 - val_loss: 0.0097 - val_acc: 0.0000e+00\n",
      "Epoch 159/200\n",
      "250/250 [==============================] - 0s 734us/step - loss: 0.0140 - acc: 0.0080 - val_loss: 0.0075 - val_acc: 0.0000e+00\n",
      "Epoch 160/200\n",
      "250/250 [==============================] - 0s 874us/step - loss: 0.0135 - acc: 0.0080 - val_loss: 0.0087 - val_acc: 0.0000e+00\n",
      "Epoch 161/200\n",
      "250/250 [==============================] - 0s 1ms/step - loss: 0.0128 - acc: 0.0080 - val_loss: 0.0086 - val_acc: 0.0000e+00\n",
      "Epoch 162/200\n",
      "250/250 [==============================] - 0s 977us/step - loss: 0.0126 - acc: 0.0080 - val_loss: 0.0086 - val_acc: 0.0000e+00\n",
      "Epoch 163/200\n",
      "250/250 [==============================] - 0s 1ms/step - loss: 0.0132 - acc: 0.0080 - val_loss: 0.0107 - val_acc: 0.0000e+00\n",
      "Epoch 164/200\n",
      "250/250 [==============================] - 0s 989us/step - loss: 0.0130 - acc: 0.0080 - val_loss: 0.0079 - val_acc: 0.0000e+00\n",
      "Epoch 165/200\n",
      "250/250 [==============================] - 0s 933us/step - loss: 0.0124 - acc: 0.0080 - val_loss: 0.0107 - val_acc: 0.0000e+00\n",
      "Epoch 166/200\n",
      "250/250 [==============================] - 0s 926us/step - loss: 0.0140 - acc: 0.0080 - val_loss: 0.0080 - val_acc: 0.0000e+00\n",
      "Epoch 167/200\n",
      "250/250 [==============================] - 0s 926us/step - loss: 0.0118 - acc: 0.0080 - val_loss: 0.0083 - val_acc: 0.0000e+00\n",
      "Epoch 168/200\n",
      "250/250 [==============================] - 0s 1ms/step - loss: 0.0116 - acc: 0.0080 - val_loss: 0.0077 - val_acc: 0.0000e+00\n",
      "Epoch 169/200\n",
      "250/250 [==============================] - 0s 954us/step - loss: 0.0122 - acc: 0.0080 - val_loss: 0.0088 - val_acc: 0.0000e+00\n",
      "Epoch 170/200\n",
      "250/250 [==============================] - 0s 910us/step - loss: 0.0119 - acc: 0.0080 - val_loss: 0.0087 - val_acc: 0.0000e+00\n",
      "Epoch 171/200\n",
      "250/250 [==============================] - 0s 870us/step - loss: 0.0129 - acc: 0.0080 - val_loss: 0.0088 - val_acc: 0.0000e+00\n",
      "Epoch 172/200\n",
      "250/250 [==============================] - 0s 862us/step - loss: 0.0125 - acc: 0.0080 - val_loss: 0.0093 - val_acc: 0.0000e+00\n",
      "Epoch 173/200\n",
      "250/250 [==============================] - 0s 926us/step - loss: 0.0141 - acc: 0.0080 - val_loss: 0.0088 - val_acc: 0.0000e+00\n",
      "Epoch 174/200\n",
      "250/250 [==============================] - 0s 973us/step - loss: 0.0126 - acc: 0.0080 - val_loss: 0.0097 - val_acc: 0.0000e+00\n",
      "Epoch 175/200\n"
     ]
    },
    {
     "name": "stdout",
     "output_type": "stream",
     "text": [
      "250/250 [==============================] - 0s 898us/step - loss: 0.0109 - acc: 0.0080 - val_loss: 0.0076 - val_acc: 0.0000e+00\n",
      "Epoch 176/200\n",
      "250/250 [==============================] - 0s 802us/step - loss: 0.0117 - acc: 0.0080 - val_loss: 0.0087 - val_acc: 0.0000e+00\n",
      "Epoch 177/200\n",
      "250/250 [==============================] - 0s 854us/step - loss: 0.0127 - acc: 0.0080 - val_loss: 0.0075 - val_acc: 0.0000e+00\n",
      "Epoch 178/200\n",
      "250/250 [==============================] - 0s 918us/step - loss: 0.0122 - acc: 0.0080 - val_loss: 0.0076 - val_acc: 0.0000e+00\n",
      "Epoch 179/200\n",
      "250/250 [==============================] - 0s 806us/step - loss: 0.0125 - acc: 0.0080 - val_loss: 0.0090 - val_acc: 0.0000e+00\n",
      "Epoch 180/200\n",
      "250/250 [==============================] - 0s 850us/step - loss: 0.0121 - acc: 0.0080 - val_loss: 0.0080 - val_acc: 0.0000e+00\n",
      "Epoch 181/200\n",
      "250/250 [==============================] - 0s 782us/step - loss: 0.0116 - acc: 0.0080 - val_loss: 0.0075 - val_acc: 0.0000e+00\n",
      "Epoch 182/200\n",
      "250/250 [==============================] - 0s 774us/step - loss: 0.0124 - acc: 0.0080 - val_loss: 0.0089 - val_acc: 0.0000e+00\n",
      "Epoch 183/200\n",
      "250/250 [==============================] - 0s 814us/step - loss: 0.0115 - acc: 0.0080 - val_loss: 0.0078 - val_acc: 0.0000e+00\n",
      "Epoch 184/200\n",
      "250/250 [==============================] - 0s 818us/step - loss: 0.0116 - acc: 0.0080 - val_loss: 0.0085 - val_acc: 0.0000e+00\n",
      "Epoch 185/200\n",
      "250/250 [==============================] - 0s 790us/step - loss: 0.0114 - acc: 0.0080 - val_loss: 0.0085 - val_acc: 0.0000e+00\n",
      "Epoch 186/200\n",
      "250/250 [==============================] - 0s 822us/step - loss: 0.0124 - acc: 0.0080 - val_loss: 0.0092 - val_acc: 0.0000e+00\n",
      "Epoch 187/200\n",
      "250/250 [==============================] - 0s 742us/step - loss: 0.0117 - acc: 0.0080 - val_loss: 0.0107 - val_acc: 0.0000e+00\n",
      "Epoch 188/200\n",
      "250/250 [==============================] - 0s 1ms/step - loss: 0.0112 - acc: 0.0080 - val_loss: 0.0088 - val_acc: 0.0000e+00\n",
      "Epoch 189/200\n",
      "250/250 [==============================] - 0s 1ms/step - loss: 0.0116 - acc: 0.0080 - val_loss: 0.0100 - val_acc: 0.0000e+00\n",
      "Epoch 190/200\n",
      "250/250 [==============================] - 0s 806us/step - loss: 0.0115 - acc: 0.0080 - val_loss: 0.0077 - val_acc: 0.0000e+00\n",
      "Epoch 191/200\n",
      "250/250 [==============================] - ETA: 0s - loss: 0.0111 - acc: 0.0050   - 0s 810us/step - loss: 0.0117 - acc: 0.0080 - val_loss: 0.0082 - val_acc: 0.0000e+00\n",
      "Epoch 192/200\n",
      "250/250 [==============================] - 0s 993us/step - loss: 0.0111 - acc: 0.0080 - val_loss: 0.0090 - val_acc: 0.0000e+00\n",
      "Epoch 193/200\n",
      "250/250 [==============================] - 0s 830us/step - loss: 0.0107 - acc: 0.0080 - val_loss: 0.0084 - val_acc: 0.0000e+00\n",
      "Epoch 194/200\n",
      "250/250 [==============================] - 0s 846us/step - loss: 0.0116 - acc: 0.0080 - val_loss: 0.0089 - val_acc: 0.0000e+00\n",
      "Epoch 195/200\n",
      "250/250 [==============================] - 0s 937us/step - loss: 0.0129 - acc: 0.0080 - val_loss: 0.0097 - val_acc: 0.0000e+00\n",
      "Epoch 196/200\n",
      "250/250 [==============================] - 0s 890us/step - loss: 0.0114 - acc: 0.0080 - val_loss: 0.0089 - val_acc: 0.0000e+00\n",
      "Epoch 197/200\n",
      "250/250 [==============================] - 0s 941us/step - loss: 0.0113 - acc: 0.0080 - val_loss: 0.0092 - val_acc: 0.0000e+00\n",
      "Epoch 198/200\n",
      "250/250 [==============================] - 0s 806us/step - loss: 0.0115 - acc: 0.0080 - val_loss: 0.0093 - val_acc: 0.0000e+00\n",
      "Epoch 199/200\n",
      "250/250 [==============================] - 0s 830us/step - loss: 0.0113 - acc: 0.0080 - val_loss: 0.0108 - val_acc: 0.0000e+00\n",
      "Epoch 200/200\n",
      "250/250 [==============================] - 0s 806us/step - loss: 0.0115 - acc: 0.0080 - val_loss: 0.0087 - val_acc: 0.0000e+00\n"
     ]
    },
    {
     "data": {
      "image/png": "[encoded data removed]",
      "text/plain": [
       "<Figure size 432x288 with 1 Axes>"
      ]
     },
     "metadata": {},
     "output_type": "display_data"
    },
    {
     "data": {
      "image/png": "[encoded data removed]",
      "text/plain": [
       "<Figure size 432x288 with 1 Axes>"
      ]
     },
     "metadata": {},
     "output_type": "display_data"
    }
   ],
   "source": [
    "predict_y, test_y, model = train_model(train_x, train_y, test_x, test_y)\n",
    "predict_y = scaler.inverse_transform([[i] for i in predict_y])\n",
    "test_y = scaler.inverse_transform(test_y)\n",
    "fig2 = plt.figure(2)\n",
    "plt.plot(predict_y, 'g:')\n",
    "plt.plot(test_y, 'r-')\n",
    "plt.show()\n"
   ]
  },
  {
   "cell_type": "code",
   "execution_count": 33,
   "metadata": {
    "scrolled": true
   },
   "outputs": [
    {
     "name": "stdout",
     "output_type": "stream",
     "text": [
      "70 70\n",
      "38 31\n"
     ]
    }
   ],
   "source": [
    "trend_list = [1,]\n",
    "for i in range(1, len(predict_y)):\n",
    "    if predict_y[i] <= quantile033:\n",
    "        trend_list.append(-1)\n",
    "    elif quantile033 <= predict_y[i] <= quantile067:\n",
    "        trend_list.append(0)\n",
    "    else:\n",
    "        trend_list.append(1)\n",
    "\n",
    "real_trend_list = [1,]\n",
    "for i in range(1, len(test_y)):\n",
    "    if test_y[i] <= quantile033:\n",
    "        real_trend_list.append(-1)\n",
    "    elif quantile033 <= test_y[i] <= quantile067:\n",
    "        real_trend_list.append(0)\n",
    "    else:\n",
    "        real_trend_list.append(1)\n",
    "        \n",
    "true_count = 0\n",
    "false_count = 0\n",
    "\n",
    "\n",
    "print(len(test_y), len(predict_y))\n",
    "\n",
    "pair_list = []\n",
    "\n",
    "for i in range(len(predict_y)-1):\n",
    "    pair_list.append([real_trend_list[i], trend_list[i]])\n",
    "    if real_trend_list[i] == trend_list[i]:\n",
    "        true_count = true_count + 1\n",
    "    else:\n",
    "        false_count = false_count + 1\n",
    "\n",
    "# print(pair_list)\n",
    "print(true_count, false_count)\n"
   ]
  },
  {
   "cell_type": "code",
   "execution_count": 34,
   "metadata": {},
   "outputs": [
    {
     "data": {
      "text/plain": [
       "(70, 70)"
      ]
     },
     "execution_count": 34,
     "metadata": {},
     "output_type": "execute_result"
    }
   ],
   "source": [
    "len(real_trend_list) , len(trend_list)"
   ]
  },
  {
   "cell_type": "code",
   "execution_count": 35,
   "metadata": {},
   "outputs": [
    {
     "data": {
      "text/plain": [
       "0.5428571428571428"
      ]
     },
     "execution_count": 35,
     "metadata": {},
     "output_type": "execute_result"
    }
   ],
   "source": [
    "accuracy = true_count/ len(predict_y)\n",
    "accuracy\n",
    "#0.6657303370786517"
   ]
  },
  {
   "cell_type": "code",
   "execution_count": 36,
   "metadata": {},
   "outputs": [
    {
     "name": "stdout",
     "output_type": "stream",
     "text": [
      "预测数据 Counter({0: 47, -1: 13, 1: 10})\n",
      "真实数据 Counter({0: 45, 1: 16, -1: 9})\n"
     ]
    }
   ],
   "source": [
    "from collections import Counter\n",
    "\n",
    "result = Counter(trend_list)\n",
    "print (\"预测数据\", result)\n",
    "result = Counter(real_trend_list)\n",
    "print (\"真实数据\", result)"
   ]
  },
  {
   "cell_type": "code",
   "execution_count": 37,
   "metadata": {},
   "outputs": [
    {
     "name": "stdout",
     "output_type": "stream",
     "text": [
      "_________________________________________________________________\n",
      "Layer (type)                 Output Shape              Param #   \n",
      "=================================================================\n",
      "lstm_1 (LSTM)                (None, None, 20)          2640      \n",
      "_________________________________________________________________\n",
      "dropout_1 (Dropout)          (None, None, 20)          0         \n",
      "_________________________________________________________________\n",
      "lstm_2 (LSTM)                (None, 100)               48400     \n",
      "_________________________________________________________________\n",
      "dropout_2 (Dropout)          (None, 100)               0         \n",
      "_________________________________________________________________\n",
      "dense_1 (Dense)              (None, 1)                 101       \n",
      "_________________________________________________________________\n",
      "activation_1 (Activation)    (None, 1)                 0         \n",
      "=================================================================\n",
      "Total params: 51,141\n",
      "Trainable params: 51,141\n",
      "Non-trainable params: 0\n",
      "_________________________________________________________________\n"
     ]
    }
   ],
   "source": [
    "model.summary()"
   ]
  },
  {
   "cell_type": "markdown",
   "metadata": {},
   "source": [
    "### 画 accuracy图和trend图"
   ]
  },
  {
   "cell_type": "code",
   "execution_count": 38,
   "metadata": {},
   "outputs": [],
   "source": [
    "%matplotlib qt\n",
    "plt.clf()\n",
    "# fig2 = plt.figure()\n",
    "plt.plot(predict_y, 'b-',label = 'predict ave change')\n",
    "plt.plot(test_y, 'r-', label = 'true ave change')\n",
    "plt.title('Model without Sentiment Analysis change price prediction')\n",
    "plt.xlabel('Days')\n",
    "plt.ylabel('change price')\n",
    "plt.legend()\n",
    "plt.show()"
   ]
  },
  {
   "cell_type": "code",
   "execution_count": 39,
   "metadata": {},
   "outputs": [
    {
     "data": {
      "text/html": [
       "<div>\n",
       "<style scoped>\n",
       "    .dataframe tbody tr th:only-of-type {\n",
       "        vertical-align: middle;\n",
       "    }\n",
       "\n",
       "    .dataframe tbody tr th {\n",
       "        vertical-align: top;\n",
       "    }\n",
       "\n",
       "    .dataframe thead th {\n",
       "        text-align: right;\n",
       "    }\n",
       "</style>\n",
       "<table border=\"1\" class=\"dataframe\">\n",
       "  <thead>\n",
       "    <tr style=\"text-align: right;\">\n",
       "      <th></th>\n",
       "      <th>0</th>\n",
       "      <th>0</th>\n",
       "    </tr>\n",
       "  </thead>\n",
       "  <tbody>\n",
       "    <tr>\n",
       "      <th>0</th>\n",
       "      <td>1</td>\n",
       "      <td>1</td>\n",
       "    </tr>\n",
       "    <tr>\n",
       "      <th>1</th>\n",
       "      <td>0</td>\n",
       "      <td>0</td>\n",
       "    </tr>\n",
       "    <tr>\n",
       "      <th>2</th>\n",
       "      <td>0</td>\n",
       "      <td>0</td>\n",
       "    </tr>\n",
       "    <tr>\n",
       "      <th>3</th>\n",
       "      <td>1</td>\n",
       "      <td>0</td>\n",
       "    </tr>\n",
       "    <tr>\n",
       "      <th>4</th>\n",
       "      <td>0</td>\n",
       "      <td>0</td>\n",
       "    </tr>\n",
       "  </tbody>\n",
       "</table>\n",
       "</div>"
      ],
      "text/plain": [
       "   0  0\n",
       "0  1  1\n",
       "1  0  0\n",
       "2  0  0\n",
       "3  1  0\n",
       "4  0  0"
      ]
     },
     "execution_count": 39,
     "metadata": {},
     "output_type": "execute_result"
    }
   ],
   "source": [
    "real_df = pd.DataFrame(real_trend_list)\n",
    "pred_df = pd.DataFrame(trend_list)\n",
    "acc_df = pd.concat((real_df[0],pred_df[0]), axis=1)\n",
    "acc_df.head(5)"
   ]
  },
  {
   "cell_type": "code",
   "execution_count": 40,
   "metadata": {},
   "outputs": [],
   "source": [
    "temp_list = []\n",
    "temp_df =  real_df[0] - pred_df[0]\n",
    "for i in range(0, len(temp_df)):\n",
    "    temp_list.append([i, temp_df[i]])"
   ]
  },
  {
   "cell_type": "code",
   "execution_count": 41,
   "metadata": {},
   "outputs": [],
   "source": [
    "%matplotlib qt\n",
    "plt.clf()\n",
    "# plt.figure()\n",
    "plt.scatter( *zip(*temp_list), )\n",
    "# plt.scatter(real_df.index.values, pred_df[0],color='blue', marker='^')\n",
    "# plt.scatter(real_df.index.values, real_df[0],color='red', marker='.')\n",
    "plt.title('Model without Sentiment Analysis = {}'.format(accuracy))\n",
    "plt.xlabel('Days')\n",
    "plt.ylabel('Trend Prediction')\n",
    "plt.show()"
   ]
  },
  {
   "cell_type": "code",
   "execution_count": 42,
   "metadata": {},
   "outputs": [],
   "source": [
    "acc_df.to_csv('outputtrendwithoutsentiment.csv', index = False)"
   ]
  },
  {
   "cell_type": "code",
   "execution_count": null,
   "metadata": {},
   "outputs": [],
   "source": []
  }
 ],
 "metadata": {
  "kernelspec": {
   "display_name": "Python 3",
   "language": "python",
   "name": "python3"
  },
  "language_info": {
   "codemirror_mode": {
    "name": "ipython",
    "version": 3
   },
   "file_extension": ".py",
   "mimetype": "text/x-python",
   "name": "python",
   "nbconvert_exporter": "python",
   "pygments_lexer": "ipython3",
   "version": "3.6.5"
  }
 },
 "nbformat": 4,
 "nbformat_minor": 2
}
