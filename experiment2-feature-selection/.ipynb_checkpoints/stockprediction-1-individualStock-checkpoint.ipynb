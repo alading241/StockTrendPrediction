{
 "cells": [
  {
   "cell_type": "markdown",
   "metadata": {},
   "source": [
    "##### 三类股票分类，\n",
    "##### 使用未来三天的平均change来作为标签值y，并用0.33, 0.67分位值作为三类标签的划分边界\n",
    "\n",
    "##### 数据: 基本指标 \n",
    "##### 模型:  LSTM\n"
   ]
  },
  {
   "cell_type": "code",
   "execution_count": 1,
   "metadata": {},
   "outputs": [
    {
     "name": "stderr",
     "output_type": "stream",
     "text": [
      "d:\\ProgramData\\Anaconda3\\lib\\site-packages\\h5py\\__init__.py:36: FutureWarning: Conversion of the second argument of issubdtype from `float` to `np.floating` is deprecated. In future, it will be treated as `np.float64 == np.dtype(float).type`.\n",
      "  from ._conv import register_converters as _register_converters\n",
      "Using TensorFlow backend.\n"
     ]
    }
   ],
   "source": [
    "import pandas as pd\n",
    "from pandas import DataFrame\n",
    "import numpy as np\n",
    "from numpy import row_stack,column_stack\n",
    "import matplotlib.pyplot as plt\n",
    "from matplotlib.dates import DateFormatter, WeekdayLocator, DayLocator, MONDAY,YEARLY\n",
    "# from mpl_finance import quotes_historical_yahoo_ohlc, candlestick_ohlc\n",
    "from matplotlib.pylab import date2num\n",
    "from sklearn.preprocessing import MinMaxScaler,StandardScaler\n",
    "from keras.models import Sequential\n",
    "from keras.layers import LSTM, Dense, Activation,Dropout\n",
    "import tushare as ts\n",
    "import datetime\n",
    "import time"
   ]
  },
  {
   "cell_type": "markdown",
   "metadata": {},
   "source": [
    "### softmax三类分类写不出来，用回归代替"
   ]
  },
  {
   "cell_type": "markdown",
   "metadata": {},
   "source": [
    "### 加工数据"
   ]
  },
  {
   "cell_type": "code",
   "execution_count": 2,
   "metadata": {},
   "outputs": [
    {
     "data": {
      "text/html": [
       "<div>\n",
       "<style scoped>\n",
       "    .dataframe tbody tr th:only-of-type {\n",
       "        vertical-align: middle;\n",
       "    }\n",
       "\n",
       "    .dataframe tbody tr th {\n",
       "        vertical-align: top;\n",
       "    }\n",
       "\n",
       "    .dataframe thead th {\n",
       "        text-align: right;\n",
       "    }\n",
       "</style>\n",
       "<table border=\"1\" class=\"dataframe\">\n",
       "  <thead>\n",
       "    <tr style=\"text-align: right;\">\n",
       "      <th></th>\n",
       "      <th>ts_code</th>\n",
       "      <th>trade_date</th>\n",
       "      <th>open</th>\n",
       "      <th>high</th>\n",
       "      <th>low</th>\n",
       "      <th>close</th>\n",
       "      <th>pre_close</th>\n",
       "      <th>change</th>\n",
       "      <th>pct_chg</th>\n",
       "      <th>vol</th>\n",
       "      <th>amount</th>\n",
       "    </tr>\n",
       "  </thead>\n",
       "  <tbody>\n",
       "    <tr>\n",
       "      <th>0</th>\n",
       "      <td>000002.SZ</td>\n",
       "      <td>20110701</td>\n",
       "      <td>8.43</td>\n",
       "      <td>8.81</td>\n",
       "      <td>8.40</td>\n",
       "      <td>8.68</td>\n",
       "      <td>8.45</td>\n",
       "      <td>0.23</td>\n",
       "      <td>2.72</td>\n",
       "      <td>1277998.67</td>\n",
       "      <td>1.105772e+06</td>\n",
       "    </tr>\n",
       "    <tr>\n",
       "      <th>1</th>\n",
       "      <td>000002.SZ</td>\n",
       "      <td>20110704</td>\n",
       "      <td>8.73</td>\n",
       "      <td>8.97</td>\n",
       "      <td>8.68</td>\n",
       "      <td>8.71</td>\n",
       "      <td>8.68</td>\n",
       "      <td>0.03</td>\n",
       "      <td>0.35</td>\n",
       "      <td>832629.39</td>\n",
       "      <td>7.328196e+05</td>\n",
       "    </tr>\n",
       "    <tr>\n",
       "      <th>2</th>\n",
       "      <td>000002.SZ</td>\n",
       "      <td>20110705</td>\n",
       "      <td>8.71</td>\n",
       "      <td>9.02</td>\n",
       "      <td>8.71</td>\n",
       "      <td>8.84</td>\n",
       "      <td>8.71</td>\n",
       "      <td>0.13</td>\n",
       "      <td>1.49</td>\n",
       "      <td>1470530.64</td>\n",
       "      <td>1.307364e+06</td>\n",
       "    </tr>\n",
       "    <tr>\n",
       "      <th>3</th>\n",
       "      <td>000002.SZ</td>\n",
       "      <td>20110706</td>\n",
       "      <td>8.85</td>\n",
       "      <td>8.88</td>\n",
       "      <td>8.71</td>\n",
       "      <td>8.82</td>\n",
       "      <td>8.84</td>\n",
       "      <td>-0.02</td>\n",
       "      <td>-0.23</td>\n",
       "      <td>609540.69</td>\n",
       "      <td>5.355945e+05</td>\n",
       "    </tr>\n",
       "    <tr>\n",
       "      <th>4</th>\n",
       "      <td>000002.SZ</td>\n",
       "      <td>20110707</td>\n",
       "      <td>8.84</td>\n",
       "      <td>8.98</td>\n",
       "      <td>8.55</td>\n",
       "      <td>8.77</td>\n",
       "      <td>8.82</td>\n",
       "      <td>-0.05</td>\n",
       "      <td>-0.57</td>\n",
       "      <td>846650.10</td>\n",
       "      <td>7.444219e+05</td>\n",
       "    </tr>\n",
       "  </tbody>\n",
       "</table>\n",
       "</div>"
      ],
      "text/plain": [
       "     ts_code  trade_date  open  high   low  close  pre_close  change  pct_chg  \\\n",
       "0  000002.SZ    20110701  8.43  8.81  8.40   8.68       8.45    0.23     2.72   \n",
       "1  000002.SZ    20110704  8.73  8.97  8.68   8.71       8.68    0.03     0.35   \n",
       "2  000002.SZ    20110705  8.71  9.02  8.71   8.84       8.71    0.13     1.49   \n",
       "3  000002.SZ    20110706  8.85  8.88  8.71   8.82       8.84   -0.02    -0.23   \n",
       "4  000002.SZ    20110707  8.84  8.98  8.55   8.77       8.82   -0.05    -0.57   \n",
       "\n",
       "          vol        amount  \n",
       "0  1277998.67  1.105772e+06  \n",
       "1   832629.39  7.328196e+05  \n",
       "2  1470530.64  1.307364e+06  \n",
       "3   609540.69  5.355945e+05  \n",
       "4   846650.10  7.444219e+05  "
      ]
     },
     "execution_count": 2,
     "metadata": {},
     "output_type": "execute_result"
    }
   ],
   "source": [
    "ts.set_token('29ea8fa19e717f1a3d3618796f87067ee07219783a9e01422eb90ef8')\n",
    "pro = ts.pro_api()\n",
    "\n",
    "# df = ts.get_hist_data('601318',start='2009-01-01',end='2018-01-12') #一次性获取全部日k线数据\n",
    "df = pro.daily(ts_code='000002.SZ', start_date = '20110701', end_date = '20181118')\n",
    "df = df.iloc[::-1]\n",
    "df.head()\n",
    "\n",
    "df.to_csv('Vanke-from-20110701-to-20181118.csv', index=False)\n",
    "\n",
    "df = pd.read_csv('Vanke-from-20110701-to-20181118.csv')\n",
    "df.head()\n",
    "\n",
    "\n"
   ]
  },
  {
   "cell_type": "code",
   "execution_count": 3,
   "metadata": {},
   "outputs": [],
   "source": [
    "input_data = df[['open','high','low','pre_close','change','pct_chg','vol','amount','close']]"
   ]
  },
  {
   "cell_type": "code",
   "execution_count": 4,
   "metadata": {},
   "outputs": [],
   "source": [
    "# input_data['change'].quantile([0.33,0.5, 0.67,])\n",
    "quantile033 = input_data['change'].quantile([0.33]).iloc[0]\n",
    "quantile067 = input_data['change'].quantile([0.67]).iloc[0]"
   ]
  },
  {
   "cell_type": "code",
   "execution_count": 5,
   "metadata": {},
   "outputs": [
    {
     "data": {
      "text/plain": [
       "(-0.1, 0.09)"
      ]
     },
     "execution_count": 5,
     "metadata": {},
     "output_type": "execute_result"
    }
   ],
   "source": [
    "quantile033, quantile067"
   ]
  },
  {
   "cell_type": "code",
   "execution_count": 6,
   "metadata": {},
   "outputs": [
    {
     "data": {
      "text/plain": [
       "-0.01"
      ]
     },
     "execution_count": 6,
     "metadata": {},
     "output_type": "execute_result"
    }
   ],
   "source": [
    "input_data['change'].median()"
   ]
  },
  {
   "cell_type": "code",
   "execution_count": 7,
   "metadata": {},
   "outputs": [],
   "source": [
    "data = input_data['change'].quantile([0.33,])"
   ]
  },
  {
   "cell_type": "code",
   "execution_count": 8,
   "metadata": {},
   "outputs": [
    {
     "data": {
      "text/plain": [
       "-0.1"
      ]
     },
     "execution_count": 8,
     "metadata": {},
     "output_type": "execute_result"
    }
   ],
   "source": [
    "data.iloc[0]"
   ]
  },
  {
   "cell_type": "code",
   "execution_count": 9,
   "metadata": {},
   "outputs": [],
   "source": [
    "change = input_data['change']"
   ]
  },
  {
   "cell_type": "code",
   "execution_count": 10,
   "metadata": {},
   "outputs": [],
   "source": [
    "ave_change_column = [ ]\n",
    "for i in range(0, len(change)):\n",
    "    if i >= len(change) - 3:\n",
    "        ave_change = change[i]\n",
    "        \n",
    "    else:\n",
    "        ave_change = (change[i+1] + change[i+2] + change[i+3]) / 3\n",
    "    \n",
    "    ave_change_column.append(ave_change)\n",
    "#     if ave_change < quantile033:\n",
    "#         trend_column.append(-1)\n",
    "#     elif quantile033 <= ave_change <= quantile067:\n",
    "#         trend_column.append(0)\n",
    "#     else:\n",
    "#         trend_column.append(1)\n"
   ]
  },
  {
   "cell_type": "code",
   "execution_count": 11,
   "metadata": {},
   "outputs": [
    {
     "data": {
      "text/plain": [
       "(1645, 1645)"
      ]
     },
     "execution_count": 11,
     "metadata": {},
     "output_type": "execute_result"
    }
   ],
   "source": [
    "len(change) , len(ave_change_column)"
   ]
  },
  {
   "cell_type": "code",
   "execution_count": 12,
   "metadata": {},
   "outputs": [
    {
     "name": "stderr",
     "output_type": "stream",
     "text": [
      "d:\\ProgramData\\Anaconda3\\lib\\site-packages\\ipykernel_launcher.py:1: SettingWithCopyWarning: \n",
      "A value is trying to be set on a copy of a slice from a DataFrame.\n",
      "Try using .loc[row_indexer,col_indexer] = value instead\n",
      "\n",
      "See the caveats in the documentation: http://pandas.pydata.org/pandas-docs/stable/indexing.html#indexing-view-versus-copy\n",
      "  \"\"\"Entry point for launching an IPython kernel.\n"
     ]
    }
   ],
   "source": [
    "input_data['ave_change'] = ave_change_column"
   ]
  },
  {
   "cell_type": "code",
   "execution_count": 13,
   "metadata": {},
   "outputs": [
    {
     "data": {
      "text/html": [
       "<div>\n",
       "<style scoped>\n",
       "    .dataframe tbody tr th:only-of-type {\n",
       "        vertical-align: middle;\n",
       "    }\n",
       "\n",
       "    .dataframe tbody tr th {\n",
       "        vertical-align: top;\n",
       "    }\n",
       "\n",
       "    .dataframe thead th {\n",
       "        text-align: right;\n",
       "    }\n",
       "</style>\n",
       "<table border=\"1\" class=\"dataframe\">\n",
       "  <thead>\n",
       "    <tr style=\"text-align: right;\">\n",
       "      <th></th>\n",
       "      <th>open</th>\n",
       "      <th>high</th>\n",
       "      <th>low</th>\n",
       "      <th>pre_close</th>\n",
       "      <th>change</th>\n",
       "      <th>pct_chg</th>\n",
       "      <th>vol</th>\n",
       "      <th>amount</th>\n",
       "      <th>close</th>\n",
       "      <th>ave_change</th>\n",
       "    </tr>\n",
       "  </thead>\n",
       "  <tbody>\n",
       "    <tr>\n",
       "      <th>0</th>\n",
       "      <td>8.43</td>\n",
       "      <td>8.81</td>\n",
       "      <td>8.40</td>\n",
       "      <td>8.45</td>\n",
       "      <td>0.23</td>\n",
       "      <td>2.72</td>\n",
       "      <td>1277998.67</td>\n",
       "      <td>1.105772e+06</td>\n",
       "      <td>8.68</td>\n",
       "      <td>0.046667</td>\n",
       "    </tr>\n",
       "    <tr>\n",
       "      <th>1</th>\n",
       "      <td>8.73</td>\n",
       "      <td>8.97</td>\n",
       "      <td>8.68</td>\n",
       "      <td>8.68</td>\n",
       "      <td>0.03</td>\n",
       "      <td>0.35</td>\n",
       "      <td>832629.39</td>\n",
       "      <td>7.328196e+05</td>\n",
       "      <td>8.71</td>\n",
       "      <td>0.020000</td>\n",
       "    </tr>\n",
       "    <tr>\n",
       "      <th>2</th>\n",
       "      <td>8.71</td>\n",
       "      <td>9.02</td>\n",
       "      <td>8.71</td>\n",
       "      <td>8.71</td>\n",
       "      <td>0.13</td>\n",
       "      <td>1.49</td>\n",
       "      <td>1470530.64</td>\n",
       "      <td>1.307364e+06</td>\n",
       "      <td>8.84</td>\n",
       "      <td>-0.006667</td>\n",
       "    </tr>\n",
       "    <tr>\n",
       "      <th>3</th>\n",
       "      <td>8.85</td>\n",
       "      <td>8.88</td>\n",
       "      <td>8.71</td>\n",
       "      <td>8.84</td>\n",
       "      <td>-0.02</td>\n",
       "      <td>-0.23</td>\n",
       "      <td>609540.69</td>\n",
       "      <td>5.355945e+05</td>\n",
       "      <td>8.82</td>\n",
       "      <td>-0.023333</td>\n",
       "    </tr>\n",
       "    <tr>\n",
       "      <th>4</th>\n",
       "      <td>8.84</td>\n",
       "      <td>8.98</td>\n",
       "      <td>8.55</td>\n",
       "      <td>8.82</td>\n",
       "      <td>-0.05</td>\n",
       "      <td>-0.57</td>\n",
       "      <td>846650.10</td>\n",
       "      <td>7.444219e+05</td>\n",
       "      <td>8.77</td>\n",
       "      <td>-0.090000</td>\n",
       "    </tr>\n",
       "    <tr>\n",
       "      <th>5</th>\n",
       "      <td>8.73</td>\n",
       "      <td>8.90</td>\n",
       "      <td>8.73</td>\n",
       "      <td>8.77</td>\n",
       "      <td>0.05</td>\n",
       "      <td>0.57</td>\n",
       "      <td>509852.92</td>\n",
       "      <td>4.501612e+05</td>\n",
       "      <td>8.82</td>\n",
       "      <td>-0.070000</td>\n",
       "    </tr>\n",
       "    <tr>\n",
       "      <th>6</th>\n",
       "      <td>8.75</td>\n",
       "      <td>8.78</td>\n",
       "      <td>8.60</td>\n",
       "      <td>8.82</td>\n",
       "      <td>-0.07</td>\n",
       "      <td>-0.79</td>\n",
       "      <td>426939.43</td>\n",
       "      <td>3.718344e+05</td>\n",
       "      <td>8.75</td>\n",
       "      <td>-0.056667</td>\n",
       "    </tr>\n",
       "    <tr>\n",
       "      <th>7</th>\n",
       "      <td>8.66</td>\n",
       "      <td>8.67</td>\n",
       "      <td>8.42</td>\n",
       "      <td>8.75</td>\n",
       "      <td>-0.25</td>\n",
       "      <td>-2.86</td>\n",
       "      <td>621564.65</td>\n",
       "      <td>5.294945e+05</td>\n",
       "      <td>8.50</td>\n",
       "      <td>-0.023333</td>\n",
       "    </tr>\n",
       "    <tr>\n",
       "      <th>8</th>\n",
       "      <td>8.49</td>\n",
       "      <td>8.71</td>\n",
       "      <td>8.47</td>\n",
       "      <td>8.50</td>\n",
       "      <td>0.11</td>\n",
       "      <td>1.29</td>\n",
       "      <td>426684.23</td>\n",
       "      <td>3.665039e+05</td>\n",
       "      <td>8.61</td>\n",
       "      <td>-0.083333</td>\n",
       "    </tr>\n",
       "    <tr>\n",
       "      <th>9</th>\n",
       "      <td>8.62</td>\n",
       "      <td>8.71</td>\n",
       "      <td>8.51</td>\n",
       "      <td>8.61</td>\n",
       "      <td>-0.03</td>\n",
       "      <td>-0.35</td>\n",
       "      <td>440302.90</td>\n",
       "      <td>3.784174e+05</td>\n",
       "      <td>8.58</td>\n",
       "      <td>-0.030000</td>\n",
       "    </tr>\n",
       "    <tr>\n",
       "      <th>10</th>\n",
       "      <td>8.40</td>\n",
       "      <td>8.50</td>\n",
       "      <td>8.28</td>\n",
       "      <td>8.58</td>\n",
       "      <td>-0.15</td>\n",
       "      <td>-1.75</td>\n",
       "      <td>715408.76</td>\n",
       "      <td>5.996058e+05</td>\n",
       "      <td>8.43</td>\n",
       "      <td>0.013333</td>\n",
       "    </tr>\n",
       "    <tr>\n",
       "      <th>11</th>\n",
       "      <td>8.39</td>\n",
       "      <td>8.39</td>\n",
       "      <td>8.24</td>\n",
       "      <td>8.43</td>\n",
       "      <td>-0.07</td>\n",
       "      <td>-0.83</td>\n",
       "      <td>618290.38</td>\n",
       "      <td>5.139481e+05</td>\n",
       "      <td>8.36</td>\n",
       "      <td>0.013333</td>\n",
       "    </tr>\n",
       "    <tr>\n",
       "      <th>12</th>\n",
       "      <td>8.28</td>\n",
       "      <td>8.55</td>\n",
       "      <td>8.25</td>\n",
       "      <td>8.36</td>\n",
       "      <td>0.13</td>\n",
       "      <td>1.56</td>\n",
       "      <td>848732.40</td>\n",
       "      <td>7.167716e+05</td>\n",
       "      <td>8.49</td>\n",
       "      <td>-0.023333</td>\n",
       "    </tr>\n",
       "    <tr>\n",
       "      <th>13</th>\n",
       "      <td>8.50</td>\n",
       "      <td>8.54</td>\n",
       "      <td>8.42</td>\n",
       "      <td>8.49</td>\n",
       "      <td>-0.02</td>\n",
       "      <td>-0.24</td>\n",
       "      <td>296115.05</td>\n",
       "      <td>2.509155e+05</td>\n",
       "      <td>8.47</td>\n",
       "      <td>-0.110000</td>\n",
       "    </tr>\n",
       "    <tr>\n",
       "      <th>14</th>\n",
       "      <td>8.48</td>\n",
       "      <td>8.51</td>\n",
       "      <td>8.33</td>\n",
       "      <td>8.47</td>\n",
       "      <td>-0.07</td>\n",
       "      <td>-0.83</td>\n",
       "      <td>292770.29</td>\n",
       "      <td>2.460653e+05</td>\n",
       "      <td>8.40</td>\n",
       "      <td>-0.066667</td>\n",
       "    </tr>\n",
       "  </tbody>\n",
       "</table>\n",
       "</div>"
      ],
      "text/plain": [
       "    open  high   low  pre_close  change  pct_chg         vol        amount  \\\n",
       "0   8.43  8.81  8.40       8.45    0.23     2.72  1277998.67  1.105772e+06   \n",
       "1   8.73  8.97  8.68       8.68    0.03     0.35   832629.39  7.328196e+05   \n",
       "2   8.71  9.02  8.71       8.71    0.13     1.49  1470530.64  1.307364e+06   \n",
       "3   8.85  8.88  8.71       8.84   -0.02    -0.23   609540.69  5.355945e+05   \n",
       "4   8.84  8.98  8.55       8.82   -0.05    -0.57   846650.10  7.444219e+05   \n",
       "5   8.73  8.90  8.73       8.77    0.05     0.57   509852.92  4.501612e+05   \n",
       "6   8.75  8.78  8.60       8.82   -0.07    -0.79   426939.43  3.718344e+05   \n",
       "7   8.66  8.67  8.42       8.75   -0.25    -2.86   621564.65  5.294945e+05   \n",
       "8   8.49  8.71  8.47       8.50    0.11     1.29   426684.23  3.665039e+05   \n",
       "9   8.62  8.71  8.51       8.61   -0.03    -0.35   440302.90  3.784174e+05   \n",
       "10  8.40  8.50  8.28       8.58   -0.15    -1.75   715408.76  5.996058e+05   \n",
       "11  8.39  8.39  8.24       8.43   -0.07    -0.83   618290.38  5.139481e+05   \n",
       "12  8.28  8.55  8.25       8.36    0.13     1.56   848732.40  7.167716e+05   \n",
       "13  8.50  8.54  8.42       8.49   -0.02    -0.24   296115.05  2.509155e+05   \n",
       "14  8.48  8.51  8.33       8.47   -0.07    -0.83   292770.29  2.460653e+05   \n",
       "\n",
       "    close  ave_change  \n",
       "0    8.68    0.046667  \n",
       "1    8.71    0.020000  \n",
       "2    8.84   -0.006667  \n",
       "3    8.82   -0.023333  \n",
       "4    8.77   -0.090000  \n",
       "5    8.82   -0.070000  \n",
       "6    8.75   -0.056667  \n",
       "7    8.50   -0.023333  \n",
       "8    8.61   -0.083333  \n",
       "9    8.58   -0.030000  \n",
       "10   8.43    0.013333  \n",
       "11   8.36    0.013333  \n",
       "12   8.49   -0.023333  \n",
       "13   8.47   -0.110000  \n",
       "14   8.40   -0.066667  "
      ]
     },
     "execution_count": 13,
     "metadata": {},
     "output_type": "execute_result"
    }
   ],
   "source": [
    "input_data.head(15)"
   ]
  },
  {
   "cell_type": "code",
   "execution_count": 14,
   "metadata": {},
   "outputs": [],
   "source": [
    "data = input_data.values\n",
    "\n",
    "dd1=input_data.sort_index()\n",
    "\n",
    "dd2=dd1.values.flatten()\n",
    "\n",
    "dd3=pd.DataFrame(dd1['close'])"
   ]
  },
  {
   "cell_type": "code",
   "execution_count": 15,
   "metadata": {},
   "outputs": [],
   "source": [
    "def load_data(df, sequence_length=30, split=0.8):\n",
    "    # 转为float型\n",
    "    data_all = np.array(df.astype(float))\n",
    "    # 标准化\n",
    "    x_scaler = MinMaxScaler()\n",
    "    data_all[:, :-1] = x_scaler.fit_transform(data_all[:, :-1])\n",
    "    data = []\n",
    "    for i in range(len(data_all) - sequence_length - 1):\n",
    "        data.append(data_all[i: i + sequence_length + 1])\n",
    "    reshaped_data = np.array(data).astype('float64')\n",
    "    x = reshaped_data[:, :-1]\n",
    "    y = reshaped_data[:, -1][:, -1]\n",
    "    scaler = MinMaxScaler()\n",
    "    y = scaler.fit_transform(y.reshape(-1, 1))\n",
    "    split_boundary = int(reshaped_data.shape[0] * split)\n",
    "    train_x = x[: split_boundary]\n",
    "    test_x = x[split_boundary:]\n",
    "\n",
    "    train_y = y[: split_boundary]\n",
    "    test_y = y[split_boundary:]\n",
    "\n",
    "    return train_x, train_y, test_x, test_y, scaler"
   ]
  },
  {
   "cell_type": "code",
   "execution_count": 16,
   "metadata": {},
   "outputs": [],
   "source": [
    "def build_model(layers):\n",
    "    model = Sequential()\n",
    "\n",
    "    # By setting return_sequences to True we are able to stack another LSTM layer\n",
    "    model.add(LSTM(\n",
    "        input_dim=layers[0],\n",
    "        output_dim=layers[1],\n",
    "        return_sequences=True))\n",
    "    model.add(Dropout(0.5))\n",
    "\n",
    "    model.add(LSTM(\n",
    "        layers[2],\n",
    "        return_sequences=False))\n",
    "    model.add(Dropout(0.4))\n",
    "\n",
    "    model.add(Dense(\n",
    "        output_dim=layers[3]))\n",
    "    model.add(Activation(\"linear\"))\n",
    "\n",
    "    start = time.time()\n",
    "    model.compile(loss=\"mse\", optimizer=\"rmsprop\", metrics=['accuracy'])\n",
    "    print(\"Compilation Time : \", time.time() - start)\n",
    "    return model"
   ]
  },
  {
   "cell_type": "code",
   "execution_count": 17,
   "metadata": {},
   "outputs": [],
   "source": [
    "def train_model(train_x, train_y, test_x, test_y):\n",
    "    model = build_model([train_x.shape[2], train_x.shape[1], 100, 1])\n",
    "\n",
    "    try:\n",
    "        model.fit(train_x, train_y, batch_size=40, nb_epoch=100, validation_split=0.1)\n",
    "        predict = model.predict(test_x)\n",
    "        predict = np.reshape(predict, (predict.size, ))\n",
    "    except KeyboardInterrupt:\n",
    "        print(predict)\n",
    "        print(test_y)\n",
    "#     print(predict)\n",
    "#     print(test_y)\n",
    "    try:\n",
    "        fig = plt.figure(1)\n",
    "        plt.plot(predict, 'r:')\n",
    "        plt.plot(test_y, 'g-')\n",
    "        plt.legend(['predict', 'true'])\n",
    "    except Exception as e:\n",
    "        print(e)\n",
    "    return predict, test_y , model"
   ]
  },
  {
   "cell_type": "code",
   "execution_count": 18,
   "metadata": {},
   "outputs": [],
   "source": [
    "train_x, train_y, test_x, test_y, scaler =load_data(dd1, sequence_length=10, split=0.8)"
   ]
  },
  {
   "cell_type": "code",
   "execution_count": 19,
   "metadata": {},
   "outputs": [
    {
     "name": "stdout",
     "output_type": "stream",
     "text": [
      "train_x (1307, 10, 10)\n",
      "train_y (1307, 1)\n",
      "test_x (327, 10, 10)\n",
      "test_y (327, 1)\n"
     ]
    }
   ],
   "source": [
    "print(\"train_x\", train_x.shape)\n",
    "print(\"train_y\", train_y.shape)\n",
    "print(\"test_x\", test_x.shape)\n",
    "print(\"test_y\", test_y.shape)"
   ]
  },
  {
   "cell_type": "code",
   "execution_count": null,
   "metadata": {},
   "outputs": [
    {
     "name": "stderr",
     "output_type": "stream",
     "text": [
      "d:\\ProgramData\\Anaconda3\\lib\\site-packages\\ipykernel_launcher.py:8: UserWarning: The `input_dim` and `input_length` arguments in recurrent layers are deprecated. Use `input_shape` instead.\n",
      "  \n",
      "d:\\ProgramData\\Anaconda3\\lib\\site-packages\\ipykernel_launcher.py:8: UserWarning: Update your `LSTM` call to the Keras 2 API: `LSTM(return_sequences=True, input_shape=(None, 10), units=10)`\n",
      "  \n",
      "d:\\ProgramData\\Anaconda3\\lib\\site-packages\\ipykernel_launcher.py:17: UserWarning: Update your `Dense` call to the Keras 2 API: `Dense(units=1)`\n",
      "d:\\ProgramData\\Anaconda3\\lib\\site-packages\\ipykernel_launcher.py:5: UserWarning: The `nb_epoch` argument in `fit` has been renamed `epochs`.\n",
      "  \"\"\"\n"
     ]
    },
    {
     "name": "stdout",
     "output_type": "stream",
     "text": [
      "Compilation Time :  0.03790712356567383\n",
      "Train on 1176 samples, validate on 131 samples\n",
      "Epoch 1/100\n",
      "1176/1176 [==============================] - 2s 2ms/step - loss: 0.0238 - acc: 8.5034e-04 - val_loss: 0.0072 - val_acc: 0.0000e+00\n",
      "Epoch 2/100\n",
      "1176/1176 [==============================] - 0s 297us/step - loss: 0.0077 - acc: 8.5034e-04 - val_loss: 0.0153 - val_acc: 0.0000e+00\n",
      "Epoch 3/100\n",
      "1176/1176 [==============================] - 0s 294us/step - loss: 0.0068 - acc: 8.5034e-04 - val_loss: 0.0074 - val_acc: 0.0000e+00\n",
      "Epoch 4/100\n",
      "1176/1176 [==============================] - 0s 392us/step - loss: 0.0060 - acc: 8.5034e-04 - val_loss: 0.0079 - val_acc: 0.0000e+00\n",
      "Epoch 5/100\n",
      "1176/1176 [==============================] - 0s 312us/step - loss: 0.0055 - acc: 8.5034e-04 - val_loss: 0.0060 - val_acc: 0.0000e+00\n",
      "Epoch 6/100\n",
      "1176/1176 [==============================] - 0s 309us/step - loss: 0.0058 - acc: 8.5034e-04 - val_loss: 0.0113 - val_acc: 0.0000e+00\n",
      "Epoch 7/100\n",
      "1176/1176 [==============================] - 0s 318us/step - loss: 0.0057 - acc: 8.5034e-04 - val_loss: 0.0054 - val_acc: 0.0000e+00\n",
      "Epoch 8/100\n",
      "1176/1176 [==============================] - 0s 299us/step - loss: 0.0050 - acc: 8.5034e-04 - val_loss: 0.0068 - val_acc: 0.0000e+00\n",
      "Epoch 9/100\n",
      "1176/1176 [==============================] - 0s 295us/step - loss: 0.0050 - acc: 8.5034e-04 - val_loss: 0.0049 - val_acc: 0.0000e+00\n",
      "Epoch 10/100\n",
      "1176/1176 [==============================] - 0s 296us/step - loss: 0.0047 - acc: 8.5034e-04 - val_loss: 0.0079 - val_acc: 0.0000e+00\n",
      "Epoch 11/100\n",
      "1176/1176 [==============================] - 0s 299us/step - loss: 0.0050 - acc: 8.5034e-04 - val_loss: 0.0087 - val_acc: 0.0000e+00\n",
      "Epoch 12/100\n",
      "1176/1176 [==============================] - 0s 304us/step - loss: 0.0045 - acc: 8.5034e-04 - val_loss: 0.0048 - val_acc: 0.0000e+00\n",
      "Epoch 13/100\n",
      "1176/1176 [==============================] - 0s 325us/step - loss: 0.0045 - acc: 8.5034e-04 - val_loss: 0.0078 - val_acc: 0.0000e+00\n",
      "Epoch 14/100\n",
      "1176/1176 [==============================] - 0s 295us/step - loss: 0.0047 - acc: 8.5034e-04 - val_loss: 0.0056 - val_acc: 0.0000e+00\n",
      "Epoch 15/100\n",
      "1176/1176 [==============================] - 0s 336us/step - loss: 0.0047 - acc: 8.5034e-04 - val_loss: 0.0055 - val_acc: 0.0000e+00\n",
      "Epoch 16/100\n",
      "1176/1176 [==============================] - 0s 314us/step - loss: 0.0043 - acc: 8.5034e-04 - val_loss: 0.0045 - val_acc: 0.0000e+00\n",
      "Epoch 17/100\n",
      "1176/1176 [==============================] - 0s 303us/step - loss: 0.0041 - acc: 8.5034e-04 - val_loss: 0.0050 - val_acc: 0.0000e+00\n",
      "Epoch 18/100\n",
      "1176/1176 [==============================] - 0s 313us/step - loss: 0.0043 - acc: 8.5034e-04 - val_loss: 0.0050 - val_acc: 0.0000e+00\n",
      "Epoch 19/100\n",
      "1176/1176 [==============================] - 0s 311us/step - loss: 0.0043 - acc: 8.5034e-04 - val_loss: 0.0064 - val_acc: 0.0000e+00\n",
      "Epoch 20/100\n",
      "1176/1176 [==============================] - 0s 312us/step - loss: 0.0039 - acc: 8.5034e-04 - val_loss: 0.0045 - val_acc: 0.0000e+00\n",
      "Epoch 21/100\n",
      "1176/1176 [==============================] - 0s 301us/step - loss: 0.0039 - acc: 8.5034e-04 - val_loss: 0.0042 - val_acc: 0.0000e+00\n",
      "Epoch 22/100\n",
      "1176/1176 [==============================] - 0s 329us/step - loss: 0.0039 - acc: 8.5034e-04 - val_loss: 0.0042 - val_acc: 0.0000e+00\n",
      "Epoch 23/100\n",
      "1176/1176 [==============================] - 0s 328us/step - loss: 0.0037 - acc: 8.5034e-04 - val_loss: 0.0048 - val_acc: 0.0000e+00\n",
      "Epoch 24/100\n",
      "1176/1176 [==============================] - 0s 336us/step - loss: 0.0039 - acc: 8.5034e-04 - val_loss: 0.0048 - val_acc: 0.0000e+00\n",
      "Epoch 25/100\n",
      "1176/1176 [==============================] - 0s 315us/step - loss: 0.0034 - acc: 8.5034e-04 - val_loss: 0.0039 - val_acc: 0.0000e+00\n",
      "Epoch 26/100\n",
      "1176/1176 [==============================] - 0s 374us/step - loss: 0.0036 - acc: 8.5034e-04 - val_loss: 0.0035 - val_acc: 0.0000e+00\n",
      "Epoch 27/100\n",
      "1176/1176 [==============================] - 0s 332us/step - loss: 0.0035 - acc: 8.5034e-04 - val_loss: 0.0037 - val_acc: 0.0000e+00\n",
      "Epoch 28/100\n",
      "1176/1176 [==============================] - 0s 328us/step - loss: 0.0032 - acc: 0.0017 - val_loss: 0.0033 - val_acc: 0.0000e+00\n",
      "Epoch 29/100\n",
      "1176/1176 [==============================] - 0s 349us/step - loss: 0.0032 - acc: 0.0017 - val_loss: 0.0031 - val_acc: 0.0000e+00\n",
      "Epoch 30/100\n",
      "1176/1176 [==============================] - 0s 331us/step - loss: 0.0031 - acc: 0.0017 - val_loss: 0.0032 - val_acc: 0.0000e+00\n",
      "Epoch 31/100\n",
      "1176/1176 [==============================] - 1s 554us/step - loss: 0.0028 - acc: 8.5034e-04 - val_loss: 0.0030 - val_acc: 0.0000e+00\n",
      "Epoch 32/100\n",
      "1176/1176 [==============================] - 0s 343us/step - loss: 0.0029 - acc: 0.0017 - val_loss: 0.0029 - val_acc: 0.0000e+00\n",
      "Epoch 33/100\n",
      "1176/1176 [==============================] - 0s 410us/step - loss: 0.0031 - acc: 0.0017 - val_loss: 0.0033 - val_acc: 0.0000e+00\n",
      "Epoch 34/100\n",
      "1176/1176 [==============================] - 0s 374us/step - loss: 0.0029 - acc: 0.0017 - val_loss: 0.0032 - val_acc: 0.0000e+00\n",
      "Epoch 35/100\n",
      "1176/1176 [==============================] - 0s 401us/step - loss: 0.0026 - acc: 0.0017 - val_loss: 0.0031 - val_acc: 0.0000e+00\n",
      "Epoch 36/100\n",
      "1176/1176 [==============================] - 0s 294us/step - loss: 0.0027 - acc: 0.0017 - val_loss: 0.0030 - val_acc: 0.0000e+00\n",
      "Epoch 37/100\n",
      "1176/1176 [==============================] - 0s 304us/step - loss: 0.0027 - acc: 0.0017 - val_loss: 0.0029 - val_acc: 0.0000e+00\n",
      "Epoch 38/100\n",
      "1176/1176 [==============================] - 0s 313us/step - loss: 0.0026 - acc: 0.0017 - val_loss: 0.0032 - val_acc: 0.0000e+00\n",
      "Epoch 39/100\n",
      "1176/1176 [==============================] - 0s 310us/step - loss: 0.0025 - acc: 0.0017 - val_loss: 0.0028 - val_acc: 0.0000e+00\n",
      "Epoch 40/100\n",
      "1176/1176 [==============================] - 0s 330us/step - loss: 0.0025 - acc: 0.0017 - val_loss: 0.0030 - val_acc: 0.0000e+00\n",
      "Epoch 41/100\n",
      "1176/1176 [==============================] - 0s 362us/step - loss: 0.0027 - acc: 0.0017 - val_loss: 0.0031 - val_acc: 0.0000e+00\n",
      "Epoch 42/100\n",
      "1176/1176 [==============================] - 0s 384us/step - loss: 0.0024 - acc: 0.0017 - val_loss: 0.0028 - val_acc: 0.0000e+00\n",
      "Epoch 43/100\n",
      " 200/1176 [====>.........................] - ETA: 0s - loss: 0.0027 - acc: 0.0050"
     ]
    }
   ],
   "source": [
    "predict_y, test_y, model = train_model(train_x, train_y, test_x, test_y)\n",
    "predict_y = scaler.inverse_transform([[i] for i in predict_y])\n",
    "test_y = scaler.inverse_transform(test_y)\n",
    "fig2 = plt.figure(2)\n",
    "plt.plot(predict_y, 'g:')\n",
    "plt.plot(test_y, 'r-')\n",
    "plt.show()\n"
   ]
  },
  {
   "cell_type": "code",
   "execution_count": null,
   "metadata": {
    "scrolled": true
   },
   "outputs": [],
   "source": [
    "trend_list = [1,]\n",
    "for i in range(1, len(predict_y)):\n",
    "    if predict_y[i] <= quantile033:\n",
    "        trend_list.append(-1)\n",
    "    elif quantile033 <= predict_y[i] <= quantile067:\n",
    "        trend_list.append(0)\n",
    "    else:\n",
    "        trend_list.append(1)\n",
    "\n",
    "real_trend_list = [1,]\n",
    "for i in range(1, len(test_y)):\n",
    "    if test_y[i] <= quantile033:\n",
    "        real_trend_list.append(-1)\n",
    "    elif quantile033 <= test_y[i] <= quantile067:\n",
    "        real_trend_list.append(0)\n",
    "    else:\n",
    "        real_trend_list.append(1)\n",
    "        \n",
    "#     if ave_change < quantile033:\n",
    "#         trend_column.append(-1)\n",
    "#     elif quantile033 <= ave_change <= quantile067:\n",
    "#         trend_column.append(0)\n",
    "#     else:\n",
    "#         trend_column.append(1)\n",
    "\n",
    "true_count = 0\n",
    "false_count = 0\n",
    "\n",
    "\n",
    "print(len(test_y), len(predict_y))\n",
    "\n",
    "pair_list = []\n",
    "\n",
    "for i in range(len(predict_y)-1):\n",
    "    pair_list.append([real_trend_list[i], trend_list[i]])\n",
    "    if real_trend_list[i] == trend_list[i]:\n",
    "        true_count = true_count + 1\n",
    "    else:\n",
    "        false_count = false_count + 1\n",
    "\n",
    "# print(pair_list)\n",
    "print(true_count, false_count)\n"
   ]
  },
  {
   "cell_type": "code",
   "execution_count": null,
   "metadata": {},
   "outputs": [],
   "source": [
    "len(real_trend_list) , len(trend_list)"
   ]
  },
  {
   "cell_type": "code",
   "execution_count": null,
   "metadata": {},
   "outputs": [],
   "source": [
    "accuracy = true_count/ len(predict_y)\n",
    "accuracy"
   ]
  },
  {
   "cell_type": "code",
   "execution_count": null,
   "metadata": {},
   "outputs": [],
   "source": [
    "from collections import Counter\n",
    "\n",
    "result = Counter(trend_list)\n",
    "print (\"预测数据\", result)\n",
    "result = Counter(real_trend_list)\n",
    "print (\"真实数据\", result)"
   ]
  },
  {
   "cell_type": "code",
   "execution_count": null,
   "metadata": {},
   "outputs": [],
   "source": [
    "# count = 0\n",
    "# for i in predict_y:\n",
    "#     if quantile033 < i < quantile067:\n",
    "#         count += 1\n",
    "\n",
    "# print(count)"
   ]
  },
  {
   "cell_type": "code",
   "execution_count": null,
   "metadata": {},
   "outputs": [],
   "source": [
    "model.summary()"
   ]
  },
  {
   "cell_type": "code",
   "execution_count": null,
   "metadata": {},
   "outputs": [],
   "source": [
    "real_df = pd.DataFrame(real_trend_list)\n",
    "pred_df = pd.DataFrame(trend_list)\n",
    "acc_df = pd.concat((real_df[0],pred_df[0]), axis=1)\n",
    "acc_df"
   ]
  },
  {
   "cell_type": "code",
   "execution_count": null,
   "metadata": {},
   "outputs": [],
   "source": [
    "temp_list = []\n",
    "temp_df =  real_df[0] - pred_df[0]\n",
    "for i in range(0, len(temp_df)):\n",
    "    temp_list.append([i, temp_df[i]])"
   ]
  },
  {
   "cell_type": "code",
   "execution_count": null,
   "metadata": {},
   "outputs": [],
   "source": [
    "%matplotlib qt\n",
    "plt.clf()\n",
    "plt.figure()\n",
    "plt.scatter( *zip(*temp_list), )\n",
    "# plt.scatter(real_df.index.values, pred_df[0],color='blue', marker='^')\n",
    "# plt.scatter(real_df.index.values, real_df[0],color='red', marker='.')\n",
    "plt.title('Trend Prediction Accuracy of individual Index = {}'.format(accuracy))\n",
    "plt.xlabel('Days')\n",
    "plt.ylabel('Trend Prediction')\n",
    "plt.show()"
   ]
  },
  {
   "cell_type": "code",
   "execution_count": null,
   "metadata": {},
   "outputs": [],
   "source": [
    "%matplotlib qt\n",
    "plt.clf()\n",
    "fig2 = plt.figure()\n",
    "plt.plot(predict_y, 'b-',label = 'predict ave change')\n",
    "plt.plot(test_y, 'r-', label = 'true ave change')\n",
    "plt.title('individual index model change price prediction')\n",
    "plt.xlabel('Days')\n",
    "plt.ylabel('change price')\n",
    "plt.legend()\n",
    "plt.show()"
   ]
  },
  {
   "cell_type": "code",
   "execution_count": null,
   "metadata": {},
   "outputs": [],
   "source": [
    "df.head()"
   ]
  },
  {
   "cell_type": "code",
   "execution_count": null,
   "metadata": {},
   "outputs": [],
   "source": [
    "df.shape, input_data.shape"
   ]
  },
  {
   "cell_type": "code",
   "execution_count": null,
   "metadata": {},
   "outputs": [],
   "source": [
    "new_data = df.copy()\n",
    "new_data['ave_change'] = input_data['ave_change']"
   ]
  },
  {
   "cell_type": "code",
   "execution_count": null,
   "metadata": {},
   "outputs": [],
   "source": [
    "train_x.shape, test_x.shape"
   ]
  },
  {
   "cell_type": "code",
   "execution_count": null,
   "metadata": {},
   "outputs": [],
   "source": [
    "new_data.head()"
   ]
  },
  {
   "cell_type": "code",
   "execution_count": null,
   "metadata": {},
   "outputs": [],
   "source": [
    "new_data['ave_change'].iloc[1317:].head(20)"
   ]
  },
  {
   "cell_type": "code",
   "execution_count": null,
   "metadata": {},
   "outputs": [],
   "source": [
    "test_y[0:20] , predict_y[0:5]"
   ]
  },
  {
   "cell_type": "code",
   "execution_count": null,
   "metadata": {},
   "outputs": [],
   "source": [
    "save_data = new_data[1317:-1]"
   ]
  },
  {
   "cell_type": "code",
   "execution_count": null,
   "metadata": {},
   "outputs": [],
   "source": [
    "save_data.shape , test_x.shape, predict_y.shape , len(trend_list), len(real_trend_list)"
   ]
  },
  {
   "cell_type": "code",
   "execution_count": null,
   "metadata": {},
   "outputs": [],
   "source": [
    "save_data['pred_ave_change'] = predict_y"
   ]
  },
  {
   "cell_type": "code",
   "execution_count": null,
   "metadata": {},
   "outputs": [],
   "source": [
    "save_data['real_trend'] = real_trend_list\n",
    "save_data['pred_trend'] = trend_list"
   ]
  },
  {
   "cell_type": "code",
   "execution_count": null,
   "metadata": {},
   "outputs": [],
   "source": [
    "save_data.head()"
   ]
  },
  {
   "cell_type": "code",
   "execution_count": null,
   "metadata": {},
   "outputs": [],
   "source": [
    "save_data.to_csv('1-Result-Vanke-from-20110701-to-20181118.csv', index=False)"
   ]
  },
  {
   "cell_type": "code",
   "execution_count": null,
   "metadata": {},
   "outputs": [],
   "source": [
    "from keras.utils.vis_utils import plot_model\n",
    "plot_model(model, to_file='model1.png', show_shapes=True)"
   ]
  },
  {
   "cell_type": "code",
   "execution_count": null,
   "metadata": {},
   "outputs": [],
   "source": [
    "from graphviz import Digraph"
   ]
  },
  {
   "cell_type": "code",
   "execution_count": null,
   "metadata": {},
   "outputs": [],
   "source": []
  }
 ],
 "metadata": {
  "kernelspec": {
   "display_name": "Python 3",
   "language": "python",
   "name": "python3"
  },
  "language_info": {
   "codemirror_mode": {
    "name": "ipython",
    "version": 3
   },
   "file_extension": ".py",
   "mimetype": "text/x-python",
   "name": "python",
   "nbconvert_exporter": "python",
   "pygments_lexer": "ipython3",
   "version": "3.6.5"
  }
 },
 "nbformat": 4,
 "nbformat_minor": 2
}
