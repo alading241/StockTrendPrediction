{
 "cells": [
  {
   "cell_type": "markdown",
   "metadata": {},
   "source": [
    "##### 三类股票分类，\n",
    "##### 使用未来三天的平均change来作为标签值y，并用0.33, 0.67分位值作为三类标签的划分边界\n",
    "\n",
    "##### 数据: 基本指标 \n",
    "##### 模型: SVR 和  random select"
   ]
  },
  {
   "cell_type": "code",
   "execution_count": 1,
   "metadata": {},
   "outputs": [],
   "source": [
    "# 引入头文件\n",
    "from sklearn.datasets import load_boston\n",
    "from sklearn.model_selection import train_test_split\n",
    "from sklearn.preprocessing import StandardScaler\n",
    "from sklearn.svm import SVR\n",
    "from sklearn.metrics import r2_score, mean_squared_error, mean_absolute_error, accuracy_score\n",
    "import numpy as np\n",
    "from sklearn.model_selection import GridSearchCV"
   ]
  },
  {
   "cell_type": "code",
   "execution_count": 2,
   "metadata": {},
   "outputs": [
    {
     "name": "stderr",
     "output_type": "stream",
     "text": [
      "d:\\ProgramData\\Anaconda3\\lib\\site-packages\\h5py\\__init__.py:36: FutureWarning: Conversion of the second argument of issubdtype from `float` to `np.floating` is deprecated. In future, it will be treated as `np.float64 == np.dtype(float).type`.\n",
      "  from ._conv import register_converters as _register_converters\n",
      "Using TensorFlow backend.\n"
     ]
    }
   ],
   "source": [
    "import tensorflow as tf\n",
    "import pandas as pd\n",
    "from pandas import DataFrame\n",
    "import numpy as np\n",
    "from numpy import row_stack,column_stack\n",
    "import matplotlib.pyplot as plt\n",
    "from matplotlib.dates import DateFormatter, WeekdayLocator, DayLocator, MONDAY,YEARLY\n",
    "# from mpl_finance import quotes_historical_yahoo_ohlc, candlestick_ohlc\n",
    "from matplotlib.pylab import date2num\n",
    "from sklearn.preprocessing import MinMaxScaler,StandardScaler\n",
    "from keras.models import Sequential\n",
    "from keras.layers import LSTM, Dense, Activation,Dropout\n",
    "import tushare as ts\n",
    "import datetime\n",
    "import time"
   ]
  },
  {
   "cell_type": "code",
   "execution_count": 3,
   "metadata": {},
   "outputs": [],
   "source": [
    "ts.set_token('29ea8fa19e717f1a3d3618796f87067ee07219783a9e01422eb90ef8')\n",
    "pro = ts.pro_api()\n",
    "\n",
    "# df = ts.get_hist_data('601318',start='2009-01-01',end='2018-01-12') #一次性获取全部日k线数据\n",
    "df = pro.daily(ts_code='601318.SH', start_date = '20110101', end_date = '20181118')\n",
    "df = df.iloc[::-1]\n",
    "df.head()\n",
    "\n",
    "df.to_csv('Pingan-from-20110101-to-20181118.csv', index=False)\n",
    "\n",
    "df = pd.read_csv('Pingan-from-20110101-to-20181118.csv')\n",
    "df.head()\n",
    "\n",
    "input_data = df[['open','high','low','pre_close','change','pct_chg','vol','amount','close']]\n"
   ]
  },
  {
   "cell_type": "code",
   "execution_count": 4,
   "metadata": {},
   "outputs": [],
   "source": [
    "# input_data['change'].quantile([0.33,0.5, 0.67,])\n",
    "quantile033 = input_data['change'].quantile([0.33]).iloc[0]\n",
    "quantile067 = input_data['change'].quantile([0.67]).iloc[0]"
   ]
  },
  {
   "cell_type": "code",
   "execution_count": 5,
   "metadata": {},
   "outputs": [],
   "source": [
    "change = input_data['change']\n",
    "ave_change_column = [ ]\n",
    "for i in range(0, len(change)):\n",
    "    if i >= len(change) - 3:\n",
    "        ave_change = change[i]\n",
    "        \n",
    "    else:\n",
    "        ave_change = (change[i+1] + change[i+2] + change[i+3]) / 3\n",
    "    \n",
    "    ave_change_column.append(ave_change)"
   ]
  },
  {
   "cell_type": "code",
   "execution_count": 6,
   "metadata": {},
   "outputs": [
    {
     "name": "stderr",
     "output_type": "stream",
     "text": [
      "d:\\ProgramData\\Anaconda3\\lib\\site-packages\\ipykernel_launcher.py:1: SettingWithCopyWarning: \n",
      "A value is trying to be set on a copy of a slice from a DataFrame.\n",
      "Try using .loc[row_indexer,col_indexer] = value instead\n",
      "\n",
      "See the caveats in the documentation: http://pandas.pydata.org/pandas-docs/stable/indexing.html#indexing-view-versus-copy\n",
      "  \"\"\"Entry point for launching an IPython kernel.\n"
     ]
    }
   ],
   "source": [
    "input_data['ave_change'] = ave_change_column"
   ]
  },
  {
   "cell_type": "code",
   "execution_count": 7,
   "metadata": {},
   "outputs": [
    {
     "data": {
      "text/html": [
       "<div>\n",
       "<style scoped>\n",
       "    .dataframe tbody tr th:only-of-type {\n",
       "        vertical-align: middle;\n",
       "    }\n",
       "\n",
       "    .dataframe tbody tr th {\n",
       "        vertical-align: top;\n",
       "    }\n",
       "\n",
       "    .dataframe thead th {\n",
       "        text-align: right;\n",
       "    }\n",
       "</style>\n",
       "<table border=\"1\" class=\"dataframe\">\n",
       "  <thead>\n",
       "    <tr style=\"text-align: right;\">\n",
       "      <th></th>\n",
       "      <th>open</th>\n",
       "      <th>high</th>\n",
       "      <th>low</th>\n",
       "      <th>pre_close</th>\n",
       "      <th>change</th>\n",
       "      <th>pct_chg</th>\n",
       "      <th>vol</th>\n",
       "      <th>amount</th>\n",
       "      <th>close</th>\n",
       "      <th>ave_change</th>\n",
       "    </tr>\n",
       "  </thead>\n",
       "  <tbody>\n",
       "    <tr>\n",
       "      <th>0</th>\n",
       "      <td>56.85</td>\n",
       "      <td>57.60</td>\n",
       "      <td>56.50</td>\n",
       "      <td>56.16</td>\n",
       "      <td>0.75</td>\n",
       "      <td>1.34</td>\n",
       "      <td>245626.82</td>\n",
       "      <td>1400499.338</td>\n",
       "      <td>56.91</td>\n",
       "      <td>-1.300000</td>\n",
       "    </tr>\n",
       "    <tr>\n",
       "      <th>1</th>\n",
       "      <td>56.59</td>\n",
       "      <td>56.80</td>\n",
       "      <td>54.80</td>\n",
       "      <td>56.91</td>\n",
       "      <td>-2.05</td>\n",
       "      <td>-3.60</td>\n",
       "      <td>427554.25</td>\n",
       "      <td>2368305.774</td>\n",
       "      <td>54.86</td>\n",
       "      <td>-0.943333</td>\n",
       "    </tr>\n",
       "    <tr>\n",
       "      <th>2</th>\n",
       "      <td>54.94</td>\n",
       "      <td>54.94</td>\n",
       "      <td>51.45</td>\n",
       "      <td>54.86</td>\n",
       "      <td>-2.27</td>\n",
       "      <td>-4.14</td>\n",
       "      <td>947078.65</td>\n",
       "      <td>4971851.955</td>\n",
       "      <td>52.59</td>\n",
       "      <td>-0.156667</td>\n",
       "    </tr>\n",
       "    <tr>\n",
       "      <th>3</th>\n",
       "      <td>52.97</td>\n",
       "      <td>54.25</td>\n",
       "      <td>51.80</td>\n",
       "      <td>52.59</td>\n",
       "      <td>0.42</td>\n",
       "      <td>0.80</td>\n",
       "      <td>659013.87</td>\n",
       "      <td>3494756.547</td>\n",
       "      <td>53.01</td>\n",
       "      <td>-0.006667</td>\n",
       "    </tr>\n",
       "    <tr>\n",
       "      <th>4</th>\n",
       "      <td>52.90</td>\n",
       "      <td>53.90</td>\n",
       "      <td>51.90</td>\n",
       "      <td>53.01</td>\n",
       "      <td>-0.98</td>\n",
       "      <td>-1.85</td>\n",
       "      <td>282919.36</td>\n",
       "      <td>1494174.281</td>\n",
       "      <td>52.03</td>\n",
       "      <td>0.316667</td>\n",
       "    </tr>\n",
       "    <tr>\n",
       "      <th>5</th>\n",
       "      <td>51.84</td>\n",
       "      <td>52.55</td>\n",
       "      <td>51.70</td>\n",
       "      <td>52.03</td>\n",
       "      <td>0.09</td>\n",
       "      <td>0.17</td>\n",
       "      <td>258047.33</td>\n",
       "      <td>1343674.168</td>\n",
       "      <td>52.12</td>\n",
       "      <td>-0.046667</td>\n",
       "    </tr>\n",
       "    <tr>\n",
       "      <th>6</th>\n",
       "      <td>52.27</td>\n",
       "      <td>53.20</td>\n",
       "      <td>52.00</td>\n",
       "      <td>52.12</td>\n",
       "      <td>0.87</td>\n",
       "      <td>1.67</td>\n",
       "      <td>225559.26</td>\n",
       "      <td>1189009.625</td>\n",
       "      <td>52.99</td>\n",
       "      <td>-1.046667</td>\n",
       "    </tr>\n",
       "    <tr>\n",
       "      <th>7</th>\n",
       "      <td>53.22</td>\n",
       "      <td>53.44</td>\n",
       "      <td>52.55</td>\n",
       "      <td>52.99</td>\n",
       "      <td>-0.01</td>\n",
       "      <td>-0.02</td>\n",
       "      <td>195120.49</td>\n",
       "      <td>1034239.321</td>\n",
       "      <td>52.98</td>\n",
       "      <td>-0.993333</td>\n",
       "    </tr>\n",
       "    <tr>\n",
       "      <th>8</th>\n",
       "      <td>52.71</td>\n",
       "      <td>52.92</td>\n",
       "      <td>51.80</td>\n",
       "      <td>52.98</td>\n",
       "      <td>-1.00</td>\n",
       "      <td>-1.89</td>\n",
       "      <td>154439.85</td>\n",
       "      <td>806532.104</td>\n",
       "      <td>51.98</td>\n",
       "      <td>-0.433333</td>\n",
       "    </tr>\n",
       "    <tr>\n",
       "      <th>9</th>\n",
       "      <td>51.75</td>\n",
       "      <td>51.97</td>\n",
       "      <td>49.80</td>\n",
       "      <td>51.98</td>\n",
       "      <td>-2.13</td>\n",
       "      <td>-4.10</td>\n",
       "      <td>308565.65</td>\n",
       "      <td>1561578.586</td>\n",
       "      <td>49.85</td>\n",
       "      <td>-0.356667</td>\n",
       "    </tr>\n",
       "    <tr>\n",
       "      <th>10</th>\n",
       "      <td>49.86</td>\n",
       "      <td>50.55</td>\n",
       "      <td>49.55</td>\n",
       "      <td>49.85</td>\n",
       "      <td>0.15</td>\n",
       "      <td>0.30</td>\n",
       "      <td>180540.11</td>\n",
       "      <td>901698.013</td>\n",
       "      <td>50.00</td>\n",
       "      <td>-0.196667</td>\n",
       "    </tr>\n",
       "    <tr>\n",
       "      <th>11</th>\n",
       "      <td>50.00</td>\n",
       "      <td>50.78</td>\n",
       "      <td>49.81</td>\n",
       "      <td>50.00</td>\n",
       "      <td>0.68</td>\n",
       "      <td>1.36</td>\n",
       "      <td>178341.76</td>\n",
       "      <td>896464.529</td>\n",
       "      <td>50.68</td>\n",
       "      <td>-0.776667</td>\n",
       "    </tr>\n",
       "    <tr>\n",
       "      <th>12</th>\n",
       "      <td>50.79</td>\n",
       "      <td>50.84</td>\n",
       "      <td>48.74</td>\n",
       "      <td>50.68</td>\n",
       "      <td>-1.90</td>\n",
       "      <td>-3.75</td>\n",
       "      <td>221741.89</td>\n",
       "      <td>1106855.829</td>\n",
       "      <td>48.78</td>\n",
       "      <td>-0.093333</td>\n",
       "    </tr>\n",
       "    <tr>\n",
       "      <th>13</th>\n",
       "      <td>48.86</td>\n",
       "      <td>50.55</td>\n",
       "      <td>48.50</td>\n",
       "      <td>48.78</td>\n",
       "      <td>0.63</td>\n",
       "      <td>1.29</td>\n",
       "      <td>238048.44</td>\n",
       "      <td>1176531.357</td>\n",
       "      <td>49.41</td>\n",
       "      <td>-0.160000</td>\n",
       "    </tr>\n",
       "    <tr>\n",
       "      <th>14</th>\n",
       "      <td>49.70</td>\n",
       "      <td>49.70</td>\n",
       "      <td>48.00</td>\n",
       "      <td>49.41</td>\n",
       "      <td>-1.06</td>\n",
       "      <td>-2.15</td>\n",
       "      <td>252759.11</td>\n",
       "      <td>1226944.337</td>\n",
       "      <td>48.35</td>\n",
       "      <td>0.526667</td>\n",
       "    </tr>\n",
       "  </tbody>\n",
       "</table>\n",
       "</div>"
      ],
      "text/plain": [
       "     open   high    low  pre_close  change  pct_chg        vol       amount  \\\n",
       "0   56.85  57.60  56.50      56.16    0.75     1.34  245626.82  1400499.338   \n",
       "1   56.59  56.80  54.80      56.91   -2.05    -3.60  427554.25  2368305.774   \n",
       "2   54.94  54.94  51.45      54.86   -2.27    -4.14  947078.65  4971851.955   \n",
       "3   52.97  54.25  51.80      52.59    0.42     0.80  659013.87  3494756.547   \n",
       "4   52.90  53.90  51.90      53.01   -0.98    -1.85  282919.36  1494174.281   \n",
       "5   51.84  52.55  51.70      52.03    0.09     0.17  258047.33  1343674.168   \n",
       "6   52.27  53.20  52.00      52.12    0.87     1.67  225559.26  1189009.625   \n",
       "7   53.22  53.44  52.55      52.99   -0.01    -0.02  195120.49  1034239.321   \n",
       "8   52.71  52.92  51.80      52.98   -1.00    -1.89  154439.85   806532.104   \n",
       "9   51.75  51.97  49.80      51.98   -2.13    -4.10  308565.65  1561578.586   \n",
       "10  49.86  50.55  49.55      49.85    0.15     0.30  180540.11   901698.013   \n",
       "11  50.00  50.78  49.81      50.00    0.68     1.36  178341.76   896464.529   \n",
       "12  50.79  50.84  48.74      50.68   -1.90    -3.75  221741.89  1106855.829   \n",
       "13  48.86  50.55  48.50      48.78    0.63     1.29  238048.44  1176531.357   \n",
       "14  49.70  49.70  48.00      49.41   -1.06    -2.15  252759.11  1226944.337   \n",
       "\n",
       "    close  ave_change  \n",
       "0   56.91   -1.300000  \n",
       "1   54.86   -0.943333  \n",
       "2   52.59   -0.156667  \n",
       "3   53.01   -0.006667  \n",
       "4   52.03    0.316667  \n",
       "5   52.12   -0.046667  \n",
       "6   52.99   -1.046667  \n",
       "7   52.98   -0.993333  \n",
       "8   51.98   -0.433333  \n",
       "9   49.85   -0.356667  \n",
       "10  50.00   -0.196667  \n",
       "11  50.68   -0.776667  \n",
       "12  48.78   -0.093333  \n",
       "13  49.41   -0.160000  \n",
       "14  48.35    0.526667  "
      ]
     },
     "execution_count": 7,
     "metadata": {},
     "output_type": "execute_result"
    }
   ],
   "source": [
    "input_data.head(15)"
   ]
  },
  {
   "cell_type": "code",
   "execution_count": 8,
   "metadata": {},
   "outputs": [
    {
     "data": {
      "text/html": [
       "<div>\n",
       "<style scoped>\n",
       "    .dataframe tbody tr th:only-of-type {\n",
       "        vertical-align: middle;\n",
       "    }\n",
       "\n",
       "    .dataframe tbody tr th {\n",
       "        vertical-align: top;\n",
       "    }\n",
       "\n",
       "    .dataframe thead th {\n",
       "        text-align: right;\n",
       "    }\n",
       "</style>\n",
       "<table border=\"1\" class=\"dataframe\">\n",
       "  <thead>\n",
       "    <tr style=\"text-align: right;\">\n",
       "      <th></th>\n",
       "      <th>open</th>\n",
       "      <th>high</th>\n",
       "      <th>low</th>\n",
       "      <th>pre_close</th>\n",
       "      <th>change</th>\n",
       "      <th>pct_chg</th>\n",
       "      <th>vol</th>\n",
       "      <th>amount</th>\n",
       "      <th>close</th>\n",
       "    </tr>\n",
       "  </thead>\n",
       "  <tbody>\n",
       "    <tr>\n",
       "      <th>0</th>\n",
       "      <td>56.85</td>\n",
       "      <td>57.60</td>\n",
       "      <td>56.50</td>\n",
       "      <td>56.16</td>\n",
       "      <td>0.75</td>\n",
       "      <td>1.34</td>\n",
       "      <td>245626.82</td>\n",
       "      <td>1400499.338</td>\n",
       "      <td>56.91</td>\n",
       "    </tr>\n",
       "    <tr>\n",
       "      <th>1</th>\n",
       "      <td>56.59</td>\n",
       "      <td>56.80</td>\n",
       "      <td>54.80</td>\n",
       "      <td>56.91</td>\n",
       "      <td>-2.05</td>\n",
       "      <td>-3.60</td>\n",
       "      <td>427554.25</td>\n",
       "      <td>2368305.774</td>\n",
       "      <td>54.86</td>\n",
       "    </tr>\n",
       "    <tr>\n",
       "      <th>2</th>\n",
       "      <td>54.94</td>\n",
       "      <td>54.94</td>\n",
       "      <td>51.45</td>\n",
       "      <td>54.86</td>\n",
       "      <td>-2.27</td>\n",
       "      <td>-4.14</td>\n",
       "      <td>947078.65</td>\n",
       "      <td>4971851.955</td>\n",
       "      <td>52.59</td>\n",
       "    </tr>\n",
       "    <tr>\n",
       "      <th>3</th>\n",
       "      <td>52.97</td>\n",
       "      <td>54.25</td>\n",
       "      <td>51.80</td>\n",
       "      <td>52.59</td>\n",
       "      <td>0.42</td>\n",
       "      <td>0.80</td>\n",
       "      <td>659013.87</td>\n",
       "      <td>3494756.547</td>\n",
       "      <td>53.01</td>\n",
       "    </tr>\n",
       "    <tr>\n",
       "      <th>4</th>\n",
       "      <td>52.90</td>\n",
       "      <td>53.90</td>\n",
       "      <td>51.90</td>\n",
       "      <td>53.01</td>\n",
       "      <td>-0.98</td>\n",
       "      <td>-1.85</td>\n",
       "      <td>282919.36</td>\n",
       "      <td>1494174.281</td>\n",
       "      <td>52.03</td>\n",
       "    </tr>\n",
       "  </tbody>\n",
       "</table>\n",
       "</div>"
      ],
      "text/plain": [
       "    open   high    low  pre_close  change  pct_chg        vol       amount  \\\n",
       "0  56.85  57.60  56.50      56.16    0.75     1.34  245626.82  1400499.338   \n",
       "1  56.59  56.80  54.80      56.91   -2.05    -3.60  427554.25  2368305.774   \n",
       "2  54.94  54.94  51.45      54.86   -2.27    -4.14  947078.65  4971851.955   \n",
       "3  52.97  54.25  51.80      52.59    0.42     0.80  659013.87  3494756.547   \n",
       "4  52.90  53.90  51.90      53.01   -0.98    -1.85  282919.36  1494174.281   \n",
       "\n",
       "   close  \n",
       "0  56.91  \n",
       "1  54.86  \n",
       "2  52.59  \n",
       "3  53.01  \n",
       "4  52.03  "
      ]
     },
     "execution_count": 8,
     "metadata": {},
     "output_type": "execute_result"
    }
   ],
   "source": [
    "input_x = input_data.iloc[:, :9]\n",
    "input_y = input_data.iloc[:, 9]\n",
    "input_x.head()"
   ]
  },
  {
   "cell_type": "code",
   "execution_count": 9,
   "metadata": {},
   "outputs": [
    {
     "data": {
      "text/plain": [
       "0   -1.300000\n",
       "1   -0.943333\n",
       "2   -0.156667\n",
       "3   -0.006667\n",
       "4    0.316667\n",
       "Name: ave_change, dtype: float64"
      ]
     },
     "execution_count": 9,
     "metadata": {},
     "output_type": "execute_result"
    }
   ],
   "source": [
    "input_y.head()"
   ]
  },
  {
   "cell_type": "code",
   "execution_count": 10,
   "metadata": {},
   "outputs": [],
   "source": [
    "## 补0\n",
    "input_x.fillna(0 , inplace=True)\n",
    "# output_x.fillna(0, inplace=True)"
   ]
  },
  {
   "cell_type": "code",
   "execution_count": 11,
   "metadata": {},
   "outputs": [],
   "source": [
    "\n",
    "# 2 分割训练数据和测试数据\n",
    "# 随机采样25%作为测试 75%作为训练\n",
    "x_train, x_test, y_train, y_test = train_test_split(input_x, input_y, test_size=0.2, shuffle=False)\n",
    "\n",
    "# from sklearn.model_selection import train_test_split\n",
    "# train_test_split(X, y, test_size=0.2, shuffle=False)\n"
   ]
  },
  {
   "cell_type": "code",
   "execution_count": 12,
   "metadata": {},
   "outputs": [],
   "source": [
    "# x_test.head()"
   ]
  },
  {
   "cell_type": "code",
   "execution_count": 13,
   "metadata": {},
   "outputs": [],
   "source": [
    "# y_test[0:5]"
   ]
  },
  {
   "cell_type": "code",
   "execution_count": 14,
   "metadata": {},
   "outputs": [],
   "source": [
    "save_test_data = x_test.copy()\n",
    "save_test_data['ave_change'] = y_test"
   ]
  },
  {
   "cell_type": "code",
   "execution_count": 15,
   "metadata": {},
   "outputs": [],
   "source": [
    "\n",
    "# 3 训练数据和测试数据进行标准化处理\n",
    "ss_x = StandardScaler()\n",
    "x_train = ss_x.fit_transform(x_train)\n",
    "x_test = ss_x.transform(x_test)\n",
    "\n",
    "ss_y = StandardScaler()\n",
    "y_train = ss_y.fit_transform(y_train.values.reshape(-1, 1))\n",
    "y_test = ss_y.transform(y_test.values.reshape(-1, 1))"
   ]
  },
  {
   "cell_type": "code",
   "execution_count": 16,
   "metadata": {},
   "outputs": [],
   "source": [
    "# # 归一化\n",
    "# ss_x = StandardScaler()\n",
    "# input_x = ss_x.fit_transform(input_x)\n",
    "# output_x = ss_x.fit_transform(output_x)\n",
    "# ss_y = StandardScaler()\n",
    "# input_y = ss_y.fit_transform(input_y.values.reshape(-1, 1))"
   ]
  },
  {
   "cell_type": "code",
   "execution_count": 17,
   "metadata": {},
   "outputs": [
    {
     "name": "stderr",
     "output_type": "stream",
     "text": [
      "d:\\ProgramData\\Anaconda3\\lib\\site-packages\\sklearn\\utils\\validation.py:578: DataConversionWarning: A column-vector y was passed when a 1d array was expected. Please change the shape of y to (n_samples, ), for example using ravel().\n",
      "  y = column_or_1d(y, warn=True)\n",
      "d:\\ProgramData\\Anaconda3\\lib\\site-packages\\sklearn\\utils\\validation.py:578: DataConversionWarning: A column-vector y was passed when a 1d array was expected. Please change the shape of y to (n_samples, ), for example using ravel().\n",
      "  y = column_or_1d(y, warn=True)\n",
      "d:\\ProgramData\\Anaconda3\\lib\\site-packages\\sklearn\\utils\\validation.py:578: DataConversionWarning: A column-vector y was passed when a 1d array was expected. Please change the shape of y to (n_samples, ), for example using ravel().\n",
      "  y = column_or_1d(y, warn=True)\n",
      "d:\\ProgramData\\Anaconda3\\lib\\site-packages\\sklearn\\utils\\validation.py:578: DataConversionWarning: A column-vector y was passed when a 1d array was expected. Please change the shape of y to (n_samples, ), for example using ravel().\n",
      "  y = column_or_1d(y, warn=True)\n",
      "d:\\ProgramData\\Anaconda3\\lib\\site-packages\\sklearn\\utils\\validation.py:578: DataConversionWarning: A column-vector y was passed when a 1d array was expected. Please change the shape of y to (n_samples, ), for example using ravel().\n",
      "  y = column_or_1d(y, warn=True)\n",
      "d:\\ProgramData\\Anaconda3\\lib\\site-packages\\sklearn\\utils\\validation.py:578: DataConversionWarning: A column-vector y was passed when a 1d array was expected. Please change the shape of y to (n_samples, ), for example using ravel().\n",
      "  y = column_or_1d(y, warn=True)\n",
      "d:\\ProgramData\\Anaconda3\\lib\\site-packages\\sklearn\\utils\\validation.py:578: DataConversionWarning: A column-vector y was passed when a 1d array was expected. Please change the shape of y to (n_samples, ), for example using ravel().\n",
      "  y = column_or_1d(y, warn=True)\n",
      "d:\\ProgramData\\Anaconda3\\lib\\site-packages\\sklearn\\utils\\validation.py:578: DataConversionWarning: A column-vector y was passed when a 1d array was expected. Please change the shape of y to (n_samples, ), for example using ravel().\n",
      "  y = column_or_1d(y, warn=True)\n",
      "d:\\ProgramData\\Anaconda3\\lib\\site-packages\\sklearn\\utils\\validation.py:578: DataConversionWarning: A column-vector y was passed when a 1d array was expected. Please change the shape of y to (n_samples, ), for example using ravel().\n",
      "  y = column_or_1d(y, warn=True)\n",
      "d:\\ProgramData\\Anaconda3\\lib\\site-packages\\sklearn\\utils\\validation.py:578: DataConversionWarning: A column-vector y was passed when a 1d array was expected. Please change the shape of y to (n_samples, ), for example using ravel().\n",
      "  y = column_or_1d(y, warn=True)\n",
      "d:\\ProgramData\\Anaconda3\\lib\\site-packages\\sklearn\\utils\\validation.py:578: DataConversionWarning: A column-vector y was passed when a 1d array was expected. Please change the shape of y to (n_samples, ), for example using ravel().\n",
      "  y = column_or_1d(y, warn=True)\n",
      "d:\\ProgramData\\Anaconda3\\lib\\site-packages\\sklearn\\utils\\validation.py:578: DataConversionWarning: A column-vector y was passed when a 1d array was expected. Please change the shape of y to (n_samples, ), for example using ravel().\n",
      "  y = column_or_1d(y, warn=True)\n",
      "d:\\ProgramData\\Anaconda3\\lib\\site-packages\\sklearn\\utils\\validation.py:578: DataConversionWarning: A column-vector y was passed when a 1d array was expected. Please change the shape of y to (n_samples, ), for example using ravel().\n",
      "  y = column_or_1d(y, warn=True)\n",
      "d:\\ProgramData\\Anaconda3\\lib\\site-packages\\sklearn\\utils\\validation.py:578: DataConversionWarning: A column-vector y was passed when a 1d array was expected. Please change the shape of y to (n_samples, ), for example using ravel().\n",
      "  y = column_or_1d(y, warn=True)\n",
      "d:\\ProgramData\\Anaconda3\\lib\\site-packages\\sklearn\\utils\\validation.py:578: DataConversionWarning: A column-vector y was passed when a 1d array was expected. Please change the shape of y to (n_samples, ), for example using ravel().\n",
      "  y = column_or_1d(y, warn=True)\n",
      "d:\\ProgramData\\Anaconda3\\lib\\site-packages\\sklearn\\utils\\validation.py:578: DataConversionWarning: A column-vector y was passed when a 1d array was expected. Please change the shape of y to (n_samples, ), for example using ravel().\n",
      "  y = column_or_1d(y, warn=True)\n",
      "d:\\ProgramData\\Anaconda3\\lib\\site-packages\\sklearn\\utils\\validation.py:578: DataConversionWarning: A column-vector y was passed when a 1d array was expected. Please change the shape of y to (n_samples, ), for example using ravel().\n",
      "  y = column_or_1d(y, warn=True)\n",
      "d:\\ProgramData\\Anaconda3\\lib\\site-packages\\sklearn\\utils\\validation.py:578: DataConversionWarning: A column-vector y was passed when a 1d array was expected. Please change the shape of y to (n_samples, ), for example using ravel().\n",
      "  y = column_or_1d(y, warn=True)\n",
      "d:\\ProgramData\\Anaconda3\\lib\\site-packages\\sklearn\\utils\\validation.py:578: DataConversionWarning: A column-vector y was passed when a 1d array was expected. Please change the shape of y to (n_samples, ), for example using ravel().\n",
      "  y = column_or_1d(y, warn=True)\n",
      "d:\\ProgramData\\Anaconda3\\lib\\site-packages\\sklearn\\utils\\validation.py:578: DataConversionWarning: A column-vector y was passed when a 1d array was expected. Please change the shape of y to (n_samples, ), for example using ravel().\n",
      "  y = column_or_1d(y, warn=True)\n",
      "d:\\ProgramData\\Anaconda3\\lib\\site-packages\\sklearn\\utils\\validation.py:578: DataConversionWarning: A column-vector y was passed when a 1d array was expected. Please change the shape of y to (n_samples, ), for example using ravel().\n",
      "  y = column_or_1d(y, warn=True)\n",
      "d:\\ProgramData\\Anaconda3\\lib\\site-packages\\sklearn\\utils\\validation.py:578: DataConversionWarning: A column-vector y was passed when a 1d array was expected. Please change the shape of y to (n_samples, ), for example using ravel().\n",
      "  y = column_or_1d(y, warn=True)\n",
      "d:\\ProgramData\\Anaconda3\\lib\\site-packages\\sklearn\\utils\\validation.py:578: DataConversionWarning: A column-vector y was passed when a 1d array was expected. Please change the shape of y to (n_samples, ), for example using ravel().\n",
      "  y = column_or_1d(y, warn=True)\n",
      "d:\\ProgramData\\Anaconda3\\lib\\site-packages\\sklearn\\utils\\validation.py:578: DataConversionWarning: A column-vector y was passed when a 1d array was expected. Please change the shape of y to (n_samples, ), for example using ravel().\n",
      "  y = column_or_1d(y, warn=True)\n",
      "d:\\ProgramData\\Anaconda3\\lib\\site-packages\\sklearn\\utils\\validation.py:578: DataConversionWarning: A column-vector y was passed when a 1d array was expected. Please change the shape of y to (n_samples, ), for example using ravel().\n",
      "  y = column_or_1d(y, warn=True)\n",
      "d:\\ProgramData\\Anaconda3\\lib\\site-packages\\sklearn\\utils\\validation.py:578: DataConversionWarning: A column-vector y was passed when a 1d array was expected. Please change the shape of y to (n_samples, ), for example using ravel().\n",
      "  y = column_or_1d(y, warn=True)\n",
      "d:\\ProgramData\\Anaconda3\\lib\\site-packages\\sklearn\\utils\\validation.py:578: DataConversionWarning: A column-vector y was passed when a 1d array was expected. Please change the shape of y to (n_samples, ), for example using ravel().\n",
      "  y = column_or_1d(y, warn=True)\n",
      "d:\\ProgramData\\Anaconda3\\lib\\site-packages\\sklearn\\utils\\validation.py:578: DataConversionWarning: A column-vector y was passed when a 1d array was expected. Please change the shape of y to (n_samples, ), for example using ravel().\n",
      "  y = column_or_1d(y, warn=True)\n",
      "d:\\ProgramData\\Anaconda3\\lib\\site-packages\\sklearn\\utils\\validation.py:578: DataConversionWarning: A column-vector y was passed when a 1d array was expected. Please change the shape of y to (n_samples, ), for example using ravel().\n",
      "  y = column_or_1d(y, warn=True)\n",
      "d:\\ProgramData\\Anaconda3\\lib\\site-packages\\sklearn\\utils\\validation.py:578: DataConversionWarning: A column-vector y was passed when a 1d array was expected. Please change the shape of y to (n_samples, ), for example using ravel().\n",
      "  y = column_or_1d(y, warn=True)\n",
      "d:\\ProgramData\\Anaconda3\\lib\\site-packages\\sklearn\\utils\\validation.py:578: DataConversionWarning: A column-vector y was passed when a 1d array was expected. Please change the shape of y to (n_samples, ), for example using ravel().\n",
      "  y = column_or_1d(y, warn=True)\n",
      "d:\\ProgramData\\Anaconda3\\lib\\site-packages\\sklearn\\utils\\validation.py:578: DataConversionWarning: A column-vector y was passed when a 1d array was expected. Please change the shape of y to (n_samples, ), for example using ravel().\n",
      "  y = column_or_1d(y, warn=True)\n"
     ]
    },
    {
     "name": "stderr",
     "output_type": "stream",
     "text": [
      "d:\\ProgramData\\Anaconda3\\lib\\site-packages\\sklearn\\utils\\validation.py:578: DataConversionWarning: A column-vector y was passed when a 1d array was expected. Please change the shape of y to (n_samples, ), for example using ravel().\n",
      "  y = column_or_1d(y, warn=True)\n",
      "d:\\ProgramData\\Anaconda3\\lib\\site-packages\\sklearn\\utils\\validation.py:578: DataConversionWarning: A column-vector y was passed when a 1d array was expected. Please change the shape of y to (n_samples, ), for example using ravel().\n",
      "  y = column_or_1d(y, warn=True)\n",
      "d:\\ProgramData\\Anaconda3\\lib\\site-packages\\sklearn\\utils\\validation.py:578: DataConversionWarning: A column-vector y was passed when a 1d array was expected. Please change the shape of y to (n_samples, ), for example using ravel().\n",
      "  y = column_or_1d(y, warn=True)\n",
      "d:\\ProgramData\\Anaconda3\\lib\\site-packages\\sklearn\\utils\\validation.py:578: DataConversionWarning: A column-vector y was passed when a 1d array was expected. Please change the shape of y to (n_samples, ), for example using ravel().\n",
      "  y = column_or_1d(y, warn=True)\n"
     ]
    },
    {
     "name": "stdout",
     "output_type": "stream",
     "text": [
      "The best parameters are {'C': 0.1, 'gamma': 0.1} with a score of -0.00\n"
     ]
    },
    {
     "name": "stderr",
     "output_type": "stream",
     "text": [
      "d:\\ProgramData\\Anaconda3\\lib\\site-packages\\sklearn\\utils\\validation.py:578: DataConversionWarning: A column-vector y was passed when a 1d array was expected. Please change the shape of y to (n_samples, ), for example using ravel().\n",
      "  y = column_or_1d(y, warn=True)\n"
     ]
    }
   ],
   "source": [
    "from sklearn.model_selection import GridSearchCV\n",
    "grid = GridSearchCV(SVR(kernel=\"rbf\",), param_grid={\"C\":[0.1, 1, 10], \"gamma\": [1, 0.1, 0.01]}, cv=4)\n",
    "grid.fit(x_train, y_train)\n",
    "print(\"The best parameters are %s with a score of %0.2f\"\n",
    "      % (grid.best_params_, grid.best_score_))"
   ]
  },
  {
   "cell_type": "code",
   "execution_count": 67,
   "metadata": {},
   "outputs": [
    {
     "name": "stderr",
     "output_type": "stream",
     "text": [
      "d:\\ProgramData\\Anaconda3\\lib\\site-packages\\sklearn\\utils\\validation.py:578: DataConversionWarning: A column-vector y was passed when a 1d array was expected. Please change the shape of y to (n_samples, ), for example using ravel().\n",
      "  y = column_or_1d(y, warn=True)\n"
     ]
    }
   ],
   "source": [
    "###  TODO 调参\n",
    "# 4.1 支持向量机模型进行学习和预测\n",
    "# 线性核函数配置支持向量机\n",
    "# linear_svr = SVR(kernel=\"linear\")\n",
    "# 训练\n",
    "# 自动选择合适的参数\n",
    "# svr = GridSearchCV(SVR(), param_grid={\"kernel\": (\"linear\", 'rbf'), \"C\": np.logspace(-3, 3, 7), \"gamma\": np.logspace(-3, 3, 7)})\n",
    "svr = SVR(kernel=\"rbf\",C = 0.7, gamma = 1 )\n",
    "# svr.fit(x, y)\n",
    "svr.fit(x_train, y_train)\n",
    "# 预测 保存预测结果\n",
    "svr_y_predict = svr.predict(x_test)\n",
    "\n",
    "# 多项式核函数配置支持向量机 *** 可以配置参数\n",
    "poly_svr = SVR(kernel=\"rbf\",gamma = 0.1)\n",
    "# 训练\n",
    "poly_svr.fit(x_train, y_train)\n",
    "# 预测 保存预测结果\n",
    "poly_svr_y_predict = poly_svr.predict(x_test)"
   ]
  },
  {
   "cell_type": "code",
   "execution_count": 68,
   "metadata": {},
   "outputs": [
    {
     "data": {
      "text/plain": [
       "array([-0.17151828,  0.0207984 ,  0.00366343,  0.04340546, -0.0085338 ,\n",
       "       -0.01078955,  0.03542578,  0.03574891,  0.10399143, -0.15154713,\n",
       "        0.4465442 , -0.08144426, -0.07331847, -0.00753646, -0.03444357,\n",
       "       -0.06787806,  0.167507  , -0.18071999, -0.08689955,  0.2137406 ,\n",
       "        0.11561988,  0.05017115,  0.21698937, -0.09058896,  0.06835884,\n",
       "        0.27750986,  0.15406702, -0.12821875,  0.34668411,  0.43352012,\n",
       "        0.26744771, -0.11392559, -0.05233062,  0.18208389, -0.34390032,\n",
       "        0.27029893,  0.22282086,  0.23569578,  0.43251012,  0.34648682,\n",
       "        0.39128923, -0.07806478,  0.1883364 ,  0.27999159,  0.21121585,\n",
       "        0.06223206,  0.48466952,  0.48949447,  0.13951253,  0.19695549,\n",
       "        0.24478325,  0.15626591,  0.18398999,  0.10306169,  0.66036537,\n",
       "        0.0840425 ,  0.01247396, -0.11854508,  0.07653389,  0.31741509,\n",
       "       -0.04733089,  0.08857342,  0.0877528 , -0.00472785,  0.10533288,\n",
       "        0.24320582,  0.00506174, -0.00222643,  0.06331323, -0.0896506 ,\n",
       "       -0.17306512, -0.07660418, -0.045953  ,  0.01628106,  0.37821359,\n",
       "        0.27247119, -0.04318372,  0.05723777,  0.06511029,  0.0127166 ,\n",
       "       -0.12577897, -0.42344837, -0.26186367, -0.18019666, -0.03118023,\n",
       "       -0.75936123, -0.17789131, -0.30086469, -0.41206139, -0.24964348,\n",
       "       -0.38143906, -0.13832614, -0.34981143, -0.61636955,  0.03736577,\n",
       "       -0.48185838, -0.64232615, -0.04894408,  0.01558252,  0.03008169,\n",
       "       -0.14296994, -0.08480035, -0.06278147, -0.30745422, -0.16222253,\n",
       "       -0.42429088, -0.15301353, -0.40245777, -0.56694335,  0.12453442,\n",
       "        0.219673  , -0.30356898, -0.09326825, -0.38802014, -0.06581003,\n",
       "       -0.35942652, -0.11345201,  0.00183082, -0.05553774, -0.3307999 ,\n",
       "        0.04503115, -0.14142494,  0.20838604,  0.10479759,  0.57499513,\n",
       "        0.16536685,  0.33014226,  0.3809602 ,  0.29684962,  0.36439042,\n",
       "        0.60457867,  0.38956772,  0.10398911,  0.13953012, -0.02725195,\n",
       "       -0.08430597,  0.01127644,  0.11202054,  0.06918832,  0.30348478,\n",
       "       -0.04956248,  0.14075967,  0.2304559 ,  0.45257592, -0.12158636,\n",
       "        0.12690002, -0.01126196,  0.12097153, -0.13170048,  0.37033071,\n",
       "        0.30907638, -0.13820701,  0.23552506,  0.17407184,  0.00167634,\n",
       "        0.17854546, -0.06211044,  0.21181398,  0.23787963, -0.03222667,\n",
       "        0.16187868, -0.08473073, -0.00599768,  0.14050693,  0.11424619,\n",
       "        0.04779881,  0.05822075, -0.00743728, -0.16579866,  0.18408311,\n",
       "       -0.12948807, -0.1151945 ,  0.08648112, -0.43288796,  0.12903893,\n",
       "       -0.03032555,  0.08778555,  0.01669345, -0.05468393,  0.78766352,\n",
       "        0.53968393,  0.23361576,  0.7641774 ,  0.34521856,  0.34613967,\n",
       "        0.41756079, -0.36429021,  0.30348492,  0.20133412, -0.07579221,\n",
       "       -0.07648856,  0.66287057,  0.1389297 ,  0.09513366, -0.15465039,\n",
       "        0.25889352, -0.01256623,  0.36644994,  0.66096586,  0.2801005 ,\n",
       "        0.05082873,  0.03095605,  0.01844398, -0.00782661,  0.22283088,\n",
       "        0.33645612,  0.11544109,  0.30849911,  0.19528697,  0.06718697,\n",
       "        0.35263563,  0.0194029 ,  0.05715804,  0.02245017,  0.21753755,\n",
       "        0.35128329,  0.03762024,  0.02459411,  0.11027007, -0.03087474,\n",
       "        0.34657962, -0.04131981, -0.02655381, -0.02668841, -0.02202139,\n",
       "       -0.03038501,  0.85752403,  0.3838172 ,  0.41554294,  0.31960761,\n",
       "        0.32540916,  0.16524658,  0.10337567,  0.37261429,  0.3669158 ,\n",
       "        0.35329842,  0.28863777,  0.33578534,  0.34857518,  0.27758079,\n",
       "        0.34966203,  0.14592458,  0.20733964,  0.30680123,  0.22593258,\n",
       "        0.11753872,  0.14121729,  0.07356156,  0.12085792,  0.27979039,\n",
       "        0.32488751,  0.18240443,  0.11967093,  0.16829029,  0.22232724,\n",
       "        0.26648647,  0.25158277,  0.22851452,  0.0350001 ,  0.28377968,\n",
       "        0.2472883 ,  0.19123749,  0.13937822, -0.14191675, -0.07392521,\n",
       "        0.21963401,  0.00823726,  0.06369176,  0.12659872,  0.13932279,\n",
       "        0.4339371 ,  0.31459718,  0.32575631,  0.28430473,  0.01909029,\n",
       "        0.32286979,  0.21468876,  0.40755425,  0.30045141,  0.16510791,\n",
       "        0.26997761,  0.23422936, -0.03494605,  0.10219539,  0.09117049,\n",
       "       -0.10233053,  0.01392883, -0.08698782,  0.11058695,  0.19228855,\n",
       "       -0.10930169, -0.38069128, -0.02414003, -0.07526264, -0.01822932,\n",
       "       -0.05865355, -0.17170312, -0.4529472 , -0.07776788, -0.62661622,\n",
       "       -0.25969528, -0.1335772 ,  0.11347668,  0.24296767,  0.35840257,\n",
       "       -0.089024  ,  0.10122866, -0.14426644, -0.2414612 , -0.09158223,\n",
       "       -0.02257028, -0.01182302, -0.22536646, -0.4245742 , -0.05954335,\n",
       "       -0.01003902, -0.00733314, -0.09654044,  0.03621295, -0.12621707,\n",
       "       -0.20185012, -0.422269  , -0.33103178, -0.39818457, -0.06549873,\n",
       "        0.33817986,  0.16958123,  0.08708545,  0.10208776,  0.2366488 ,\n",
       "        0.02007427,  0.12448936,  0.20382564,  0.10273089,  0.08513173,\n",
       "        0.10705466,  0.17247351,  0.01923744,  0.14262013,  0.07783259,\n",
       "        0.10628629,  0.04521059,  0.07249225,  0.13747019,  0.09349497,\n",
       "        0.38077672,  0.28030534,  0.10989719,  0.356226  ,  0.31815714,\n",
       "        0.41578408,  0.1157437 ,  0.07113578,  0.19563774,  0.36458121,\n",
       "        0.15750338,  0.10118725,  0.32472079,  0.15746621,  0.3529244 ,\n",
       "        0.13482916,  0.14542325,  0.45998339,  0.21358921,  0.36126626,\n",
       "        0.32770641,  0.38724816,  0.09238424,  0.86131237,  0.34072004,\n",
       "        0.28731612,  0.19982279,  0.39809523,  0.1749847 ,  0.38242899,\n",
       "        0.22125749,  0.20037356,  0.20726657,  0.18560679,  0.32350825,\n",
       "        0.09501479,  0.28426561])"
      ]
     },
     "execution_count": 68,
     "metadata": {},
     "output_type": "execute_result"
    }
   ],
   "source": [
    "real_svr_y_predict = ss_y.inverse_transform(svr_y_predict) \n",
    "real_svr_y_predict"
   ]
  },
  {
   "cell_type": "code",
   "execution_count": 69,
   "metadata": {},
   "outputs": [],
   "source": [
    "y_test = ss_y.inverse_transform(y_test) "
   ]
  },
  {
   "cell_type": "code",
   "execution_count": 70,
   "metadata": {},
   "outputs": [
    {
     "data": {
      "text/plain": [
       "array([[ 0.04701752],\n",
       "       [ 0.0120412 ],\n",
       "       [-0.04370231],\n",
       "       [ 0.00439013],\n",
       "       [ 0.04592451],\n",
       "       [ 0.30933993],\n",
       "       [ 0.24375933],\n",
       "       [ 0.35087431],\n",
       "       [ 0.1432024 ],\n",
       "       [ 0.17162066]])"
      ]
     },
     "execution_count": 70,
     "metadata": {},
     "output_type": "execute_result"
    }
   ],
   "source": [
    "y_test[0:10]"
   ]
  },
  {
   "cell_type": "code",
   "execution_count": 71,
   "metadata": {},
   "outputs": [
    {
     "data": {
      "text/plain": [
       "(382, 382)"
      ]
     },
     "execution_count": 71,
     "metadata": {},
     "output_type": "execute_result"
    }
   ],
   "source": [
    "len(real_svr_y_predict), len(y_test)"
   ]
  },
  {
   "cell_type": "code",
   "execution_count": 72,
   "metadata": {},
   "outputs": [],
   "source": [
    "### TODO 待完成   crossvalidation调整参数\n",
    "\n",
    "#(517, 517)\n"
   ]
  },
  {
   "cell_type": "code",
   "execution_count": 73,
   "metadata": {},
   "outputs": [
    {
     "name": "stdout",
     "output_type": "stream",
     "text": [
      "线性核函数支持向量机的默认评估值为： -3.070180173419221\n",
      "线性核函数支持向量机的R_squared值为： -3.070180173419221\n",
      "线性核函数支持向量机的均方误差为: 0.08185950358904608\n",
      "线性核函数支持向量机的平均绝对误差为: 0.2216566424223383\n"
     ]
    }
   ],
   "source": [
    "# 5 模型评估\n",
    "# 线性核函数 模型评估\n",
    "print(\"线性核函数支持向量机的默认评估值为：\", svr.score(x_test, y_test))\n",
    "print(\"线性核函数支持向量机的R_squared值为：\", r2_score(y_test, svr_y_predict))\n",
    "print(\"线性核函数支持向量机的均方误差为:\", mean_squared_error(ss_y.inverse_transform(y_test),\n",
    "                                              ss_y.inverse_transform(svr_y_predict)))\n",
    "print(\"线性核函数支持向量机的平均绝对误差为:\", mean_absolute_error(ss_y.inverse_transform(y_test),\n",
    "                                                 ss_y.inverse_transform(svr_y_predict)))\n",
    "# 对多项式核函数模型评估\n",
    "# print(\"对多项式核函数的默认评估值为：\", poly_svr.score(x_test, y_test))\n",
    "# print(\"对多项式核函数的R_squared值为：\", r2_score(y_test, poly_svr_y_predict))\n",
    "# print(\"对多项式核函数的均方误差为:\", mean_squared_error(ss_y.inverse_transform(y_test),\n",
    "#                                            ss_y.inverse_transform(poly_svr_y_predict)))\n",
    "# print(\"对多项式核函数的平均绝对误差为:\", mean_absolute_error(ss_y.inverse_transform(y_test),\n",
    "#                                               ss_y.inverse_transform(poly_svr_y_predict)))"
   ]
  },
  {
   "cell_type": "code",
   "execution_count": 74,
   "metadata": {},
   "outputs": [],
   "source": [
    "\n",
    "test_y = y_test\n",
    "predict_y = real_svr_y_predict"
   ]
  },
  {
   "cell_type": "code",
   "execution_count": 75,
   "metadata": {
    "scrolled": true
   },
   "outputs": [
    {
     "name": "stdout",
     "output_type": "stream",
     "text": [
      "382 382\n",
      "[[1, 1], [0, 0], [0, 0], [0, 0], [0, 0], [1, 0], [0, 0], [1, 0], [0, 0], [0, 0], [0, 1], [0, 0], [0, 0], [1, 0], [1, 0], [0, 0], [1, 0], [0, 0], [0, 0], [0, 0], [0, 0], [0, 0], [0, 0], [0, 0], [1, 0], [1, 1], [1, 0], [0, 0], [0, 1], [-1, 1], [0, 1], [0, 0], [0, 0], [1, 0], [0, -1], [0, 1], [0, 0], [0, 0], [0, 1], [0, 1], [0, 1], [0, 0], [0, 0], [0, 1], [1, 0], [1, 0], [0, 1], [0, 1], [0, 0], [0, 0], [0, 0], [1, 0], [0, 0], [0, 0], [0, 1], [0, 0], [0, 0], [0, 0], [0, 0], [0, 1], [0, 0], [0, 0], [1, 0], [1, 0], [0, 0], [-1, 0], [0, 0], [0, 0], [0, 0], [0, 0], [-1, 0], [0, 0], [0, 0], [0, 0], [0, 1], [1, 1], [0, 0], [1, 0], [1, 0], [1, 0], [0, 0], [0, -1], [0, -1], [0, 0], [0, 0], [0, -1], [0, 0], [0, -1], [0, -1], [0, -1], [0, -1], [0, 0], [0, -1], [0, -1], [0, 0], [0, -1], [0, -1], [0, 0], [0, 0], [0, 0], [0, 0], [0, 0], [0, 0], [0, -1], [0, 0], [0, -1], [0, 0], [0, -1], [0, -1], [1, 0], [1, 0], [0, -1], [0, 0], [0, -1], [1, 0], [0, -1], [0, 0], [0, 0], [0, 0], [0, -1], [1, 0], [1, 0], [1, 0], [0, 0], [0, 1], [0, 0], [0, 1], [0, 1], [0, 1], [1, 1], [1, 1], [1, 1], [1, 0], [0, 0], [1, 0], [1, 0], [1, 0], [1, 0], [1, 0], [0, 1], [-1, 0], [-1, 0], [0, 0], [0, 1], [-1, 0], [-1, 0], [-1, 0], [0, 0], [0, 0], [0, 1], [0, 1], [1, 0], [1, 0], [0, 0], [0, 0], [0, 0], [0, 0], [1, 0], [1, 0], [1, 0], [0, 0], [0, 0], [0, 0], [-1, 0], [-1, 0], [-1, 0], [1, 0], [0, 0], [0, 0], [0, 0], [0, 0], [0, 0], [0, 0], [1, -1], [1, 0], [1, 0], [1, 0], [1, 0], [0, 0], [0, 1], [0, 1], [0, 0], [0, 1], [-1, 1], [-1, 1], [-1, 1], [0, -1], [0, 1], [1, 0], [1, 0], [0, 0], [0, 1], [-1, 0], [-1, 0], [-1, 0], [-1, 1], [0, 0], [1, 1], [1, 1], [1, 1], [0, 0], [0, 0], [-1, 0], [0, 0], [0, 0], [0, 1], [0, 0], [0, 1], [1, 0], [0, 0], [1, 1], [0, 0], [0, 0], [0, 0], [0, 0], [1, 1], [1, 0], [1, 0], [0, 0], [-1, 0], [-1, 1], [-1, 0], [-1, 0], [0, 0], [-1, 0], [0, 0], [0, 1], [0, 1], [0, 1], [1, 1], [1, 1], [0, 0], [0, 0], [-1, 1], [-1, 1], [-1, 1], [0, 1], [0, 1], [0, 1], [1, 1], [0, 1], [0, 0], [-1, 0], [-1, 1], [0, 0], [0, 0], [0, 0], [0, 0], [1, 0], [0, 1], [0, 1], [0, 0], [0, 0], [0, 0], [0, 0], [0, 1], [0, 0], [0, 0], [0, 0], [0, 1], [0, 0], [0, 0], [0, 0], [0, 0], [0, 0], [0, 0], [1, 0], [1, 0], [1, 0], [0, 0], [0, 1], [0, 1], [0, 1], [0, 1], [0, 0], [0, 1], [0, 0], [-1, 1], [-1, 1], [0, 0], [0, 1], [0, 0], [-1, 0], [-1, 0], [0, 0], [0, 0], [0, 0], [-1, 0], [0, 0], [0, 0], [1, 0], [1, -1], [0, 0], [0, 0], [0, 0], [0, 0], [0, 0], [0, -1], [0, 0], [1, -1], [1, -1], [1, 0], [0, 0], [0, 0], [0, 1], [0, 0], [0, 0], [0, 0], [-1, -1], [-1, 0], [0, 0], [0, 0], [0, 0], [1, -1], [0, 0], [0, 0], [0, 0], [-1, 0], [-1, 0], [-1, 0], [0, 0], [1, -1], [1, -1], [1, -1], [1, 0], [1, 1], [0, 0], [0, 0], [0, 0], [0, 0], [0, 0], [0, 0], [0, 0], [0, 0], [0, 0], [0, 0], [0, 0], [0, 0], [0, 0], [0, 0], [0, 0], [0, 0], [0, 0], [1, 0], [1, 0], [0, 1], [1, 1], [0, 0], [0, 1], [-1, 1], [0, 1], [-1, 0], [-1, 0], [0, 0], [0, 1], [1, 0], [0, 0], [0, 1], [0, 0], [1, 1], [1, 0], [0, 0], [0, 1], [0, 0], [-1, 1], [-1, 1], [0, 1], [1, 0], [1, 1], [1, 1], [1, 1], [0, 0], [0, 1], [0, 0], [0, 1], [0, 0], [0, 0], [0, 0], [0, 0], [-1, 1], [1, 0]]\n",
      "196 185\n"
     ]
    }
   ],
   "source": [
    "trend_list = [1,]\n",
    "for i in range(1, len(predict_y)):\n",
    "    if predict_y[i] <= quantile033:\n",
    "        trend_list.append(-1)\n",
    "    elif quantile033 <= predict_y[i] <= quantile067:\n",
    "        trend_list.append(0)\n",
    "    else:\n",
    "        trend_list.append(1)\n",
    "\n",
    "real_trend_list = [1,]\n",
    "for i in range(1, len(test_y)):\n",
    "    if test_y[i] <= quantile033:\n",
    "        real_trend_list.append(-1)\n",
    "    elif quantile033 <= test_y[i] <= quantile067:\n",
    "        real_trend_list.append(0)\n",
    "    else:\n",
    "        real_trend_list.append(1)\n",
    "        \n",
    "#     if ave_change < quantile033:\n",
    "#         trend_column.append(-1)\n",
    "#     elif quantile033 <= ave_change <= quantile067:\n",
    "#         trend_column.append(0)\n",
    "#     else:\n",
    "#         trend_column.append(1)\n",
    "\n",
    "\n",
    "\n",
    "\n",
    "print(len(test_y), len(predict_y))\n",
    "\n",
    "pair_list = []\n",
    "true_count = 0\n",
    "false_count = 0\n",
    "for i in range(len(predict_y)-1):\n",
    "    pair_list.append([real_trend_list[i], trend_list[i]])\n",
    "    if real_trend_list[i] == trend_list[i]:\n",
    "        true_count = true_count + 1\n",
    "    else:\n",
    "        false_count = false_count + 1\n",
    "\n",
    "print(pair_list)\n",
    "print(true_count, false_count)\n"
   ]
  },
  {
   "cell_type": "code",
   "execution_count": 76,
   "metadata": {},
   "outputs": [
    {
     "data": {
      "text/plain": [
       "0.5130890052356021"
      ]
     },
     "execution_count": 76,
     "metadata": {},
     "output_type": "execute_result"
    }
   ],
   "source": [
    "accuracy = true_count/ len(predict_y)\n",
    "accuracy"
   ]
  },
  {
   "cell_type": "code",
   "execution_count": 77,
   "metadata": {},
   "outputs": [],
   "source": [
    "real_df = pd.DataFrame(real_trend_list)\n",
    "pred_df = pd.DataFrame(trend_list)\n",
    "acc_df = pd.concat((real_df[0],pred_df[0]), axis=1)\n",
    "\n",
    "temp_list = []\n",
    "temp_df =  real_df[0] - pred_df[0]\n",
    "for i in range(0, len(temp_df)):\n",
    "    temp_list.append([i, temp_df[i]])\n",
    "    \n",
    "%matplotlib qt\n",
    "plt.clf()\n",
    "plt.scatter( *zip(*temp_list), )\n",
    "# plt.scatter(real_df.index.values, pred_df[0],color='blue', marker='^')\n",
    "# plt.scatter(real_df.index.values, real_df[0],color='red', marker='.')\n",
    "plt.title('Trend Prediction Accuracy of SVR = {}'.format(accuracy))\n",
    "plt.xlabel('Days')\n",
    "plt.ylabel('Trend Prediction')\n",
    "plt.show()"
   ]
  },
  {
   "cell_type": "code",
   "execution_count": 29,
   "metadata": {},
   "outputs": [
    {
     "data": {
      "text/plain": [
       "382"
      ]
     },
     "execution_count": 29,
     "metadata": {},
     "output_type": "execute_result"
    }
   ],
   "source": [
    "len(temp_df)"
   ]
  },
  {
   "cell_type": "code",
   "execution_count": 30,
   "metadata": {},
   "outputs": [
    {
     "data": {
      "text/plain": [
       " 1    117\n",
       " 0    116\n",
       "-1     95\n",
       "-2     38\n",
       " 2     16\n",
       "Name: 0, dtype: int64"
      ]
     },
     "execution_count": 30,
     "metadata": {},
     "output_type": "execute_result"
    }
   ],
   "source": [
    "temp_df.value_counts()"
   ]
  },
  {
   "cell_type": "code",
   "execution_count": 31,
   "metadata": {},
   "outputs": [],
   "source": [
    "%matplotlib qt\n",
    "plt.clf()\n",
    "plt.plot(list(range(len(predict_y))), predict_y, color='b',label = 'predict ave change')\n",
    "plt.plot(list(range(len(test_y))), test_y,  color='r',label = 'true ave change')\n",
    "plt.title('SVR change price prediction')\n",
    "plt.xlabel('Days')\n",
    "plt.ylabel('change price')\n",
    "plt.legend()\n",
    "plt.show()"
   ]
  },
  {
   "cell_type": "code",
   "execution_count": 32,
   "metadata": {},
   "outputs": [
    {
     "name": "stdout",
     "output_type": "stream",
     "text": [
      "0.05360071549827622\n"
     ]
    }
   ],
   "source": [
    "#计算标准差\n",
    "def mserror(y, y_pred):\n",
    "    i=0\n",
    "    mse = 0\n",
    "    for i in range (len(y_pred)):\n",
    "        mse = mse + np.mean((y[i] - y_pred[i]) ** 2)\n",
    "        i += 1\n",
    "        return mse\n",
    "\n",
    "mse = mserror( test_y, predict_y)\n",
    "print(mse)"
   ]
  },
  {
   "cell_type": "code",
   "execution_count": 33,
   "metadata": {},
   "outputs": [],
   "source": [
    "list3 = [list(a) for a in zip(predict_y, test_y)]"
   ]
  },
  {
   "cell_type": "code",
   "execution_count": 34,
   "metadata": {},
   "outputs": [
    {
     "data": {
      "text/plain": [
       "[[-0.1715182832915712, array([0.06])],\n",
       " [0.020798398226070682, array([-0.04666667])],\n",
       " [0.003663431085193852, array([-0.21666667])],\n",
       " [0.04340545698078285, array([-0.07])],\n",
       " [-0.008533802135328367, array([0.05666667])],\n",
       " [-0.01078954524587333, array([0.86])],\n",
       " [0.03542577587183956, array([0.66])],\n",
       " [0.035748907674143224, array([0.98666667])],\n",
       " [0.10399142626601934, array([0.35333333])],\n",
       " [-0.1515471292011722, array([0.44])]]"
      ]
     },
     "execution_count": 34,
     "metadata": {},
     "output_type": "execute_result"
    }
   ],
   "source": [
    "list3[0:10]"
   ]
  },
  {
   "cell_type": "code",
   "execution_count": 35,
   "metadata": {},
   "outputs": [
    {
     "name": "stdout",
     "output_type": "stream",
     "text": [
      "预测数据 Counter({0: 259, 1: 92, -1: 31})\n",
      "真实数据 Counter({1: 158, -1: 119, 0: 105})\n"
     ]
    }
   ],
   "source": [
    "from collections import Counter\n",
    "\n",
    "result = Counter(trend_list)\n",
    "print (\"预测数据\", result)\n",
    "result = Counter(real_trend_list)\n",
    "print (\"真实数据\", result)"
   ]
  },
  {
   "cell_type": "code",
   "execution_count": null,
   "metadata": {},
   "outputs": [],
   "source": []
  },
  {
   "cell_type": "markdown",
   "metadata": {},
   "source": [
    "以下是随机对比模型"
   ]
  },
  {
   "cell_type": "code",
   "execution_count": 36,
   "metadata": {},
   "outputs": [
    {
     "data": {
      "text/plain": [
       "382"
      ]
     },
     "execution_count": 36,
     "metadata": {},
     "output_type": "execute_result"
    }
   ],
   "source": [
    "import random\n",
    "random_list = []\n",
    "for i in range(len(test_y)):\n",
    "    random_list.append(random.randint(-1,1))\n",
    "\n",
    "len(random_list)"
   ]
  },
  {
   "cell_type": "code",
   "execution_count": 78,
   "metadata": {},
   "outputs": [],
   "source": [
    "pair_list = []\n",
    "true_count = 0\n",
    "false_count = 0\n",
    "for i in range(len(predict_y)-1):\n",
    "    pair_list.append([real_trend_list[i], random_list[i]])\n",
    "    if real_trend_list[i] == random_list[i]:\n",
    "        true_count = true_count + 1\n",
    "    else:\n",
    "        false_count = false_count + 1"
   ]
  },
  {
   "cell_type": "code",
   "execution_count": 79,
   "metadata": {},
   "outputs": [
    {
     "data": {
      "text/plain": [
       "0.32460732984293195"
      ]
     },
     "execution_count": 79,
     "metadata": {},
     "output_type": "execute_result"
    }
   ],
   "source": [
    "accuracy = true_count/ len(predict_y)\n",
    "accuracy"
   ]
  },
  {
   "cell_type": "code",
   "execution_count": 50,
   "metadata": {},
   "outputs": [],
   "source": [
    "real_df = pd.DataFrame(real_trend_list)\n",
    "pred_df = pd.DataFrame(random_list)\n",
    "acc_df = pd.concat((real_df[0],pred_df[0]), axis=1)\n",
    "\n",
    "temp_list = []\n",
    "temp_df =  real_df[0] - pred_df[0]\n",
    "for i in range(0, len(temp_df)):\n",
    "    temp_list.append([i, temp_df[i]])\n",
    "    \n",
    "%matplotlib qt\n",
    "plt.clf()\n",
    "plt.scatter( *zip(*temp_list), )\n",
    "# plt.scatter(real_df.index.values, pred_df[0],color='blue', marker='^')\n",
    "# plt.scatter(real_df.index.values, real_df[0],color='red', marker='.')\n",
    "plt.title('Trend Prediction Accuracy of Random Select = {}'.format(accuracy))\n",
    "plt.xlabel('Days')\n",
    "plt.ylabel('Trend Prediction')\n",
    "plt.show()"
   ]
  },
  {
   "cell_type": "code",
   "execution_count": 52,
   "metadata": {},
   "outputs": [
    {
     "data": {
      "text/plain": [
       "382"
      ]
     },
     "execution_count": 52,
     "metadata": {},
     "output_type": "execute_result"
    }
   ],
   "source": [
    "len(temp_df)"
   ]
  },
  {
   "cell_type": "code",
   "execution_count": 51,
   "metadata": {},
   "outputs": [
    {
     "data": {
      "text/plain": [
       " 0    143\n",
       "-1     79\n",
       " 1     70\n",
       " 2     59\n",
       "-2     31\n",
       "Name: 0, dtype: int64"
      ]
     },
     "execution_count": 51,
     "metadata": {},
     "output_type": "execute_result"
    }
   ],
   "source": [
    "temp_df.value_counts()"
   ]
  },
  {
   "cell_type": "code",
   "execution_count": 49,
   "metadata": {},
   "outputs": [],
   "source": [
    "%matplotlib qt\n",
    "plt.clf()\n",
    "plt.plot(list(range(len(predict_y))), predict_y, color='b',label = 'predict ave change')\n",
    "plt.plot(list(range(len(test_y))), test_y,  color='r',label = 'true ave change')\n",
    "plt.title('SVR change price prediction')\n",
    "plt.xlabel('Days')\n",
    "plt.ylabel('change price')\n",
    "plt.legend()\n",
    "plt.show()"
   ]
  },
  {
   "cell_type": "code",
   "execution_count": 41,
   "metadata": {},
   "outputs": [],
   "source": [
    "new_data = save_test_data"
   ]
  },
  {
   "cell_type": "code",
   "execution_count": 42,
   "metadata": {},
   "outputs": [
    {
     "data": {
      "text/html": [
       "<div>\n",
       "<style scoped>\n",
       "    .dataframe tbody tr th:only-of-type {\n",
       "        vertical-align: middle;\n",
       "    }\n",
       "\n",
       "    .dataframe tbody tr th {\n",
       "        vertical-align: top;\n",
       "    }\n",
       "\n",
       "    .dataframe thead th {\n",
       "        text-align: right;\n",
       "    }\n",
       "</style>\n",
       "<table border=\"1\" class=\"dataframe\">\n",
       "  <thead>\n",
       "    <tr style=\"text-align: right;\">\n",
       "      <th></th>\n",
       "      <th>open</th>\n",
       "      <th>high</th>\n",
       "      <th>low</th>\n",
       "      <th>pre_close</th>\n",
       "      <th>change</th>\n",
       "      <th>pct_chg</th>\n",
       "      <th>vol</th>\n",
       "      <th>amount</th>\n",
       "      <th>close</th>\n",
       "      <th>ave_change</th>\n",
       "    </tr>\n",
       "  </thead>\n",
       "  <tbody>\n",
       "    <tr>\n",
       "      <th>1527</th>\n",
       "      <td>37.49</td>\n",
       "      <td>38.26</td>\n",
       "      <td>37.44</td>\n",
       "      <td>37.51</td>\n",
       "      <td>0.31</td>\n",
       "      <td>0.83</td>\n",
       "      <td>1250054.58</td>\n",
       "      <td>4732657.328</td>\n",
       "      <td>37.82</td>\n",
       "      <td>0.060000</td>\n",
       "    </tr>\n",
       "    <tr>\n",
       "      <th>1528</th>\n",
       "      <td>37.90</td>\n",
       "      <td>38.07</td>\n",
       "      <td>37.61</td>\n",
       "      <td>37.82</td>\n",
       "      <td>0.14</td>\n",
       "      <td>0.37</td>\n",
       "      <td>678663.87</td>\n",
       "      <td>2568647.819</td>\n",
       "      <td>37.96</td>\n",
       "      <td>-0.046667</td>\n",
       "    </tr>\n",
       "    <tr>\n",
       "      <th>1529</th>\n",
       "      <td>37.80</td>\n",
       "      <td>38.38</td>\n",
       "      <td>37.80</td>\n",
       "      <td>37.96</td>\n",
       "      <td>-0.05</td>\n",
       "      <td>-0.13</td>\n",
       "      <td>619325.39</td>\n",
       "      <td>2359210.184</td>\n",
       "      <td>37.91</td>\n",
       "      <td>-0.216667</td>\n",
       "    </tr>\n",
       "    <tr>\n",
       "      <th>1530</th>\n",
       "      <td>37.95</td>\n",
       "      <td>38.28</td>\n",
       "      <td>37.82</td>\n",
       "      <td>37.91</td>\n",
       "      <td>0.09</td>\n",
       "      <td>0.24</td>\n",
       "      <td>505383.86</td>\n",
       "      <td>1920918.772</td>\n",
       "      <td>38.00</td>\n",
       "      <td>-0.070000</td>\n",
       "    </tr>\n",
       "    <tr>\n",
       "      <th>1531</th>\n",
       "      <td>37.95</td>\n",
       "      <td>38.10</td>\n",
       "      <td>37.73</td>\n",
       "      <td>38.00</td>\n",
       "      <td>-0.18</td>\n",
       "      <td>-0.47</td>\n",
       "      <td>548573.55</td>\n",
       "      <td>2080732.893</td>\n",
       "      <td>37.82</td>\n",
       "      <td>0.056667</td>\n",
       "    </tr>\n",
       "  </tbody>\n",
       "</table>\n",
       "</div>"
      ],
      "text/plain": [
       "       open   high    low  pre_close  change  pct_chg         vol  \\\n",
       "1527  37.49  38.26  37.44      37.51    0.31     0.83  1250054.58   \n",
       "1528  37.90  38.07  37.61      37.82    0.14     0.37   678663.87   \n",
       "1529  37.80  38.38  37.80      37.96   -0.05    -0.13   619325.39   \n",
       "1530  37.95  38.28  37.82      37.91    0.09     0.24   505383.86   \n",
       "1531  37.95  38.10  37.73      38.00   -0.18    -0.47   548573.55   \n",
       "\n",
       "           amount  close  ave_change  \n",
       "1527  4732657.328  37.82    0.060000  \n",
       "1528  2568647.819  37.96   -0.046667  \n",
       "1529  2359210.184  37.91   -0.216667  \n",
       "1530  1920918.772  38.00   -0.070000  \n",
       "1531  2080732.893  37.82    0.056667  "
      ]
     },
     "execution_count": 42,
     "metadata": {},
     "output_type": "execute_result"
    }
   ],
   "source": [
    "new_data.head()"
   ]
  },
  {
   "cell_type": "code",
   "execution_count": 43,
   "metadata": {},
   "outputs": [
    {
     "data": {
      "text/plain": [
       "((382, 10), 382)"
      ]
     },
     "execution_count": 43,
     "metadata": {},
     "output_type": "execute_result"
    }
   ],
   "source": [
    "new_data.shape , len(real_svr_y_predict)"
   ]
  },
  {
   "cell_type": "code",
   "execution_count": 44,
   "metadata": {},
   "outputs": [],
   "source": [
    "new_data['pred_change'] = real_svr_y_predict"
   ]
  },
  {
   "cell_type": "code",
   "execution_count": 45,
   "metadata": {},
   "outputs": [
    {
     "data": {
      "text/html": [
       "<div>\n",
       "<style scoped>\n",
       "    .dataframe tbody tr th:only-of-type {\n",
       "        vertical-align: middle;\n",
       "    }\n",
       "\n",
       "    .dataframe tbody tr th {\n",
       "        vertical-align: top;\n",
       "    }\n",
       "\n",
       "    .dataframe thead th {\n",
       "        text-align: right;\n",
       "    }\n",
       "</style>\n",
       "<table border=\"1\" class=\"dataframe\">\n",
       "  <thead>\n",
       "    <tr style=\"text-align: right;\">\n",
       "      <th></th>\n",
       "      <th>open</th>\n",
       "      <th>high</th>\n",
       "      <th>low</th>\n",
       "      <th>pre_close</th>\n",
       "      <th>change</th>\n",
       "      <th>pct_chg</th>\n",
       "      <th>vol</th>\n",
       "      <th>amount</th>\n",
       "      <th>close</th>\n",
       "      <th>ave_change</th>\n",
       "      <th>pred_change</th>\n",
       "    </tr>\n",
       "  </thead>\n",
       "  <tbody>\n",
       "    <tr>\n",
       "      <th>1904</th>\n",
       "      <td>64.40</td>\n",
       "      <td>65.14</td>\n",
       "      <td>63.75</td>\n",
       "      <td>64.62</td>\n",
       "      <td>0.04</td>\n",
       "      <td>0.0619</td>\n",
       "      <td>458511.64</td>\n",
       "      <td>2956910.272</td>\n",
       "      <td>64.66</td>\n",
       "      <td>0.146667</td>\n",
       "      <td>0.207267</td>\n",
       "    </tr>\n",
       "    <tr>\n",
       "      <th>1905</th>\n",
       "      <td>63.78</td>\n",
       "      <td>65.57</td>\n",
       "      <td>63.50</td>\n",
       "      <td>64.66</td>\n",
       "      <td>0.35</td>\n",
       "      <td>0.5413</td>\n",
       "      <td>520997.95</td>\n",
       "      <td>3362080.743</td>\n",
       "      <td>65.01</td>\n",
       "      <td>0.080000</td>\n",
       "      <td>0.185607</td>\n",
       "    </tr>\n",
       "    <tr>\n",
       "      <th>1906</th>\n",
       "      <td>65.05</td>\n",
       "      <td>65.09</td>\n",
       "      <td>63.60</td>\n",
       "      <td>65.01</td>\n",
       "      <td>-1.06</td>\n",
       "      <td>-1.6305</td>\n",
       "      <td>573814.07</td>\n",
       "      <td>3680152.361</td>\n",
       "      <td>63.95</td>\n",
       "      <td>-1.060000</td>\n",
       "      <td>0.323508</td>\n",
       "    </tr>\n",
       "    <tr>\n",
       "      <th>1907</th>\n",
       "      <td>64.00</td>\n",
       "      <td>65.14</td>\n",
       "      <td>63.77</td>\n",
       "      <td>63.95</td>\n",
       "      <td>1.15</td>\n",
       "      <td>1.7983</td>\n",
       "      <td>500579.86</td>\n",
       "      <td>3231462.676</td>\n",
       "      <td>65.10</td>\n",
       "      <td>1.150000</td>\n",
       "      <td>0.095015</td>\n",
       "    </tr>\n",
       "    <tr>\n",
       "      <th>1908</th>\n",
       "      <td>65.00</td>\n",
       "      <td>66.39</td>\n",
       "      <td>64.69</td>\n",
       "      <td>65.10</td>\n",
       "      <td>0.15</td>\n",
       "      <td>0.2304</td>\n",
       "      <td>619879.08</td>\n",
       "      <td>4063786.057</td>\n",
       "      <td>65.25</td>\n",
       "      <td>0.150000</td>\n",
       "      <td>0.284266</td>\n",
       "    </tr>\n",
       "  </tbody>\n",
       "</table>\n",
       "</div>"
      ],
      "text/plain": [
       "       open   high    low  pre_close  change  pct_chg        vol       amount  \\\n",
       "1904  64.40  65.14  63.75      64.62    0.04   0.0619  458511.64  2956910.272   \n",
       "1905  63.78  65.57  63.50      64.66    0.35   0.5413  520997.95  3362080.743   \n",
       "1906  65.05  65.09  63.60      65.01   -1.06  -1.6305  573814.07  3680152.361   \n",
       "1907  64.00  65.14  63.77      63.95    1.15   1.7983  500579.86  3231462.676   \n",
       "1908  65.00  66.39  64.69      65.10    0.15   0.2304  619879.08  4063786.057   \n",
       "\n",
       "      close  ave_change  pred_change  \n",
       "1904  64.66    0.146667     0.207267  \n",
       "1905  65.01    0.080000     0.185607  \n",
       "1906  63.95   -1.060000     0.323508  \n",
       "1907  65.10    1.150000     0.095015  \n",
       "1908  65.25    0.150000     0.284266  "
      ]
     },
     "execution_count": 45,
     "metadata": {},
     "output_type": "execute_result"
    }
   ],
   "source": [
    "new_data.tail()"
   ]
  },
  {
   "cell_type": "code",
   "execution_count": 46,
   "metadata": {},
   "outputs": [
    {
     "data": {
      "text/plain": [
       "(382, 382, 382)"
      ]
     },
     "execution_count": 46,
     "metadata": {},
     "output_type": "execute_result"
    }
   ],
   "source": [
    "len(real_trend_list), len(trend_list) , len(random_list)"
   ]
  },
  {
   "cell_type": "code",
   "execution_count": 47,
   "metadata": {},
   "outputs": [],
   "source": [
    "new_data['real_trend'] = real_trend_list\n",
    "new_data['pred_trend'] = trend_list\n",
    "new_data['random_trend'] = random_list"
   ]
  },
  {
   "cell_type": "code",
   "execution_count": 48,
   "metadata": {},
   "outputs": [],
   "source": [
    "new_data.to_csv('Result-SVR&Random-Pingan-from-20080101-to-20181118.csv', index=False)"
   ]
  },
  {
   "cell_type": "code",
   "execution_count": null,
   "metadata": {},
   "outputs": [],
   "source": []
  }
 ],
 "metadata": {
  "kernelspec": {
   "display_name": "Python 3",
   "language": "python",
   "name": "python3"
  },
  "language_info": {
   "codemirror_mode": {
    "name": "ipython",
    "version": 3
   },
   "file_extension": ".py",
   "mimetype": "text/x-python",
   "name": "python",
   "nbconvert_exporter": "python",
   "pygments_lexer": "ipython3",
   "version": "3.6.5"
  }
 },
 "nbformat": 4,
 "nbformat_minor": 2
}
