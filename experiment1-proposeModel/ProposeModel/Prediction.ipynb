{
 "cells": [
  {
   "cell_type": "markdown",
   "metadata": {},
   "source": [
    "##### 三类股票分类，\n",
    "##### 使用未来三天的平均change来作为标签值y，并用0.33, 0.67分位值作为三类标签的划分边界\n",
    "\n",
    "##### 数据: 基本指标 \n",
    "##### 模型:  LSTM\n"
   ]
  },
  {
   "cell_type": "code",
   "execution_count": 1,
   "metadata": {},
   "outputs": [
    {
     "name": "stderr",
     "output_type": "stream",
     "text": [
      "d:\\ProgramData\\Anaconda3\\lib\\site-packages\\h5py\\__init__.py:36: FutureWarning: Conversion of the second argument of issubdtype from `float` to `np.floating` is deprecated. In future, it will be treated as `np.float64 == np.dtype(float).type`.\n",
      "  from ._conv import register_converters as _register_converters\n",
      "Using TensorFlow backend.\n"
     ]
    }
   ],
   "source": [
    "import pandas as pd\n",
    "from pandas import DataFrame\n",
    "import numpy as np\n",
    "from numpy import row_stack,column_stack\n",
    "import matplotlib.pyplot as plt\n",
    "from matplotlib.dates import DateFormatter, WeekdayLocator, DayLocator, MONDAY,YEARLY\n",
    "# from mpl_finance import quotes_historical_yahoo_ohlc, candlestick_ohlc\n",
    "from matplotlib.pylab import date2num\n",
    "from sklearn.preprocessing import MinMaxScaler,StandardScaler\n",
    "from keras.models import Sequential\n",
    "from keras.layers import LSTM, Dense, Activation,Dropout\n",
    "import tushare as ts\n",
    "import datetime\n",
    "import time"
   ]
  },
  {
   "cell_type": "markdown",
   "metadata": {},
   "source": [
    "### softmax三类分类写不出来，用回归代替"
   ]
  },
  {
   "cell_type": "markdown",
   "metadata": {},
   "source": [
    "### 加工数据"
   ]
  },
  {
   "cell_type": "code",
   "execution_count": 2,
   "metadata": {},
   "outputs": [],
   "source": [
    "ts.set_token('29ea8fa19e717f1a3d3618796f87067ee07219783a9e01422eb90ef8')\n",
    "pro = ts.pro_api()\n",
    "\n",
    "df = pro.daily(ts_code='601318.SH', start_date = '20110101', end_date = '20181118')\n",
    "df = df.iloc[::-1]\n",
    "df.head()\n",
    "\n",
    "df.to_csv('601318SH-from-20110101-to-20181118.csv', index=False)\n",
    "\n",
    "df = pd.read_csv('601318SH-from-20110101-to-20181118.csv')\n",
    "df.head()\n",
    "\n",
    "input_data = df[[ 'open','high','low','pre_close','change','pct_chg','vol','amount','close']]\n"
   ]
  },
  {
   "cell_type": "code",
   "execution_count": 3,
   "metadata": {},
   "outputs": [
    {
     "data": {
      "text/html": [
       "<div>\n",
       "<style scoped>\n",
       "    .dataframe tbody tr th:only-of-type {\n",
       "        vertical-align: middle;\n",
       "    }\n",
       "\n",
       "    .dataframe tbody tr th {\n",
       "        vertical-align: top;\n",
       "    }\n",
       "\n",
       "    .dataframe thead th {\n",
       "        text-align: right;\n",
       "    }\n",
       "</style>\n",
       "<table border=\"1\" class=\"dataframe\">\n",
       "  <thead>\n",
       "    <tr style=\"text-align: right;\">\n",
       "      <th></th>\n",
       "      <th>ts_code</th>\n",
       "      <th>trade_date</th>\n",
       "      <th>open</th>\n",
       "      <th>high</th>\n",
       "      <th>low</th>\n",
       "      <th>close</th>\n",
       "      <th>pre_close</th>\n",
       "      <th>change</th>\n",
       "      <th>pct_chg</th>\n",
       "      <th>vol</th>\n",
       "      <th>amount</th>\n",
       "    </tr>\n",
       "  </thead>\n",
       "  <tbody>\n",
       "    <tr>\n",
       "      <th>0</th>\n",
       "      <td>601318.SH</td>\n",
       "      <td>20110104</td>\n",
       "      <td>56.85</td>\n",
       "      <td>57.60</td>\n",
       "      <td>56.50</td>\n",
       "      <td>56.91</td>\n",
       "      <td>56.16</td>\n",
       "      <td>0.75</td>\n",
       "      <td>1.34</td>\n",
       "      <td>245626.82</td>\n",
       "      <td>1400499.338</td>\n",
       "    </tr>\n",
       "    <tr>\n",
       "      <th>1</th>\n",
       "      <td>601318.SH</td>\n",
       "      <td>20110105</td>\n",
       "      <td>56.59</td>\n",
       "      <td>56.80</td>\n",
       "      <td>54.80</td>\n",
       "      <td>54.86</td>\n",
       "      <td>56.91</td>\n",
       "      <td>-2.05</td>\n",
       "      <td>-3.60</td>\n",
       "      <td>427554.25</td>\n",
       "      <td>2368305.774</td>\n",
       "    </tr>\n",
       "    <tr>\n",
       "      <th>2</th>\n",
       "      <td>601318.SH</td>\n",
       "      <td>20110106</td>\n",
       "      <td>54.94</td>\n",
       "      <td>54.94</td>\n",
       "      <td>51.45</td>\n",
       "      <td>52.59</td>\n",
       "      <td>54.86</td>\n",
       "      <td>-2.27</td>\n",
       "      <td>-4.14</td>\n",
       "      <td>947078.65</td>\n",
       "      <td>4971851.955</td>\n",
       "    </tr>\n",
       "    <tr>\n",
       "      <th>3</th>\n",
       "      <td>601318.SH</td>\n",
       "      <td>20110107</td>\n",
       "      <td>52.97</td>\n",
       "      <td>54.25</td>\n",
       "      <td>51.80</td>\n",
       "      <td>53.01</td>\n",
       "      <td>52.59</td>\n",
       "      <td>0.42</td>\n",
       "      <td>0.80</td>\n",
       "      <td>659013.87</td>\n",
       "      <td>3494756.547</td>\n",
       "    </tr>\n",
       "    <tr>\n",
       "      <th>4</th>\n",
       "      <td>601318.SH</td>\n",
       "      <td>20110110</td>\n",
       "      <td>52.90</td>\n",
       "      <td>53.90</td>\n",
       "      <td>51.90</td>\n",
       "      <td>52.03</td>\n",
       "      <td>53.01</td>\n",
       "      <td>-0.98</td>\n",
       "      <td>-1.85</td>\n",
       "      <td>282919.36</td>\n",
       "      <td>1494174.281</td>\n",
       "    </tr>\n",
       "  </tbody>\n",
       "</table>\n",
       "</div>"
      ],
      "text/plain": [
       "     ts_code  trade_date   open   high    low  close  pre_close  change  \\\n",
       "0  601318.SH    20110104  56.85  57.60  56.50  56.91      56.16    0.75   \n",
       "1  601318.SH    20110105  56.59  56.80  54.80  54.86      56.91   -2.05   \n",
       "2  601318.SH    20110106  54.94  54.94  51.45  52.59      54.86   -2.27   \n",
       "3  601318.SH    20110107  52.97  54.25  51.80  53.01      52.59    0.42   \n",
       "4  601318.SH    20110110  52.90  53.90  51.90  52.03      53.01   -0.98   \n",
       "\n",
       "   pct_chg        vol       amount  \n",
       "0     1.34  245626.82  1400499.338  \n",
       "1    -3.60  427554.25  2368305.774  \n",
       "2    -4.14  947078.65  4971851.955  \n",
       "3     0.80  659013.87  3494756.547  \n",
       "4    -1.85  282919.36  1494174.281  "
      ]
     },
     "execution_count": 3,
     "metadata": {},
     "output_type": "execute_result"
    }
   ],
   "source": [
    "df.head()"
   ]
  },
  {
   "cell_type": "code",
   "execution_count": 4,
   "metadata": {},
   "outputs": [],
   "source": [
    "# input_data['change'].quantile([0.33,0.5, 0.67,])\n",
    "quantile033 = input_data['change'].quantile([0.33]).iloc[0]\n",
    "quantile067 = input_data['change'].quantile([0.67]).iloc[0]"
   ]
  },
  {
   "cell_type": "code",
   "execution_count": 5,
   "metadata": {},
   "outputs": [
    {
     "data": {
      "text/plain": [
       "(-0.24, 0.25360000000000127)"
      ]
     },
     "execution_count": 5,
     "metadata": {},
     "output_type": "execute_result"
    }
   ],
   "source": [
    "quantile033, quantile067"
   ]
  },
  {
   "cell_type": "code",
   "execution_count": 6,
   "metadata": {},
   "outputs": [
    {
     "data": {
      "text/plain": [
       "0.01"
      ]
     },
     "execution_count": 6,
     "metadata": {},
     "output_type": "execute_result"
    }
   ],
   "source": [
    "input_data['change'].median()"
   ]
  },
  {
   "cell_type": "code",
   "execution_count": 7,
   "metadata": {},
   "outputs": [],
   "source": [
    "data = input_data['change'].quantile([0.33,])"
   ]
  },
  {
   "cell_type": "code",
   "execution_count": 8,
   "metadata": {},
   "outputs": [
    {
     "data": {
      "text/plain": [
       "-0.24"
      ]
     },
     "execution_count": 8,
     "metadata": {},
     "output_type": "execute_result"
    }
   ],
   "source": [
    "data.iloc[0]"
   ]
  },
  {
   "cell_type": "code",
   "execution_count": 9,
   "metadata": {},
   "outputs": [],
   "source": [
    "change = input_data['change']"
   ]
  },
  {
   "cell_type": "code",
   "execution_count": 10,
   "metadata": {},
   "outputs": [],
   "source": [
    "ave_change_column = [ ]\n",
    "for i in range(0, len(change)):\n",
    "    if i >= len(change) - 3:\n",
    "        ave_change = change[i]\n",
    "        \n",
    "    else:\n",
    "        ave_change = (change[i+1] + change[i+2] + change[i+3]) / 3\n",
    "    \n",
    "    ave_change_column.append(ave_change)\n",
    "\n"
   ]
  },
  {
   "cell_type": "code",
   "execution_count": 11,
   "metadata": {},
   "outputs": [
    {
     "data": {
      "text/plain": [
       "(1909, 1909)"
      ]
     },
     "execution_count": 11,
     "metadata": {},
     "output_type": "execute_result"
    }
   ],
   "source": [
    "len(change) , len(ave_change_column)"
   ]
  },
  {
   "cell_type": "code",
   "execution_count": 12,
   "metadata": {},
   "outputs": [
    {
     "name": "stderr",
     "output_type": "stream",
     "text": [
      "d:\\ProgramData\\Anaconda3\\lib\\site-packages\\ipykernel_launcher.py:1: SettingWithCopyWarning: \n",
      "A value is trying to be set on a copy of a slice from a DataFrame.\n",
      "Try using .loc[row_indexer,col_indexer] = value instead\n",
      "\n",
      "See the caveats in the documentation: http://pandas.pydata.org/pandas-docs/stable/indexing.html#indexing-view-versus-copy\n",
      "  \"\"\"Entry point for launching an IPython kernel.\n"
     ]
    }
   ],
   "source": [
    "input_data['ave_change'] = ave_change_column"
   ]
  },
  {
   "cell_type": "code",
   "execution_count": 13,
   "metadata": {},
   "outputs": [
    {
     "data": {
      "text/html": [
       "<div>\n",
       "<style scoped>\n",
       "    .dataframe tbody tr th:only-of-type {\n",
       "        vertical-align: middle;\n",
       "    }\n",
       "\n",
       "    .dataframe tbody tr th {\n",
       "        vertical-align: top;\n",
       "    }\n",
       "\n",
       "    .dataframe thead th {\n",
       "        text-align: right;\n",
       "    }\n",
       "</style>\n",
       "<table border=\"1\" class=\"dataframe\">\n",
       "  <thead>\n",
       "    <tr style=\"text-align: right;\">\n",
       "      <th></th>\n",
       "      <th>open</th>\n",
       "      <th>high</th>\n",
       "      <th>low</th>\n",
       "      <th>pre_close</th>\n",
       "      <th>change</th>\n",
       "      <th>pct_chg</th>\n",
       "      <th>vol</th>\n",
       "      <th>amount</th>\n",
       "      <th>close</th>\n",
       "      <th>ave_change</th>\n",
       "    </tr>\n",
       "  </thead>\n",
       "  <tbody>\n",
       "    <tr>\n",
       "      <th>0</th>\n",
       "      <td>56.85</td>\n",
       "      <td>57.60</td>\n",
       "      <td>56.50</td>\n",
       "      <td>56.16</td>\n",
       "      <td>0.75</td>\n",
       "      <td>1.34</td>\n",
       "      <td>245626.82</td>\n",
       "      <td>1400499.338</td>\n",
       "      <td>56.91</td>\n",
       "      <td>-1.300000</td>\n",
       "    </tr>\n",
       "    <tr>\n",
       "      <th>1</th>\n",
       "      <td>56.59</td>\n",
       "      <td>56.80</td>\n",
       "      <td>54.80</td>\n",
       "      <td>56.91</td>\n",
       "      <td>-2.05</td>\n",
       "      <td>-3.60</td>\n",
       "      <td>427554.25</td>\n",
       "      <td>2368305.774</td>\n",
       "      <td>54.86</td>\n",
       "      <td>-0.943333</td>\n",
       "    </tr>\n",
       "    <tr>\n",
       "      <th>2</th>\n",
       "      <td>54.94</td>\n",
       "      <td>54.94</td>\n",
       "      <td>51.45</td>\n",
       "      <td>54.86</td>\n",
       "      <td>-2.27</td>\n",
       "      <td>-4.14</td>\n",
       "      <td>947078.65</td>\n",
       "      <td>4971851.955</td>\n",
       "      <td>52.59</td>\n",
       "      <td>-0.156667</td>\n",
       "    </tr>\n",
       "    <tr>\n",
       "      <th>3</th>\n",
       "      <td>52.97</td>\n",
       "      <td>54.25</td>\n",
       "      <td>51.80</td>\n",
       "      <td>52.59</td>\n",
       "      <td>0.42</td>\n",
       "      <td>0.80</td>\n",
       "      <td>659013.87</td>\n",
       "      <td>3494756.547</td>\n",
       "      <td>53.01</td>\n",
       "      <td>-0.006667</td>\n",
       "    </tr>\n",
       "    <tr>\n",
       "      <th>4</th>\n",
       "      <td>52.90</td>\n",
       "      <td>53.90</td>\n",
       "      <td>51.90</td>\n",
       "      <td>53.01</td>\n",
       "      <td>-0.98</td>\n",
       "      <td>-1.85</td>\n",
       "      <td>282919.36</td>\n",
       "      <td>1494174.281</td>\n",
       "      <td>52.03</td>\n",
       "      <td>0.316667</td>\n",
       "    </tr>\n",
       "  </tbody>\n",
       "</table>\n",
       "</div>"
      ],
      "text/plain": [
       "    open   high    low  pre_close  change  pct_chg        vol       amount  \\\n",
       "0  56.85  57.60  56.50      56.16    0.75     1.34  245626.82  1400499.338   \n",
       "1  56.59  56.80  54.80      56.91   -2.05    -3.60  427554.25  2368305.774   \n",
       "2  54.94  54.94  51.45      54.86   -2.27    -4.14  947078.65  4971851.955   \n",
       "3  52.97  54.25  51.80      52.59    0.42     0.80  659013.87  3494756.547   \n",
       "4  52.90  53.90  51.90      53.01   -0.98    -1.85  282919.36  1494174.281   \n",
       "\n",
       "   close  ave_change  \n",
       "0  56.91   -1.300000  \n",
       "1  54.86   -0.943333  \n",
       "2  52.59   -0.156667  \n",
       "3  53.01   -0.006667  \n",
       "4  52.03    0.316667  "
      ]
     },
     "execution_count": 13,
     "metadata": {},
     "output_type": "execute_result"
    }
   ],
   "source": [
    "input_data.head(5)"
   ]
  },
  {
   "cell_type": "code",
   "execution_count": 14,
   "metadata": {},
   "outputs": [],
   "source": [
    "data = input_data.values\n",
    "\n",
    "dd1=input_data.sort_index()\n",
    "\n",
    "dd2=dd1.values.flatten()\n",
    "\n",
    "dd3=pd.DataFrame(dd1['close'])"
   ]
  },
  {
   "cell_type": "code",
   "execution_count": 15,
   "metadata": {},
   "outputs": [],
   "source": [
    "def load_data(df, sequence_length=10, split=0.8):\n",
    "    \n",
    "    \n",
    "    # 转为float型\n",
    "    data_all = np.array(df.astype(float))\n",
    "    # 标准化\n",
    "    x_scaler = MinMaxScaler()\n",
    "    data_all[:, :-1] = x_scaler.fit_transform(data_all[:, :-1])\n",
    "    data = []\n",
    "    for i in range(len(data_all) - sequence_length - 1):\n",
    "        data.append(data_all[i: i + sequence_length + 1])\n",
    "    reshaped_data = np.array(data).astype('float64')\n",
    "    x = reshaped_data[:, :-1]\n",
    "    y = reshaped_data[:, -1][:, -1]\n",
    "    scaler = MinMaxScaler()\n",
    "    y = scaler.fit_transform(y.reshape(-1, 1))\n",
    "    split_boundary = int(reshaped_data.shape[0] * split)\n",
    "    train_x = x[: split_boundary]\n",
    "    test_x = x[split_boundary:]\n",
    "\n",
    "    train_y = y[: split_boundary]\n",
    "    test_y = y[split_boundary:]\n",
    "\n",
    "    return train_x, train_y, test_x, test_y, scaler"
   ]
  },
  {
   "cell_type": "code",
   "execution_count": 16,
   "metadata": {},
   "outputs": [],
   "source": [
    "# 添加自定义评价函数\n",
    "\n",
    "# root mean squared error (rmse) for regression\n",
    "def rmse(y_true, y_pred):\n",
    "    from keras import backend\n",
    "    return backend.sqrt(backend.mean(backend.square(y_pred - y_true), axis=-1))\n",
    "\n",
    "# mean squared error (mse) for regression\n",
    "def mse(y_true, y_pred):\n",
    "    from keras import backend\n",
    "    return backend.mean(backend.square(y_pred - y_true), axis=-1)\n",
    "\n",
    "# coefficient of determination (R^2) for regression\n",
    "def r_square(y_true, y_pred):\n",
    "    from keras import backend as K\n",
    "    SS_res =  K.sum(K.square(y_true - y_pred)) \n",
    "    SS_tot = K.sum(K.square(y_true - K.mean(y_true))) \n",
    "    return (1 - SS_res/(SS_tot + K.epsilon()))\n",
    "\n",
    "def r_square_loss(y_true, y_pred):\n",
    "    from keras import backend as K\n",
    "    SS_res =  K.sum(K.square(y_true - y_pred)) \n",
    "    SS_tot = K.sum(K.square(y_true - K.mean(y_true))) \n",
    "    return 1 - ( 1 - SS_res/(SS_tot + K.epsilon()))\n",
    "\n"
   ]
  },
  {
   "cell_type": "code",
   "execution_count": 17,
   "metadata": {},
   "outputs": [],
   "source": [
    "def build_model(layers):\n",
    "    model = Sequential()\n",
    "\n",
    "    # By setting return_sequences to True we are able to stack another LSTM layer\n",
    "    model.add(LSTM(\n",
    "        input_dim=layers[0],\n",
    "        output_dim=layers[1],\n",
    "        return_sequences=True))\n",
    "    model.add(Dropout(0.5))\n",
    "\n",
    "    model.add(LSTM(\n",
    "        layers[2],\n",
    "        return_sequences=False))\n",
    "    model.add(Dropout(0.5))\n",
    "\n",
    "    model.add(Dense(\n",
    "        output_dim=layers[3]))\n",
    "    model.add(Activation(\"linear\"))\n",
    "\n",
    "    start = time.time()\n",
    "    model.compile(loss=\"mse\", optimizer=\"adam\", metrics=['accuracy','mean_squared_error',rmse, r_square])\n",
    "    print(\"Compilation Time : \", time.time() - start)\n",
    "    return model"
   ]
  },
  {
   "cell_type": "code",
   "execution_count": 18,
   "metadata": {},
   "outputs": [],
   "source": [
    "def train_model(train_x, train_y, test_x, test_y):\n",
    "    model = build_model([train_x.shape[2], train_x.shape[1], 200, 1])\n",
    "\n",
    "    try:\n",
    "        result  = model.fit(train_x, train_y, batch_size=40, nb_epoch=200, validation_split=0.1)\n",
    "        predict = model.predict(test_x)\n",
    "        predict = np.reshape(predict, (predict.size, ))\n",
    "    except KeyboardInterrupt:\n",
    "        print(predict)\n",
    "        print(test_y)\n",
    "#     print(predict)\n",
    "#     print(test_y)\n",
    "    try:\n",
    "        fig = plt.figure(1)\n",
    "        plt.plot(predict, 'r:')\n",
    "        plt.plot(test_y, 'g-')\n",
    "        plt.legend(['predict', 'true'])\n",
    "    except Exception as e:\n",
    "        print(e)\n",
    "    return predict, test_y , model, result "
   ]
  },
  {
   "cell_type": "code",
   "execution_count": 19,
   "metadata": {},
   "outputs": [
    {
     "data": {
      "text/plain": [
       "(1909, 10)"
      ]
     },
     "execution_count": 19,
     "metadata": {},
     "output_type": "execute_result"
    }
   ],
   "source": [
    "dd1.shape"
   ]
  },
  {
   "cell_type": "code",
   "execution_count": 21,
   "metadata": {},
   "outputs": [],
   "source": [
    "train_x, train_y, test_x, test_y, scaler =load_data(dd1, sequence_length=10, split=0.88)"
   ]
  },
  {
   "cell_type": "code",
   "execution_count": 22,
   "metadata": {},
   "outputs": [
    {
     "name": "stdout",
     "output_type": "stream",
     "text": [
      "train_x (1670, 10, 10)\n",
      "train_y (1670, 1)\n",
      "test_x (228, 10, 10)\n",
      "test_y (228, 1)\n"
     ]
    }
   ],
   "source": [
    "print(\"train_x\", train_x.shape)\n",
    "print(\"train_y\", train_y.shape)\n",
    "print(\"test_x\", test_x.shape)\n",
    "print(\"test_y\", test_y.shape)"
   ]
  },
  {
   "cell_type": "code",
   "execution_count": 23,
   "metadata": {},
   "outputs": [
    {
     "name": "stderr",
     "output_type": "stream",
     "text": [
      "d:\\ProgramData\\Anaconda3\\lib\\site-packages\\ipykernel_launcher.py:8: UserWarning: The `input_dim` and `input_length` arguments in recurrent layers are deprecated. Use `input_shape` instead.\n",
      "  \n",
      "d:\\ProgramData\\Anaconda3\\lib\\site-packages\\ipykernel_launcher.py:8: UserWarning: Update your `LSTM` call to the Keras 2 API: `LSTM(return_sequences=True, input_shape=(None, 10), units=10)`\n",
      "  \n",
      "d:\\ProgramData\\Anaconda3\\lib\\site-packages\\ipykernel_launcher.py:17: UserWarning: Update your `Dense` call to the Keras 2 API: `Dense(units=1)`\n",
      "d:\\ProgramData\\Anaconda3\\lib\\site-packages\\ipykernel_launcher.py:5: UserWarning: The `nb_epoch` argument in `fit` has been renamed `epochs`.\n",
      "  \"\"\"\n"
     ]
    },
    {
     "name": "stdout",
     "output_type": "stream",
     "text": [
      "Compilation Time :  0.061834096908569336\n",
      "Train on 1503 samples, validate on 167 samples\n",
      "Epoch 1/200\n",
      "1503/1503 [==============================] - 4s 3ms/step - loss: 0.0458 - acc: 6.6534e-04 - mean_squared_error: 0.0458 - rmse: 0.1572 - r_square: -7.4956 - val_loss: 0.0107 - val_acc: 0.0000e+00 - val_mean_squared_error: 0.0107 - val_rmse: 0.0785 - val_r_square: -0.3684\n",
      "Epoch 2/200\n",
      "1503/1503 [==============================] - 2s 1ms/step - loss: 0.0135 - acc: 0.0000e+00 - mean_squared_error: 0.0135 - rmse: 0.0858 - r_square: -0.9218 - val_loss: 0.0090 - val_acc: 0.0000e+00 - val_mean_squared_error: 0.0090 - val_rmse: 0.0712 - val_r_square: -0.1205\n",
      "Epoch 3/200\n",
      "1503/1503 [==============================] - 2s 1ms/step - loss: 0.0120 - acc: 0.0000e+00 - mean_squared_error: 0.0120 - rmse: 0.0790 - r_square: -0.6909 - val_loss: 0.0081 - val_acc: 0.0000e+00 - val_mean_squared_error: 0.0081 - val_rmse: 0.0684 - val_r_square: -0.0044\n",
      "Epoch 4/200\n",
      "1503/1503 [==============================] - 2s 1ms/step - loss: 0.0111 - acc: 0.0000e+00 - mean_squared_error: 0.0111 - rmse: 0.0759 - r_square: -0.6031 - val_loss: 0.0078 - val_acc: 0.0000e+00 - val_mean_squared_error: 0.0078 - val_rmse: 0.0674 - val_r_square: 0.0347\n",
      "Epoch 5/200\n",
      "1503/1503 [==============================] - 2s 1ms/step - loss: 0.0098 - acc: 0.0000e+00 - mean_squared_error: 0.0098 - rmse: 0.0706 - r_square: -0.3905 - val_loss: 0.0082 - val_acc: 0.0000e+00 - val_mean_squared_error: 0.0082 - val_rmse: 0.0683 - val_r_square: -0.0475\n",
      "Epoch 6/200\n",
      "1503/1503 [==============================] - 2s 1ms/step - loss: 0.0095 - acc: 0.0000e+00 - mean_squared_error: 0.0095 - rmse: 0.0701 - r_square: -0.3218 - val_loss: 0.0092 - val_acc: 0.0000e+00 - val_mean_squared_error: 0.0092 - val_rmse: 0.0730 - val_r_square: -0.1745\n",
      "Epoch 7/200\n",
      "1503/1503 [==============================] - 1s 948us/step - loss: 0.0096 - acc: 0.0000e+00 - mean_squared_error: 0.0096 - rmse: 0.0690 - r_square: -0.3418 - val_loss: 0.0074 - val_acc: 0.0000e+00 - val_mean_squared_error: 0.0074 - val_rmse: 0.0648 - val_r_square: 0.0785\n",
      "Epoch 8/200\n",
      "1503/1503 [==============================] - 1s 972us/step - loss: 0.0093 - acc: 0.0000e+00 - mean_squared_error: 0.0093 - rmse: 0.0673 - r_square: -0.2788 - val_loss: 0.0106 - val_acc: 0.0000e+00 - val_mean_squared_error: 0.0106 - val_rmse: 0.0797 - val_r_square: -0.3455\n",
      "Epoch 9/200\n",
      "1503/1503 [==============================] - 1s 970us/step - loss: 0.0089 - acc: 0.0000e+00 - mean_squared_error: 0.0089 - rmse: 0.0656 - r_square: -0.2191 - val_loss: 0.0088 - val_acc: 0.0000e+00 - val_mean_squared_error: 0.0088 - val_rmse: 0.0711 - val_r_square: -0.1247\n",
      "Epoch 10/200\n",
      "1503/1503 [==============================] - 1s 971us/step - loss: 0.0084 - acc: 0.0000e+00 - mean_squared_error: 0.0084 - rmse: 0.0650 - r_square: -0.1666 - val_loss: 0.0071 - val_acc: 0.0000e+00 - val_mean_squared_error: 0.0071 - val_rmse: 0.0628 - val_r_square: 0.1217\n",
      "Epoch 11/200\n",
      "1503/1503 [==============================] - 2s 1ms/step - loss: 0.0087 - acc: 0.0000e+00 - mean_squared_error: 0.0087 - rmse: 0.0648 - r_square: -0.2044 - val_loss: 0.0070 - val_acc: 0.0000e+00 - val_mean_squared_error: 0.0070 - val_rmse: 0.0626 - val_r_square: 0.1453\n",
      "Epoch 12/200\n",
      "1503/1503 [==============================] - 2s 1000us/step - loss: 0.0085 - acc: 0.0000e+00 - mean_squared_error: 0.0085 - rmse: 0.0658 - r_square: -0.2198 - val_loss: 0.0073 - val_acc: 0.0000e+00 - val_mean_squared_error: 0.0073 - val_rmse: 0.0632 - val_r_square: 0.1169\n",
      "Epoch 13/200\n",
      "1503/1503 [==============================] - 2s 1ms/step - loss: 0.0084 - acc: 0.0000e+00 - mean_squared_error: 0.0084 - rmse: 0.0644 - r_square: -0.1460 - val_loss: 0.0079 - val_acc: 0.0000e+00 - val_mean_squared_error: 0.0079 - val_rmse: 0.0662 - val_r_square: 0.0649\n",
      "Epoch 14/200\n",
      "1503/1503 [==============================] - 2s 1ms/step - loss: 0.0083 - acc: 0.0000e+00 - mean_squared_error: 0.0083 - rmse: 0.0639 - r_square: -0.1841 - val_loss: 0.0064 - val_acc: 0.0000e+00 - val_mean_squared_error: 0.0064 - val_rmse: 0.0595 - val_r_square: 0.2180\n",
      "Epoch 15/200\n",
      "1503/1503 [==============================] - 1s 981us/step - loss: 0.0083 - acc: 6.6534e-04 - mean_squared_error: 0.0083 - rmse: 0.0645 - r_square: -0.1454 - val_loss: 0.0070 - val_acc: 0.0000e+00 - val_mean_squared_error: 0.0070 - val_rmse: 0.0627 - val_r_square: 0.1677\n",
      "Epoch 16/200\n",
      "1503/1503 [==============================] - 1s 992us/step - loss: 0.0080 - acc: 0.0000e+00 - mean_squared_error: 0.0080 - rmse: 0.0632 - r_square: -0.1287 - val_loss: 0.0070 - val_acc: 0.0000e+00 - val_mean_squared_error: 0.0070 - val_rmse: 0.0624 - val_r_square: 0.1358\n",
      "Epoch 17/200\n",
      "1503/1503 [==============================] - 1s 959us/step - loss: 0.0080 - acc: 0.0000e+00 - mean_squared_error: 0.0080 - rmse: 0.0633 - r_square: -0.0974 - val_loss: 0.0067 - val_acc: 0.0000e+00 - val_mean_squared_error: 0.0067 - val_rmse: 0.0610 - val_r_square: 0.1834\n",
      "Epoch 18/200\n",
      "1503/1503 [==============================] - 1s 966us/step - loss: 0.0078 - acc: 0.0000e+00 - mean_squared_error: 0.0078 - rmse: 0.0626 - r_square: -0.1014 - val_loss: 0.0063 - val_acc: 0.0000e+00 - val_mean_squared_error: 0.0063 - val_rmse: 0.0589 - val_r_square: 0.2514\n",
      "Epoch 19/200\n",
      "1503/1503 [==============================] - 1s 956us/step - loss: 0.0079 - acc: 0.0000e+00 - mean_squared_error: 0.0079 - rmse: 0.0626 - r_square: -0.1071 - val_loss: 0.0065 - val_acc: 0.0000e+00 - val_mean_squared_error: 0.0065 - val_rmse: 0.0603 - val_r_square: 0.2044\n",
      "Epoch 20/200\n",
      "1503/1503 [==============================] - 1s 994us/step - loss: 0.0075 - acc: 0.0000e+00 - mean_squared_error: 0.0075 - rmse: 0.0604 - r_square: -0.0483 - val_loss: 0.0068 - val_acc: 0.0000e+00 - val_mean_squared_error: 0.0068 - val_rmse: 0.0615 - val_r_square: 0.1731\n",
      "Epoch 21/200\n",
      "1503/1503 [==============================] - 1s 979us/step - loss: 0.0075 - acc: 0.0000e+00 - mean_squared_error: 0.0075 - rmse: 0.0610 - r_square: -0.0556 - val_loss: 0.0065 - val_acc: 0.0000e+00 - val_mean_squared_error: 0.0065 - val_rmse: 0.0606 - val_r_square: 0.2006\n",
      "Epoch 22/200\n",
      "1503/1503 [==============================] - 1s 977us/step - loss: 0.0074 - acc: 0.0000e+00 - mean_squared_error: 0.0074 - rmse: 0.0599 - r_square: -0.0314 - val_loss: 0.0064 - val_acc: 0.0000e+00 - val_mean_squared_error: 0.0064 - val_rmse: 0.0599 - val_r_square: 0.2042\n",
      "Epoch 23/200\n",
      "1503/1503 [==============================] - 1s 968us/step - loss: 0.0070 - acc: 6.6534e-04 - mean_squared_error: 0.0070 - rmse: 0.0593 - r_square: 0.0177 - val_loss: 0.0064 - val_acc: 0.0000e+00 - val_mean_squared_error: 0.0064 - val_rmse: 0.0604 - val_r_square: 0.2051\n",
      "Epoch 24/200\n",
      "1503/1503 [==============================] - 1s 961us/step - loss: 0.0073 - acc: 6.6534e-04 - mean_squared_error: 0.0073 - rmse: 0.0588 - r_square: -0.0196 - val_loss: 0.0066 - val_acc: 0.0000e+00 - val_mean_squared_error: 0.0066 - val_rmse: 0.0615 - val_r_square: 0.1780\n",
      "Epoch 25/200\n",
      "1503/1503 [==============================] - 1s 969us/step - loss: 0.0070 - acc: 6.6534e-04 - mean_squared_error: 0.0070 - rmse: 0.0586 - r_square: 0.0086 - val_loss: 0.0056 - val_acc: 0.0000e+00 - val_mean_squared_error: 0.0056 - val_rmse: 0.0557 - val_r_square: 0.3271\n",
      "Epoch 26/200\n",
      "1503/1503 [==============================] - 1s 959us/step - loss: 0.0072 - acc: 6.6534e-04 - mean_squared_error: 0.0072 - rmse: 0.0588 - r_square: -0.0075 - val_loss: 0.0055 - val_acc: 0.0000e+00 - val_mean_squared_error: 0.0055 - val_rmse: 0.0559 - val_r_square: 0.3340\n",
      "Epoch 27/200\n",
      "1503/1503 [==============================] - 1s 935us/step - loss: 0.0071 - acc: 6.6534e-04 - mean_squared_error: 0.0071 - rmse: 0.0586 - r_square: -0.0330 - val_loss: 0.0065 - val_acc: 0.0000e+00 - val_mean_squared_error: 0.0065 - val_rmse: 0.0596 - val_r_square: 0.2148\n",
      "Epoch 28/200\n",
      "1503/1503 [==============================] - 1s 948us/step - loss: 0.0072 - acc: 6.6534e-04 - mean_squared_error: 0.0072 - rmse: 0.0586 - r_square: -0.0254 - val_loss: 0.0058 - val_acc: 0.0000e+00 - val_mean_squared_error: 0.0058 - val_rmse: 0.0564 - val_r_square: 0.2982\n",
      "Epoch 29/200\n"
     ]
    },
    {
     "name": "stdout",
     "output_type": "stream",
     "text": [
      "1503/1503 [==============================] - 1s 952us/step - loss: 0.0066 - acc: 0.0000e+00 - mean_squared_error: 0.0066 - rmse: 0.0576 - r_square: 0.0659 - val_loss: 0.0056 - val_acc: 0.0000e+00 - val_mean_squared_error: 0.0056 - val_rmse: 0.0555 - val_r_square: 0.3231\n",
      "Epoch 30/200\n",
      "1503/1503 [==============================] - 1s 969us/step - loss: 0.0070 - acc: 6.6534e-04 - mean_squared_error: 0.0070 - rmse: 0.0584 - r_square: 0.0037 - val_loss: 0.0057 - val_acc: 0.0000e+00 - val_mean_squared_error: 0.0057 - val_rmse: 0.0557 - val_r_square: 0.3140\n",
      "Epoch 31/200\n",
      "1503/1503 [==============================] - 1s 944us/step - loss: 0.0068 - acc: 0.0000e+00 - mean_squared_error: 0.0068 - rmse: 0.0579 - r_square: 0.0527 - val_loss: 0.0059 - val_acc: 0.0000e+00 - val_mean_squared_error: 0.0059 - val_rmse: 0.0578 - val_r_square: 0.2611\n",
      "Epoch 32/200\n",
      "1503/1503 [==============================] - 2s 1ms/step - loss: 0.0064 - acc: 6.6534e-04 - mean_squared_error: 0.0064 - rmse: 0.0562 - r_square: 0.0711 - val_loss: 0.0055 - val_acc: 0.0000e+00 - val_mean_squared_error: 0.0055 - val_rmse: 0.0553 - val_r_square: 0.3179\n",
      "Epoch 33/200\n",
      "1503/1503 [==============================] - 2s 1ms/step - loss: 0.0071 - acc: 6.6534e-04 - mean_squared_error: 0.0071 - rmse: 0.0588 - r_square: -0.0032 - val_loss: 0.0059 - val_acc: 0.0000e+00 - val_mean_squared_error: 0.0059 - val_rmse: 0.0573 - val_r_square: 0.2735\n",
      "Epoch 34/200\n",
      "1503/1503 [==============================] - 2s 1ms/step - loss: 0.0068 - acc: 6.6534e-04 - mean_squared_error: 0.0068 - rmse: 0.0592 - r_square: -0.0020 - val_loss: 0.0053 - val_acc: 0.0000e+00 - val_mean_squared_error: 0.0053 - val_rmse: 0.0540 - val_r_square: 0.3436\n",
      "Epoch 35/200\n",
      "1503/1503 [==============================] - 2s 1ms/step - loss: 0.0069 - acc: 6.6534e-04 - mean_squared_error: 0.0069 - rmse: 0.0583 - r_square: 0.0386 - val_loss: 0.0055 - val_acc: 0.0000e+00 - val_mean_squared_error: 0.0055 - val_rmse: 0.0553 - val_r_square: 0.3226\n",
      "Epoch 36/200\n",
      "1503/1503 [==============================] - 2s 1ms/step - loss: 0.0067 - acc: 6.6534e-04 - mean_squared_error: 0.0067 - rmse: 0.0579 - r_square: 0.0708 - val_loss: 0.0060 - val_acc: 0.0000e+00 - val_mean_squared_error: 0.0060 - val_rmse: 0.0576 - val_r_square: 0.2622\n",
      "Epoch 37/200\n",
      "1503/1503 [==============================] - 2s 1ms/step - loss: 0.0069 - acc: 6.6534e-04 - mean_squared_error: 0.0069 - rmse: 0.0564 - r_square: 0.0635 - val_loss: 0.0050 - val_acc: 0.0000e+00 - val_mean_squared_error: 0.0050 - val_rmse: 0.0528 - val_r_square: 0.3807\n",
      "Epoch 38/200\n",
      "1503/1503 [==============================] - 2s 1ms/step - loss: 0.0070 - acc: 0.0000e+00 - mean_squared_error: 0.0070 - rmse: 0.0570 - r_square: 0.0093 - val_loss: 0.0053 - val_acc: 0.0000e+00 - val_mean_squared_error: 0.0053 - val_rmse: 0.0542 - val_r_square: 0.3532\n",
      "Epoch 39/200\n",
      "1503/1503 [==============================] - 2s 1ms/step - loss: 0.0067 - acc: 6.6534e-04 - mean_squared_error: 0.0067 - rmse: 0.0573 - r_square: 0.0511 - val_loss: 0.0062 - val_acc: 0.0000e+00 - val_mean_squared_error: 0.0062 - val_rmse: 0.0589 - val_r_square: 0.2289\n",
      "Epoch 40/200\n",
      "1503/1503 [==============================] - 2s 1ms/step - loss: 0.0062 - acc: 6.6534e-04 - mean_squared_error: 0.0062 - rmse: 0.0561 - r_square: 0.0799 - val_loss: 0.0050 - val_acc: 0.0000e+00 - val_mean_squared_error: 0.0050 - val_rmse: 0.0529 - val_r_square: 0.3821\n",
      "Epoch 41/200\n",
      "1503/1503 [==============================] - 2s 1ms/step - loss: 0.0060 - acc: 6.6534e-04 - mean_squared_error: 0.0060 - rmse: 0.0534 - r_square: 0.1334 - val_loss: 0.0052 - val_acc: 0.0000e+00 - val_mean_squared_error: 0.0052 - val_rmse: 0.0537 - val_r_square: 0.3580\n",
      "Epoch 42/200\n",
      "1503/1503 [==============================] - 2s 1ms/step - loss: 0.0063 - acc: 6.6534e-04 - mean_squared_error: 0.0063 - rmse: 0.0545 - r_square: 0.1014 - val_loss: 0.0054 - val_acc: 0.0000e+00 - val_mean_squared_error: 0.0054 - val_rmse: 0.0545 - val_r_square: 0.3371\n",
      "Epoch 43/200\n",
      "1503/1503 [==============================] - 2s 1ms/step - loss: 0.0061 - acc: 6.6534e-04 - mean_squared_error: 0.0061 - rmse: 0.0543 - r_square: 0.1060 - val_loss: 0.0062 - val_acc: 0.0000e+00 - val_mean_squared_error: 0.0062 - val_rmse: 0.0598 - val_r_square: 0.2032\n",
      "Epoch 44/200\n",
      "1503/1503 [==============================] - 2s 1ms/step - loss: 0.0067 - acc: 6.6534e-04 - mean_squared_error: 0.0067 - rmse: 0.0552 - r_square: 0.0859 - val_loss: 0.0055 - val_acc: 0.0000e+00 - val_mean_squared_error: 0.0055 - val_rmse: 0.0552 - val_r_square: 0.3123\n",
      "Epoch 45/200\n",
      "1503/1503 [==============================] - 2s 1ms/step - loss: 0.0063 - acc: 6.6534e-04 - mean_squared_error: 0.0063 - rmse: 0.0548 - r_square: 0.1131 - val_loss: 0.0062 - val_acc: 0.0000e+00 - val_mean_squared_error: 0.0062 - val_rmse: 0.0598 - val_r_square: 0.2098\n",
      "Epoch 46/200\n",
      "1503/1503 [==============================] - 2s 1ms/step - loss: 0.0062 - acc: 6.6534e-04 - mean_squared_error: 0.0062 - rmse: 0.0546 - r_square: 0.1297 - val_loss: 0.0050 - val_acc: 0.0000e+00 - val_mean_squared_error: 0.0050 - val_rmse: 0.0526 - val_r_square: 0.3931\n",
      "Epoch 47/200\n",
      "1503/1503 [==============================] - 1s 965us/step - loss: 0.0062 - acc: 6.6534e-04 - mean_squared_error: 0.0062 - rmse: 0.0535 - r_square: 0.1170 - val_loss: 0.0056 - val_acc: 0.0000e+00 - val_mean_squared_error: 0.0056 - val_rmse: 0.0552 - val_r_square: 0.3222\n",
      "Epoch 48/200\n",
      "1503/1503 [==============================] - 2s 1ms/step - loss: 0.0063 - acc: 6.6534e-04 - mean_squared_error: 0.0063 - rmse: 0.0537 - r_square: 0.1221 - val_loss: 0.0051 - val_acc: 0.0000e+00 - val_mean_squared_error: 0.0051 - val_rmse: 0.0529 - val_r_square: 0.3803\n",
      "Epoch 49/200\n",
      "1503/1503 [==============================] - 2s 999us/step - loss: 0.0063 - acc: 6.6534e-04 - mean_squared_error: 0.0063 - rmse: 0.0545 - r_square: 0.1229 - val_loss: 0.0055 - val_acc: 0.0000e+00 - val_mean_squared_error: 0.0055 - val_rmse: 0.0552 - val_r_square: 0.3284\n",
      "Epoch 50/200\n",
      "1503/1503 [==============================] - 2s 1ms/step - loss: 0.0062 - acc: 6.6534e-04 - mean_squared_error: 0.0062 - rmse: 0.0538 - r_square: 0.1175 - val_loss: 0.0049 - val_acc: 0.0000e+00 - val_mean_squared_error: 0.0049 - val_rmse: 0.0520 - val_r_square: 0.4008\n",
      "Epoch 51/200\n",
      "1503/1503 [==============================] - 1s 985us/step - loss: 0.0061 - acc: 6.6534e-04 - mean_squared_error: 0.0061 - rmse: 0.0533 - r_square: 0.1048 - val_loss: 0.0057 - val_acc: 0.0000e+00 - val_mean_squared_error: 0.0057 - val_rmse: 0.0565 - val_r_square: 0.2913\n",
      "Epoch 52/200\n",
      "1503/1503 [==============================] - 2s 999us/step - loss: 0.0062 - acc: 6.6534e-04 - mean_squared_error: 0.0062 - rmse: 0.0542 - r_square: 0.1436 - val_loss: 0.0063 - val_acc: 0.0000e+00 - val_mean_squared_error: 0.0063 - val_rmse: 0.0600 - val_r_square: 0.2104\n",
      "Epoch 53/200\n",
      "1503/1503 [==============================] - 1s 982us/step - loss: 0.0062 - acc: 6.6534e-04 - mean_squared_error: 0.0062 - rmse: 0.0538 - r_square: 0.1386 - val_loss: 0.0051 - val_acc: 0.0000e+00 - val_mean_squared_error: 0.0051 - val_rmse: 0.0523 - val_r_square: 0.3964\n",
      "Epoch 54/200\n",
      "1503/1503 [==============================] - 1s 960us/step - loss: 0.0062 - acc: 6.6534e-04 - mean_squared_error: 0.0062 - rmse: 0.0537 - r_square: 0.1236 - val_loss: 0.0057 - val_acc: 0.0000e+00 - val_mean_squared_error: 0.0057 - val_rmse: 0.0560 - val_r_square: 0.3093\n",
      "Epoch 55/200\n",
      "1503/1503 [==============================] - 2s 1ms/step - loss: 0.0063 - acc: 6.6534e-04 - mean_squared_error: 0.0063 - rmse: 0.0544 - r_square: 0.1265 - val_loss: 0.0053 - val_acc: 0.0000e+00 - val_mean_squared_error: 0.0053 - val_rmse: 0.0536 - val_r_square: 0.3703\n",
      "Epoch 56/200\n",
      "1503/1503 [==============================] - 2s 1ms/step - loss: 0.0057 - acc: 6.6534e-04 - mean_squared_error: 0.0057 - rmse: 0.0518 - r_square: 0.2131 - val_loss: 0.0053 - val_acc: 0.0000e+00 - val_mean_squared_error: 0.0053 - val_rmse: 0.0539 - val_r_square: 0.3568\n",
      "Epoch 57/200\n",
      "1503/1503 [==============================] - 2s 998us/step - loss: 0.0060 - acc: 0.0000e+00 - mean_squared_error: 0.0060 - rmse: 0.0520 - r_square: 0.1547 - val_loss: 0.0052 - val_acc: 0.0000e+00 - val_mean_squared_error: 0.0052 - val_rmse: 0.0536 - val_r_square: 0.3576\n",
      "Epoch 58/200\n"
     ]
    },
    {
     "name": "stdout",
     "output_type": "stream",
     "text": [
      "1503/1503 [==============================] - 1s 995us/step - loss: 0.0058 - acc: 0.0000e+00 - mean_squared_error: 0.0058 - rmse: 0.0520 - r_square: 0.2003 - val_loss: 0.0048 - val_acc: 0.0000e+00 - val_mean_squared_error: 0.0048 - val_rmse: 0.0512 - val_r_square: 0.4153\n",
      "Epoch 59/200\n",
      "1503/1503 [==============================] - 1s 987us/step - loss: 0.0058 - acc: 6.6534e-04 - mean_squared_error: 0.0058 - rmse: 0.0526 - r_square: 0.1801 - val_loss: 0.0052 - val_acc: 0.0000e+00 - val_mean_squared_error: 0.0052 - val_rmse: 0.0533 - val_r_square: 0.3708\n",
      "Epoch 60/200\n",
      "1503/1503 [==============================] - 1s 977us/step - loss: 0.0060 - acc: 6.6534e-04 - mean_squared_error: 0.0060 - rmse: 0.0523 - r_square: 0.1504 - val_loss: 0.0048 - val_acc: 0.0000e+00 - val_mean_squared_error: 0.0048 - val_rmse: 0.0518 - val_r_square: 0.4210\n",
      "Epoch 61/200\n",
      "1503/1503 [==============================] - 1s 968us/step - loss: 0.0059 - acc: 6.6534e-04 - mean_squared_error: 0.0059 - rmse: 0.0524 - r_square: 0.1631 - val_loss: 0.0050 - val_acc: 0.0000e+00 - val_mean_squared_error: 0.0050 - val_rmse: 0.0520 - val_r_square: 0.4086\n",
      "Epoch 62/200\n",
      "1503/1503 [==============================] - 1s 988us/step - loss: 0.0059 - acc: 6.6534e-04 - mean_squared_error: 0.0059 - rmse: 0.0518 - r_square: 0.1744 - val_loss: 0.0049 - val_acc: 0.0000e+00 - val_mean_squared_error: 0.0049 - val_rmse: 0.0517 - val_r_square: 0.4147\n",
      "Epoch 63/200\n",
      "1503/1503 [==============================] - 1s 930us/step - loss: 0.0057 - acc: 6.6534e-04 - mean_squared_error: 0.0057 - rmse: 0.0518 - r_square: 0.1642 - val_loss: 0.0048 - val_acc: 0.0000e+00 - val_mean_squared_error: 0.0048 - val_rmse: 0.0515 - val_r_square: 0.4153\n",
      "Epoch 64/200\n",
      "1503/1503 [==============================] - 2s 1ms/step - loss: 0.0060 - acc: 6.6534e-04 - mean_squared_error: 0.0060 - rmse: 0.0513 - r_square: 0.1759 - val_loss: 0.0052 - val_acc: 0.0000e+00 - val_mean_squared_error: 0.0052 - val_rmse: 0.0534 - val_r_square: 0.3734\n",
      "Epoch 65/200\n",
      "1503/1503 [==============================] - 1s 977us/step - loss: 0.0056 - acc: 6.6534e-04 - mean_squared_error: 0.0056 - rmse: 0.0518 - r_square: 0.1992 - val_loss: 0.0052 - val_acc: 0.0000e+00 - val_mean_squared_error: 0.0052 - val_rmse: 0.0534 - val_r_square: 0.3795\n",
      "Epoch 66/200\n",
      "1503/1503 [==============================] - 1s 961us/step - loss: 0.0053 - acc: 6.6534e-04 - mean_squared_error: 0.0053 - rmse: 0.0495 - r_square: 0.2473 - val_loss: 0.0054 - val_acc: 0.0000e+00 - val_mean_squared_error: 0.0054 - val_rmse: 0.0548 - val_r_square: 0.3304\n",
      "Epoch 67/200\n",
      "1503/1503 [==============================] - 1s 912us/step - loss: 0.0058 - acc: 6.6534e-04 - mean_squared_error: 0.0058 - rmse: 0.0511 - r_square: 0.2019 - val_loss: 0.0058 - val_acc: 0.0000e+00 - val_mean_squared_error: 0.0058 - val_rmse: 0.0567 - val_r_square: 0.2897\n",
      "Epoch 68/200\n",
      "1503/1503 [==============================] - 1s 964us/step - loss: 0.0055 - acc: 6.6534e-04 - mean_squared_error: 0.0055 - rmse: 0.0500 - r_square: 0.2340 - val_loss: 0.0050 - val_acc: 0.0000e+00 - val_mean_squared_error: 0.0050 - val_rmse: 0.0526 - val_r_square: 0.3881\n",
      "Epoch 69/200\n",
      "1503/1503 [==============================] - 1s 975us/step - loss: 0.0056 - acc: 6.6534e-04 - mean_squared_error: 0.0056 - rmse: 0.0518 - r_square: 0.1904 - val_loss: 0.0059 - val_acc: 0.0000e+00 - val_mean_squared_error: 0.0059 - val_rmse: 0.0587 - val_r_square: 0.2458\n",
      "Epoch 70/200\n",
      "1503/1503 [==============================] - 1s 943us/step - loss: 0.0056 - acc: 6.6534e-04 - mean_squared_error: 0.0056 - rmse: 0.0510 - r_square: 0.2097 - val_loss: 0.0056 - val_acc: 0.0000e+00 - val_mean_squared_error: 0.0056 - val_rmse: 0.0562 - val_r_square: 0.3035\n",
      "Epoch 71/200\n",
      "1503/1503 [==============================] - 2s 1ms/step - loss: 0.0057 - acc: 6.6534e-04 - mean_squared_error: 0.0057 - rmse: 0.0512 - r_square: 0.1948 - val_loss: 0.0049 - val_acc: 0.0000e+00 - val_mean_squared_error: 0.0049 - val_rmse: 0.0520 - val_r_square: 0.4183\n",
      "Epoch 72/200\n",
      "1503/1503 [==============================] - 1s 952us/step - loss: 0.0058 - acc: 6.6534e-04 - mean_squared_error: 0.0058 - rmse: 0.0511 - r_square: 0.2172 - val_loss: 0.0052 - val_acc: 0.0000e+00 - val_mean_squared_error: 0.0052 - val_rmse: 0.0532 - val_r_square: 0.3695\n",
      "Epoch 73/200\n",
      "1503/1503 [==============================] - 1s 952us/step - loss: 0.0056 - acc: 6.6534e-04 - mean_squared_error: 0.0056 - rmse: 0.0501 - r_square: 0.2068 - val_loss: 0.0050 - val_acc: 0.0000e+00 - val_mean_squared_error: 0.0050 - val_rmse: 0.0524 - val_r_square: 0.3871\n",
      "Epoch 74/200\n",
      "1503/1503 [==============================] - 1s 932us/step - loss: 0.0055 - acc: 6.6534e-04 - mean_squared_error: 0.0055 - rmse: 0.0507 - r_square: 0.2287 - val_loss: 0.0052 - val_acc: 0.0000e+00 - val_mean_squared_error: 0.0052 - val_rmse: 0.0526 - val_r_square: 0.3916\n",
      "Epoch 75/200\n",
      "1503/1503 [==============================] - 1s 938us/step - loss: 0.0052 - acc: 6.6534e-04 - mean_squared_error: 0.0052 - rmse: 0.0499 - r_square: 0.2574 - val_loss: 0.0056 - val_acc: 0.0000e+00 - val_mean_squared_error: 0.0056 - val_rmse: 0.0556 - val_r_square: 0.3164\n",
      "Epoch 76/200\n",
      "1503/1503 [==============================] - 1s 941us/step - loss: 0.0053 - acc: 6.6534e-04 - mean_squared_error: 0.0053 - rmse: 0.0491 - r_square: 0.2619 - val_loss: 0.0062 - val_acc: 0.0000e+00 - val_mean_squared_error: 0.0062 - val_rmse: 0.0596 - val_r_square: 0.2223\n",
      "Epoch 77/200\n",
      "1503/1503 [==============================] - 1s 931us/step - loss: 0.0052 - acc: 6.6534e-04 - mean_squared_error: 0.0052 - rmse: 0.0490 - r_square: 0.2453 - val_loss: 0.0064 - val_acc: 0.0000e+00 - val_mean_squared_error: 0.0064 - val_rmse: 0.0617 - val_r_square: 0.1731\n",
      "Epoch 78/200\n",
      "1503/1503 [==============================] - 1s 976us/step - loss: 0.0056 - acc: 6.6534e-04 - mean_squared_error: 0.0056 - rmse: 0.0513 - r_square: 0.1935 - val_loss: 0.0048 - val_acc: 0.0000e+00 - val_mean_squared_error: 0.0048 - val_rmse: 0.0511 - val_r_square: 0.4226\n",
      "Epoch 79/200\n",
      "1503/1503 [==============================] - 1s 914us/step - loss: 0.0052 - acc: 6.6534e-04 - mean_squared_error: 0.0052 - rmse: 0.0488 - r_square: 0.2570 - val_loss: 0.0048 - val_acc: 0.0000e+00 - val_mean_squared_error: 0.0048 - val_rmse: 0.0508 - val_r_square: 0.4204\n",
      "Epoch 80/200\n",
      "1503/1503 [==============================] - 1s 953us/step - loss: 0.0051 - acc: 6.6534e-04 - mean_squared_error: 0.0051 - rmse: 0.0495 - r_square: 0.2568 - val_loss: 0.0047 - val_acc: 0.0000e+00 - val_mean_squared_error: 0.0047 - val_rmse: 0.0501 - val_r_square: 0.4393\n",
      "Epoch 81/200\n",
      "1503/1503 [==============================] - 1s 921us/step - loss: 0.0049 - acc: 6.6534e-04 - mean_squared_error: 0.0049 - rmse: 0.0485 - r_square: 0.3018 - val_loss: 0.0050 - val_acc: 0.0000e+00 - val_mean_squared_error: 0.0050 - val_rmse: 0.0521 - val_r_square: 0.3978\n",
      "Epoch 82/200\n",
      "1503/1503 [==============================] - 1s 943us/step - loss: 0.0054 - acc: 6.6534e-04 - mean_squared_error: 0.0054 - rmse: 0.0503 - r_square: 0.2219 - val_loss: 0.0049 - val_acc: 0.0000e+00 - val_mean_squared_error: 0.0049 - val_rmse: 0.0515 - val_r_square: 0.4064\n",
      "Epoch 83/200\n",
      "1503/1503 [==============================] - 1s 924us/step - loss: 0.0051 - acc: 6.6534e-04 - mean_squared_error: 0.0051 - rmse: 0.0476 - r_square: 0.2717 - val_loss: 0.0048 - val_acc: 0.0000e+00 - val_mean_squared_error: 0.0048 - val_rmse: 0.0506 - val_r_square: 0.4298\n",
      "Epoch 84/200\n",
      "1503/1503 [==============================] - 1s 971us/step - loss: 0.0054 - acc: 6.6534e-04 - mean_squared_error: 0.0054 - rmse: 0.0489 - r_square: 0.2506 - val_loss: 0.0052 - val_acc: 0.0000e+00 - val_mean_squared_error: 0.0052 - val_rmse: 0.0534 - val_r_square: 0.3746\n",
      "Epoch 85/200\n",
      "1503/1503 [==============================] - 1s 952us/step - loss: 0.0051 - acc: 6.6534e-04 - mean_squared_error: 0.0051 - rmse: 0.0484 - r_square: 0.2161 - val_loss: 0.0055 - val_acc: 0.0000e+00 - val_mean_squared_error: 0.0055 - val_rmse: 0.0553 - val_r_square: 0.3261\n",
      "Epoch 86/200\n",
      "1503/1503 [==============================] - 1s 919us/step - loss: 0.0051 - acc: 6.6534e-04 - mean_squared_error: 0.0051 - rmse: 0.0480 - r_square: 0.2848 - val_loss: 0.0045 - val_acc: 0.0000e+00 - val_mean_squared_error: 0.0045 - val_rmse: 0.0495 - val_r_square: 0.4604\n"
     ]
    },
    {
     "name": "stdout",
     "output_type": "stream",
     "text": [
      "Epoch 87/200\n",
      "1503/1503 [==============================] - 1s 947us/step - loss: 0.0052 - acc: 6.6534e-04 - mean_squared_error: 0.0052 - rmse: 0.0480 - r_square: 0.2697 - val_loss: 0.0053 - val_acc: 0.0000e+00 - val_mean_squared_error: 0.0053 - val_rmse: 0.0546 - val_r_square: 0.3460\n",
      "Epoch 88/200\n",
      "1503/1503 [==============================] - 1s 955us/step - loss: 0.0052 - acc: 6.6534e-04 - mean_squared_error: 0.0052 - rmse: 0.0483 - r_square: 0.2626 - val_loss: 0.0054 - val_acc: 0.0000e+00 - val_mean_squared_error: 0.0054 - val_rmse: 0.0545 - val_r_square: 0.3461\n",
      "Epoch 89/200\n",
      "1503/1503 [==============================] - 1s 987us/step - loss: 0.0050 - acc: 6.6534e-04 - mean_squared_error: 0.0050 - rmse: 0.0483 - r_square: 0.2921 - val_loss: 0.0049 - val_acc: 0.0000e+00 - val_mean_squared_error: 0.0049 - val_rmse: 0.0517 - val_r_square: 0.4057\n",
      "Epoch 90/200\n",
      "1503/1503 [==============================] - 1s 960us/step - loss: 0.0051 - acc: 6.6534e-04 - mean_squared_error: 0.0051 - rmse: 0.0479 - r_square: 0.2847 - val_loss: 0.0051 - val_acc: 0.0000e+00 - val_mean_squared_error: 0.0051 - val_rmse: 0.0528 - val_r_square: 0.3795\n",
      "Epoch 91/200\n",
      "1503/1503 [==============================] - 1s 925us/step - loss: 0.0050 - acc: 6.6534e-04 - mean_squared_error: 0.0050 - rmse: 0.0480 - r_square: 0.2758 - val_loss: 0.0054 - val_acc: 0.0000e+00 - val_mean_squared_error: 0.0054 - val_rmse: 0.0551 - val_r_square: 0.3305\n",
      "Epoch 92/200\n",
      "1503/1503 [==============================] - 2s 1ms/step - loss: 0.0051 - acc: 6.6534e-04 - mean_squared_error: 0.0051 - rmse: 0.0477 - r_square: 0.2684 - val_loss: 0.0051 - val_acc: 0.0000e+00 - val_mean_squared_error: 0.0051 - val_rmse: 0.0533 - val_r_square: 0.3696\n",
      "Epoch 93/200\n",
      "1503/1503 [==============================] - 1s 976us/step - loss: 0.0051 - acc: 6.6534e-04 - mean_squared_error: 0.0051 - rmse: 0.0482 - r_square: 0.3020 - val_loss: 0.0045 - val_acc: 0.0000e+00 - val_mean_squared_error: 0.0045 - val_rmse: 0.0490 - val_r_square: 0.4658\n",
      "Epoch 94/200\n",
      "1503/1503 [==============================] - 1s 922us/step - loss: 0.0050 - acc: 6.6534e-04 - mean_squared_error: 0.0050 - rmse: 0.0471 - r_square: 0.3052 - val_loss: 0.0053 - val_acc: 0.0000e+00 - val_mean_squared_error: 0.0053 - val_rmse: 0.0541 - val_r_square: 0.3462\n",
      "Epoch 95/200\n",
      "1503/1503 [==============================] - 1s 931us/step - loss: 0.0049 - acc: 6.6534e-04 - mean_squared_error: 0.0049 - rmse: 0.0469 - r_square: 0.3070 - val_loss: 0.0054 - val_acc: 0.0000e+00 - val_mean_squared_error: 0.0054 - val_rmse: 0.0552 - val_r_square: 0.3244\n",
      "Epoch 96/200\n",
      "1503/1503 [==============================] - 1s 928us/step - loss: 0.0051 - acc: 6.6534e-04 - mean_squared_error: 0.0051 - rmse: 0.0477 - r_square: 0.2914 - val_loss: 0.0050 - val_acc: 0.0000e+00 - val_mean_squared_error: 0.0050 - val_rmse: 0.0525 - val_r_square: 0.3850\n",
      "Epoch 97/200\n",
      "1503/1503 [==============================] - 1s 906us/step - loss: 0.0049 - acc: 6.6534e-04 - mean_squared_error: 0.0049 - rmse: 0.0478 - r_square: 0.2911 - val_loss: 0.0046 - val_acc: 0.0000e+00 - val_mean_squared_error: 0.0046 - val_rmse: 0.0496 - val_r_square: 0.4605\n",
      "Epoch 98/200\n",
      "1503/1503 [==============================] - 1s 945us/step - loss: 0.0047 - acc: 6.6534e-04 - mean_squared_error: 0.0047 - rmse: 0.0466 - r_square: 0.3124 - val_loss: 0.0050 - val_acc: 0.0000e+00 - val_mean_squared_error: 0.0050 - val_rmse: 0.0525 - val_r_square: 0.3943\n",
      "Epoch 99/200\n",
      "1503/1503 [==============================] - 1s 965us/step - loss: 0.0049 - acc: 6.6534e-04 - mean_squared_error: 0.0049 - rmse: 0.0472 - r_square: 0.3122 - val_loss: 0.0054 - val_acc: 0.0000e+00 - val_mean_squared_error: 0.0054 - val_rmse: 0.0555 - val_r_square: 0.3182\n",
      "Epoch 100/200\n",
      "1503/1503 [==============================] - 1s 972us/step - loss: 0.0049 - acc: 6.6534e-04 - mean_squared_error: 0.0049 - rmse: 0.0469 - r_square: 0.3017 - val_loss: 0.0049 - val_acc: 0.0000e+00 - val_mean_squared_error: 0.0049 - val_rmse: 0.0524 - val_r_square: 0.3857\n",
      "Epoch 101/200\n",
      "1503/1503 [==============================] - 1s 904us/step - loss: 0.0051 - acc: 6.6534e-04 - mean_squared_error: 0.0051 - rmse: 0.0473 - r_square: 0.2780 - val_loss: 0.0053 - val_acc: 0.0000e+00 - val_mean_squared_error: 0.0053 - val_rmse: 0.0545 - val_r_square: 0.3384\n",
      "Epoch 102/200\n",
      "1503/1503 [==============================] - 1s 913us/step - loss: 0.0048 - acc: 6.6534e-04 - mean_squared_error: 0.0048 - rmse: 0.0463 - r_square: 0.3391 - val_loss: 0.0052 - val_acc: 0.0000e+00 - val_mean_squared_error: 0.0052 - val_rmse: 0.0539 - val_r_square: 0.3589\n",
      "Epoch 103/200\n",
      "1503/1503 [==============================] - 1s 903us/step - loss: 0.0048 - acc: 6.6534e-04 - mean_squared_error: 0.0048 - rmse: 0.0467 - r_square: 0.2874 - val_loss: 0.0053 - val_acc: 0.0000e+00 - val_mean_squared_error: 0.0053 - val_rmse: 0.0542 - val_r_square: 0.3490\n",
      "Epoch 104/200\n",
      "1503/1503 [==============================] - 1s 915us/step - loss: 0.0046 - acc: 6.6534e-04 - mean_squared_error: 0.0046 - rmse: 0.0453 - r_square: 0.3498 - val_loss: 0.0048 - val_acc: 0.0000e+00 - val_mean_squared_error: 0.0048 - val_rmse: 0.0511 - val_r_square: 0.4134\n",
      "Epoch 105/200\n",
      "1503/1503 [==============================] - 1s 920us/step - loss: 0.0046 - acc: 6.6534e-04 - mean_squared_error: 0.0046 - rmse: 0.0460 - r_square: 0.3601 - val_loss: 0.0044 - val_acc: 0.0000e+00 - val_mean_squared_error: 0.0044 - val_rmse: 0.0489 - val_r_square: 0.4586\n",
      "Epoch 106/200\n",
      "1503/1503 [==============================] - 1s 920us/step - loss: 0.0045 - acc: 6.6534e-04 - mean_squared_error: 0.0045 - rmse: 0.0459 - r_square: 0.3429 - val_loss: 0.0047 - val_acc: 0.0000e+00 - val_mean_squared_error: 0.0047 - val_rmse: 0.0507 - val_r_square: 0.4210\n",
      "Epoch 107/200\n",
      "1503/1503 [==============================] - 1s 905us/step - loss: 0.0047 - acc: 6.6534e-04 - mean_squared_error: 0.0047 - rmse: 0.0458 - r_square: 0.3523 - val_loss: 0.0043 - val_acc: 0.0000e+00 - val_mean_squared_error: 0.0043 - val_rmse: 0.0482 - val_r_square: 0.4815\n",
      "Epoch 108/200\n",
      "1503/1503 [==============================] - 1s 899us/step - loss: 0.0049 - acc: 6.6534e-04 - mean_squared_error: 0.0049 - rmse: 0.0467 - r_square: 0.3218 - val_loss: 0.0042 - val_acc: 0.0000e+00 - val_mean_squared_error: 0.0042 - val_rmse: 0.0478 - val_r_square: 0.4914\n",
      "Epoch 109/200\n",
      "1503/1503 [==============================] - 1s 908us/step - loss: 0.0048 - acc: 6.6534e-04 - mean_squared_error: 0.0048 - rmse: 0.0464 - r_square: 0.3089 - val_loss: 0.0047 - val_acc: 0.0000e+00 - val_mean_squared_error: 0.0047 - val_rmse: 0.0506 - val_r_square: 0.4292\n",
      "Epoch 110/200\n",
      "1503/1503 [==============================] - ETA: 0s - loss: 0.0048 - acc: 6.9444e-04 - mean_squared_error: 0.0048 - rmse: 0.0462 - r_square: 0.29 - 1s 941us/step - loss: 0.0048 - acc: 6.6534e-04 - mean_squared_error: 0.0048 - rmse: 0.0462 - r_square: 0.3053 - val_loss: 0.0044 - val_acc: 0.0000e+00 - val_mean_squared_error: 0.0044 - val_rmse: 0.0487 - val_r_square: 0.4727\n",
      "Epoch 111/200\n",
      "1503/1503 [==============================] - 1s 909us/step - loss: 0.0047 - acc: 6.6534e-04 - mean_squared_error: 0.0047 - rmse: 0.0458 - r_square: 0.3233 - val_loss: 0.0043 - val_acc: 0.0000e+00 - val_mean_squared_error: 0.0043 - val_rmse: 0.0480 - val_r_square: 0.4864\n",
      "Epoch 112/200\n",
      "1503/1503 [==============================] - 1s 913us/step - loss: 0.0045 - acc: 6.6534e-04 - mean_squared_error: 0.0045 - rmse: 0.0456 - r_square: 0.3594 - val_loss: 0.0049 - val_acc: 0.0000e+00 - val_mean_squared_error: 0.0049 - val_rmse: 0.0517 - val_r_square: 0.4079\n",
      "Epoch 113/200\n",
      "1503/1503 [==============================] - 1s 930us/step - loss: 0.0047 - acc: 6.6534e-04 - mean_squared_error: 0.0047 - rmse: 0.0453 - r_square: 0.3354 - val_loss: 0.0045 - val_acc: 0.0000e+00 - val_mean_squared_error: 0.0045 - val_rmse: 0.0493 - val_r_square: 0.4527\n",
      "Epoch 114/200\n",
      "1503/1503 [==============================] - 1s 893us/step - loss: 0.0046 - acc: 6.6534e-04 - mean_squared_error: 0.0046 - rmse: 0.0443 - r_square: 0.3499 - val_loss: 0.0047 - val_acc: 0.0000e+00 - val_mean_squared_error: 0.0047 - val_rmse: 0.0506 - val_r_square: 0.4301\n",
      "Epoch 115/200\n"
     ]
    },
    {
     "name": "stdout",
     "output_type": "stream",
     "text": [
      "1503/1503 [==============================] - 1s 936us/step - loss: 0.0047 - acc: 6.6534e-04 - mean_squared_error: 0.0047 - rmse: 0.0458 - r_square: 0.3454 - val_loss: 0.0048 - val_acc: 0.0000e+00 - val_mean_squared_error: 0.0048 - val_rmse: 0.0518 - val_r_square: 0.3873\n",
      "Epoch 116/200\n",
      "1503/1503 [==============================] - 1s 937us/step - loss: 0.0044 - acc: 6.6534e-04 - mean_squared_error: 0.0044 - rmse: 0.0444 - r_square: 0.3756 - val_loss: 0.0042 - val_acc: 0.0000e+00 - val_mean_squared_error: 0.0042 - val_rmse: 0.0473 - val_r_square: 0.5032\n",
      "Epoch 117/200\n",
      "1503/1503 [==============================] - 1s 940us/step - loss: 0.0046 - acc: 6.6534e-04 - mean_squared_error: 0.0046 - rmse: 0.0454 - r_square: 0.3725 - val_loss: 0.0048 - val_acc: 0.0000e+00 - val_mean_squared_error: 0.0048 - val_rmse: 0.0522 - val_r_square: 0.3868\n",
      "Epoch 118/200\n",
      "1503/1503 [==============================] - 1s 949us/step - loss: 0.0044 - acc: 6.6534e-04 - mean_squared_error: 0.0044 - rmse: 0.0440 - r_square: 0.3753 - val_loss: 0.0044 - val_acc: 0.0000e+00 - val_mean_squared_error: 0.0044 - val_rmse: 0.0493 - val_r_square: 0.4575\n",
      "Epoch 119/200\n",
      "1503/1503 [==============================] - 2s 1ms/step - loss: 0.0043 - acc: 6.6534e-04 - mean_squared_error: 0.0043 - rmse: 0.0434 - r_square: 0.3780 - val_loss: 0.0045 - val_acc: 0.0000e+00 - val_mean_squared_error: 0.0045 - val_rmse: 0.0496 - val_r_square: 0.4553\n",
      "Epoch 120/200\n",
      "1503/1503 [==============================] - 1s 976us/step - loss: 0.0045 - acc: 6.6534e-04 - mean_squared_error: 0.0045 - rmse: 0.0442 - r_square: 0.3487 - val_loss: 0.0046 - val_acc: 0.0000e+00 - val_mean_squared_error: 0.0046 - val_rmse: 0.0501 - val_r_square: 0.4306\n",
      "Epoch 121/200\n",
      "1503/1503 [==============================] - 1s 918us/step - loss: 0.0042 - acc: 6.6534e-04 - mean_squared_error: 0.0042 - rmse: 0.0424 - r_square: 0.4276 - val_loss: 0.0039 - val_acc: 0.0000e+00 - val_mean_squared_error: 0.0039 - val_rmse: 0.0458 - val_r_square: 0.5337\n",
      "Epoch 122/200\n",
      "1503/1503 [==============================] - 1s 940us/step - loss: 0.0041 - acc: 6.6534e-04 - mean_squared_error: 0.0041 - rmse: 0.0429 - r_square: 0.4164 - val_loss: 0.0040 - val_acc: 0.0000e+00 - val_mean_squared_error: 0.0040 - val_rmse: 0.0469 - val_r_square: 0.5126\n",
      "Epoch 123/200\n",
      "1503/1503 [==============================] - 1s 931us/step - loss: 0.0043 - acc: 6.6534e-04 - mean_squared_error: 0.0043 - rmse: 0.0436 - r_square: 0.3932 - val_loss: 0.0041 - val_acc: 0.0000e+00 - val_mean_squared_error: 0.0041 - val_rmse: 0.0476 - val_r_square: 0.4790\n",
      "Epoch 124/200\n",
      "1503/1503 [==============================] - 2s 1ms/step - loss: 0.0044 - acc: 6.6534e-04 - mean_squared_error: 0.0044 - rmse: 0.0436 - r_square: 0.3847 - val_loss: 0.0045 - val_acc: 0.0000e+00 - val_mean_squared_error: 0.0045 - val_rmse: 0.0496 - val_r_square: 0.4356\n",
      "Epoch 125/200\n",
      "1503/1503 [==============================] - 2s 1ms/step - loss: 0.0045 - acc: 6.6534e-04 - mean_squared_error: 0.0045 - rmse: 0.0440 - r_square: 0.3693 - val_loss: 0.0043 - val_acc: 0.0000e+00 - val_mean_squared_error: 0.0043 - val_rmse: 0.0481 - val_r_square: 0.4810\n",
      "Epoch 126/200\n",
      "1503/1503 [==============================] - 1s 989us/step - loss: 0.0040 - acc: 6.6534e-04 - mean_squared_error: 0.0040 - rmse: 0.0426 - r_square: 0.4282 - val_loss: 0.0039 - val_acc: 0.0000e+00 - val_mean_squared_error: 0.0039 - val_rmse: 0.0461 - val_r_square: 0.5314\n",
      "Epoch 127/200\n",
      "1503/1503 [==============================] - 2s 1ms/step - loss: 0.0040 - acc: 6.6534e-04 - mean_squared_error: 0.0040 - rmse: 0.0424 - r_square: 0.4330 - val_loss: 0.0040 - val_acc: 0.0000e+00 - val_mean_squared_error: 0.0040 - val_rmse: 0.0467 - val_r_square: 0.5098\n",
      "Epoch 128/200\n",
      "1503/1503 [==============================] - 2s 1ms/step - loss: 0.0041 - acc: 6.6534e-04 - mean_squared_error: 0.0041 - rmse: 0.0430 - r_square: 0.4364 - val_loss: 0.0038 - val_acc: 0.0000e+00 - val_mean_squared_error: 0.0038 - val_rmse: 0.0450 - val_r_square: 0.5359\n",
      "Epoch 129/200\n",
      "1503/1503 [==============================] - 1s 942us/step - loss: 0.0039 - acc: 6.6534e-04 - mean_squared_error: 0.0039 - rmse: 0.0417 - r_square: 0.4340 - val_loss: 0.0038 - val_acc: 0.0000e+00 - val_mean_squared_error: 0.0038 - val_rmse: 0.0452 - val_r_square: 0.5348\n",
      "Epoch 130/200\n",
      "1503/1503 [==============================] - 1s 955us/step - loss: 0.0041 - acc: 6.6534e-04 - mean_squared_error: 0.0041 - rmse: 0.0415 - r_square: 0.4346 - val_loss: 0.0037 - val_acc: 0.0000e+00 - val_mean_squared_error: 0.0037 - val_rmse: 0.0447 - val_r_square: 0.5522\n",
      "Epoch 131/200\n",
      "1503/1503 [==============================] - 1s 944us/step - loss: 0.0042 - acc: 6.6534e-04 - mean_squared_error: 0.0042 - rmse: 0.0425 - r_square: 0.4211 - val_loss: 0.0041 - val_acc: 0.0000e+00 - val_mean_squared_error: 0.0041 - val_rmse: 0.0473 - val_r_square: 0.4937\n",
      "Epoch 132/200\n",
      "1503/1503 [==============================] - 1s 898us/step - loss: 0.0039 - acc: 6.6534e-04 - mean_squared_error: 0.0039 - rmse: 0.0413 - r_square: 0.4436 - val_loss: 0.0037 - val_acc: 0.0000e+00 - val_mean_squared_error: 0.0037 - val_rmse: 0.0443 - val_r_square: 0.5550\n",
      "Epoch 133/200\n",
      "1503/1503 [==============================] - 1s 944us/step - loss: 0.0038 - acc: 6.6534e-04 - mean_squared_error: 0.0038 - rmse: 0.0411 - r_square: 0.4544 - val_loss: 0.0036 - val_acc: 0.0000e+00 - val_mean_squared_error: 0.0036 - val_rmse: 0.0436 - val_r_square: 0.5706\n",
      "Epoch 134/200\n",
      "1503/1503 [==============================] - 1s 976us/step - loss: 0.0038 - acc: 6.6534e-04 - mean_squared_error: 0.0038 - rmse: 0.0410 - r_square: 0.4570 - val_loss: 0.0036 - val_acc: 0.0000e+00 - val_mean_squared_error: 0.0036 - val_rmse: 0.0438 - val_r_square: 0.5585\n",
      "Epoch 135/200\n",
      "1503/1503 [==============================] - 1s 964us/step - loss: 0.0037 - acc: 6.6534e-04 - mean_squared_error: 0.0037 - rmse: 0.0411 - r_square: 0.4630 - val_loss: 0.0037 - val_acc: 0.0000e+00 - val_mean_squared_error: 0.0037 - val_rmse: 0.0440 - val_r_square: 0.5458\n",
      "Epoch 136/200\n",
      "1503/1503 [==============================] - 2s 999us/step - loss: 0.0038 - acc: 6.6534e-04 - mean_squared_error: 0.0038 - rmse: 0.0407 - r_square: 0.4589 - val_loss: 0.0035 - val_acc: 0.0000e+00 - val_mean_squared_error: 0.0035 - val_rmse: 0.0429 - val_r_square: 0.5765\n",
      "Epoch 137/200\n",
      "1503/1503 [==============================] - 1s 951us/step - loss: 0.0034 - acc: 6.6534e-04 - mean_squared_error: 0.0034 - rmse: 0.0389 - r_square: 0.5045 - val_loss: 0.0036 - val_acc: 0.0000e+00 - val_mean_squared_error: 0.0036 - val_rmse: 0.0438 - val_r_square: 0.5659\n",
      "Epoch 138/200\n",
      "1503/1503 [==============================] - 2s 1ms/step - loss: 0.0037 - acc: 6.6534e-04 - mean_squared_error: 0.0037 - rmse: 0.0399 - r_square: 0.4629 - val_loss: 0.0037 - val_acc: 0.0000e+00 - val_mean_squared_error: 0.0037 - val_rmse: 0.0443 - val_r_square: 0.5576\n",
      "Epoch 139/200\n",
      "1503/1503 [==============================] - 1s 987us/step - loss: 0.0038 - acc: 6.6534e-04 - mean_squared_error: 0.0038 - rmse: 0.0403 - r_square: 0.4692 - val_loss: 0.0036 - val_acc: 0.0000e+00 - val_mean_squared_error: 0.0036 - val_rmse: 0.0437 - val_r_square: 0.5490\n",
      "Epoch 140/200\n",
      "1503/1503 [==============================] - 1s 977us/step - loss: 0.0037 - acc: 6.6534e-04 - mean_squared_error: 0.0037 - rmse: 0.0401 - r_square: 0.4681 - val_loss: 0.0037 - val_acc: 0.0000e+00 - val_mean_squared_error: 0.0037 - val_rmse: 0.0443 - val_r_square: 0.5489\n",
      "Epoch 141/200\n",
      "1503/1503 [==============================] - 1s 948us/step - loss: 0.0037 - acc: 6.6534e-04 - mean_squared_error: 0.0037 - rmse: 0.0399 - r_square: 0.4877 - val_loss: 0.0037 - val_acc: 0.0000e+00 - val_mean_squared_error: 0.0037 - val_rmse: 0.0440 - val_r_square: 0.5550\n",
      "Epoch 142/200\n",
      "1503/1503 [==============================] - 1s 946us/step - loss: 0.0037 - acc: 6.6534e-04 - mean_squared_error: 0.0037 - rmse: 0.0393 - r_square: 0.4780 - val_loss: 0.0036 - val_acc: 0.0000e+00 - val_mean_squared_error: 0.0036 - val_rmse: 0.0431 - val_r_square: 0.5771\n",
      "Epoch 143/200\n",
      "1503/1503 [==============================] - 1s 931us/step - loss: 0.0038 - acc: 6.6534e-04 - mean_squared_error: 0.0038 - rmse: 0.0402 - r_square: 0.4631 - val_loss: 0.0041 - val_acc: 0.0000e+00 - val_mean_squared_error: 0.0041 - val_rmse: 0.0472 - val_r_square: 0.4897\n"
     ]
    },
    {
     "name": "stdout",
     "output_type": "stream",
     "text": [
      "Epoch 144/200\n",
      "1503/1503 [==============================] - 1s 915us/step - loss: 0.0035 - acc: 6.6534e-04 - mean_squared_error: 0.0035 - rmse: 0.0389 - r_square: 0.4993 - val_loss: 0.0033 - val_acc: 0.0000e+00 - val_mean_squared_error: 0.0033 - val_rmse: 0.0410 - val_r_square: 0.6022\n",
      "Epoch 145/200\n",
      "1503/1503 [==============================] - 1s 990us/step - loss: 0.0035 - acc: 6.6534e-04 - mean_squared_error: 0.0035 - rmse: 0.0389 - r_square: 0.4994 - val_loss: 0.0036 - val_acc: 0.0000e+00 - val_mean_squared_error: 0.0036 - val_rmse: 0.0431 - val_r_square: 0.5710\n",
      "Epoch 146/200\n",
      "1503/1503 [==============================] - 1s 942us/step - loss: 0.0035 - acc: 6.6534e-04 - mean_squared_error: 0.0035 - rmse: 0.0386 - r_square: 0.4927 - val_loss: 0.0039 - val_acc: 0.0000e+00 - val_mean_squared_error: 0.0039 - val_rmse: 0.0451 - val_r_square: 0.5243\n",
      "Epoch 147/200\n",
      "1503/1503 [==============================] - 2s 1ms/step - loss: 0.0035 - acc: 6.6534e-04 - mean_squared_error: 0.0035 - rmse: 0.0390 - r_square: 0.5102 - val_loss: 0.0035 - val_acc: 0.0000e+00 - val_mean_squared_error: 0.0035 - val_rmse: 0.0428 - val_r_square: 0.5671\n",
      "Epoch 148/200\n",
      "1503/1503 [==============================] - 1s 955us/step - loss: 0.0036 - acc: 6.6534e-04 - mean_squared_error: 0.0036 - rmse: 0.0397 - r_square: 0.4750 - val_loss: 0.0041 - val_acc: 0.0000e+00 - val_mean_squared_error: 0.0041 - val_rmse: 0.0473 - val_r_square: 0.4842\n",
      "Epoch 149/200\n",
      "1503/1503 [==============================] - 1s 922us/step - loss: 0.0035 - acc: 6.6534e-04 - mean_squared_error: 0.0035 - rmse: 0.0391 - r_square: 0.4897 - val_loss: 0.0035 - val_acc: 0.0000e+00 - val_mean_squared_error: 0.0035 - val_rmse: 0.0424 - val_r_square: 0.5774\n",
      "Epoch 150/200\n",
      "1503/1503 [==============================] - 1s 990us/step - loss: 0.0035 - acc: 6.6534e-04 - mean_squared_error: 0.0035 - rmse: 0.0392 - r_square: 0.5089 - val_loss: 0.0038 - val_acc: 0.0000e+00 - val_mean_squared_error: 0.0038 - val_rmse: 0.0445 - val_r_square: 0.5450\n",
      "Epoch 151/200\n",
      "1503/1503 [==============================] - 2s 1000us/step - loss: 0.0036 - acc: 6.6534e-04 - mean_squared_error: 0.0036 - rmse: 0.0397 - r_square: 0.4931 - val_loss: 0.0039 - val_acc: 0.0000e+00 - val_mean_squared_error: 0.0039 - val_rmse: 0.0457 - val_r_square: 0.5095\n",
      "Epoch 152/200\n",
      "1503/1503 [==============================] - 1s 969us/step - loss: 0.0035 - acc: 6.6534e-04 - mean_squared_error: 0.0035 - rmse: 0.0392 - r_square: 0.4871 - val_loss: 0.0039 - val_acc: 0.0000e+00 - val_mean_squared_error: 0.0039 - val_rmse: 0.0449 - val_r_square: 0.5312\n",
      "Epoch 153/200\n",
      "1503/1503 [==============================] - 2s 1ms/step - loss: 0.0032 - acc: 6.6534e-04 - mean_squared_error: 0.0032 - rmse: 0.0376 - r_square: 0.5347 - val_loss: 0.0037 - val_acc: 0.0000e+00 - val_mean_squared_error: 0.0037 - val_rmse: 0.0441 - val_r_square: 0.5410\n",
      "Epoch 154/200\n",
      "1503/1503 [==============================] - 1s 991us/step - loss: 0.0034 - acc: 6.6534e-04 - mean_squared_error: 0.0034 - rmse: 0.0381 - r_square: 0.5270 - val_loss: 0.0037 - val_acc: 0.0000e+00 - val_mean_squared_error: 0.0037 - val_rmse: 0.0442 - val_r_square: 0.5411\n",
      "Epoch 155/200\n",
      "1503/1503 [==============================] - 1s 981us/step - loss: 0.0033 - acc: 6.6534e-04 - mean_squared_error: 0.0033 - rmse: 0.0379 - r_square: 0.5372 - val_loss: 0.0037 - val_acc: 0.0000e+00 - val_mean_squared_error: 0.0037 - val_rmse: 0.0436 - val_r_square: 0.5502\n",
      "Epoch 156/200\n",
      "1503/1503 [==============================] - 1s 918us/step - loss: 0.0035 - acc: 6.6534e-04 - mean_squared_error: 0.0035 - rmse: 0.0385 - r_square: 0.5050 - val_loss: 0.0038 - val_acc: 0.0000e+00 - val_mean_squared_error: 0.0038 - val_rmse: 0.0443 - val_r_square: 0.5442\n",
      "Epoch 157/200\n",
      "1503/1503 [==============================] - 1s 939us/step - loss: 0.0033 - acc: 6.6534e-04 - mean_squared_error: 0.0033 - rmse: 0.0373 - r_square: 0.5256 - val_loss: 0.0039 - val_acc: 0.0000e+00 - val_mean_squared_error: 0.0039 - val_rmse: 0.0448 - val_r_square: 0.5239\n",
      "Epoch 158/200\n",
      "1503/1503 [==============================] - 2s 1ms/step - loss: 0.0033 - acc: 6.6534e-04 - mean_squared_error: 0.0033 - rmse: 0.0381 - r_square: 0.5129 - val_loss: 0.0035 - val_acc: 0.0000e+00 - val_mean_squared_error: 0.0035 - val_rmse: 0.0423 - val_r_square: 0.5780\n",
      "Epoch 159/200\n",
      "1503/1503 [==============================] - 1s 960us/step - loss: 0.0034 - acc: 6.6534e-04 - mean_squared_error: 0.0034 - rmse: 0.0389 - r_square: 0.5046 - val_loss: 0.0036 - val_acc: 0.0000e+00 - val_mean_squared_error: 0.0036 - val_rmse: 0.0428 - val_r_square: 0.5647\n",
      "Epoch 160/200\n",
      "1503/1503 [==============================] - 1s 906us/step - loss: 0.0031 - acc: 6.6534e-04 - mean_squared_error: 0.0031 - rmse: 0.0374 - r_square: 0.5468 - val_loss: 0.0037 - val_acc: 0.0000e+00 - val_mean_squared_error: 0.0037 - val_rmse: 0.0436 - val_r_square: 0.5504\n",
      "Epoch 161/200\n",
      "1503/1503 [==============================] - 2s 1ms/step - loss: 0.0033 - acc: 6.6534e-04 - mean_squared_error: 0.0033 - rmse: 0.0382 - r_square: 0.5145 - val_loss: 0.0039 - val_acc: 0.0000e+00 - val_mean_squared_error: 0.0039 - val_rmse: 0.0452 - val_r_square: 0.5200\n",
      "Epoch 162/200\n",
      "1503/1503 [==============================] - 1s 938us/step - loss: 0.0033 - acc: 6.6534e-04 - mean_squared_error: 0.0033 - rmse: 0.0379 - r_square: 0.5376 - val_loss: 0.0040 - val_acc: 0.0000e+00 - val_mean_squared_error: 0.0040 - val_rmse: 0.0461 - val_r_square: 0.5033\n",
      "Epoch 163/200\n",
      "1503/1503 [==============================] - 1s 900us/step - loss: 0.0033 - acc: 6.6534e-04 - mean_squared_error: 0.0033 - rmse: 0.0379 - r_square: 0.5429 - val_loss: 0.0037 - val_acc: 0.0000e+00 - val_mean_squared_error: 0.0037 - val_rmse: 0.0437 - val_r_square: 0.5491\n",
      "Epoch 164/200\n",
      "1503/1503 [==============================] - 1s 924us/step - loss: 0.0036 - acc: 6.6534e-04 - mean_squared_error: 0.0036 - rmse: 0.0381 - r_square: 0.4866 - val_loss: 0.0038 - val_acc: 0.0000e+00 - val_mean_squared_error: 0.0038 - val_rmse: 0.0445 - val_r_square: 0.5311\n",
      "Epoch 165/200\n",
      "1503/1503 [==============================] - 1s 919us/step - loss: 0.0033 - acc: 6.6534e-04 - mean_squared_error: 0.0033 - rmse: 0.0377 - r_square: 0.5017 - val_loss: 0.0038 - val_acc: 0.0000e+00 - val_mean_squared_error: 0.0038 - val_rmse: 0.0444 - val_r_square: 0.5438\n",
      "Epoch 166/200\n",
      "1503/1503 [==============================] - 1s 963us/step - loss: 0.0033 - acc: 6.6534e-04 - mean_squared_error: 0.0033 - rmse: 0.0380 - r_square: 0.5457 - val_loss: 0.0037 - val_acc: 0.0000e+00 - val_mean_squared_error: 0.0037 - val_rmse: 0.0433 - val_r_square: 0.5590\n",
      "Epoch 167/200\n",
      "1503/1503 [==============================] - 1s 905us/step - loss: 0.0032 - acc: 6.6534e-04 - mean_squared_error: 0.0032 - rmse: 0.0379 - r_square: 0.5338 - val_loss: 0.0038 - val_acc: 0.0000e+00 - val_mean_squared_error: 0.0038 - val_rmse: 0.0444 - val_r_square: 0.5400\n",
      "Epoch 168/200\n",
      "1503/1503 [==============================] - 2s 1ms/step - loss: 0.0033 - acc: 6.6534e-04 - mean_squared_error: 0.0033 - rmse: 0.0380 - r_square: 0.5167 - val_loss: 0.0036 - val_acc: 0.0000e+00 - val_mean_squared_error: 0.0036 - val_rmse: 0.0426 - val_r_square: 0.5707\n",
      "Epoch 169/200\n",
      "1503/1503 [==============================] - 2s 1ms/step - loss: 0.0032 - acc: 6.6534e-04 - mean_squared_error: 0.0032 - rmse: 0.0370 - r_square: 0.5431 - val_loss: 0.0043 - val_acc: 0.0000e+00 - val_mean_squared_error: 0.0043 - val_rmse: 0.0484 - val_r_square: 0.4532\n",
      "Epoch 170/200\n",
      "1503/1503 [==============================] - 1s 919us/step - loss: 0.0033 - acc: 6.6534e-04 - mean_squared_error: 0.0033 - rmse: 0.0376 - r_square: 0.5321 - val_loss: 0.0037 - val_acc: 0.0000e+00 - val_mean_squared_error: 0.0037 - val_rmse: 0.0431 - val_r_square: 0.5613\n",
      "Epoch 171/200\n",
      "1503/1503 [==============================] - 1s 905us/step - loss: 0.0032 - acc: 6.6534e-04 - mean_squared_error: 0.0032 - rmse: 0.0375 - r_square: 0.5120 - val_loss: 0.0037 - val_acc: 0.0000e+00 - val_mean_squared_error: 0.0037 - val_rmse: 0.0441 - val_r_square: 0.5426\n",
      "Epoch 172/200\n",
      "1503/1503 [==============================] - 1s 940us/step - loss: 0.0032 - acc: 6.6534e-04 - mean_squared_error: 0.0032 - rmse: 0.0378 - r_square: 0.5398 - val_loss: 0.0037 - val_acc: 0.0000e+00 - val_mean_squared_error: 0.0037 - val_rmse: 0.0434 - val_r_square: 0.5580\n"
     ]
    },
    {
     "name": "stdout",
     "output_type": "stream",
     "text": [
      "Epoch 173/200\n",
      "1503/1503 [==============================] - 1s 928us/step - loss: 0.0030 - acc: 6.6534e-04 - mean_squared_error: 0.0030 - rmse: 0.0369 - r_square: 0.5693 - val_loss: 0.0037 - val_acc: 0.0000e+00 - val_mean_squared_error: 0.0037 - val_rmse: 0.0439 - val_r_square: 0.5492\n",
      "Epoch 174/200\n",
      "1503/1503 [==============================] - 1s 971us/step - loss: 0.0033 - acc: 6.6534e-04 - mean_squared_error: 0.0033 - rmse: 0.0372 - r_square: 0.5216 - val_loss: 0.0037 - val_acc: 0.0000e+00 - val_mean_squared_error: 0.0037 - val_rmse: 0.0438 - val_r_square: 0.5464\n",
      "Epoch 175/200\n",
      "1503/1503 [==============================] - 2s 1ms/step - loss: 0.0031 - acc: 6.6534e-04 - mean_squared_error: 0.0031 - rmse: 0.0369 - r_square: 0.5311 - val_loss: 0.0044 - val_acc: 0.0000e+00 - val_mean_squared_error: 0.0044 - val_rmse: 0.0491 - val_r_square: 0.4527\n",
      "Epoch 176/200\n",
      "1503/1503 [==============================] - 2s 1ms/step - loss: 0.0032 - acc: 6.6534e-04 - mean_squared_error: 0.0032 - rmse: 0.0376 - r_square: 0.5289 - val_loss: 0.0037 - val_acc: 0.0000e+00 - val_mean_squared_error: 0.0037 - val_rmse: 0.0440 - val_r_square: 0.5382\n",
      "Epoch 177/200\n",
      "1503/1503 [==============================] - 1s 945us/step - loss: 0.0029 - acc: 6.6534e-04 - mean_squared_error: 0.0029 - rmse: 0.0360 - r_square: 0.5857 - val_loss: 0.0039 - val_acc: 0.0000e+00 - val_mean_squared_error: 0.0039 - val_rmse: 0.0455 - val_r_square: 0.5136\n",
      "Epoch 178/200\n",
      "1503/1503 [==============================] - 2s 1ms/step - loss: 0.0032 - acc: 6.6534e-04 - mean_squared_error: 0.0032 - rmse: 0.0375 - r_square: 0.5345 - val_loss: 0.0035 - val_acc: 0.0000e+00 - val_mean_squared_error: 0.0035 - val_rmse: 0.0423 - val_r_square: 0.5825\n",
      "Epoch 179/200\n",
      "1503/1503 [==============================] - 1s 970us/step - loss: 0.0030 - acc: 6.6534e-04 - mean_squared_error: 0.0030 - rmse: 0.0362 - r_square: 0.5818 - val_loss: 0.0036 - val_acc: 0.0000e+00 - val_mean_squared_error: 0.0036 - val_rmse: 0.0428 - val_r_square: 0.5692\n",
      "Epoch 180/200\n",
      "1503/1503 [==============================] - 2s 1ms/step - loss: 0.0032 - acc: 6.6534e-04 - mean_squared_error: 0.0032 - rmse: 0.0369 - r_square: 0.5565 - val_loss: 0.0039 - val_acc: 0.0000e+00 - val_mean_squared_error: 0.0039 - val_rmse: 0.0455 - val_r_square: 0.5051\n",
      "Epoch 181/200\n",
      "1503/1503 [==============================] - 1s 978us/step - loss: 0.0031 - acc: 6.6534e-04 - mean_squared_error: 0.0031 - rmse: 0.0370 - r_square: 0.5524 - val_loss: 0.0037 - val_acc: 0.0000e+00 - val_mean_squared_error: 0.0037 - val_rmse: 0.0438 - val_r_square: 0.5515\n",
      "Epoch 182/200\n",
      "1503/1503 [==============================] - 2s 1ms/step - loss: 0.0031 - acc: 6.6534e-04 - mean_squared_error: 0.0031 - rmse: 0.0367 - r_square: 0.5482 - val_loss: 0.0038 - val_acc: 0.0000e+00 - val_mean_squared_error: 0.0038 - val_rmse: 0.0438 - val_r_square: 0.5544\n",
      "Epoch 183/200\n",
      "1503/1503 [==============================] - 1s 982us/step - loss: 0.0031 - acc: 6.6534e-04 - mean_squared_error: 0.0031 - rmse: 0.0367 - r_square: 0.5309 - val_loss: 0.0037 - val_acc: 0.0000e+00 - val_mean_squared_error: 0.0037 - val_rmse: 0.0442 - val_r_square: 0.5342\n",
      "Epoch 184/200\n",
      "1503/1503 [==============================] - 1s 952us/step - loss: 0.0030 - acc: 6.6534e-04 - mean_squared_error: 0.0030 - rmse: 0.0360 - r_square: 0.5589 - val_loss: 0.0036 - val_acc: 0.0000e+00 - val_mean_squared_error: 0.0036 - val_rmse: 0.0423 - val_r_square: 0.5787\n",
      "Epoch 185/200\n",
      "1503/1503 [==============================] - 1s 938us/step - loss: 0.0032 - acc: 6.6534e-04 - mean_squared_error: 0.0032 - rmse: 0.0375 - r_square: 0.5283 - val_loss: 0.0039 - val_acc: 0.0000e+00 - val_mean_squared_error: 0.0039 - val_rmse: 0.0460 - val_r_square: 0.5110\n",
      "Epoch 186/200\n",
      "1503/1503 [==============================] - 1s 915us/step - loss: 0.0031 - acc: 6.6534e-04 - mean_squared_error: 0.0031 - rmse: 0.0368 - r_square: 0.5401 - val_loss: 0.0039 - val_acc: 0.0000e+00 - val_mean_squared_error: 0.0039 - val_rmse: 0.0451 - val_r_square: 0.5307\n",
      "Epoch 187/200\n",
      "1503/1503 [==============================] - 1s 919us/step - loss: 0.0031 - acc: 6.6534e-04 - mean_squared_error: 0.0031 - rmse: 0.0366 - r_square: 0.5460 - val_loss: 0.0039 - val_acc: 0.0000e+00 - val_mean_squared_error: 0.0039 - val_rmse: 0.0446 - val_r_square: 0.5422\n",
      "Epoch 188/200\n",
      "1503/1503 [==============================] - 1s 899us/step - loss: 0.0033 - acc: 6.6534e-04 - mean_squared_error: 0.0033 - rmse: 0.0380 - r_square: 0.5192 - val_loss: 0.0039 - val_acc: 0.0000e+00 - val_mean_squared_error: 0.0039 - val_rmse: 0.0458 - val_r_square: 0.5109\n",
      "Epoch 189/200\n",
      "1503/1503 [==============================] - 2s 1ms/step - loss: 0.0031 - acc: 6.6534e-04 - mean_squared_error: 0.0031 - rmse: 0.0373 - r_square: 0.5304 - val_loss: 0.0038 - val_acc: 0.0000e+00 - val_mean_squared_error: 0.0038 - val_rmse: 0.0447 - val_r_square: 0.5242\n",
      "Epoch 190/200\n",
      "1503/1503 [==============================] - 1s 970us/step - loss: 0.0034 - acc: 6.6534e-04 - mean_squared_error: 0.0034 - rmse: 0.0380 - r_square: 0.5002 - val_loss: 0.0038 - val_acc: 0.0000e+00 - val_mean_squared_error: 0.0038 - val_rmse: 0.0444 - val_r_square: 0.5477\n",
      "Epoch 191/200\n",
      "1503/1503 [==============================] - 2s 1ms/step - loss: 0.0032 - acc: 6.6534e-04 - mean_squared_error: 0.0032 - rmse: 0.0371 - r_square: 0.5584 - val_loss: 0.0036 - val_acc: 0.0000e+00 - val_mean_squared_error: 0.0036 - val_rmse: 0.0425 - val_r_square: 0.5724\n",
      "Epoch 192/200\n",
      "1503/1503 [==============================] - 2s 1ms/step - loss: 0.0031 - acc: 6.6534e-04 - mean_squared_error: 0.0031 - rmse: 0.0372 - r_square: 0.5583 - val_loss: 0.0042 - val_acc: 0.0000e+00 - val_mean_squared_error: 0.0042 - val_rmse: 0.0471 - val_r_square: 0.4886\n",
      "Epoch 193/200\n",
      "1503/1503 [==============================] - 2s 1ms/step - loss: 0.0030 - acc: 6.6534e-04 - mean_squared_error: 0.0030 - rmse: 0.0361 - r_square: 0.5617 - val_loss: 0.0038 - val_acc: 0.0000e+00 - val_mean_squared_error: 0.0038 - val_rmse: 0.0441 - val_r_square: 0.5414\n",
      "Epoch 194/200\n",
      "1503/1503 [==============================] - 2s 1ms/step - loss: 0.0031 - acc: 6.6534e-04 - mean_squared_error: 0.0031 - rmse: 0.0368 - r_square: 0.5753 - val_loss: 0.0040 - val_acc: 0.0000e+00 - val_mean_squared_error: 0.0040 - val_rmse: 0.0464 - val_r_square: 0.4950\n",
      "Epoch 195/200\n",
      "1503/1503 [==============================] - 2s 1ms/step - loss: 0.0032 - acc: 6.6534e-04 - mean_squared_error: 0.0032 - rmse: 0.0378 - r_square: 0.5240 - val_loss: 0.0037 - val_acc: 0.0000e+00 - val_mean_squared_error: 0.0037 - val_rmse: 0.0443 - val_r_square: 0.5446\n",
      "Epoch 196/200\n",
      "1503/1503 [==============================] - 2s 1ms/step - loss: 0.0032 - acc: 6.6534e-04 - mean_squared_error: 0.0032 - rmse: 0.0375 - r_square: 0.5448 - val_loss: 0.0038 - val_acc: 0.0000e+00 - val_mean_squared_error: 0.0038 - val_rmse: 0.0442 - val_r_square: 0.5416\n",
      "Epoch 197/200\n",
      "1503/1503 [==============================] - 2s 1ms/step - loss: 0.0029 - acc: 6.6534e-04 - mean_squared_error: 0.0029 - rmse: 0.0359 - r_square: 0.5772 - val_loss: 0.0038 - val_acc: 0.0000e+00 - val_mean_squared_error: 0.0038 - val_rmse: 0.0444 - val_r_square: 0.5431\n",
      "Epoch 198/200\n",
      "1503/1503 [==============================] - 2s 1ms/step - loss: 0.0029 - acc: 6.6534e-04 - mean_squared_error: 0.0029 - rmse: 0.0357 - r_square: 0.5778 - val_loss: 0.0037 - val_acc: 0.0000e+00 - val_mean_squared_error: 0.0037 - val_rmse: 0.0440 - val_r_square: 0.5382\n",
      "Epoch 199/200\n",
      "1503/1503 [==============================] - 2s 2ms/step - loss: 0.0032 - acc: 6.6534e-04 - mean_squared_error: 0.0032 - rmse: 0.0368 - r_square: 0.5527 - val_loss: 0.0037 - val_acc: 0.0000e+00 - val_mean_squared_error: 0.0037 - val_rmse: 0.0433 - val_r_square: 0.5676\n",
      "Epoch 200/200\n",
      "1503/1503 [==============================] - 2s 1ms/step - loss: 0.0029 - acc: 6.6534e-04 - mean_squared_error: 0.0029 - rmse: 0.0364 - r_square: 0.5874 - val_loss: 0.0036 - val_acc: 0.0000e+00 - val_mean_squared_error: 0.0036 - val_rmse: 0.0430 - val_r_square: 0.5640\n"
     ]
    },
    {
     "data": {
      "image/png": "[encoded data removed]",
      "text/plain": [
       "<Figure size 432x288 with 1 Axes>"
      ]
     },
     "metadata": {},
     "output_type": "display_data"
    },
    {
     "data": {
      "image/png": "[encoded data removed]",
      "text/plain": [
       "<Figure size 432x288 with 1 Axes>"
      ]
     },
     "metadata": {},
     "output_type": "display_data"
    }
   ],
   "source": [
    "predict_y, test_y, model,result = train_model(train_x, train_y, test_x, test_y)\n",
    "predict_y = scaler.inverse_transform([[i] for i in predict_y])\n",
    "test_y = scaler.inverse_transform(test_y)\n",
    "fig2 = plt.figure(2)\n",
    "plt.plot(predict_y, 'g:')\n",
    "plt.plot(test_y, 'r-')\n",
    "plt.legend(['predict', 'true'])\n",
    "plt.show()\n"
   ]
  },
  {
   "cell_type": "code",
   "execution_count": 24,
   "metadata": {},
   "outputs": [],
   "source": [
    "# wx, gtk, osx, tk, empty uses default\n",
    "%matplotlib qt\n",
    "plt.clf()\n",
    "# fig2 = plt.figure()\n",
    "plt.plot(predict_y, 'b-',label = 'predict ave change')\n",
    "plt.plot(test_y, 'r-', label = 'true ave change')\n",
    "plt.title('601318SH Pingan Financial Group change price prediction')\n",
    "plt.xlabel('Days')\n",
    "plt.ylabel('change price')\n",
    "plt.legend()\n",
    "plt.show()\n",
    "\n"
   ]
  },
  {
   "cell_type": "code",
   "execution_count": 24,
   "metadata": {
    "scrolled": true
   },
   "outputs": [
    {
     "name": "stdout",
     "output_type": "stream",
     "text": [
      "380 380\n",
      "257 122\n"
     ]
    }
   ],
   "source": [
    "trend_list = [1,]\n",
    "for i in range(1, len(predict_y)):\n",
    "    if predict_y[i] <= quantile033:\n",
    "        trend_list.append(-1)\n",
    "    elif quantile033 <= predict_y[i] <= quantile067:\n",
    "        trend_list.append(0)\n",
    "    else:\n",
    "        trend_list.append(1)\n",
    "\n",
    "real_trend_list = [1,]\n",
    "for i in range(1, len(test_y)):\n",
    "    if test_y[i] <= quantile033:\n",
    "        real_trend_list.append(-1)\n",
    "    elif quantile033 <= test_y[i] <= quantile067:\n",
    "        real_trend_list.append(0)\n",
    "    else:\n",
    "        real_trend_list.append(1)\n",
    "        \n",
    "\n",
    "\n",
    "true_count = 0\n",
    "false_count = 0\n",
    "\n",
    "\n",
    "print(len(test_y), len(predict_y))\n",
    "\n",
    "pair_list = []\n",
    "\n",
    "for i in range(len(predict_y)-1):\n",
    "    pair_list.append([real_trend_list[i], trend_list[i]])\n",
    "    if real_trend_list[i] == trend_list[i]:\n",
    "        true_count = true_count + 1\n",
    "    else:\n",
    "        false_count = false_count + 1\n",
    "\n",
    "# print(pair_list)\n",
    "print(true_count, false_count)\n"
   ]
  },
  {
   "cell_type": "code",
   "execution_count": 25,
   "metadata": {},
   "outputs": [
    {
     "data": {
      "text/plain": [
       "(380, 380)"
      ]
     },
     "execution_count": 25,
     "metadata": {},
     "output_type": "execute_result"
    }
   ],
   "source": [
    "len(real_trend_list) , len(trend_list)"
   ]
  },
  {
   "cell_type": "code",
   "execution_count": 26,
   "metadata": {},
   "outputs": [
    {
     "data": {
      "text/plain": [
       "0.6763157894736842"
      ]
     },
     "execution_count": 26,
     "metadata": {},
     "output_type": "execute_result"
    }
   ],
   "source": [
    "accuracy = true_count/ len(predict_y)\n",
    "accuracy"
   ]
  },
  {
   "cell_type": "code",
   "execution_count": 27,
   "metadata": {},
   "outputs": [
    {
     "name": "stdout",
     "output_type": "stream",
     "text": [
      "预测数据 <keras.callbacks.History object at 0x000001FA7B73DB38>\n",
      "真实数据 <keras.callbacks.History object at 0x000001FA7B73DB38>\n"
     ]
    }
   ],
   "source": [
    "from collections import Counter\n",
    "\n",
    "prediction_result = Counter(trend_list)\n",
    "print (\"预测数据\", result)\n",
    "prediction_result = Counter(real_trend_list)\n",
    "print (\"真实数据\", result)"
   ]
  },
  {
   "cell_type": "code",
   "execution_count": 28,
   "metadata": {},
   "outputs": [],
   "source": [
    "# count = 0\n",
    "# for i in predict_y:\n",
    "#     if quantile033 < i < quantile067:\n",
    "#         count += 1\n",
    "\n",
    "# print(count)"
   ]
  },
  {
   "cell_type": "code",
   "execution_count": 29,
   "metadata": {},
   "outputs": [
    {
     "name": "stdout",
     "output_type": "stream",
     "text": [
      "_________________________________________________________________\n",
      "Layer (type)                 Output Shape              Param #   \n",
      "=================================================================\n",
      "lstm_1 (LSTM)                (None, None, 10)          840       \n",
      "_________________________________________________________________\n",
      "dropout_1 (Dropout)          (None, None, 10)          0         \n",
      "_________________________________________________________________\n",
      "lstm_2 (LSTM)                (None, 200)               168800    \n",
      "_________________________________________________________________\n",
      "dropout_2 (Dropout)          (None, 200)               0         \n",
      "_________________________________________________________________\n",
      "dense_1 (Dense)              (None, 1)                 201       \n",
      "_________________________________________________________________\n",
      "activation_1 (Activation)    (None, 1)                 0         \n",
      "=================================================================\n",
      "Total params: 169,841\n",
      "Trainable params: 169,841\n",
      "Non-trainable params: 0\n",
      "_________________________________________________________________\n"
     ]
    }
   ],
   "source": [
    "model.summary()"
   ]
  },
  {
   "cell_type": "code",
   "execution_count": 30,
   "metadata": {},
   "outputs": [
    {
     "data": {
      "text/html": [
       "<div>\n",
       "<style scoped>\n",
       "    .dataframe tbody tr th:only-of-type {\n",
       "        vertical-align: middle;\n",
       "    }\n",
       "\n",
       "    .dataframe tbody tr th {\n",
       "        vertical-align: top;\n",
       "    }\n",
       "\n",
       "    .dataframe thead th {\n",
       "        text-align: right;\n",
       "    }\n",
       "</style>\n",
       "<table border=\"1\" class=\"dataframe\">\n",
       "  <thead>\n",
       "    <tr style=\"text-align: right;\">\n",
       "      <th></th>\n",
       "      <th>0</th>\n",
       "      <th>0</th>\n",
       "    </tr>\n",
       "  </thead>\n",
       "  <tbody>\n",
       "    <tr>\n",
       "      <th>0</th>\n",
       "      <td>1</td>\n",
       "      <td>1</td>\n",
       "    </tr>\n",
       "    <tr>\n",
       "      <th>1</th>\n",
       "      <td>0</td>\n",
       "      <td>0</td>\n",
       "    </tr>\n",
       "    <tr>\n",
       "      <th>2</th>\n",
       "      <td>0</td>\n",
       "      <td>0</td>\n",
       "    </tr>\n",
       "    <tr>\n",
       "      <th>3</th>\n",
       "      <td>0</td>\n",
       "      <td>0</td>\n",
       "    </tr>\n",
       "    <tr>\n",
       "      <th>4</th>\n",
       "      <td>1</td>\n",
       "      <td>0</td>\n",
       "    </tr>\n",
       "  </tbody>\n",
       "</table>\n",
       "</div>"
      ],
      "text/plain": [
       "   0  0\n",
       "0  1  1\n",
       "1  0  0\n",
       "2  0  0\n",
       "3  0  0\n",
       "4  1  0"
      ]
     },
     "execution_count": 30,
     "metadata": {},
     "output_type": "execute_result"
    }
   ],
   "source": [
    "real_df = pd.DataFrame(real_trend_list)\n",
    "pred_df = pd.DataFrame(trend_list)\n",
    "acc_df = pd.concat((real_df[0],pred_df[0]), axis=1)\n",
    "acc_df.head(5)"
   ]
  },
  {
   "cell_type": "code",
   "execution_count": 31,
   "metadata": {},
   "outputs": [],
   "source": [
    "temp_list = []\n",
    "temp_df =  real_df[0] - pred_df[0]\n",
    "for i in range(0, len(temp_df)):\n",
    "    temp_list.append([i, temp_df[i]])"
   ]
  },
  {
   "cell_type": "code",
   "execution_count": 32,
   "metadata": {},
   "outputs": [
    {
     "data": {
      "text/plain": [
       "[[0, 0],\n",
       " [1, 0],\n",
       " [2, 0],\n",
       " [3, 0],\n",
       " [4, 1],\n",
       " [5, 0],\n",
       " [6, 0],\n",
       " [7, 0],\n",
       " [8, 0],\n",
       " [9, 0]]"
      ]
     },
     "execution_count": 32,
     "metadata": {},
     "output_type": "execute_result"
    }
   ],
   "source": [
    "temp_list[0:10]"
   ]
  },
  {
   "cell_type": "code",
   "execution_count": 53,
   "metadata": {},
   "outputs": [
    {
     "data": {
      "text/plain": [
       "380"
      ]
     },
     "execution_count": 53,
     "metadata": {},
     "output_type": "execute_result"
    }
   ],
   "source": [
    "len(temp_df)"
   ]
  },
  {
   "cell_type": "code",
   "execution_count": 52,
   "metadata": {},
   "outputs": [
    {
     "data": {
      "text/plain": [
       " 0    257\n",
       " 1     71\n",
       "-1     44\n",
       " 2      7\n",
       "-2      1\n",
       "Name: 0, dtype: int64"
      ]
     },
     "execution_count": 52,
     "metadata": {},
     "output_type": "execute_result"
    }
   ],
   "source": [
    "temp_df.value_counts()"
   ]
  },
  {
   "cell_type": "code",
   "execution_count": 54,
   "metadata": {},
   "outputs": [],
   "source": [
    "%matplotlib qt\n",
    "plt.clf()\n",
    "# plt.figure()\n",
    "plt.scatter( *zip(*temp_list), )\n",
    "# plt.scatter(real_df.index.values, pred_df[0],color='blue', marker='^')\n",
    "# plt.scatter(real_df.index.values, real_df[0],color='red', marker='.')\n",
    "plt.title('Trend Prediction Accuracy of 601318SH = {}'.format(accuracy))\n",
    "plt.xlabel('Days')\n",
    "plt.ylabel('Trend Prediction')\n",
    "plt.show()"
   ]
  },
  {
   "cell_type": "code",
   "execution_count": 34,
   "metadata": {},
   "outputs": [],
   "source": [
    "%matplotlib qt\n",
    "plt.clf()\n",
    "plt.plot(result.history['rmse'])\n",
    "plt.plot(result.history['val_rmse'])\n",
    "plt.title('model mse')\n",
    "plt.ylabel('mse')\n",
    "plt.xlabel('epoch')\n",
    "plt.legend(['train', 'test'], loc='upper left')\n",
    "plt.show()\n"
   ]
  },
  {
   "cell_type": "code",
   "execution_count": 35,
   "metadata": {},
   "outputs": [],
   "source": [
    "%matplotlib qt\n",
    "plt.clf()\n",
    "plt.plot(result.history['mean_squared_error'])\n",
    "plt.plot(result.history['val_mean_squared_error'])\n",
    "plt.title('model R^2')\n",
    "plt.ylabel('R^2')\n",
    "plt.xlabel('epoch')\n",
    "plt.legend(['train', 'test'], loc='upper left')\n",
    "plt.show()"
   ]
  },
  {
   "cell_type": "code",
   "execution_count": 36,
   "metadata": {},
   "outputs": [
    {
     "data": {
      "text/plain": [
       "((1518, 10, 10), (380, 10, 10), (1909, 11), (1909, 10))"
      ]
     },
     "execution_count": 36,
     "metadata": {},
     "output_type": "execute_result"
    }
   ],
   "source": [
    "train_x.shape, test_x.shape , df.shape, input_data.shape"
   ]
  },
  {
   "cell_type": "code",
   "execution_count": 37,
   "metadata": {},
   "outputs": [],
   "source": [
    "new_data = df.copy()\n",
    "new_data['ave_change'] = input_data['ave_change']"
   ]
  },
  {
   "cell_type": "code",
   "execution_count": 38,
   "metadata": {},
   "outputs": [
    {
     "data": {
      "text/html": [
       "<div>\n",
       "<style scoped>\n",
       "    .dataframe tbody tr th:only-of-type {\n",
       "        vertical-align: middle;\n",
       "    }\n",
       "\n",
       "    .dataframe tbody tr th {\n",
       "        vertical-align: top;\n",
       "    }\n",
       "\n",
       "    .dataframe thead th {\n",
       "        text-align: right;\n",
       "    }\n",
       "</style>\n",
       "<table border=\"1\" class=\"dataframe\">\n",
       "  <thead>\n",
       "    <tr style=\"text-align: right;\">\n",
       "      <th></th>\n",
       "      <th>ts_code</th>\n",
       "      <th>trade_date</th>\n",
       "      <th>open</th>\n",
       "      <th>high</th>\n",
       "      <th>low</th>\n",
       "      <th>close</th>\n",
       "      <th>pre_close</th>\n",
       "      <th>change</th>\n",
       "      <th>pct_chg</th>\n",
       "      <th>vol</th>\n",
       "      <th>amount</th>\n",
       "      <th>ave_change</th>\n",
       "    </tr>\n",
       "  </thead>\n",
       "  <tbody>\n",
       "    <tr>\n",
       "      <th>0</th>\n",
       "      <td>601318.SH</td>\n",
       "      <td>20110104</td>\n",
       "      <td>56.85</td>\n",
       "      <td>57.60</td>\n",
       "      <td>56.50</td>\n",
       "      <td>56.91</td>\n",
       "      <td>56.16</td>\n",
       "      <td>0.75</td>\n",
       "      <td>1.34</td>\n",
       "      <td>245626.82</td>\n",
       "      <td>1400499.338</td>\n",
       "      <td>-1.300000</td>\n",
       "    </tr>\n",
       "    <tr>\n",
       "      <th>1</th>\n",
       "      <td>601318.SH</td>\n",
       "      <td>20110105</td>\n",
       "      <td>56.59</td>\n",
       "      <td>56.80</td>\n",
       "      <td>54.80</td>\n",
       "      <td>54.86</td>\n",
       "      <td>56.91</td>\n",
       "      <td>-2.05</td>\n",
       "      <td>-3.60</td>\n",
       "      <td>427554.25</td>\n",
       "      <td>2368305.774</td>\n",
       "      <td>-0.943333</td>\n",
       "    </tr>\n",
       "    <tr>\n",
       "      <th>2</th>\n",
       "      <td>601318.SH</td>\n",
       "      <td>20110106</td>\n",
       "      <td>54.94</td>\n",
       "      <td>54.94</td>\n",
       "      <td>51.45</td>\n",
       "      <td>52.59</td>\n",
       "      <td>54.86</td>\n",
       "      <td>-2.27</td>\n",
       "      <td>-4.14</td>\n",
       "      <td>947078.65</td>\n",
       "      <td>4971851.955</td>\n",
       "      <td>-0.156667</td>\n",
       "    </tr>\n",
       "    <tr>\n",
       "      <th>3</th>\n",
       "      <td>601318.SH</td>\n",
       "      <td>20110107</td>\n",
       "      <td>52.97</td>\n",
       "      <td>54.25</td>\n",
       "      <td>51.80</td>\n",
       "      <td>53.01</td>\n",
       "      <td>52.59</td>\n",
       "      <td>0.42</td>\n",
       "      <td>0.80</td>\n",
       "      <td>659013.87</td>\n",
       "      <td>3494756.547</td>\n",
       "      <td>-0.006667</td>\n",
       "    </tr>\n",
       "    <tr>\n",
       "      <th>4</th>\n",
       "      <td>601318.SH</td>\n",
       "      <td>20110110</td>\n",
       "      <td>52.90</td>\n",
       "      <td>53.90</td>\n",
       "      <td>51.90</td>\n",
       "      <td>52.03</td>\n",
       "      <td>53.01</td>\n",
       "      <td>-0.98</td>\n",
       "      <td>-1.85</td>\n",
       "      <td>282919.36</td>\n",
       "      <td>1494174.281</td>\n",
       "      <td>0.316667</td>\n",
       "    </tr>\n",
       "  </tbody>\n",
       "</table>\n",
       "</div>"
      ],
      "text/plain": [
       "     ts_code  trade_date   open   high    low  close  pre_close  change  \\\n",
       "0  601318.SH    20110104  56.85  57.60  56.50  56.91      56.16    0.75   \n",
       "1  601318.SH    20110105  56.59  56.80  54.80  54.86      56.91   -2.05   \n",
       "2  601318.SH    20110106  54.94  54.94  51.45  52.59      54.86   -2.27   \n",
       "3  601318.SH    20110107  52.97  54.25  51.80  53.01      52.59    0.42   \n",
       "4  601318.SH    20110110  52.90  53.90  51.90  52.03      53.01   -0.98   \n",
       "\n",
       "   pct_chg        vol       amount  ave_change  \n",
       "0     1.34  245626.82  1400499.338   -1.300000  \n",
       "1    -3.60  427554.25  2368305.774   -0.943333  \n",
       "2    -4.14  947078.65  4971851.955   -0.156667  \n",
       "3     0.80  659013.87  3494756.547   -0.006667  \n",
       "4    -1.85  282919.36  1494174.281    0.316667  "
      ]
     },
     "execution_count": 38,
     "metadata": {},
     "output_type": "execute_result"
    }
   ],
   "source": [
    "new_data.head()"
   ]
  },
  {
   "cell_type": "code",
   "execution_count": 39,
   "metadata": {},
   "outputs": [
    {
     "data": {
      "text/plain": [
       "1528   -0.046667\n",
       "1529   -0.216667\n",
       "1530   -0.070000\n",
       "1531    0.056667\n",
       "1532    0.860000\n",
       "1533    0.660000\n",
       "1534    0.986667\n",
       "1535    0.353333\n",
       "1536    0.440000\n",
       "1537   -0.176667\n",
       "1538   -0.093333\n",
       "1539   -0.026667\n",
       "1540    0.806667\n",
       "1541    0.850000\n",
       "1542    0.673333\n",
       "1543    0.883333\n",
       "1544    0.670000\n",
       "1545    0.680000\n",
       "1546    0.160000\n",
       "1547   -0.073333\n",
       "Name: ave_change, dtype: float64"
      ]
     },
     "execution_count": 39,
     "metadata": {},
     "output_type": "execute_result"
    }
   ],
   "source": [
    "new_data['ave_change'].iloc[1528:].head(20)"
   ]
  },
  {
   "cell_type": "code",
   "execution_count": 40,
   "metadata": {
    "scrolled": true
   },
   "outputs": [
    {
     "data": {
      "text/plain": [
       "(array([[-0.04666667],\n",
       "        [-0.21666667],\n",
       "        [-0.07      ],\n",
       "        [ 0.05666667],\n",
       "        [ 0.86      ],\n",
       "        [ 0.66      ],\n",
       "        [ 0.98666667],\n",
       "        [ 0.35333333],\n",
       "        [ 0.44      ],\n",
       "        [-0.17666667],\n",
       "        [-0.09333333],\n",
       "        [-0.02666667],\n",
       "        [ 0.80666667],\n",
       "        [ 0.85      ],\n",
       "        [ 0.67333333],\n",
       "        [ 0.88333333],\n",
       "        [ 0.67      ],\n",
       "        [ 0.68      ],\n",
       "        [ 0.16      ],\n",
       "        [-0.07333333]]), array([[-0.00761507],\n",
       "        [-0.07022592],\n",
       "        [-0.21626616],\n",
       "        [-0.00226721],\n",
       "        [ 0.21084011]]))"
      ]
     },
     "execution_count": 40,
     "metadata": {},
     "output_type": "execute_result"
    }
   ],
   "source": [
    "test_y[0:20] , predict_y[0:5]"
   ]
  },
  {
   "cell_type": "code",
   "execution_count": 41,
   "metadata": {},
   "outputs": [],
   "source": [
    "save_data = new_data[1528:-1]"
   ]
  },
  {
   "cell_type": "code",
   "execution_count": 42,
   "metadata": {},
   "outputs": [
    {
     "data": {
      "text/plain": [
       "((380, 12), (380, 10, 10), (380, 1), 380, 380)"
      ]
     },
     "execution_count": 42,
     "metadata": {},
     "output_type": "execute_result"
    }
   ],
   "source": [
    "save_data.shape , test_x.shape, predict_y.shape , len(trend_list), len(real_trend_list)"
   ]
  },
  {
   "cell_type": "code",
   "execution_count": 43,
   "metadata": {},
   "outputs": [
    {
     "name": "stderr",
     "output_type": "stream",
     "text": [
      "d:\\ProgramData\\Anaconda3\\lib\\site-packages\\ipykernel_launcher.py:1: SettingWithCopyWarning: \n",
      "A value is trying to be set on a copy of a slice from a DataFrame.\n",
      "Try using .loc[row_indexer,col_indexer] = value instead\n",
      "\n",
      "See the caveats in the documentation: http://pandas.pydata.org/pandas-docs/stable/indexing.html#indexing-view-versus-copy\n",
      "  \"\"\"Entry point for launching an IPython kernel.\n"
     ]
    }
   ],
   "source": [
    "save_data['pred_ave_change'] = predict_y"
   ]
  },
  {
   "cell_type": "code",
   "execution_count": 44,
   "metadata": {
    "scrolled": true
   },
   "outputs": [
    {
     "name": "stderr",
     "output_type": "stream",
     "text": [
      "d:\\ProgramData\\Anaconda3\\lib\\site-packages\\ipykernel_launcher.py:1: SettingWithCopyWarning: \n",
      "A value is trying to be set on a copy of a slice from a DataFrame.\n",
      "Try using .loc[row_indexer,col_indexer] = value instead\n",
      "\n",
      "See the caveats in the documentation: http://pandas.pydata.org/pandas-docs/stable/indexing.html#indexing-view-versus-copy\n",
      "  \"\"\"Entry point for launching an IPython kernel.\n",
      "d:\\ProgramData\\Anaconda3\\lib\\site-packages\\ipykernel_launcher.py:2: SettingWithCopyWarning: \n",
      "A value is trying to be set on a copy of a slice from a DataFrame.\n",
      "Try using .loc[row_indexer,col_indexer] = value instead\n",
      "\n",
      "See the caveats in the documentation: http://pandas.pydata.org/pandas-docs/stable/indexing.html#indexing-view-versus-copy\n",
      "  \n"
     ]
    }
   ],
   "source": [
    "save_data['real_trend'] = real_trend_list\n",
    "save_data['pred_trend'] = trend_list"
   ]
  },
  {
   "cell_type": "code",
   "execution_count": 45,
   "metadata": {},
   "outputs": [
    {
     "data": {
      "text/html": [
       "<div>\n",
       "<style scoped>\n",
       "    .dataframe tbody tr th:only-of-type {\n",
       "        vertical-align: middle;\n",
       "    }\n",
       "\n",
       "    .dataframe tbody tr th {\n",
       "        vertical-align: top;\n",
       "    }\n",
       "\n",
       "    .dataframe thead th {\n",
       "        text-align: right;\n",
       "    }\n",
       "</style>\n",
       "<table border=\"1\" class=\"dataframe\">\n",
       "  <thead>\n",
       "    <tr style=\"text-align: right;\">\n",
       "      <th></th>\n",
       "      <th>ts_code</th>\n",
       "      <th>trade_date</th>\n",
       "      <th>open</th>\n",
       "      <th>high</th>\n",
       "      <th>low</th>\n",
       "      <th>close</th>\n",
       "      <th>pre_close</th>\n",
       "      <th>change</th>\n",
       "      <th>pct_chg</th>\n",
       "      <th>vol</th>\n",
       "      <th>amount</th>\n",
       "      <th>ave_change</th>\n",
       "      <th>pred_ave_change</th>\n",
       "      <th>real_trend</th>\n",
       "      <th>pred_trend</th>\n",
       "    </tr>\n",
       "  </thead>\n",
       "  <tbody>\n",
       "    <tr>\n",
       "      <th>1528</th>\n",
       "      <td>601318.SH</td>\n",
       "      <td>20170428</td>\n",
       "      <td>37.90</td>\n",
       "      <td>38.07</td>\n",
       "      <td>37.61</td>\n",
       "      <td>37.96</td>\n",
       "      <td>37.82</td>\n",
       "      <td>0.14</td>\n",
       "      <td>0.37</td>\n",
       "      <td>678663.87</td>\n",
       "      <td>2568647.819</td>\n",
       "      <td>-0.046667</td>\n",
       "      <td>-0.007615</td>\n",
       "      <td>1</td>\n",
       "      <td>1</td>\n",
       "    </tr>\n",
       "    <tr>\n",
       "      <th>1529</th>\n",
       "      <td>601318.SH</td>\n",
       "      <td>20170502</td>\n",
       "      <td>37.80</td>\n",
       "      <td>38.38</td>\n",
       "      <td>37.80</td>\n",
       "      <td>37.91</td>\n",
       "      <td>37.96</td>\n",
       "      <td>-0.05</td>\n",
       "      <td>-0.13</td>\n",
       "      <td>619325.39</td>\n",
       "      <td>2359210.184</td>\n",
       "      <td>-0.216667</td>\n",
       "      <td>-0.070226</td>\n",
       "      <td>0</td>\n",
       "      <td>0</td>\n",
       "    </tr>\n",
       "    <tr>\n",
       "      <th>1530</th>\n",
       "      <td>601318.SH</td>\n",
       "      <td>20170503</td>\n",
       "      <td>37.95</td>\n",
       "      <td>38.28</td>\n",
       "      <td>37.82</td>\n",
       "      <td>38.00</td>\n",
       "      <td>37.91</td>\n",
       "      <td>0.09</td>\n",
       "      <td>0.24</td>\n",
       "      <td>505383.86</td>\n",
       "      <td>1920918.772</td>\n",
       "      <td>-0.070000</td>\n",
       "      <td>-0.216266</td>\n",
       "      <td>0</td>\n",
       "      <td>0</td>\n",
       "    </tr>\n",
       "    <tr>\n",
       "      <th>1531</th>\n",
       "      <td>601318.SH</td>\n",
       "      <td>20170504</td>\n",
       "      <td>37.95</td>\n",
       "      <td>38.10</td>\n",
       "      <td>37.73</td>\n",
       "      <td>37.82</td>\n",
       "      <td>38.00</td>\n",
       "      <td>-0.18</td>\n",
       "      <td>-0.47</td>\n",
       "      <td>548573.55</td>\n",
       "      <td>2080732.893</td>\n",
       "      <td>0.056667</td>\n",
       "      <td>-0.002267</td>\n",
       "      <td>0</td>\n",
       "      <td>0</td>\n",
       "    </tr>\n",
       "    <tr>\n",
       "      <th>1532</th>\n",
       "      <td>601318.SH</td>\n",
       "      <td>20170505</td>\n",
       "      <td>37.70</td>\n",
       "      <td>37.86</td>\n",
       "      <td>37.20</td>\n",
       "      <td>37.26</td>\n",
       "      <td>37.82</td>\n",
       "      <td>-0.56</td>\n",
       "      <td>-1.48</td>\n",
       "      <td>623979.60</td>\n",
       "      <td>2337681.712</td>\n",
       "      <td>0.860000</td>\n",
       "      <td>0.210840</td>\n",
       "      <td>1</td>\n",
       "      <td>0</td>\n",
       "    </tr>\n",
       "  </tbody>\n",
       "</table>\n",
       "</div>"
      ],
      "text/plain": [
       "        ts_code  trade_date   open   high    low  close  pre_close  change  \\\n",
       "1528  601318.SH    20170428  37.90  38.07  37.61  37.96      37.82    0.14   \n",
       "1529  601318.SH    20170502  37.80  38.38  37.80  37.91      37.96   -0.05   \n",
       "1530  601318.SH    20170503  37.95  38.28  37.82  38.00      37.91    0.09   \n",
       "1531  601318.SH    20170504  37.95  38.10  37.73  37.82      38.00   -0.18   \n",
       "1532  601318.SH    20170505  37.70  37.86  37.20  37.26      37.82   -0.56   \n",
       "\n",
       "      pct_chg        vol       amount  ave_change  pred_ave_change  \\\n",
       "1528     0.37  678663.87  2568647.819   -0.046667        -0.007615   \n",
       "1529    -0.13  619325.39  2359210.184   -0.216667        -0.070226   \n",
       "1530     0.24  505383.86  1920918.772   -0.070000        -0.216266   \n",
       "1531    -0.47  548573.55  2080732.893    0.056667        -0.002267   \n",
       "1532    -1.48  623979.60  2337681.712    0.860000         0.210840   \n",
       "\n",
       "      real_trend  pred_trend  \n",
       "1528           1           1  \n",
       "1529           0           0  \n",
       "1530           0           0  \n",
       "1531           0           0  \n",
       "1532           1           0  "
      ]
     },
     "execution_count": 45,
     "metadata": {},
     "output_type": "execute_result"
    }
   ],
   "source": [
    "save_data.head()"
   ]
  },
  {
   "cell_type": "code",
   "execution_count": 46,
   "metadata": {},
   "outputs": [],
   "source": [
    "save_data.to_csv('Result-Pingan-from-20110101-to-20181118.csv', index=False)"
   ]
  },
  {
   "cell_type": "code",
   "execution_count": 47,
   "metadata": {},
   "outputs": [
    {
     "data": {
      "text/plain": [
       "1528   -0.007615\n",
       "1529   -0.070226\n",
       "1530   -0.216266\n",
       "1531   -0.002267\n",
       "1532    0.210840\n",
       "1533    0.611569\n",
       "1534    0.581645\n",
       "1535    0.268698\n",
       "1536    0.370684\n",
       "1537   -0.008500\n",
       "1538   -0.230298\n",
       "1539   -0.150035\n",
       "1540    0.162737\n",
       "1541    0.683848\n",
       "1542    0.707318\n",
       "1543    0.017456\n",
       "1544    0.661369\n",
       "1545    0.646607\n",
       "1546   -0.248776\n",
       "1547    0.174148\n",
       "1548   -0.035105\n",
       "1549   -0.385505\n",
       "1550    0.250812\n",
       "1551    0.421082\n",
       "1552    0.437751\n",
       "1553    0.577631\n",
       "1554    0.320854\n",
       "1555    0.072707\n",
       "1556   -0.586908\n",
       "1557   -0.670483\n",
       "          ...   \n",
       "1878   -0.829226\n",
       "1879   -0.236265\n",
       "1880   -0.707561\n",
       "1881   -0.080949\n",
       "1882   -0.048187\n",
       "1883    0.155490\n",
       "1884    0.253537\n",
       "1885   -0.733713\n",
       "1886    0.648135\n",
       "1887    1.548989\n",
       "1888   -0.191912\n",
       "1889   -0.308765\n",
       "1890    0.128473\n",
       "1891   -0.367033\n",
       "1892   -1.185533\n",
       "1893   -0.631756\n",
       "1894    0.372763\n",
       "1895    0.547336\n",
       "1896    0.863067\n",
       "1897    0.457024\n",
       "1898   -0.176415\n",
       "1899   -0.198674\n",
       "1900   -0.280669\n",
       "1901   -0.464033\n",
       "1902   -0.308840\n",
       "1903    0.113791\n",
       "1904   -0.256374\n",
       "1905   -0.026460\n",
       "1906    0.173094\n",
       "1907   -1.132869\n",
       "Name: pred_ave_change, Length: 380, dtype: float64"
      ]
     },
     "execution_count": 47,
     "metadata": {},
     "output_type": "execute_result"
    }
   ],
   "source": [
    "save_data.pop('pred_ave_change')"
   ]
  },
  {
   "cell_type": "code",
   "execution_count": 48,
   "metadata": {},
   "outputs": [
    {
     "data": {
      "text/html": [
       "<div>\n",
       "<style scoped>\n",
       "    .dataframe tbody tr th:only-of-type {\n",
       "        vertical-align: middle;\n",
       "    }\n",
       "\n",
       "    .dataframe tbody tr th {\n",
       "        vertical-align: top;\n",
       "    }\n",
       "\n",
       "    .dataframe thead th {\n",
       "        text-align: right;\n",
       "    }\n",
       "</style>\n",
       "<table border=\"1\" class=\"dataframe\">\n",
       "  <thead>\n",
       "    <tr style=\"text-align: right;\">\n",
       "      <th></th>\n",
       "      <th>ts_code</th>\n",
       "      <th>trade_date</th>\n",
       "      <th>open</th>\n",
       "      <th>high</th>\n",
       "      <th>low</th>\n",
       "      <th>close</th>\n",
       "      <th>pre_close</th>\n",
       "      <th>change</th>\n",
       "      <th>pct_chg</th>\n",
       "      <th>vol</th>\n",
       "      <th>amount</th>\n",
       "      <th>ave_change</th>\n",
       "      <th>real_trend</th>\n",
       "      <th>pred_trend</th>\n",
       "    </tr>\n",
       "  </thead>\n",
       "  <tbody>\n",
       "    <tr>\n",
       "      <th>1528</th>\n",
       "      <td>601318.SH</td>\n",
       "      <td>20170428</td>\n",
       "      <td>37.90</td>\n",
       "      <td>38.07</td>\n",
       "      <td>37.61</td>\n",
       "      <td>37.96</td>\n",
       "      <td>37.82</td>\n",
       "      <td>0.14</td>\n",
       "      <td>0.37</td>\n",
       "      <td>678663.87</td>\n",
       "      <td>2568647.819</td>\n",
       "      <td>-0.046667</td>\n",
       "      <td>1</td>\n",
       "      <td>1</td>\n",
       "    </tr>\n",
       "    <tr>\n",
       "      <th>1529</th>\n",
       "      <td>601318.SH</td>\n",
       "      <td>20170502</td>\n",
       "      <td>37.80</td>\n",
       "      <td>38.38</td>\n",
       "      <td>37.80</td>\n",
       "      <td>37.91</td>\n",
       "      <td>37.96</td>\n",
       "      <td>-0.05</td>\n",
       "      <td>-0.13</td>\n",
       "      <td>619325.39</td>\n",
       "      <td>2359210.184</td>\n",
       "      <td>-0.216667</td>\n",
       "      <td>0</td>\n",
       "      <td>0</td>\n",
       "    </tr>\n",
       "    <tr>\n",
       "      <th>1530</th>\n",
       "      <td>601318.SH</td>\n",
       "      <td>20170503</td>\n",
       "      <td>37.95</td>\n",
       "      <td>38.28</td>\n",
       "      <td>37.82</td>\n",
       "      <td>38.00</td>\n",
       "      <td>37.91</td>\n",
       "      <td>0.09</td>\n",
       "      <td>0.24</td>\n",
       "      <td>505383.86</td>\n",
       "      <td>1920918.772</td>\n",
       "      <td>-0.070000</td>\n",
       "      <td>0</td>\n",
       "      <td>0</td>\n",
       "    </tr>\n",
       "    <tr>\n",
       "      <th>1531</th>\n",
       "      <td>601318.SH</td>\n",
       "      <td>20170504</td>\n",
       "      <td>37.95</td>\n",
       "      <td>38.10</td>\n",
       "      <td>37.73</td>\n",
       "      <td>37.82</td>\n",
       "      <td>38.00</td>\n",
       "      <td>-0.18</td>\n",
       "      <td>-0.47</td>\n",
       "      <td>548573.55</td>\n",
       "      <td>2080732.893</td>\n",
       "      <td>0.056667</td>\n",
       "      <td>0</td>\n",
       "      <td>0</td>\n",
       "    </tr>\n",
       "    <tr>\n",
       "      <th>1532</th>\n",
       "      <td>601318.SH</td>\n",
       "      <td>20170505</td>\n",
       "      <td>37.70</td>\n",
       "      <td>37.86</td>\n",
       "      <td>37.20</td>\n",
       "      <td>37.26</td>\n",
       "      <td>37.82</td>\n",
       "      <td>-0.56</td>\n",
       "      <td>-1.48</td>\n",
       "      <td>623979.60</td>\n",
       "      <td>2337681.712</td>\n",
       "      <td>0.860000</td>\n",
       "      <td>1</td>\n",
       "      <td>0</td>\n",
       "    </tr>\n",
       "  </tbody>\n",
       "</table>\n",
       "</div>"
      ],
      "text/plain": [
       "        ts_code  trade_date   open   high    low  close  pre_close  change  \\\n",
       "1528  601318.SH    20170428  37.90  38.07  37.61  37.96      37.82    0.14   \n",
       "1529  601318.SH    20170502  37.80  38.38  37.80  37.91      37.96   -0.05   \n",
       "1530  601318.SH    20170503  37.95  38.28  37.82  38.00      37.91    0.09   \n",
       "1531  601318.SH    20170504  37.95  38.10  37.73  37.82      38.00   -0.18   \n",
       "1532  601318.SH    20170505  37.70  37.86  37.20  37.26      37.82   -0.56   \n",
       "\n",
       "      pct_chg        vol       amount  ave_change  real_trend  pred_trend  \n",
       "1528     0.37  678663.87  2568647.819   -0.046667           1           1  \n",
       "1529    -0.13  619325.39  2359210.184   -0.216667           0           0  \n",
       "1530     0.24  505383.86  1920918.772   -0.070000           0           0  \n",
       "1531    -0.47  548573.55  2080732.893    0.056667           0           0  \n",
       "1532    -1.48  623979.60  2337681.712    0.860000           1           0  "
      ]
     },
     "execution_count": 48,
     "metadata": {},
     "output_type": "execute_result"
    }
   ],
   "source": [
    "save_data.head()"
   ]
  },
  {
   "cell_type": "code",
   "execution_count": null,
   "metadata": {},
   "outputs": [],
   "source": []
  }
 ],
 "metadata": {
  "kernelspec": {
   "display_name": "Python 3",
   "language": "python",
   "name": "python3"
  },
  "language_info": {
   "codemirror_mode": {
    "name": "ipython",
    "version": 3
   },
   "file_extension": ".py",
   "mimetype": "text/x-python",
   "name": "python",
   "nbconvert_exporter": "python",
   "pygments_lexer": "ipython3",
   "version": "3.6.5"
  }
 },
 "nbformat": 4,
 "nbformat_minor": 2
}
