{
 "cells": [
  {
   "cell_type": "markdown",
   "metadata": {},
   "source": [
    "##### 三类股票分类，\n",
    "##### 使用未来三天的平均change来作为标签值y，并用0.33, 0.67分位值作为三类标签的划分边界\n",
    "\n",
    "##### 数据: 基本指标 \n",
    "##### 模型:  LSTM\n"
   ]
  },
  {
   "cell_type": "code",
   "execution_count": 1,
   "metadata": {},
   "outputs": [
    {
     "name": "stderr",
     "output_type": "stream",
     "text": [
      "d:\\ProgramData\\Anaconda3\\lib\\site-packages\\h5py\\__init__.py:36: FutureWarning: Conversion of the second argument of issubdtype from `float` to `np.floating` is deprecated. In future, it will be treated as `np.float64 == np.dtype(float).type`.\n",
      "  from ._conv import register_converters as _register_converters\n",
      "Using TensorFlow backend.\n"
     ]
    }
   ],
   "source": [
    "import pandas as pd\n",
    "from pandas import DataFrame\n",
    "import numpy as np\n",
    "from numpy import row_stack,column_stack\n",
    "import matplotlib.pyplot as plt\n",
    "from matplotlib.dates import DateFormatter, WeekdayLocator, DayLocator, MONDAY,YEARLY\n",
    "# from mpl_finance import quotes_historical_yahoo_ohlc, candlestick_ohlc\n",
    "from matplotlib.pylab import date2num\n",
    "from sklearn.preprocessing import MinMaxScaler,StandardScaler\n",
    "from keras.models import Sequential\n",
    "from keras.layers import LSTM, Dense, Activation,Dropout\n",
    "import tushare as ts\n",
    "import datetime\n",
    "import time"
   ]
  },
  {
   "cell_type": "markdown",
   "metadata": {},
   "source": [
    "### softmax三类分类写不出来，用回归代替"
   ]
  },
  {
   "cell_type": "markdown",
   "metadata": {},
   "source": [
    "### 加工数据"
   ]
  },
  {
   "cell_type": "code",
   "execution_count": 2,
   "metadata": {},
   "outputs": [],
   "source": [
    "ts.set_token('29ea8fa19e717f1a3d3618796f87067ee07219783a9e01422eb90ef8')\n",
    "pro = ts.pro_api()\n",
    "\n",
    "df = pro.daily(ts_code='601318.SH', start_date = '20110101', end_date = '20181118')\n",
    "df = df.iloc[::-1]\n",
    "df.head()\n",
    "\n",
    "df.to_csv('601318SH-from-20110101-to-20181118.csv', index=False)\n",
    "\n",
    "df = pd.read_csv('601318SH-from-20110101-to-20181118.csv')\n",
    "df.head()\n",
    "\n",
    "input_data = df[[ 'open','high','low','pre_close','change','pct_chg','vol','amount','close']]\n"
   ]
  },
  {
   "cell_type": "code",
   "execution_count": 3,
   "metadata": {},
   "outputs": [
    {
     "data": {
      "text/html": [
       "<div>\n",
       "<style scoped>\n",
       "    .dataframe tbody tr th:only-of-type {\n",
       "        vertical-align: middle;\n",
       "    }\n",
       "\n",
       "    .dataframe tbody tr th {\n",
       "        vertical-align: top;\n",
       "    }\n",
       "\n",
       "    .dataframe thead th {\n",
       "        text-align: right;\n",
       "    }\n",
       "</style>\n",
       "<table border=\"1\" class=\"dataframe\">\n",
       "  <thead>\n",
       "    <tr style=\"text-align: right;\">\n",
       "      <th></th>\n",
       "      <th>ts_code</th>\n",
       "      <th>trade_date</th>\n",
       "      <th>open</th>\n",
       "      <th>high</th>\n",
       "      <th>low</th>\n",
       "      <th>close</th>\n",
       "      <th>pre_close</th>\n",
       "      <th>change</th>\n",
       "      <th>pct_chg</th>\n",
       "      <th>vol</th>\n",
       "      <th>amount</th>\n",
       "    </tr>\n",
       "  </thead>\n",
       "  <tbody>\n",
       "    <tr>\n",
       "      <th>0</th>\n",
       "      <td>601318.SH</td>\n",
       "      <td>20110104</td>\n",
       "      <td>56.85</td>\n",
       "      <td>57.60</td>\n",
       "      <td>56.50</td>\n",
       "      <td>56.91</td>\n",
       "      <td>56.16</td>\n",
       "      <td>0.75</td>\n",
       "      <td>1.34</td>\n",
       "      <td>245626.82</td>\n",
       "      <td>1400499.338</td>\n",
       "    </tr>\n",
       "    <tr>\n",
       "      <th>1</th>\n",
       "      <td>601318.SH</td>\n",
       "      <td>20110105</td>\n",
       "      <td>56.59</td>\n",
       "      <td>56.80</td>\n",
       "      <td>54.80</td>\n",
       "      <td>54.86</td>\n",
       "      <td>56.91</td>\n",
       "      <td>-2.05</td>\n",
       "      <td>-3.60</td>\n",
       "      <td>427554.25</td>\n",
       "      <td>2368305.774</td>\n",
       "    </tr>\n",
       "    <tr>\n",
       "      <th>2</th>\n",
       "      <td>601318.SH</td>\n",
       "      <td>20110106</td>\n",
       "      <td>54.94</td>\n",
       "      <td>54.94</td>\n",
       "      <td>51.45</td>\n",
       "      <td>52.59</td>\n",
       "      <td>54.86</td>\n",
       "      <td>-2.27</td>\n",
       "      <td>-4.14</td>\n",
       "      <td>947078.65</td>\n",
       "      <td>4971851.955</td>\n",
       "    </tr>\n",
       "    <tr>\n",
       "      <th>3</th>\n",
       "      <td>601318.SH</td>\n",
       "      <td>20110107</td>\n",
       "      <td>52.97</td>\n",
       "      <td>54.25</td>\n",
       "      <td>51.80</td>\n",
       "      <td>53.01</td>\n",
       "      <td>52.59</td>\n",
       "      <td>0.42</td>\n",
       "      <td>0.80</td>\n",
       "      <td>659013.87</td>\n",
       "      <td>3494756.547</td>\n",
       "    </tr>\n",
       "    <tr>\n",
       "      <th>4</th>\n",
       "      <td>601318.SH</td>\n",
       "      <td>20110110</td>\n",
       "      <td>52.90</td>\n",
       "      <td>53.90</td>\n",
       "      <td>51.90</td>\n",
       "      <td>52.03</td>\n",
       "      <td>53.01</td>\n",
       "      <td>-0.98</td>\n",
       "      <td>-1.85</td>\n",
       "      <td>282919.36</td>\n",
       "      <td>1494174.281</td>\n",
       "    </tr>\n",
       "  </tbody>\n",
       "</table>\n",
       "</div>"
      ],
      "text/plain": [
       "     ts_code  trade_date   open   high    low  close  pre_close  change  \\\n",
       "0  601318.SH    20110104  56.85  57.60  56.50  56.91      56.16    0.75   \n",
       "1  601318.SH    20110105  56.59  56.80  54.80  54.86      56.91   -2.05   \n",
       "2  601318.SH    20110106  54.94  54.94  51.45  52.59      54.86   -2.27   \n",
       "3  601318.SH    20110107  52.97  54.25  51.80  53.01      52.59    0.42   \n",
       "4  601318.SH    20110110  52.90  53.90  51.90  52.03      53.01   -0.98   \n",
       "\n",
       "   pct_chg        vol       amount  \n",
       "0     1.34  245626.82  1400499.338  \n",
       "1    -3.60  427554.25  2368305.774  \n",
       "2    -4.14  947078.65  4971851.955  \n",
       "3     0.80  659013.87  3494756.547  \n",
       "4    -1.85  282919.36  1494174.281  "
      ]
     },
     "execution_count": 3,
     "metadata": {},
     "output_type": "execute_result"
    }
   ],
   "source": [
    "df.head()"
   ]
  },
  {
   "cell_type": "code",
   "execution_count": 4,
   "metadata": {},
   "outputs": [],
   "source": [
    "# input_data['change'].quantile([0.33,0.5, 0.67,])\n",
    "quantile033 = input_data['change'].quantile([0.33]).iloc[0]\n",
    "quantile067 = input_data['change'].quantile([0.67]).iloc[0]"
   ]
  },
  {
   "cell_type": "code",
   "execution_count": 5,
   "metadata": {},
   "outputs": [
    {
     "data": {
      "text/plain": [
       "(-0.24, 0.25360000000000127)"
      ]
     },
     "execution_count": 5,
     "metadata": {},
     "output_type": "execute_result"
    }
   ],
   "source": [
    "quantile033, quantile067"
   ]
  },
  {
   "cell_type": "code",
   "execution_count": 6,
   "metadata": {},
   "outputs": [
    {
     "data": {
      "text/plain": [
       "0.01"
      ]
     },
     "execution_count": 6,
     "metadata": {},
     "output_type": "execute_result"
    }
   ],
   "source": [
    "input_data['change'].median()"
   ]
  },
  {
   "cell_type": "code",
   "execution_count": 7,
   "metadata": {},
   "outputs": [],
   "source": [
    "data = input_data['change'].quantile([0.33,])"
   ]
  },
  {
   "cell_type": "code",
   "execution_count": 8,
   "metadata": {},
   "outputs": [
    {
     "data": {
      "text/plain": [
       "-0.24"
      ]
     },
     "execution_count": 8,
     "metadata": {},
     "output_type": "execute_result"
    }
   ],
   "source": [
    "data.iloc[0]"
   ]
  },
  {
   "cell_type": "code",
   "execution_count": 9,
   "metadata": {},
   "outputs": [],
   "source": [
    "change = input_data['change']"
   ]
  },
  {
   "cell_type": "code",
   "execution_count": 10,
   "metadata": {},
   "outputs": [],
   "source": [
    "ave_change_column = [ ]\n",
    "for i in range(0, len(change)):\n",
    "    if i >= len(change) - 3:\n",
    "        ave_change = change[i]\n",
    "        \n",
    "    else:\n",
    "        ave_change = (change[i+1] + change[i+2] + change[i+3]) / 3\n",
    "    \n",
    "    ave_change_column.append(ave_change)\n",
    "\n"
   ]
  },
  {
   "cell_type": "code",
   "execution_count": 11,
   "metadata": {},
   "outputs": [
    {
     "data": {
      "text/plain": [
       "(1909, 1909)"
      ]
     },
     "execution_count": 11,
     "metadata": {},
     "output_type": "execute_result"
    }
   ],
   "source": [
    "len(change) , len(ave_change_column)"
   ]
  },
  {
   "cell_type": "code",
   "execution_count": 12,
   "metadata": {},
   "outputs": [
    {
     "name": "stderr",
     "output_type": "stream",
     "text": [
      "d:\\ProgramData\\Anaconda3\\lib\\site-packages\\ipykernel_launcher.py:1: SettingWithCopyWarning: \n",
      "A value is trying to be set on a copy of a slice from a DataFrame.\n",
      "Try using .loc[row_indexer,col_indexer] = value instead\n",
      "\n",
      "See the caveats in the documentation: http://pandas.pydata.org/pandas-docs/stable/indexing.html#indexing-view-versus-copy\n",
      "  \"\"\"Entry point for launching an IPython kernel.\n"
     ]
    }
   ],
   "source": [
    "input_data['ave_change'] = ave_change_column"
   ]
  },
  {
   "cell_type": "code",
   "execution_count": 13,
   "metadata": {},
   "outputs": [
    {
     "data": {
      "text/html": [
       "<div>\n",
       "<style scoped>\n",
       "    .dataframe tbody tr th:only-of-type {\n",
       "        vertical-align: middle;\n",
       "    }\n",
       "\n",
       "    .dataframe tbody tr th {\n",
       "        vertical-align: top;\n",
       "    }\n",
       "\n",
       "    .dataframe thead th {\n",
       "        text-align: right;\n",
       "    }\n",
       "</style>\n",
       "<table border=\"1\" class=\"dataframe\">\n",
       "  <thead>\n",
       "    <tr style=\"text-align: right;\">\n",
       "      <th></th>\n",
       "      <th>open</th>\n",
       "      <th>high</th>\n",
       "      <th>low</th>\n",
       "      <th>pre_close</th>\n",
       "      <th>change</th>\n",
       "      <th>pct_chg</th>\n",
       "      <th>vol</th>\n",
       "      <th>amount</th>\n",
       "      <th>close</th>\n",
       "      <th>ave_change</th>\n",
       "    </tr>\n",
       "  </thead>\n",
       "  <tbody>\n",
       "    <tr>\n",
       "      <th>0</th>\n",
       "      <td>56.85</td>\n",
       "      <td>57.60</td>\n",
       "      <td>56.50</td>\n",
       "      <td>56.16</td>\n",
       "      <td>0.75</td>\n",
       "      <td>1.34</td>\n",
       "      <td>245626.82</td>\n",
       "      <td>1400499.338</td>\n",
       "      <td>56.91</td>\n",
       "      <td>-1.300000</td>\n",
       "    </tr>\n",
       "    <tr>\n",
       "      <th>1</th>\n",
       "      <td>56.59</td>\n",
       "      <td>56.80</td>\n",
       "      <td>54.80</td>\n",
       "      <td>56.91</td>\n",
       "      <td>-2.05</td>\n",
       "      <td>-3.60</td>\n",
       "      <td>427554.25</td>\n",
       "      <td>2368305.774</td>\n",
       "      <td>54.86</td>\n",
       "      <td>-0.943333</td>\n",
       "    </tr>\n",
       "    <tr>\n",
       "      <th>2</th>\n",
       "      <td>54.94</td>\n",
       "      <td>54.94</td>\n",
       "      <td>51.45</td>\n",
       "      <td>54.86</td>\n",
       "      <td>-2.27</td>\n",
       "      <td>-4.14</td>\n",
       "      <td>947078.65</td>\n",
       "      <td>4971851.955</td>\n",
       "      <td>52.59</td>\n",
       "      <td>-0.156667</td>\n",
       "    </tr>\n",
       "    <tr>\n",
       "      <th>3</th>\n",
       "      <td>52.97</td>\n",
       "      <td>54.25</td>\n",
       "      <td>51.80</td>\n",
       "      <td>52.59</td>\n",
       "      <td>0.42</td>\n",
       "      <td>0.80</td>\n",
       "      <td>659013.87</td>\n",
       "      <td>3494756.547</td>\n",
       "      <td>53.01</td>\n",
       "      <td>-0.006667</td>\n",
       "    </tr>\n",
       "    <tr>\n",
       "      <th>4</th>\n",
       "      <td>52.90</td>\n",
       "      <td>53.90</td>\n",
       "      <td>51.90</td>\n",
       "      <td>53.01</td>\n",
       "      <td>-0.98</td>\n",
       "      <td>-1.85</td>\n",
       "      <td>282919.36</td>\n",
       "      <td>1494174.281</td>\n",
       "      <td>52.03</td>\n",
       "      <td>0.316667</td>\n",
       "    </tr>\n",
       "  </tbody>\n",
       "</table>\n",
       "</div>"
      ],
      "text/plain": [
       "    open   high    low  pre_close  change  pct_chg        vol       amount  \\\n",
       "0  56.85  57.60  56.50      56.16    0.75     1.34  245626.82  1400499.338   \n",
       "1  56.59  56.80  54.80      56.91   -2.05    -3.60  427554.25  2368305.774   \n",
       "2  54.94  54.94  51.45      54.86   -2.27    -4.14  947078.65  4971851.955   \n",
       "3  52.97  54.25  51.80      52.59    0.42     0.80  659013.87  3494756.547   \n",
       "4  52.90  53.90  51.90      53.01   -0.98    -1.85  282919.36  1494174.281   \n",
       "\n",
       "   close  ave_change  \n",
       "0  56.91   -1.300000  \n",
       "1  54.86   -0.943333  \n",
       "2  52.59   -0.156667  \n",
       "3  53.01   -0.006667  \n",
       "4  52.03    0.316667  "
      ]
     },
     "execution_count": 13,
     "metadata": {},
     "output_type": "execute_result"
    }
   ],
   "source": [
    "input_data.head(5)"
   ]
  },
  {
   "cell_type": "code",
   "execution_count": 14,
   "metadata": {},
   "outputs": [],
   "source": [
    "data = input_data.values\n",
    "\n",
    "dd1=input_data.sort_index()\n",
    "\n",
    "dd2=dd1.values.flatten()\n",
    "\n",
    "dd3=pd.DataFrame(dd1['close'])"
   ]
  },
  {
   "cell_type": "code",
   "execution_count": 15,
   "metadata": {},
   "outputs": [],
   "source": [
    "def load_data(df, sequence_length=10, split=0.8):\n",
    "    \n",
    "    \n",
    "    # 转为float型\n",
    "    data_all = np.array(df.astype(float))\n",
    "    # 标准化\n",
    "    x_scaler = MinMaxScaler()\n",
    "    data_all[:, :-1] = x_scaler.fit_transform(data_all[:, :-1])\n",
    "    data = []\n",
    "    for i in range(len(data_all) - sequence_length - 1):\n",
    "        data.append(data_all[i: i + sequence_length + 1])\n",
    "    reshaped_data = np.array(data).astype('float64')\n",
    "    x = reshaped_data[:, :-1]\n",
    "    y = reshaped_data[:, -1][:, -1]\n",
    "    scaler = MinMaxScaler()\n",
    "    y = scaler.fit_transform(y.reshape(-1, 1))\n",
    "    split_boundary = int(reshaped_data.shape[0] * split)\n",
    "    train_x = x[: split_boundary]\n",
    "    test_x = x[split_boundary:]\n",
    "\n",
    "    train_y = y[: split_boundary]\n",
    "    test_y = y[split_boundary:]\n",
    "\n",
    "    return train_x, train_y, test_x, test_y, scaler"
   ]
  },
  {
   "cell_type": "code",
   "execution_count": 16,
   "metadata": {},
   "outputs": [],
   "source": [
    "# 添加自定义评价函数\n",
    "\n",
    "# root mean squared error (rmse) for regression\n",
    "def rmse(y_true, y_pred):\n",
    "    from keras import backend\n",
    "    return backend.sqrt(backend.mean(backend.square(y_pred - y_true), axis=-1))\n",
    "\n",
    "# mean squared error (mse) for regression\n",
    "def mse(y_true, y_pred):\n",
    "    from keras import backend\n",
    "    return backend.mean(backend.square(y_pred - y_true), axis=-1)\n",
    "\n",
    "# coefficient of determination (R^2) for regression\n",
    "def r_square(y_true, y_pred):\n",
    "    from keras import backend as K\n",
    "    SS_res =  K.sum(K.square(y_true - y_pred)) \n",
    "    SS_tot = K.sum(K.square(y_true - K.mean(y_true))) \n",
    "    return (1 - SS_res/(SS_tot + K.epsilon()))\n",
    "\n",
    "def r_square_loss(y_true, y_pred):\n",
    "    from keras import backend as K\n",
    "    SS_res =  K.sum(K.square(y_true - y_pred)) \n",
    "    SS_tot = K.sum(K.square(y_true - K.mean(y_true))) \n",
    "    return 1 - ( 1 - SS_res/(SS_tot + K.epsilon()))\n",
    "\n"
   ]
  },
  {
   "cell_type": "code",
   "execution_count": 17,
   "metadata": {},
   "outputs": [],
   "source": [
    "def build_model(layers):\n",
    "    model = Sequential()\n",
    "\n",
    "    # By setting return_sequences to True we are able to stack another LSTM layer\n",
    "    model.add(LSTM(\n",
    "        input_dim=layers[0],\n",
    "        output_dim=layers[1],\n",
    "        return_sequences=True))\n",
    "    model.add(Dropout(0.5))\n",
    "\n",
    "    model.add(LSTM(\n",
    "        layers[2],\n",
    "        return_sequences=False))\n",
    "    model.add(Dropout(0.5))\n",
    "\n",
    "    model.add(Dense(\n",
    "        output_dim=layers[3]))\n",
    "    model.add(Activation(\"linear\"))\n",
    "\n",
    "    start = time.time()\n",
    "    model.compile(loss=\"mse\", optimizer=\"adam\", metrics=['accuracy','mean_squared_error',rmse, r_square])\n",
    "    print(\"Compilation Time : \", time.time() - start)\n",
    "    return model"
   ]
  },
  {
   "cell_type": "code",
   "execution_count": 18,
   "metadata": {},
   "outputs": [],
   "source": [
    "def train_model(train_x, train_y, test_x, test_y):\n",
    "    model = build_model([train_x.shape[2], train_x.shape[1], 200, 1])\n",
    "\n",
    "    try:\n",
    "        result  = model.fit(train_x, train_y, batch_size=40, nb_epoch=200, validation_split=0.1)\n",
    "        predict = model.predict(test_x)\n",
    "        predict = np.reshape(predict, (predict.size, ))\n",
    "    except KeyboardInterrupt:\n",
    "        print(predict)\n",
    "        print(test_y)\n",
    "#     print(predict)\n",
    "#     print(test_y)\n",
    "    try:\n",
    "        fig = plt.figure(1)\n",
    "        plt.plot(predict, 'r:')\n",
    "        plt.plot(test_y, 'g-')\n",
    "        plt.legend(['predict', 'true'])\n",
    "    except Exception as e:\n",
    "        print(e)\n",
    "    return predict, test_y , model, result "
   ]
  },
  {
   "cell_type": "code",
   "execution_count": 19,
   "metadata": {},
   "outputs": [
    {
     "data": {
      "text/plain": [
       "(1909, 10)"
      ]
     },
     "execution_count": 19,
     "metadata": {},
     "output_type": "execute_result"
    }
   ],
   "source": [
    "dd1.shape"
   ]
  },
  {
   "cell_type": "code",
   "execution_count": 20,
   "metadata": {},
   "outputs": [],
   "source": [
    "train_x, train_y, test_x, test_y, scaler =load_data(dd1, sequence_length=10, split=0.8)"
   ]
  },
  {
   "cell_type": "code",
   "execution_count": 21,
   "metadata": {},
   "outputs": [
    {
     "name": "stdout",
     "output_type": "stream",
     "text": [
      "train_x (1518, 10, 10)\n",
      "train_y (1518, 1)\n",
      "test_x (380, 10, 10)\n",
      "test_y (380, 1)\n"
     ]
    }
   ],
   "source": [
    "print(\"train_x\", train_x.shape)\n",
    "print(\"train_y\", train_y.shape)\n",
    "print(\"test_x\", test_x.shape)\n",
    "print(\"test_y\", test_y.shape)"
   ]
  },
  {
   "cell_type": "code",
   "execution_count": 22,
   "metadata": {},
   "outputs": [
    {
     "name": "stderr",
     "output_type": "stream",
     "text": [
      "d:\\ProgramData\\Anaconda3\\lib\\site-packages\\ipykernel_launcher.py:8: UserWarning: The `input_dim` and `input_length` arguments in recurrent layers are deprecated. Use `input_shape` instead.\n",
      "  \n",
      "d:\\ProgramData\\Anaconda3\\lib\\site-packages\\ipykernel_launcher.py:8: UserWarning: Update your `LSTM` call to the Keras 2 API: `LSTM(return_sequences=True, input_shape=(None, 10), units=10)`\n",
      "  \n",
      "d:\\ProgramData\\Anaconda3\\lib\\site-packages\\ipykernel_launcher.py:17: UserWarning: Update your `Dense` call to the Keras 2 API: `Dense(units=1)`\n",
      "d:\\ProgramData\\Anaconda3\\lib\\site-packages\\ipykernel_launcher.py:5: UserWarning: The `nb_epoch` argument in `fit` has been renamed `epochs`.\n",
      "  \"\"\"\n"
     ]
    },
    {
     "name": "stdout",
     "output_type": "stream",
     "text": [
      "Compilation Time :  0.05585837364196777\n",
      "Train on 1366 samples, validate on 152 samples\n",
      "Epoch 1/200\n",
      "1366/1366 [==============================] - 3s 2ms/step - loss: 0.0357 - acc: 7.3206e-04 - mean_squared_error: 0.0357 - rmse: 0.1410 - r_square: -4.1687 - val_loss: 0.0026 - val_acc: 0.0000e+00 - val_mean_squared_error: 0.0026 - val_rmse: 0.0448 - val_r_square: -3.7326\n",
      "Epoch 2/200\n",
      "1366/1366 [==============================] - 1s 905us/step - loss: 0.0130 - acc: 0.0000e+00 - mean_squared_error: 0.0130 - rmse: 0.0840 - r_square: -0.6991 - val_loss: 7.2745e-04 - val_acc: 0.0000e+00 - val_mean_squared_error: 7.2745e-04 - val_rmse: 0.0205 - val_r_square: -0.1575\n",
      "Epoch 3/200\n",
      "1366/1366 [==============================] - 1s 910us/step - loss: 0.0123 - acc: 0.0000e+00 - mean_squared_error: 0.0123 - rmse: 0.0823 - r_square: -0.6671 - val_loss: 6.9276e-04 - val_acc: 0.0000e+00 - val_mean_squared_error: 6.9276e-04 - val_rmse: 0.0195 - val_r_square: -0.1276\n",
      "Epoch 4/200\n",
      "1366/1366 [==============================] - 1s 836us/step - loss: 0.0116 - acc: 0.0000e+00 - mean_squared_error: 0.0116 - rmse: 0.0793 - r_square: -0.5457 - val_loss: 0.0013 - val_acc: 0.0000e+00 - val_mean_squared_error: 0.0013 - val_rmse: 0.0295 - val_r_square: -1.2318\n",
      "Epoch 5/200\n",
      "1366/1366 [==============================] - 1s 905us/step - loss: 0.0108 - acc: 0.0000e+00 - mean_squared_error: 0.0108 - rmse: 0.0762 - r_square: -0.4013 - val_loss: 6.9263e-04 - val_acc: 0.0000e+00 - val_mean_squared_error: 6.9263e-04 - val_rmse: 0.0197 - val_r_square: -0.1754\n",
      "Epoch 6/200\n",
      "1366/1366 [==============================] - 1s 938us/step - loss: 0.0107 - acc: 7.3206e-04 - mean_squared_error: 0.0107 - rmse: 0.0746 - r_square: -0.4345 - val_loss: 7.4028e-04 - val_acc: 0.0000e+00 - val_mean_squared_error: 7.4028e-04 - val_rmse: 0.0215 - val_r_square: -0.2442\n",
      "Epoch 7/200\n",
      "1366/1366 [==============================] - 1s 916us/step - loss: 0.0103 - acc: 0.0000e+00 - mean_squared_error: 0.0103 - rmse: 0.0731 - r_square: -0.3079 - val_loss: 7.7214e-04 - val_acc: 0.0000e+00 - val_mean_squared_error: 7.7214e-04 - val_rmse: 0.0221 - val_r_square: -0.3092\n",
      "Epoch 8/200\n",
      "1366/1366 [==============================] - 1s 902us/step - loss: 0.0102 - acc: 0.0000e+00 - mean_squared_error: 0.0102 - rmse: 0.0730 - r_square: -0.3667 - val_loss: 0.0012 - val_acc: 0.0000e+00 - val_mean_squared_error: 0.0012 - val_rmse: 0.0291 - val_r_square: -1.2963\n",
      "Epoch 9/200\n",
      "1366/1366 [==============================] - 1s 779us/step - loss: 0.0103 - acc: 0.0000e+00 - mean_squared_error: 0.0103 - rmse: 0.0725 - r_square: -0.3256 - val_loss: 9.8184e-04 - val_acc: 0.0000e+00 - val_mean_squared_error: 9.8184e-04 - val_rmse: 0.0257 - val_r_square: -0.7231\n",
      "Epoch 10/200\n",
      "1366/1366 [==============================] - 1s 779us/step - loss: 0.0090 - acc: 7.3206e-04 - mean_squared_error: 0.0090 - rmse: 0.0680 - r_square: -0.2610 - val_loss: 5.4864e-04 - val_acc: 0.0000e+00 - val_mean_squared_error: 5.4864e-04 - val_rmse: 0.0176 - val_r_square: 0.0900\n",
      "Epoch 11/200\n",
      "1366/1366 [==============================] - 1s 828us/step - loss: 0.0092 - acc: 7.3206e-04 - mean_squared_error: 0.0092 - rmse: 0.0685 - r_square: -0.1372 - val_loss: 5.3803e-04 - val_acc: 0.0000e+00 - val_mean_squared_error: 5.3803e-04 - val_rmse: 0.0174 - val_r_square: 0.0930\n",
      "Epoch 12/200\n",
      "1366/1366 [==============================] - 1s 817us/step - loss: 0.0091 - acc: 0.0000e+00 - mean_squared_error: 0.0091 - rmse: 0.0690 - r_square: -0.1533 - val_loss: 0.0012 - val_acc: 0.0000e+00 - val_mean_squared_error: 0.0012 - val_rmse: 0.0295 - val_r_square: -1.2153\n",
      "Epoch 13/200\n",
      "1366/1366 [==============================] - 1s 849us/step - loss: 0.0096 - acc: 0.0000e+00 - mean_squared_error: 0.0096 - rmse: 0.0710 - r_square: -0.2413 - val_loss: 0.0021 - val_acc: 0.0000e+00 - val_mean_squared_error: 0.0021 - val_rmse: 0.0407 - val_r_square: -3.0222\n",
      "Epoch 14/200\n",
      "1366/1366 [==============================] - 1s 803us/step - loss: 0.0091 - acc: 0.0000e+00 - mean_squared_error: 0.0091 - rmse: 0.0686 - r_square: -0.1670 - val_loss: 4.9564e-04 - val_acc: 0.0000e+00 - val_mean_squared_error: 4.9564e-04 - val_rmse: 0.0170 - val_r_square: 0.1681\n",
      "Epoch 15/200\n",
      "1366/1366 [==============================] - 1s 874us/step - loss: 0.0091 - acc: 7.3206e-04 - mean_squared_error: 0.0091 - rmse: 0.0688 - r_square: -0.1731 - val_loss: 4.8072e-04 - val_acc: 0.0000e+00 - val_mean_squared_error: 4.8072e-04 - val_rmse: 0.0167 - val_r_square: 0.1926\n",
      "Epoch 16/200\n",
      "1366/1366 [==============================] - 1s 799us/step - loss: 0.0086 - acc: 0.0000e+00 - mean_squared_error: 0.0086 - rmse: 0.0656 - r_square: -0.0877 - val_loss: 0.0015 - val_acc: 0.0000e+00 - val_mean_squared_error: 0.0015 - val_rmse: 0.0331 - val_r_square: -1.8219\n",
      "Epoch 17/200\n",
      "1366/1366 [==============================] - 1s 782us/step - loss: 0.0087 - acc: 7.3206e-04 - mean_squared_error: 0.0087 - rmse: 0.0676 - r_square: -0.1220 - val_loss: 7.5624e-04 - val_acc: 0.0000e+00 - val_mean_squared_error: 7.5624e-04 - val_rmse: 0.0222 - val_r_square: -0.4125\n",
      "Epoch 18/200\n",
      "1366/1366 [==============================] - 1s 783us/step - loss: 0.0089 - acc: 0.0000e+00 - mean_squared_error: 0.0089 - rmse: 0.0661 - r_square: -0.1573 - val_loss: 4.4545e-04 - val_acc: 0.0000e+00 - val_mean_squared_error: 4.4545e-04 - val_rmse: 0.0161 - val_r_square: 0.2477\n",
      "Epoch 19/200\n",
      "1366/1366 [==============================] - 1s 841us/step - loss: 0.0079 - acc: 7.3206e-04 - mean_squared_error: 0.0079 - rmse: 0.0638 - r_square: -0.0416 - val_loss: 5.2168e-04 - val_acc: 0.0000e+00 - val_mean_squared_error: 5.2168e-04 - val_rmse: 0.0175 - val_r_square: 0.0830\n",
      "Epoch 20/200\n",
      "1366/1366 [==============================] - 1s 824us/step - loss: 0.0084 - acc: 7.3206e-04 - mean_squared_error: 0.0084 - rmse: 0.0649 - r_square: -0.0874 - val_loss: 7.1366e-04 - val_acc: 0.0000e+00 - val_mean_squared_error: 7.1366e-04 - val_rmse: 0.0216 - val_r_square: -0.2537\n",
      "Epoch 21/200\n",
      "1366/1366 [==============================] - 1s 783us/step - loss: 0.0079 - acc: 7.3206e-04 - mean_squared_error: 0.0079 - rmse: 0.0640 - r_square: -0.0018 - val_loss: 4.4230e-04 - val_acc: 0.0000e+00 - val_mean_squared_error: 4.4230e-04 - val_rmse: 0.0162 - val_r_square: 0.2395\n",
      "Epoch 22/200\n",
      "1366/1366 [==============================] - 1s 783us/step - loss: 0.0080 - acc: 7.3206e-04 - mean_squared_error: 0.0080 - rmse: 0.0636 - r_square: -0.0320 - val_loss: 0.0014 - val_acc: 0.0000e+00 - val_mean_squared_error: 0.0014 - val_rmse: 0.0322 - val_r_square: -1.6618\n",
      "Epoch 23/200\n",
      "1366/1366 [==============================] - 1s 813us/step - loss: 0.0079 - acc: 7.3206e-04 - mean_squared_error: 0.0079 - rmse: 0.0641 - r_square: -0.0421 - val_loss: 4.7748e-04 - val_acc: 0.0000e+00 - val_mean_squared_error: 4.7748e-04 - val_rmse: 0.0171 - val_r_square: 0.1923\n",
      "Epoch 24/200\n",
      "1366/1366 [==============================] - 1s 818us/step - loss: 0.0080 - acc: 7.3206e-04 - mean_squared_error: 0.0080 - rmse: 0.0631 - r_square: 0.0049 - val_loss: 5.1325e-04 - val_acc: 0.0000e+00 - val_mean_squared_error: 5.1325e-04 - val_rmse: 0.0175 - val_r_square: 0.0719\n",
      "Epoch 25/200\n",
      "1366/1366 [==============================] - 1s 792us/step - loss: 0.0075 - acc: 7.3206e-04 - mean_squared_error: 0.0075 - rmse: 0.0613 - r_square: 0.0302 - val_loss: 3.9523e-04 - val_acc: 0.0000e+00 - val_mean_squared_error: 3.9523e-04 - val_rmse: 0.0153 - val_r_square: 0.3169\n",
      "Epoch 26/200\n",
      "1366/1366 [==============================] - 1s 836us/step - loss: 0.0075 - acc: 7.3206e-04 - mean_squared_error: 0.0075 - rmse: 0.0606 - r_square: 0.0580 - val_loss: 4.7115e-04 - val_acc: 0.0000e+00 - val_mean_squared_error: 4.7115e-04 - val_rmse: 0.0167 - val_r_square: 0.1539\n",
      "Epoch 27/200\n",
      "1366/1366 [==============================] - 1s 803us/step - loss: 0.0074 - acc: 7.3206e-04 - mean_squared_error: 0.0074 - rmse: 0.0610 - r_square: 0.0307 - val_loss: 4.1281e-04 - val_acc: 0.0000e+00 - val_mean_squared_error: 4.1281e-04 - val_rmse: 0.0157 - val_r_square: 0.2873\n",
      "Epoch 28/200\n",
      "1366/1366 [==============================] - 1s 829us/step - loss: 0.0074 - acc: 7.3206e-04 - mean_squared_error: 0.0074 - rmse: 0.0616 - r_square: 0.0521 - val_loss: 7.7925e-04 - val_acc: 0.0000e+00 - val_mean_squared_error: 7.7925e-04 - val_rmse: 0.0230 - val_r_square: -0.4153\n"
     ]
    },
    {
     "name": "stdout",
     "output_type": "stream",
     "text": [
      "Epoch 29/200\n",
      "1366/1366 [==============================] - 1s 973us/step - loss: 0.0075 - acc: 7.3206e-04 - mean_squared_error: 0.0075 - rmse: 0.0625 - r_square: -0.0433 - val_loss: 4.0078e-04 - val_acc: 0.0000e+00 - val_mean_squared_error: 4.0078e-04 - val_rmse: 0.0154 - val_r_square: 0.2874\n",
      "Epoch 30/200\n",
      "1366/1366 [==============================] - 1s 909us/step - loss: 0.0075 - acc: 0.0000e+00 - mean_squared_error: 0.0075 - rmse: 0.0610 - r_square: 0.0338 - val_loss: 5.1113e-04 - val_acc: 0.0000e+00 - val_mean_squared_error: 5.1113e-04 - val_rmse: 0.0180 - val_r_square: 0.0917\n",
      "Epoch 31/200\n",
      "1366/1366 [==============================] - 1s 869us/step - loss: 0.0080 - acc: 7.3206e-04 - mean_squared_error: 0.0080 - rmse: 0.0622 - r_square: -0.0842 - val_loss: 6.5905e-04 - val_acc: 0.0000e+00 - val_mean_squared_error: 6.5905e-04 - val_rmse: 0.0207 - val_r_square: -0.2378\n",
      "Epoch 32/200\n",
      "1366/1366 [==============================] - 1s 920us/step - loss: 0.0069 - acc: 7.3206e-04 - mean_squared_error: 0.0069 - rmse: 0.0585 - r_square: 0.1086 - val_loss: 4.5031e-04 - val_acc: 0.0000e+00 - val_mean_squared_error: 4.5031e-04 - val_rmse: 0.0167 - val_r_square: 0.2216\n",
      "Epoch 33/200\n",
      "1366/1366 [==============================] - 1s 875us/step - loss: 0.0072 - acc: 7.3206e-04 - mean_squared_error: 0.0072 - rmse: 0.0594 - r_square: 0.1040 - val_loss: 4.4840e-04 - val_acc: 0.0000e+00 - val_mean_squared_error: 4.4840e-04 - val_rmse: 0.0168 - val_r_square: 0.2099\n",
      "Epoch 34/200\n",
      "1366/1366 [==============================] - 1s 849us/step - loss: 0.0075 - acc: 7.3206e-04 - mean_squared_error: 0.0075 - rmse: 0.0614 - r_square: -0.0564 - val_loss: 5.9733e-04 - val_acc: 0.0000e+00 - val_mean_squared_error: 5.9733e-04 - val_rmse: 0.0197 - val_r_square: -0.0757\n",
      "Epoch 35/200\n",
      "1366/1366 [==============================] - 1s 894us/step - loss: 0.0069 - acc: 7.3206e-04 - mean_squared_error: 0.0069 - rmse: 0.0593 - r_square: 0.1022 - val_loss: 6.0744e-04 - val_acc: 0.0000e+00 - val_mean_squared_error: 6.0744e-04 - val_rmse: 0.0197 - val_r_square: -0.1393\n",
      "Epoch 36/200\n",
      "1366/1366 [==============================] - 1s 909us/step - loss: 0.0068 - acc: 7.3206e-04 - mean_squared_error: 0.0068 - rmse: 0.0575 - r_square: 0.1078 - val_loss: 4.5186e-04 - val_acc: 0.0000e+00 - val_mean_squared_error: 4.5186e-04 - val_rmse: 0.0168 - val_r_square: 0.2087\n",
      "Epoch 37/200\n",
      "1366/1366 [==============================] - 1s 969us/step - loss: 0.0067 - acc: 7.3206e-04 - mean_squared_error: 0.0067 - rmse: 0.0576 - r_square: 0.1464 - val_loss: 3.7460e-04 - val_acc: 0.0000e+00 - val_mean_squared_error: 3.7460e-04 - val_rmse: 0.0150 - val_r_square: 0.3594\n",
      "Epoch 38/200\n",
      "1366/1366 [==============================] - 1s 889us/step - loss: 0.0075 - acc: 7.3206e-04 - mean_squared_error: 0.0075 - rmse: 0.0621 - r_square: 0.0597 - val_loss: 3.6669e-04 - val_acc: 0.0000e+00 - val_mean_squared_error: 3.6669e-04 - val_rmse: 0.0148 - val_r_square: 0.3561\n",
      "Epoch 39/200\n",
      "1366/1366 [==============================] - 1s 892us/step - loss: 0.0071 - acc: 7.3206e-04 - mean_squared_error: 0.0071 - rmse: 0.0586 - r_square: 0.0579 - val_loss: 3.8406e-04 - val_acc: 0.0000e+00 - val_mean_squared_error: 3.8406e-04 - val_rmse: 0.0151 - val_r_square: 0.3313\n",
      "Epoch 40/200\n",
      "1366/1366 [==============================] - 1s 842us/step - loss: 0.0070 - acc: 7.3206e-04 - mean_squared_error: 0.0070 - rmse: 0.0583 - r_square: 0.0942 - val_loss: 8.4244e-04 - val_acc: 0.0000e+00 - val_mean_squared_error: 8.4244e-04 - val_rmse: 0.0242 - val_r_square: -0.5342\n",
      "Epoch 41/200\n",
      "1366/1366 [==============================] - 1s 816us/step - loss: 0.0072 - acc: 7.3206e-04 - mean_squared_error: 0.0072 - rmse: 0.0596 - r_square: 0.0718 - val_loss: 7.4602e-04 - val_acc: 0.0000e+00 - val_mean_squared_error: 7.4602e-04 - val_rmse: 0.0225 - val_r_square: -0.4363\n",
      "Epoch 42/200\n",
      "1366/1366 [==============================] - 1s 835us/step - loss: 0.0067 - acc: 7.3206e-04 - mean_squared_error: 0.0067 - rmse: 0.0575 - r_square: 0.1018 - val_loss: 5.3590e-04 - val_acc: 0.0000e+00 - val_mean_squared_error: 5.3590e-04 - val_rmse: 0.0184 - val_r_square: -0.0085\n",
      "Epoch 43/200\n",
      "1366/1366 [==============================] - 1s 794us/step - loss: 0.0065 - acc: 7.3206e-04 - mean_squared_error: 0.0065 - rmse: 0.0570 - r_square: 0.1320 - val_loss: 3.5851e-04 - val_acc: 0.0000e+00 - val_mean_squared_error: 3.5851e-04 - val_rmse: 0.0147 - val_r_square: 0.3562\n",
      "Epoch 44/200\n",
      "1366/1366 [==============================] - 1s 799us/step - loss: 0.0067 - acc: 7.3206e-04 - mean_squared_error: 0.0067 - rmse: 0.0580 - r_square: 0.1268 - val_loss: 4.2360e-04 - val_acc: 0.0000e+00 - val_mean_squared_error: 4.2360e-04 - val_rmse: 0.0161 - val_r_square: 0.2737\n",
      "Epoch 45/200\n",
      "1366/1366 [==============================] - 1s 821us/step - loss: 0.0071 - acc: 7.3206e-04 - mean_squared_error: 0.0071 - rmse: 0.0582 - r_square: 0.0985 - val_loss: 9.7134e-04 - val_acc: 0.0000e+00 - val_mean_squared_error: 9.7134e-04 - val_rmse: 0.0265 - val_r_square: -0.7882\n",
      "Epoch 46/200\n",
      "1366/1366 [==============================] - 1s 824us/step - loss: 0.0067 - acc: 0.0000e+00 - mean_squared_error: 0.0067 - rmse: 0.0574 - r_square: 0.1429 - val_loss: 3.8301e-04 - val_acc: 0.0000e+00 - val_mean_squared_error: 3.8301e-04 - val_rmse: 0.0152 - val_r_square: 0.3388\n",
      "Epoch 47/200\n",
      "1366/1366 [==============================] - 1s 796us/step - loss: 0.0066 - acc: 7.3206e-04 - mean_squared_error: 0.0066 - rmse: 0.0568 - r_square: 0.1489 - val_loss: 3.9485e-04 - val_acc: 0.0000e+00 - val_mean_squared_error: 3.9485e-04 - val_rmse: 0.0155 - val_r_square: 0.3216\n",
      "Epoch 48/200\n",
      "1366/1366 [==============================] - 1s 781us/step - loss: 0.0066 - acc: 7.3206e-04 - mean_squared_error: 0.0066 - rmse: 0.0566 - r_square: 0.1327 - val_loss: 3.5123e-04 - val_acc: 0.0000e+00 - val_mean_squared_error: 3.5123e-04 - val_rmse: 0.0145 - val_r_square: 0.3891\n",
      "Epoch 49/200\n",
      "1366/1366 [==============================] - 1s 767us/step - loss: 0.0063 - acc: 7.3206e-04 - mean_squared_error: 0.0063 - rmse: 0.0554 - r_square: 0.1857 - val_loss: 4.5353e-04 - val_acc: 0.0000e+00 - val_mean_squared_error: 4.5353e-04 - val_rmse: 0.0169 - val_r_square: 0.2011\n",
      "Epoch 50/200\n",
      "1366/1366 [==============================] - 1s 789us/step - loss: 0.0065 - acc: 7.3206e-04 - mean_squared_error: 0.0065 - rmse: 0.0558 - r_square: 0.1633 - val_loss: 4.7026e-04 - val_acc: 0.0000e+00 - val_mean_squared_error: 4.7026e-04 - val_rmse: 0.0173 - val_r_square: 0.1658\n",
      "Epoch 51/200\n",
      "1366/1366 [==============================] - 1s 828us/step - loss: 0.0060 - acc: 7.3206e-04 - mean_squared_error: 0.0060 - rmse: 0.0543 - r_square: 0.1790 - val_loss: 3.4370e-04 - val_acc: 0.0000e+00 - val_mean_squared_error: 3.4370e-04 - val_rmse: 0.0144 - val_r_square: 0.3988\n",
      "Epoch 52/200\n",
      "1366/1366 [==============================] - 1s 800us/step - loss: 0.0063 - acc: 7.3206e-04 - mean_squared_error: 0.0063 - rmse: 0.0557 - r_square: 0.2030 - val_loss: 3.5043e-04 - val_acc: 0.0000e+00 - val_mean_squared_error: 3.5043e-04 - val_rmse: 0.0144 - val_r_square: 0.3921\n",
      "Epoch 53/200\n",
      "1366/1366 [==============================] - 1s 794us/step - loss: 0.0064 - acc: 7.3206e-04 - mean_squared_error: 0.0064 - rmse: 0.0549 - r_square: 0.1764 - val_loss: 4.2258e-04 - val_acc: 0.0000e+00 - val_mean_squared_error: 4.2258e-04 - val_rmse: 0.0162 - val_r_square: 0.2587\n",
      "Epoch 54/200\n",
      "1366/1366 [==============================] - 1s 772us/step - loss: 0.0064 - acc: 7.3206e-04 - mean_squared_error: 0.0064 - rmse: 0.0557 - r_square: 0.1780 - val_loss: 3.6281e-04 - val_acc: 0.0000e+00 - val_mean_squared_error: 3.6281e-04 - val_rmse: 0.0149 - val_r_square: 0.3735\n",
      "Epoch 55/200\n",
      "1366/1366 [==============================] - 1s 792us/step - loss: 0.0064 - acc: 7.3206e-04 - mean_squared_error: 0.0064 - rmse: 0.0557 - r_square: 0.1980 - val_loss: 3.8961e-04 - val_acc: 0.0000e+00 - val_mean_squared_error: 3.8961e-04 - val_rmse: 0.0154 - val_r_square: 0.3192\n",
      "Epoch 56/200\n",
      "1366/1366 [==============================] - 1s 792us/step - loss: 0.0063 - acc: 0.0000e+00 - mean_squared_error: 0.0063 - rmse: 0.0548 - r_square: 0.1891 - val_loss: 3.6068e-04 - val_acc: 0.0000e+00 - val_mean_squared_error: 3.6068e-04 - val_rmse: 0.0147 - val_r_square: 0.3573\n",
      "Epoch 57/200\n"
     ]
    },
    {
     "name": "stdout",
     "output_type": "stream",
     "text": [
      "1366/1366 [==============================] - 1s 802us/step - loss: 0.0067 - acc: 7.3206e-04 - mean_squared_error: 0.0067 - rmse: 0.0568 - r_square: 0.1484 - val_loss: 0.0017 - val_acc: 0.0000e+00 - val_mean_squared_error: 0.0017 - val_rmse: 0.0369 - val_r_square: -2.2935\n",
      "Epoch 58/200\n",
      "1366/1366 [==============================] - 1s 816us/step - loss: 0.0065 - acc: 0.0000e+00 - mean_squared_error: 0.0065 - rmse: 0.0560 - r_square: 0.1288 - val_loss: 3.6020e-04 - val_acc: 0.0000e+00 - val_mean_squared_error: 3.6020e-04 - val_rmse: 0.0147 - val_r_square: 0.3551\n",
      "Epoch 59/200\n",
      "1366/1366 [==============================] - 1s 812us/step - loss: 0.0063 - acc: 7.3206e-04 - mean_squared_error: 0.0063 - rmse: 0.0538 - r_square: 0.2003 - val_loss: 6.7674e-04 - val_acc: 0.0000e+00 - val_mean_squared_error: 6.7674e-04 - val_rmse: 0.0213 - val_r_square: -0.2189\n",
      "Epoch 60/200\n",
      "1366/1366 [==============================] - 1s 807us/step - loss: 0.0062 - acc: 7.3206e-04 - mean_squared_error: 0.0062 - rmse: 0.0550 - r_square: 0.2148 - val_loss: 3.6143e-04 - val_acc: 0.0000e+00 - val_mean_squared_error: 3.6143e-04 - val_rmse: 0.0147 - val_r_square: 0.3562\n",
      "Epoch 61/200\n",
      "1366/1366 [==============================] - 1s 796us/step - loss: 0.0062 - acc: 7.3206e-04 - mean_squared_error: 0.0062 - rmse: 0.0539 - r_square: 0.1713 - val_loss: 3.3921e-04 - val_acc: 0.0000e+00 - val_mean_squared_error: 3.3921e-04 - val_rmse: 0.0142 - val_r_square: 0.4025\n",
      "Epoch 62/200\n",
      "1366/1366 [==============================] - 1s 795us/step - loss: 0.0062 - acc: 7.3206e-04 - mean_squared_error: 0.0062 - rmse: 0.0545 - r_square: 0.2243 - val_loss: 3.5462e-04 - val_acc: 0.0000e+00 - val_mean_squared_error: 3.5462e-04 - val_rmse: 0.0145 - val_r_square: 0.3797\n",
      "Epoch 63/200\n",
      "1366/1366 [==============================] - 1s 810us/step - loss: 0.0060 - acc: 7.3206e-04 - mean_squared_error: 0.0060 - rmse: 0.0536 - r_square: 0.1837 - val_loss: 5.1405e-04 - val_acc: 0.0000e+00 - val_mean_squared_error: 5.1405e-04 - val_rmse: 0.0181 - val_r_square: 0.0848\n",
      "Epoch 64/200\n",
      "1366/1366 [==============================] - 1s 785us/step - loss: 0.0062 - acc: 7.3206e-04 - mean_squared_error: 0.0062 - rmse: 0.0544 - r_square: 0.2316 - val_loss: 7.0571e-04 - val_acc: 0.0000e+00 - val_mean_squared_error: 7.0571e-04 - val_rmse: 0.0219 - val_r_square: -0.3584\n",
      "Epoch 65/200\n",
      "1366/1366 [==============================] - 1s 822us/step - loss: 0.0059 - acc: 7.3206e-04 - mean_squared_error: 0.0059 - rmse: 0.0541 - r_square: 0.2019 - val_loss: 3.4713e-04 - val_acc: 0.0000e+00 - val_mean_squared_error: 3.4713e-04 - val_rmse: 0.0144 - val_r_square: 0.3769\n",
      "Epoch 66/200\n",
      "1366/1366 [==============================] - 1s 862us/step - loss: 0.0060 - acc: 7.3206e-04 - mean_squared_error: 0.0060 - rmse: 0.0528 - r_square: 0.2455 - val_loss: 3.5189e-04 - val_acc: 0.0000e+00 - val_mean_squared_error: 3.5189e-04 - val_rmse: 0.0145 - val_r_square: 0.3661\n",
      "Epoch 67/200\n",
      "1366/1366 [==============================] - 1s 822us/step - loss: 0.0061 - acc: 7.3206e-04 - mean_squared_error: 0.0061 - rmse: 0.0547 - r_square: 0.2104 - val_loss: 3.7866e-04 - val_acc: 0.0000e+00 - val_mean_squared_error: 3.7866e-04 - val_rmse: 0.0151 - val_r_square: 0.3119\n",
      "Epoch 68/200\n",
      "1366/1366 [==============================] - 1s 805us/step - loss: 0.0060 - acc: 7.3206e-04 - mean_squared_error: 0.0060 - rmse: 0.0529 - r_square: 0.2306 - val_loss: 3.4360e-04 - val_acc: 0.0000e+00 - val_mean_squared_error: 3.4360e-04 - val_rmse: 0.0143 - val_r_square: 0.4001\n",
      "Epoch 69/200\n",
      "1366/1366 [==============================] - 1s 841us/step - loss: 0.0057 - acc: 7.3206e-04 - mean_squared_error: 0.0057 - rmse: 0.0533 - r_square: 0.2240 - val_loss: 3.4855e-04 - val_acc: 0.0000e+00 - val_mean_squared_error: 3.4855e-04 - val_rmse: 0.0145 - val_r_square: 0.3868\n",
      "Epoch 70/200\n",
      "1366/1366 [==============================] - 1s 880us/step - loss: 0.0058 - acc: 7.3206e-04 - mean_squared_error: 0.0058 - rmse: 0.0533 - r_square: 0.2318 - val_loss: 4.0158e-04 - val_acc: 0.0000e+00 - val_mean_squared_error: 4.0158e-04 - val_rmse: 0.0156 - val_r_square: 0.2480\n",
      "Epoch 71/200\n",
      "1366/1366 [==============================] - 1s 860us/step - loss: 0.0062 - acc: 7.3206e-04 - mean_squared_error: 0.0062 - rmse: 0.0548 - r_square: 0.1872 - val_loss: 3.8784e-04 - val_acc: 0.0000e+00 - val_mean_squared_error: 3.8784e-04 - val_rmse: 0.0153 - val_r_square: 0.2841\n",
      "Epoch 72/200\n",
      "1366/1366 [==============================] - 1s 820us/step - loss: 0.0059 - acc: 7.3206e-04 - mean_squared_error: 0.0059 - rmse: 0.0537 - r_square: 0.2342 - val_loss: 3.4633e-04 - val_acc: 0.0000e+00 - val_mean_squared_error: 3.4633e-04 - val_rmse: 0.0143 - val_r_square: 0.4032\n",
      "Epoch 73/200\n",
      "1366/1366 [==============================] - 1s 787us/step - loss: 0.0060 - acc: 7.3206e-04 - mean_squared_error: 0.0060 - rmse: 0.0522 - r_square: 0.2419 - val_loss: 3.8168e-04 - val_acc: 0.0000e+00 - val_mean_squared_error: 3.8168e-04 - val_rmse: 0.0153 - val_r_square: 0.3410\n",
      "Epoch 74/200\n",
      "1366/1366 [==============================] - 1s 758us/step - loss: 0.0057 - acc: 7.3206e-04 - mean_squared_error: 0.0057 - rmse: 0.0521 - r_square: 0.2578 - val_loss: 6.2918e-04 - val_acc: 0.0000e+00 - val_mean_squared_error: 6.2918e-04 - val_rmse: 0.0204 - val_r_square: -0.1321\n",
      "Epoch 75/200\n",
      "1366/1366 [==============================] - 1s 821us/step - loss: 0.0058 - acc: 7.3206e-04 - mean_squared_error: 0.0058 - rmse: 0.0516 - r_square: 0.2195 - val_loss: 3.3599e-04 - val_acc: 0.0000e+00 - val_mean_squared_error: 3.3599e-04 - val_rmse: 0.0142 - val_r_square: 0.3976\n",
      "Epoch 76/200\n",
      "1366/1366 [==============================] - 1s 818us/step - loss: 0.0056 - acc: 7.3206e-04 - mean_squared_error: 0.0056 - rmse: 0.0518 - r_square: 0.2903 - val_loss: 4.5437e-04 - val_acc: 0.0000e+00 - val_mean_squared_error: 4.5437e-04 - val_rmse: 0.0169 - val_r_square: 0.1944\n",
      "Epoch 77/200\n",
      "1366/1366 [==============================] - 1s 796us/step - loss: 0.0059 - acc: 7.3206e-04 - mean_squared_error: 0.0059 - rmse: 0.0532 - r_square: 0.2579 - val_loss: 5.7174e-04 - val_acc: 0.0000e+00 - val_mean_squared_error: 5.7174e-04 - val_rmse: 0.0193 - val_r_square: -0.0872\n",
      "Epoch 78/200\n",
      "1366/1366 [==============================] - 1s 784us/step - loss: 0.0057 - acc: 7.3206e-04 - mean_squared_error: 0.0057 - rmse: 0.0514 - r_square: 0.2592 - val_loss: 3.3591e-04 - val_acc: 0.0000e+00 - val_mean_squared_error: 3.3591e-04 - val_rmse: 0.0142 - val_r_square: 0.3922\n",
      "Epoch 79/200\n",
      "1366/1366 [==============================] - 1s 782us/step - loss: 0.0059 - acc: 7.3206e-04 - mean_squared_error: 0.0059 - rmse: 0.0520 - r_square: 0.2342 - val_loss: 3.4405e-04 - val_acc: 0.0000e+00 - val_mean_squared_error: 3.4405e-04 - val_rmse: 0.0143 - val_r_square: 0.3755\n",
      "Epoch 80/200\n",
      "1366/1366 [==============================] - 1s 757us/step - loss: 0.0056 - acc: 7.3206e-04 - mean_squared_error: 0.0056 - rmse: 0.0517 - r_square: 0.3050 - val_loss: 3.8044e-04 - val_acc: 0.0000e+00 - val_mean_squared_error: 3.8044e-04 - val_rmse: 0.0153 - val_r_square: 0.3279\n",
      "Epoch 81/200\n",
      "1366/1366 [==============================] - 1s 808us/step - loss: 0.0054 - acc: 7.3206e-04 - mean_squared_error: 0.0054 - rmse: 0.0500 - r_square: 0.3312 - val_loss: 3.2733e-04 - val_acc: 0.0000e+00 - val_mean_squared_error: 3.2733e-04 - val_rmse: 0.0140 - val_r_square: 0.4063\n",
      "Epoch 82/200\n",
      "1366/1366 [==============================] - 1s 785us/step - loss: 0.0058 - acc: 7.3206e-04 - mean_squared_error: 0.0058 - rmse: 0.0515 - r_square: 0.2518 - val_loss: 3.7459e-04 - val_acc: 0.0000e+00 - val_mean_squared_error: 3.7459e-04 - val_rmse: 0.0152 - val_r_square: 0.3393\n",
      "Epoch 83/200\n",
      "1366/1366 [==============================] - 1s 796us/step - loss: 0.0054 - acc: 7.3206e-04 - mean_squared_error: 0.0054 - rmse: 0.0503 - r_square: 0.2887 - val_loss: 3.2857e-04 - val_acc: 0.0000e+00 - val_mean_squared_error: 3.2857e-04 - val_rmse: 0.0140 - val_r_square: 0.4185\n",
      "Epoch 84/200\n",
      "1366/1366 [==============================] - 1s 829us/step - loss: 0.0054 - acc: 7.3206e-04 - mean_squared_error: 0.0054 - rmse: 0.0507 - r_square: 0.2978 - val_loss: 6.2622e-04 - val_acc: 0.0000e+00 - val_mean_squared_error: 6.2622e-04 - val_rmse: 0.0205 - val_r_square: -0.1542\n",
      "Epoch 85/200\n"
     ]
    },
    {
     "name": "stdout",
     "output_type": "stream",
     "text": [
      "1366/1366 [==============================] - 1s 825us/step - loss: 0.0059 - acc: 7.3206e-04 - mean_squared_error: 0.0059 - rmse: 0.0534 - r_square: 0.2499 - val_loss: 3.7198e-04 - val_acc: 0.0000e+00 - val_mean_squared_error: 3.7198e-04 - val_rmse: 0.0150 - val_r_square: 0.3262\n",
      "Epoch 86/200\n",
      "1366/1366 [==============================] - 1s 818us/step - loss: 0.0057 - acc: 7.3206e-04 - mean_squared_error: 0.0057 - rmse: 0.0513 - r_square: 0.2476 - val_loss: 3.1979e-04 - val_acc: 0.0000e+00 - val_mean_squared_error: 3.1979e-04 - val_rmse: 0.0138 - val_r_square: 0.4381\n",
      "Epoch 87/200\n",
      "1366/1366 [==============================] - 1s 799us/step - loss: 0.0052 - acc: 7.3206e-04 - mean_squared_error: 0.0052 - rmse: 0.0498 - r_square: 0.3552 - val_loss: 3.2133e-04 - val_acc: 0.0000e+00 - val_mean_squared_error: 3.2133e-04 - val_rmse: 0.0139 - val_r_square: 0.4386\n",
      "Epoch 88/200\n",
      "1366/1366 [==============================] - 1s 783us/step - loss: 0.0056 - acc: 7.3206e-04 - mean_squared_error: 0.0056 - rmse: 0.0507 - r_square: 0.2703 - val_loss: 3.9312e-04 - val_acc: 0.0000e+00 - val_mean_squared_error: 3.9312e-04 - val_rmse: 0.0156 - val_r_square: 0.3015\n",
      "Epoch 89/200\n",
      "1366/1366 [==============================] - 1s 811us/step - loss: 0.0055 - acc: 7.3206e-04 - mean_squared_error: 0.0055 - rmse: 0.0516 - r_square: 0.2861 - val_loss: 3.1119e-04 - val_acc: 0.0000e+00 - val_mean_squared_error: 3.1119e-04 - val_rmse: 0.0137 - val_r_square: 0.4499\n",
      "Epoch 90/200\n",
      "1366/1366 [==============================] - 1s 785us/step - loss: 0.0056 - acc: 7.3206e-04 - mean_squared_error: 0.0056 - rmse: 0.0504 - r_square: 0.3055 - val_loss: 3.2222e-04 - val_acc: 0.0000e+00 - val_mean_squared_error: 3.2222e-04 - val_rmse: 0.0138 - val_r_square: 0.4308\n",
      "Epoch 91/200\n",
      "1366/1366 [==============================] - 1s 843us/step - loss: 0.0053 - acc: 7.3206e-04 - mean_squared_error: 0.0053 - rmse: 0.0500 - r_square: 0.3387 - val_loss: 4.0576e-04 - val_acc: 0.0000e+00 - val_mean_squared_error: 4.0576e-04 - val_rmse: 0.0157 - val_r_square: 0.2439\n",
      "Epoch 92/200\n",
      "1366/1366 [==============================] - 1s 800us/step - loss: 0.0054 - acc: 7.3206e-04 - mean_squared_error: 0.0054 - rmse: 0.0503 - r_square: 0.3026 - val_loss: 3.0375e-04 - val_acc: 0.0000e+00 - val_mean_squared_error: 3.0375e-04 - val_rmse: 0.0134 - val_r_square: 0.4572\n",
      "Epoch 93/200\n",
      "1366/1366 [==============================] - 1s 791us/step - loss: 0.0055 - acc: 7.3206e-04 - mean_squared_error: 0.0055 - rmse: 0.0511 - r_square: 0.3000 - val_loss: 3.4839e-04 - val_acc: 0.0000e+00 - val_mean_squared_error: 3.4839e-04 - val_rmse: 0.0143 - val_r_square: 0.3597\n",
      "Epoch 94/200\n",
      "1366/1366 [==============================] - 1s 742us/step - loss: 0.0052 - acc: 7.3206e-04 - mean_squared_error: 0.0052 - rmse: 0.0506 - r_square: 0.3295 - val_loss: 3.2176e-04 - val_acc: 0.0000e+00 - val_mean_squared_error: 3.2176e-04 - val_rmse: 0.0138 - val_r_square: 0.4201\n",
      "Epoch 95/200\n",
      "1366/1366 [==============================] - 1s 749us/step - loss: 0.0054 - acc: 7.3206e-04 - mean_squared_error: 0.0054 - rmse: 0.0507 - r_square: 0.3054 - val_loss: 3.5183e-04 - val_acc: 0.0000e+00 - val_mean_squared_error: 3.5183e-04 - val_rmse: 0.0146 - val_r_square: 0.3750\n",
      "Epoch 96/200\n",
      "1366/1366 [==============================] - 1s 750us/step - loss: 0.0053 - acc: 7.3206e-04 - mean_squared_error: 0.0053 - rmse: 0.0494 - r_square: 0.3095 - val_loss: 4.1717e-04 - val_acc: 0.0000e+00 - val_mean_squared_error: 4.1717e-04 - val_rmse: 0.0160 - val_r_square: 0.2216\n",
      "Epoch 97/200\n",
      "1366/1366 [==============================] - 1s 836us/step - loss: 0.0049 - acc: 7.3206e-04 - mean_squared_error: 0.0049 - rmse: 0.0483 - r_square: 0.3782 - val_loss: 3.1092e-04 - val_acc: 0.0000e+00 - val_mean_squared_error: 3.1092e-04 - val_rmse: 0.0135 - val_r_square: 0.4529\n",
      "Epoch 98/200\n",
      "1366/1366 [==============================] - 1s 843us/step - loss: 0.0053 - acc: 7.3206e-04 - mean_squared_error: 0.0053 - rmse: 0.0498 - r_square: 0.3260 - val_loss: 3.0592e-04 - val_acc: 0.0000e+00 - val_mean_squared_error: 3.0592e-04 - val_rmse: 0.0134 - val_r_square: 0.4566\n",
      "Epoch 99/200\n",
      "1366/1366 [==============================] - 1s 840us/step - loss: 0.0055 - acc: 7.3206e-04 - mean_squared_error: 0.0055 - rmse: 0.0501 - r_square: 0.2525 - val_loss: 3.0187e-04 - val_acc: 0.0000e+00 - val_mean_squared_error: 3.0187e-04 - val_rmse: 0.0135 - val_r_square: 0.4685\n",
      "Epoch 100/200\n",
      "1366/1366 [==============================] - 1s 805us/step - loss: 0.0054 - acc: 7.3206e-04 - mean_squared_error: 0.0054 - rmse: 0.0507 - r_square: 0.2727 - val_loss: 3.3195e-04 - val_acc: 0.0000e+00 - val_mean_squared_error: 3.3195e-04 - val_rmse: 0.0140 - val_r_square: 0.3953\n",
      "Epoch 101/200\n",
      "1366/1366 [==============================] - 1s 778us/step - loss: 0.0050 - acc: 7.3206e-04 - mean_squared_error: 0.0050 - rmse: 0.0482 - r_square: 0.3326 - val_loss: 3.0868e-04 - val_acc: 0.0000e+00 - val_mean_squared_error: 3.0868e-04 - val_rmse: 0.0136 - val_r_square: 0.4592\n",
      "Epoch 102/200\n",
      "1366/1366 [==============================] - 1s 779us/step - loss: 0.0048 - acc: 7.3206e-04 - mean_squared_error: 0.0048 - rmse: 0.0470 - r_square: 0.3849 - val_loss: 3.0013e-04 - val_acc: 0.0000e+00 - val_mean_squared_error: 3.0013e-04 - val_rmse: 0.0134 - val_r_square: 0.4612\n",
      "Epoch 103/200\n",
      "1366/1366 [==============================] - 1s 748us/step - loss: 0.0051 - acc: 7.3206e-04 - mean_squared_error: 0.0051 - rmse: 0.0491 - r_square: 0.3683 - val_loss: 3.7068e-04 - val_acc: 0.0000e+00 - val_mean_squared_error: 3.7068e-04 - val_rmse: 0.0149 - val_r_square: 0.3137\n",
      "Epoch 104/200\n",
      "1366/1366 [==============================] - 1s 806us/step - loss: 0.0050 - acc: 7.3206e-04 - mean_squared_error: 0.0050 - rmse: 0.0487 - r_square: 0.3075 - val_loss: 2.8667e-04 - val_acc: 0.0000e+00 - val_mean_squared_error: 2.8667e-04 - val_rmse: 0.0130 - val_r_square: 0.4885\n",
      "Epoch 105/200\n",
      "1366/1366 [==============================] - 1s 779us/step - loss: 0.0051 - acc: 7.3206e-04 - mean_squared_error: 0.0051 - rmse: 0.0488 - r_square: 0.3203 - val_loss: 5.6804e-04 - val_acc: 0.0000e+00 - val_mean_squared_error: 5.6804e-04 - val_rmse: 0.0193 - val_r_square: -0.0838\n",
      "Epoch 106/200\n",
      "1366/1366 [==============================] - 1s 852us/step - loss: 0.0048 - acc: 7.3206e-04 - mean_squared_error: 0.0048 - rmse: 0.0481 - r_square: 0.3748 - val_loss: 2.9685e-04 - val_acc: 0.0000e+00 - val_mean_squared_error: 2.9685e-04 - val_rmse: 0.0131 - val_r_square: 0.4768\n",
      "Epoch 107/200\n",
      "1366/1366 [==============================] - 1s 821us/step - loss: 0.0051 - acc: 7.3206e-04 - mean_squared_error: 0.0051 - rmse: 0.0485 - r_square: 0.3489 - val_loss: 3.1134e-04 - val_acc: 0.0000e+00 - val_mean_squared_error: 3.1134e-04 - val_rmse: 0.0136 - val_r_square: 0.4543\n",
      "Epoch 108/200\n",
      "1366/1366 [==============================] - 1s 761us/step - loss: 0.0048 - acc: 7.3206e-04 - mean_squared_error: 0.0048 - rmse: 0.0474 - r_square: 0.3840 - val_loss: 2.9100e-04 - val_acc: 0.0000e+00 - val_mean_squared_error: 2.9100e-04 - val_rmse: 0.0130 - val_r_square: 0.4868\n",
      "Epoch 109/200\n",
      "1366/1366 [==============================] - 1s 768us/step - loss: 0.0051 - acc: 7.3206e-04 - mean_squared_error: 0.0051 - rmse: 0.0486 - r_square: 0.3611 - val_loss: 3.3956e-04 - val_acc: 0.0000e+00 - val_mean_squared_error: 3.3956e-04 - val_rmse: 0.0143 - val_r_square: 0.4065\n",
      "Epoch 110/200\n",
      "1366/1366 [==============================] - 1s 772us/step - loss: 0.0054 - acc: 7.3206e-04 - mean_squared_error: 0.0054 - rmse: 0.0483 - r_square: 0.3118 - val_loss: 3.1327e-04 - val_acc: 0.0000e+00 - val_mean_squared_error: 3.1327e-04 - val_rmse: 0.0136 - val_r_square: 0.4558\n",
      "Epoch 111/200\n",
      "1366/1366 [==============================] - 1s 814us/step - loss: 0.0050 - acc: 7.3206e-04 - mean_squared_error: 0.0050 - rmse: 0.0486 - r_square: 0.3147 - val_loss: 3.0197e-04 - val_acc: 0.0000e+00 - val_mean_squared_error: 3.0197e-04 - val_rmse: 0.0132 - val_r_square: 0.4624\n",
      "Epoch 112/200\n",
      "1366/1366 [==============================] - 1s 785us/step - loss: 0.0048 - acc: 7.3206e-04 - mean_squared_error: 0.0048 - rmse: 0.0468 - r_square: 0.3760 - val_loss: 2.8722e-04 - val_acc: 0.0000e+00 - val_mean_squared_error: 2.8722e-04 - val_rmse: 0.0128 - val_r_square: 0.4891\n",
      "Epoch 113/200\n"
     ]
    },
    {
     "name": "stdout",
     "output_type": "stream",
     "text": [
      "1366/1366 [==============================] - 1s 842us/step - loss: 0.0049 - acc: 7.3206e-04 - mean_squared_error: 0.0049 - rmse: 0.0474 - r_square: 0.3540 - val_loss: 3.0177e-04 - val_acc: 0.0000e+00 - val_mean_squared_error: 3.0177e-04 - val_rmse: 0.0132 - val_r_square: 0.4676\n",
      "Epoch 114/200\n",
      "1366/1366 [==============================] - 1s 837us/step - loss: 0.0049 - acc: 7.3206e-04 - mean_squared_error: 0.0049 - rmse: 0.0471 - r_square: 0.3703 - val_loss: 3.0692e-04 - val_acc: 0.0000e+00 - val_mean_squared_error: 3.0692e-04 - val_rmse: 0.0135 - val_r_square: 0.4633\n",
      "Epoch 115/200\n",
      "1366/1366 [==============================] - 1s 821us/step - loss: 0.0049 - acc: 7.3206e-04 - mean_squared_error: 0.0049 - rmse: 0.0479 - r_square: 0.3609 - val_loss: 2.8534e-04 - val_acc: 0.0000e+00 - val_mean_squared_error: 2.8534e-04 - val_rmse: 0.0128 - val_r_square: 0.4901\n",
      "Epoch 116/200\n",
      "1366/1366 [==============================] - 1s 850us/step - loss: 0.0049 - acc: 7.3206e-04 - mean_squared_error: 0.0049 - rmse: 0.0477 - r_square: 0.3808 - val_loss: 3.3573e-04 - val_acc: 0.0000e+00 - val_mean_squared_error: 3.3573e-04 - val_rmse: 0.0143 - val_r_square: 0.4050\n",
      "Epoch 117/200\n",
      "1366/1366 [==============================] - 1s 768us/step - loss: 0.0048 - acc: 7.3206e-04 - mean_squared_error: 0.0048 - rmse: 0.0473 - r_square: 0.3899 - val_loss: 4.2616e-04 - val_acc: 0.0000e+00 - val_mean_squared_error: 4.2616e-04 - val_rmse: 0.0163 - val_r_square: 0.1858\n",
      "Epoch 118/200\n",
      "1366/1366 [==============================] - 1s 874us/step - loss: 0.0046 - acc: 7.3206e-04 - mean_squared_error: 0.0046 - rmse: 0.0457 - r_square: 0.4101 - val_loss: 2.8938e-04 - val_acc: 0.0000e+00 - val_mean_squared_error: 2.8938e-04 - val_rmse: 0.0130 - val_r_square: 0.4891\n",
      "Epoch 119/200\n",
      "1366/1366 [==============================] - 1s 801us/step - loss: 0.0047 - acc: 7.3206e-04 - mean_squared_error: 0.0047 - rmse: 0.0461 - r_square: 0.3178 - val_loss: 2.7498e-04 - val_acc: 0.0000e+00 - val_mean_squared_error: 2.7498e-04 - val_rmse: 0.0125 - val_r_square: 0.5024\n",
      "Epoch 120/200\n",
      "1366/1366 [==============================] - 1s 849us/step - loss: 0.0045 - acc: 7.3206e-04 - mean_squared_error: 0.0045 - rmse: 0.0461 - r_square: 0.4219 - val_loss: 3.4853e-04 - val_acc: 0.0000e+00 - val_mean_squared_error: 3.4853e-04 - val_rmse: 0.0144 - val_r_square: 0.3520\n",
      "Epoch 121/200\n",
      "1366/1366 [==============================] - 1s 847us/step - loss: 0.0047 - acc: 7.3206e-04 - mean_squared_error: 0.0047 - rmse: 0.0468 - r_square: 0.3752 - val_loss: 4.1492e-04 - val_acc: 0.0000e+00 - val_mean_squared_error: 4.1492e-04 - val_rmse: 0.0162 - val_r_square: 0.2640\n",
      "Epoch 122/200\n",
      "1366/1366 [==============================] - 1s 754us/step - loss: 0.0051 - acc: 7.3206e-04 - mean_squared_error: 0.0051 - rmse: 0.0478 - r_square: 0.3322 - val_loss: 4.0034e-04 - val_acc: 0.0000e+00 - val_mean_squared_error: 4.0034e-04 - val_rmse: 0.0156 - val_r_square: 0.2464\n",
      "Epoch 123/200\n",
      "1366/1366 [==============================] - 1s 787us/step - loss: 0.0049 - acc: 7.3206e-04 - mean_squared_error: 0.0049 - rmse: 0.0482 - r_square: 0.3579 - val_loss: 2.7865e-04 - val_acc: 0.0000e+00 - val_mean_squared_error: 2.7865e-04 - val_rmse: 0.0126 - val_r_square: 0.5068\n",
      "Epoch 124/200\n",
      "1366/1366 [==============================] - 1s 828us/step - loss: 0.0047 - acc: 7.3206e-04 - mean_squared_error: 0.0047 - rmse: 0.0463 - r_square: 0.3800 - val_loss: 2.7948e-04 - val_acc: 0.0000e+00 - val_mean_squared_error: 2.7948e-04 - val_rmse: 0.0128 - val_r_square: 0.5099\n",
      "Epoch 125/200\n",
      "1366/1366 [==============================] - 1s 798us/step - loss: 0.0043 - acc: 7.3206e-04 - mean_squared_error: 0.0043 - rmse: 0.0454 - r_square: 0.4462 - val_loss: 3.1951e-04 - val_acc: 0.0000e+00 - val_mean_squared_error: 3.1951e-04 - val_rmse: 0.0136 - val_r_square: 0.4211\n",
      "Epoch 126/200\n",
      "1366/1366 [==============================] - 1s 854us/step - loss: 0.0047 - acc: 7.3206e-04 - mean_squared_error: 0.0047 - rmse: 0.0465 - r_square: 0.3765 - val_loss: 3.2410e-04 - val_acc: 0.0000e+00 - val_mean_squared_error: 3.2410e-04 - val_rmse: 0.0140 - val_r_square: 0.4198\n",
      "Epoch 127/200\n",
      "1366/1366 [==============================] - 1s 818us/step - loss: 0.0043 - acc: 7.3206e-04 - mean_squared_error: 0.0043 - rmse: 0.0454 - r_square: 0.4318 - val_loss: 2.6300e-04 - val_acc: 0.0000e+00 - val_mean_squared_error: 2.6300e-04 - val_rmse: 0.0122 - val_r_square: 0.5254\n",
      "Epoch 128/200\n",
      "1366/1366 [==============================] - ETA: 0s - loss: 0.0045 - acc: 7.5758e-04 - mean_squared_error: 0.0045 - rmse: 0.0449 - r_square: 0.38 - 1s 877us/step - loss: 0.0045 - acc: 7.3206e-04 - mean_squared_error: 0.0045 - rmse: 0.0450 - r_square: 0.3906 - val_loss: 3.3896e-04 - val_acc: 0.0000e+00 - val_mean_squared_error: 3.3896e-04 - val_rmse: 0.0141 - val_r_square: 0.3711\n",
      "Epoch 129/200\n",
      "1366/1366 [==============================] - 1s 849us/step - loss: 0.0046 - acc: 7.3206e-04 - mean_squared_error: 0.0046 - rmse: 0.0456 - r_square: 0.4080 - val_loss: 2.9090e-04 - val_acc: 0.0000e+00 - val_mean_squared_error: 2.9090e-04 - val_rmse: 0.0128 - val_r_square: 0.4699\n",
      "Epoch 130/200\n",
      "1366/1366 [==============================] - 1s 770us/step - loss: 0.0045 - acc: 7.3206e-04 - mean_squared_error: 0.0045 - rmse: 0.0453 - r_square: 0.4114 - val_loss: 2.9059e-04 - val_acc: 0.0000e+00 - val_mean_squared_error: 2.9059e-04 - val_rmse: 0.0128 - val_r_square: 0.4681\n",
      "Epoch 131/200\n",
      "1366/1366 [==============================] - 1s 808us/step - loss: 0.0048 - acc: 7.3206e-04 - mean_squared_error: 0.0048 - rmse: 0.0454 - r_square: 0.3933 - val_loss: 2.6279e-04 - val_acc: 0.0000e+00 - val_mean_squared_error: 2.6279e-04 - val_rmse: 0.0122 - val_r_square: 0.5284\n",
      "Epoch 132/200\n",
      "1366/1366 [==============================] - 1s 786us/step - loss: 0.0046 - acc: 7.3206e-04 - mean_squared_error: 0.0046 - rmse: 0.0451 - r_square: 0.4085 - val_loss: 3.9746e-04 - val_acc: 0.0000e+00 - val_mean_squared_error: 3.9746e-04 - val_rmse: 0.0158 - val_r_square: 0.2896\n",
      "Epoch 133/200\n",
      "1366/1366 [==============================] - 1s 748us/step - loss: 0.0046 - acc: 7.3206e-04 - mean_squared_error: 0.0046 - rmse: 0.0446 - r_square: 0.4318 - val_loss: 2.7045e-04 - val_acc: 0.0000e+00 - val_mean_squared_error: 2.7045e-04 - val_rmse: 0.0124 - val_r_square: 0.5247\n",
      "Epoch 134/200\n",
      "1366/1366 [==============================] - 1s 817us/step - loss: 0.0042 - acc: 7.3206e-04 - mean_squared_error: 0.0042 - rmse: 0.0437 - r_square: 0.4006 - val_loss: 3.1857e-04 - val_acc: 0.0000e+00 - val_mean_squared_error: 3.1857e-04 - val_rmse: 0.0139 - val_r_square: 0.4264\n",
      "Epoch 135/200\n",
      "1366/1366 [==============================] - 1s 766us/step - loss: 0.0042 - acc: 7.3206e-04 - mean_squared_error: 0.0042 - rmse: 0.0446 - r_square: 0.4385 - val_loss: 2.7771e-04 - val_acc: 0.0000e+00 - val_mean_squared_error: 2.7771e-04 - val_rmse: 0.0127 - val_r_square: 0.5084\n",
      "Epoch 136/200\n",
      "1366/1366 [==============================] - 1s 757us/step - loss: 0.0045 - acc: 7.3206e-04 - mean_squared_error: 0.0045 - rmse: 0.0460 - r_square: 0.4145 - val_loss: 2.7489e-04 - val_acc: 0.0000e+00 - val_mean_squared_error: 2.7489e-04 - val_rmse: 0.0126 - val_r_square: 0.5176\n",
      "Epoch 137/200\n",
      "1366/1366 [==============================] - 1s 784us/step - loss: 0.0042 - acc: 7.3206e-04 - mean_squared_error: 0.0042 - rmse: 0.0446 - r_square: 0.4334 - val_loss: 2.7356e-04 - val_acc: 0.0000e+00 - val_mean_squared_error: 2.7356e-04 - val_rmse: 0.0125 - val_r_square: 0.4990\n",
      "Epoch 138/200\n",
      "1366/1366 [==============================] - 1s 814us/step - loss: 0.0044 - acc: 7.3206e-04 - mean_squared_error: 0.0044 - rmse: 0.0446 - r_square: 0.4265 - val_loss: 3.0574e-04 - val_acc: 0.0000e+00 - val_mean_squared_error: 3.0574e-04 - val_rmse: 0.0136 - val_r_square: 0.4556c: 0.0019 - mean_squared_error: 0.0050 - rmse: 0.0\n",
      "Epoch 139/200\n",
      "1366/1366 [==============================] - 1s 808us/step - loss: 0.0044 - acc: 7.3206e-04 - mean_squared_error: 0.0044 - rmse: 0.0450 - r_square: 0.4140 - val_loss: 3.5485e-04 - val_acc: 0.0000e+00 - val_mean_squared_error: 3.5485e-04 - val_rmse: 0.0148 - val_r_square: 0.3763\n",
      "Epoch 140/200\n"
     ]
    },
    {
     "name": "stdout",
     "output_type": "stream",
     "text": [
      "1366/1366 [==============================] - 1s 791us/step - loss: 0.0045 - acc: 7.3206e-04 - mean_squared_error: 0.0045 - rmse: 0.0450 - r_square: 0.3970 - val_loss: 2.6499e-04 - val_acc: 0.0000e+00 - val_mean_squared_error: 2.6499e-04 - val_rmse: 0.0122 - val_r_square: 0.5202\n",
      "Epoch 141/200\n",
      "1366/1366 [==============================] - 1s 818us/step - loss: 0.0046 - acc: 7.3206e-04 - mean_squared_error: 0.0046 - rmse: 0.0452 - r_square: 0.3993 - val_loss: 2.9449e-04 - val_acc: 0.0000e+00 - val_mean_squared_error: 2.9449e-04 - val_rmse: 0.0133 - val_r_square: 0.4838\n",
      "Epoch 142/200\n",
      "1366/1366 [==============================] - 1s 850us/step - loss: 0.0040 - acc: 7.3206e-04 - mean_squared_error: 0.0040 - rmse: 0.0433 - r_square: 0.4892 - val_loss: 2.6802e-04 - val_acc: 0.0000e+00 - val_mean_squared_error: 2.6802e-04 - val_rmse: 0.0125 - val_r_square: 0.5279\n",
      "Epoch 143/200\n",
      "1366/1366 [==============================] - 1s 836us/step - loss: 0.0042 - acc: 7.3206e-04 - mean_squared_error: 0.0042 - rmse: 0.0435 - r_square: 0.4691 - val_loss: 2.6011e-04 - val_acc: 0.0000e+00 - val_mean_squared_error: 2.6011e-04 - val_rmse: 0.0122 - val_r_square: 0.5315\n",
      "Epoch 144/200\n",
      "1366/1366 [==============================] - 1s 818us/step - loss: 0.0040 - acc: 7.3206e-04 - mean_squared_error: 0.0040 - rmse: 0.0437 - r_square: 0.4330 - val_loss: 2.5827e-04 - val_acc: 0.0000e+00 - val_mean_squared_error: 2.5827e-04 - val_rmse: 0.0121 - val_r_square: 0.5394\n",
      "Epoch 145/200\n",
      "1366/1366 [==============================] - 1s 799us/step - loss: 0.0041 - acc: 7.3206e-04 - mean_squared_error: 0.0041 - rmse: 0.0433 - r_square: 0.4369 - val_loss: 2.9205e-04 - val_acc: 0.0000e+00 - val_mean_squared_error: 2.9205e-04 - val_rmse: 0.0132 - val_r_square: 0.4864\n",
      "Epoch 146/200\n",
      "1366/1366 [==============================] - 1s 780us/step - loss: 0.0041 - acc: 7.3206e-04 - mean_squared_error: 0.0041 - rmse: 0.0429 - r_square: 0.4781 - val_loss: 3.1713e-04 - val_acc: 0.0000e+00 - val_mean_squared_error: 3.1713e-04 - val_rmse: 0.0138 - val_r_square: 0.4396\n",
      "Epoch 147/200\n",
      "1366/1366 [==============================] - 1s 840us/step - loss: 0.0043 - acc: 7.3206e-04 - mean_squared_error: 0.0043 - rmse: 0.0440 - r_square: 0.4561 - val_loss: 2.5190e-04 - val_acc: 0.0000e+00 - val_mean_squared_error: 2.5190e-04 - val_rmse: 0.0119 - val_r_square: 0.5401\n",
      "Epoch 148/200\n",
      "1366/1366 [==============================] - 1s 812us/step - loss: 0.0042 - acc: 7.3206e-04 - mean_squared_error: 0.0042 - rmse: 0.0438 - r_square: 0.4576 - val_loss: 2.7567e-04 - val_acc: 0.0000e+00 - val_mean_squared_error: 2.7567e-04 - val_rmse: 0.0124 - val_r_square: 0.4944\n",
      "Epoch 149/200\n",
      "1366/1366 [==============================] - 1s 839us/step - loss: 0.0041 - acc: 7.3206e-04 - mean_squared_error: 0.0041 - rmse: 0.0429 - r_square: 0.4425 - val_loss: 2.6329e-04 - val_acc: 0.0000e+00 - val_mean_squared_error: 2.6329e-04 - val_rmse: 0.0121 - val_r_square: 0.5244\n",
      "Epoch 150/200\n",
      "1366/1366 [==============================] - 1s 753us/step - loss: 0.0042 - acc: 7.3206e-04 - mean_squared_error: 0.0042 - rmse: 0.0435 - r_square: 0.4583 - val_loss: 2.7192e-04 - val_acc: 0.0000e+00 - val_mean_squared_error: 2.7192e-04 - val_rmse: 0.0123 - val_r_square: 0.4963\n",
      "Epoch 151/200\n",
      "1366/1366 [==============================] - 1s 825us/step - loss: 0.0043 - acc: 7.3206e-04 - mean_squared_error: 0.0043 - rmse: 0.0436 - r_square: 0.4393 - val_loss: 2.7379e-04 - val_acc: 0.0000e+00 - val_mean_squared_error: 2.7379e-04 - val_rmse: 0.0124 - val_r_square: 0.4950\n",
      "Epoch 152/200\n",
      "1366/1366 [==============================] - 1s 769us/step - loss: 0.0041 - acc: 7.3206e-04 - mean_squared_error: 0.0041 - rmse: 0.0436 - r_square: 0.4525 - val_loss: 2.4609e-04 - val_acc: 0.0000e+00 - val_mean_squared_error: 2.4609e-04 - val_rmse: 0.0116 - val_r_square: 0.5573\n",
      "Epoch 153/200\n",
      "1366/1366 [==============================] - 1s 840us/step - loss: 0.0041 - acc: 7.3206e-04 - mean_squared_error: 0.0041 - rmse: 0.0427 - r_square: 0.4570 - val_loss: 3.1700e-04 - val_acc: 0.0000e+00 - val_mean_squared_error: 3.1700e-04 - val_rmse: 0.0138 - val_r_square: 0.4352\n",
      "Epoch 154/200\n",
      "1366/1366 [==============================] - 1s 909us/step - loss: 0.0041 - acc: 7.3206e-04 - mean_squared_error: 0.0041 - rmse: 0.0432 - r_square: 0.4627 - val_loss: 3.4404e-04 - val_acc: 0.0000e+00 - val_mean_squared_error: 3.4404e-04 - val_rmse: 0.0145 - val_r_square: 0.3844\n",
      "Epoch 155/200\n",
      "1366/1366 [==============================] - 1s 770us/step - loss: 0.0041 - acc: 7.3206e-04 - mean_squared_error: 0.0041 - rmse: 0.0433 - r_square: 0.4455 - val_loss: 2.6765e-04 - val_acc: 0.0000e+00 - val_mean_squared_error: 2.6765e-04 - val_rmse: 0.0124 - val_r_square: 0.5251\n",
      "Epoch 156/200\n",
      "1366/1366 [==============================] - 1s 788us/step - loss: 0.0042 - acc: 7.3206e-04 - mean_squared_error: 0.0042 - rmse: 0.0432 - r_square: 0.4662 - val_loss: 2.9856e-04 - val_acc: 0.0000e+00 - val_mean_squared_error: 2.9856e-04 - val_rmse: 0.0131 - val_r_square: 0.4403\n",
      "Epoch 157/200\n",
      "1366/1366 [==============================] - 1s 780us/step - loss: 0.0040 - acc: 7.3206e-04 - mean_squared_error: 0.0040 - rmse: 0.0424 - r_square: 0.4779 - val_loss: 3.0988e-04 - val_acc: 0.0000e+00 - val_mean_squared_error: 3.0988e-04 - val_rmse: 0.0136 - val_r_square: 0.4511\n",
      "Epoch 158/200\n",
      "1366/1366 [==============================] - 1s 767us/step - loss: 0.0037 - acc: 7.3206e-04 - mean_squared_error: 0.0037 - rmse: 0.0420 - r_square: 0.5278 - val_loss: 2.5181e-04 - val_acc: 0.0000e+00 - val_mean_squared_error: 2.5181e-04 - val_rmse: 0.0119 - val_r_square: 0.5587\n",
      "Epoch 159/200\n",
      "1366/1366 [==============================] - 1s 769us/step - loss: 0.0038 - acc: 7.3206e-04 - mean_squared_error: 0.0038 - rmse: 0.0423 - r_square: 0.4954 - val_loss: 2.7946e-04 - val_acc: 0.0000e+00 - val_mean_squared_error: 2.7946e-04 - val_rmse: 0.0127 - val_r_square: 0.5054\n",
      "Epoch 160/200\n",
      "1366/1366 [==============================] - 1s 764us/step - loss: 0.0041 - acc: 7.3206e-04 - mean_squared_error: 0.0041 - rmse: 0.0424 - r_square: 0.4871 - val_loss: 3.2896e-04 - val_acc: 0.0000e+00 - val_mean_squared_error: 3.2896e-04 - val_rmse: 0.0141 - val_r_square: 0.4255\n",
      "Epoch 161/200\n",
      "1366/1366 [==============================] - 1s 797us/step - loss: 0.0038 - acc: 7.3206e-04 - mean_squared_error: 0.0038 - rmse: 0.0421 - r_square: 0.5007 - val_loss: 2.5842e-04 - val_acc: 0.0000e+00 - val_mean_squared_error: 2.5842e-04 - val_rmse: 0.0121 - val_r_square: 0.5394\n",
      "Epoch 162/200\n",
      "1366/1366 [==============================] - 1s 776us/step - loss: 0.0037 - acc: 7.3206e-04 - mean_squared_error: 0.0037 - rmse: 0.0414 - r_square: 0.5112 - val_loss: 2.4249e-04 - val_acc: 0.0000e+00 - val_mean_squared_error: 2.4249e-04 - val_rmse: 0.0115 - val_r_square: 0.5701\n",
      "Epoch 163/200\n",
      "1366/1366 [==============================] - 1s 773us/step - loss: 0.0038 - acc: 7.3206e-04 - mean_squared_error: 0.0038 - rmse: 0.0417 - r_square: 0.5018 - val_loss: 2.5402e-04 - val_acc: 0.0000e+00 - val_mean_squared_error: 2.5402e-04 - val_rmse: 0.0119 - val_r_square: 0.5393\n",
      "Epoch 164/200\n",
      "1366/1366 [==============================] - 1s 825us/step - loss: 0.0041 - acc: 7.3206e-04 - mean_squared_error: 0.0041 - rmse: 0.0422 - r_square: 0.4537 - val_loss: 2.4691e-04 - val_acc: 0.0000e+00 - val_mean_squared_error: 2.4691e-04 - val_rmse: 0.0118 - val_r_square: 0.5639\n",
      "Epoch 165/200\n",
      "1366/1366 [==============================] - 1s 799us/step - loss: 0.0038 - acc: 7.3206e-04 - mean_squared_error: 0.0038 - rmse: 0.0420 - r_square: 0.4888 - val_loss: 2.4558e-04 - val_acc: 0.0000e+00 - val_mean_squared_error: 2.4558e-04 - val_rmse: 0.0116 - val_r_square: 0.5671\n",
      "Epoch 166/200\n",
      "1366/1366 [==============================] - 1s 766us/step - loss: 0.0040 - acc: 7.3206e-04 - mean_squared_error: 0.0040 - rmse: 0.0423 - r_square: 0.4664 - val_loss: 2.4559e-04 - val_acc: 0.0000e+00 - val_mean_squared_error: 2.4559e-04 - val_rmse: 0.0116 - val_r_square: 0.5586\n",
      "Epoch 167/200\n",
      "1366/1366 [==============================] - 1s 737us/step - loss: 0.0039 - acc: 7.3206e-04 - mean_squared_error: 0.0039 - rmse: 0.0420 - r_square: 0.4808 - val_loss: 2.6417e-04 - val_acc: 0.0000e+00 - val_mean_squared_error: 2.6417e-04 - val_rmse: 0.0120 - val_r_square: 0.5277\n",
      "Epoch 168/200\n"
     ]
    },
    {
     "name": "stdout",
     "output_type": "stream",
     "text": [
      "1366/1366 [==============================] - 1s 769us/step - loss: 0.0039 - acc: 7.3206e-04 - mean_squared_error: 0.0039 - rmse: 0.0414 - r_square: 0.4986 - val_loss: 2.4548e-04 - val_acc: 0.0000e+00 - val_mean_squared_error: 2.4548e-04 - val_rmse: 0.0116 - val_r_square: 0.5678\n",
      "Epoch 169/200\n",
      "1366/1366 [==============================] - 1s 837us/step - loss: 0.0037 - acc: 7.3206e-04 - mean_squared_error: 0.0037 - rmse: 0.0409 - r_square: 0.5042 - val_loss: 2.4386e-04 - val_acc: 0.0000e+00 - val_mean_squared_error: 2.4386e-04 - val_rmse: 0.0115 - val_r_square: 0.5724\n",
      "Epoch 170/200\n",
      "1366/1366 [==============================] - 1s 843us/step - loss: 0.0037 - acc: 7.3206e-04 - mean_squared_error: 0.0037 - rmse: 0.0410 - r_square: 0.5246 - val_loss: 2.3587e-04 - val_acc: 0.0000e+00 - val_mean_squared_error: 2.3587e-04 - val_rmse: 0.0114 - val_r_square: 0.5798\n",
      "Epoch 171/200\n",
      "1366/1366 [==============================] - 1s 886us/step - loss: 0.0040 - acc: 7.3206e-04 - mean_squared_error: 0.0040 - rmse: 0.0414 - r_square: 0.4907 - val_loss: 2.4653e-04 - val_acc: 0.0000e+00 - val_mean_squared_error: 2.4653e-04 - val_rmse: 0.0116 - val_r_square: 0.5551\n",
      "Epoch 172/200\n",
      "1366/1366 [==============================] - 1s 814us/step - loss: 0.0038 - acc: 7.3206e-04 - mean_squared_error: 0.0038 - rmse: 0.0416 - r_square: 0.5027 - val_loss: 2.4288e-04 - val_acc: 0.0000e+00 - val_mean_squared_error: 2.4288e-04 - val_rmse: 0.0116 - val_r_square: 0.5712\n",
      "Epoch 173/200\n",
      "1366/1366 [==============================] - 1s 794us/step - loss: 0.0038 - acc: 7.3206e-04 - mean_squared_error: 0.0038 - rmse: 0.0409 - r_square: 0.4941 - val_loss: 2.6707e-04 - val_acc: 0.0000e+00 - val_mean_squared_error: 2.6707e-04 - val_rmse: 0.0123 - val_r_square: 0.5200\n",
      "Epoch 174/200\n",
      "1366/1366 [==============================] - 1s 785us/step - loss: 0.0039 - acc: 7.3206e-04 - mean_squared_error: 0.0039 - rmse: 0.0420 - r_square: 0.4910 - val_loss: 2.7106e-04 - val_acc: 0.0000e+00 - val_mean_squared_error: 2.7106e-04 - val_rmse: 0.0123 - val_r_square: 0.4937\n",
      "Epoch 175/200\n",
      "1366/1366 [==============================] - 1s 828us/step - loss: 0.0039 - acc: 7.3206e-04 - mean_squared_error: 0.0039 - rmse: 0.0420 - r_square: 0.4855 - val_loss: 2.5506e-04 - val_acc: 0.0000e+00 - val_mean_squared_error: 2.5506e-04 - val_rmse: 0.0119 - val_r_square: 0.5461\n",
      "Epoch 176/200\n",
      "1366/1366 [==============================] - 1s 795us/step - loss: 0.0037 - acc: 7.3206e-04 - mean_squared_error: 0.0037 - rmse: 0.0405 - r_square: 0.5170 - val_loss: 2.4124e-04 - val_acc: 0.0000e+00 - val_mean_squared_error: 2.4124e-04 - val_rmse: 0.0114 - val_r_square: 0.5700\n",
      "Epoch 177/200\n",
      "1366/1366 [==============================] - 1s 842us/step - loss: 0.0038 - acc: 7.3206e-04 - mean_squared_error: 0.0038 - rmse: 0.0415 - r_square: 0.4629 - val_loss: 2.3921e-04 - val_acc: 0.0000e+00 - val_mean_squared_error: 2.3921e-04 - val_rmse: 0.0114 - val_r_square: 0.5780\n",
      "Epoch 178/200\n",
      "1366/1366 [==============================] - 1s 803us/step - loss: 0.0038 - acc: 7.3206e-04 - mean_squared_error: 0.0038 - rmse: 0.0416 - r_square: 0.5126 - val_loss: 2.4196e-04 - val_acc: 0.0000e+00 - val_mean_squared_error: 2.4196e-04 - val_rmse: 0.0115 - val_r_square: 0.5726\n",
      "Epoch 179/200\n",
      "1366/1366 [==============================] - 1s 788us/step - loss: 0.0038 - acc: 7.3206e-04 - mean_squared_error: 0.0038 - rmse: 0.0416 - r_square: 0.4971 - val_loss: 2.4583e-04 - val_acc: 0.0000e+00 - val_mean_squared_error: 2.4583e-04 - val_rmse: 0.0115 - val_r_square: 0.5706\n",
      "Epoch 180/200\n",
      "1366/1366 [==============================] - 1s 857us/step - loss: 0.0038 - acc: 7.3206e-04 - mean_squared_error: 0.0038 - rmse: 0.0408 - r_square: 0.5013 - val_loss: 2.5076e-04 - val_acc: 0.0000e+00 - val_mean_squared_error: 2.5076e-04 - val_rmse: 0.0118 - val_r_square: 0.5624\n",
      "Epoch 181/200\n",
      "1366/1366 [==============================] - 1s 769us/step - loss: 0.0041 - acc: 7.3206e-04 - mean_squared_error: 0.0041 - rmse: 0.0416 - r_square: 0.5018 - val_loss: 2.4702e-04 - val_acc: 0.0000e+00 - val_mean_squared_error: 2.4702e-04 - val_rmse: 0.0116 - val_r_square: 0.5547\n",
      "Epoch 182/200\n",
      "1366/1366 [==============================] - 1s 789us/step - loss: 0.0034 - acc: 7.3206e-04 - mean_squared_error: 0.0034 - rmse: 0.0388 - r_square: 0.5780 - val_loss: 2.3901e-04 - val_acc: 0.0000e+00 - val_mean_squared_error: 2.3901e-04 - val_rmse: 0.0114 - val_r_square: 0.5700\n",
      "Epoch 183/200\n",
      "1366/1366 [==============================] - 1s 816us/step - loss: 0.0037 - acc: 7.3206e-04 - mean_squared_error: 0.0037 - rmse: 0.0406 - r_square: 0.4904 - val_loss: 2.3409e-04 - val_acc: 0.0000e+00 - val_mean_squared_error: 2.3409e-04 - val_rmse: 0.0112 - val_r_square: 0.5772\n",
      "Epoch 184/200\n",
      "1366/1366 [==============================] - 1s 849us/step - loss: 0.0036 - acc: 7.3206e-04 - mean_squared_error: 0.0036 - rmse: 0.0394 - r_square: 0.5460 - val_loss: 2.4922e-04 - val_acc: 0.0000e+00 - val_mean_squared_error: 2.4922e-04 - val_rmse: 0.0118 - val_r_square: 0.5665\n",
      "Epoch 185/200\n",
      "1366/1366 [==============================] - 1s 772us/step - loss: 0.0036 - acc: 7.3206e-04 - mean_squared_error: 0.0036 - rmse: 0.0398 - r_square: 0.5030 - val_loss: 2.4010e-04 - val_acc: 0.0000e+00 - val_mean_squared_error: 2.4010e-04 - val_rmse: 0.0114 - val_r_square: 0.5739\n",
      "Epoch 186/200\n",
      "1366/1366 [==============================] - 1s 885us/step - loss: 0.0034 - acc: 7.3206e-04 - mean_squared_error: 0.0034 - rmse: 0.0399 - r_square: 0.5590 - val_loss: 2.3141e-04 - val_acc: 0.0000e+00 - val_mean_squared_error: 2.3141e-04 - val_rmse: 0.0111 - val_r_square: 0.5892\n",
      "Epoch 187/200\n",
      "1366/1366 [==============================] - 1s 802us/step - loss: 0.0036 - acc: 7.3206e-04 - mean_squared_error: 0.0036 - rmse: 0.0407 - r_square: 0.5296 - val_loss: 2.4343e-04 - val_acc: 0.0000e+00 - val_mean_squared_error: 2.4343e-04 - val_rmse: 0.0114 - val_r_square: 0.5774\n",
      "Epoch 188/200\n",
      "1366/1366 [==============================] - 1s 799us/step - loss: 0.0036 - acc: 7.3206e-04 - mean_squared_error: 0.0036 - rmse: 0.0402 - r_square: 0.5196 - val_loss: 2.7144e-04 - val_acc: 0.0000e+00 - val_mean_squared_error: 2.7144e-04 - val_rmse: 0.0122 - val_r_square: 0.5298\n",
      "Epoch 189/200\n",
      "1366/1366 [==============================] - 1s 784us/step - loss: 0.0037 - acc: 7.3206e-04 - mean_squared_error: 0.0037 - rmse: 0.0407 - r_square: 0.5102 - val_loss: 2.3549e-04 - val_acc: 0.0000e+00 - val_mean_squared_error: 2.3549e-04 - val_rmse: 0.0113 - val_r_square: 0.5834\n",
      "Epoch 190/200\n",
      "1366/1366 [==============================] - 1s 766us/step - loss: 0.0037 - acc: 7.3206e-04 - mean_squared_error: 0.0037 - rmse: 0.0408 - r_square: 0.5237 - val_loss: 2.5378e-04 - val_acc: 0.0000e+00 - val_mean_squared_error: 2.5378e-04 - val_rmse: 0.0118 - val_r_square: 0.5536\n",
      "Epoch 191/200\n",
      "1366/1366 [==============================] - 1s 780us/step - loss: 0.0038 - acc: 7.3206e-04 - mean_squared_error: 0.0038 - rmse: 0.0409 - r_square: 0.5144 - val_loss: 2.4328e-04 - val_acc: 0.0000e+00 - val_mean_squared_error: 2.4328e-04 - val_rmse: 0.0114 - val_r_square: 0.5717\n",
      "Epoch 192/200\n",
      "1366/1366 [==============================] - 1s 808us/step - loss: 0.0037 - acc: 7.3206e-04 - mean_squared_error: 0.0037 - rmse: 0.0403 - r_square: 0.5321 - val_loss: 2.4292e-04 - val_acc: 0.0000e+00 - val_mean_squared_error: 2.4292e-04 - val_rmse: 0.0115 - val_r_square: 0.5588\n",
      "Epoch 193/200\n",
      "1366/1366 [==============================] - 1s 765us/step - loss: 0.0034 - acc: 7.3206e-04 - mean_squared_error: 0.0034 - rmse: 0.0398 - r_square: 0.5591 - val_loss: 2.2512e-04 - val_acc: 0.0000e+00 - val_mean_squared_error: 2.2512e-04 - val_rmse: 0.0109 - val_r_square: 0.5939\n",
      "Epoch 194/200\n",
      "1366/1366 [==============================] - 1s 783us/step - loss: 0.0039 - acc: 7.3206e-04 - mean_squared_error: 0.0039 - rmse: 0.0413 - r_square: 0.4870 - val_loss: 2.5506e-04 - val_acc: 0.0000e+00 - val_mean_squared_error: 2.5506e-04 - val_rmse: 0.0119 - val_r_square: 0.5367\n",
      "Epoch 195/200\n",
      "1366/1366 [==============================] - 1s 810us/step - loss: 0.0037 - acc: 7.3206e-04 - mean_squared_error: 0.0037 - rmse: 0.0409 - r_square: 0.4945 - val_loss: 2.3075e-04 - val_acc: 0.0000e+00 - val_mean_squared_error: 2.3075e-04 - val_rmse: 0.0111 - val_r_square: 0.5836\n",
      "Epoch 196/200\n"
     ]
    },
    {
     "name": "stdout",
     "output_type": "stream",
     "text": [
      "1366/1366 [==============================] - 1s 873us/step - loss: 0.0036 - acc: 7.3206e-04 - mean_squared_error: 0.0036 - rmse: 0.0404 - r_square: 0.5103 - val_loss: 2.3114e-04 - val_acc: 0.0000e+00 - val_mean_squared_error: 2.3114e-04 - val_rmse: 0.0110 - val_r_square: 0.5898\n",
      "Epoch 197/200\n",
      "1366/1366 [==============================] - 1s 813us/step - loss: 0.0033 - acc: 7.3206e-04 - mean_squared_error: 0.0033 - rmse: 0.0394 - r_square: 0.5810 - val_loss: 2.2427e-04 - val_acc: 0.0000e+00 - val_mean_squared_error: 2.2427e-04 - val_rmse: 0.0109 - val_r_square: 0.5976\n",
      "Epoch 198/200\n",
      "1366/1366 [==============================] - 1s 813us/step - loss: 0.0036 - acc: 7.3206e-04 - mean_squared_error: 0.0036 - rmse: 0.0402 - r_square: 0.5428 - val_loss: 2.2754e-04 - val_acc: 0.0000e+00 - val_mean_squared_error: 2.2754e-04 - val_rmse: 0.0109 - val_r_square: 0.5951\n",
      "Epoch 199/200\n",
      "1366/1366 [==============================] - 1s 806us/step - loss: 0.0035 - acc: 7.3206e-04 - mean_squared_error: 0.0035 - rmse: 0.0397 - r_square: 0.5325 - val_loss: 2.2982e-04 - val_acc: 0.0000e+00 - val_mean_squared_error: 2.2982e-04 - val_rmse: 0.0111 - val_r_square: 0.5931\n",
      "Epoch 200/200\n",
      "1366/1366 [==============================] - 1s 847us/step - loss: 0.0036 - acc: 7.3206e-04 - mean_squared_error: 0.0036 - rmse: 0.0401 - r_square: 0.5230 - val_loss: 2.3224e-04 - val_acc: 0.0000e+00 - val_mean_squared_error: 2.3224e-04 - val_rmse: 0.0111 - val_r_square: 0.5945\n"
     ]
    },
    {
     "data": {
      "image/png": "[encoded data removed]",
      "text/plain": [
       "<Figure size 432x288 with 1 Axes>"
      ]
     },
     "metadata": {},
     "output_type": "display_data"
    },
    {
     "data": {
      "image/png": "[encoded data removed]",
      "text/plain": [
       "<Figure size 432x288 with 1 Axes>"
      ]
     },
     "metadata": {},
     "output_type": "display_data"
    }
   ],
   "source": [
    "predict_y, test_y, model,result = train_model(train_x, train_y, test_x, test_y)\n",
    "predict_y = scaler.inverse_transform([[i] for i in predict_y])\n",
    "test_y = scaler.inverse_transform(test_y)\n",
    "fig2 = plt.figure(2)\n",
    "plt.plot(predict_y, 'g:')\n",
    "plt.plot(test_y, 'r-')\n",
    "plt.legend(['predict', 'true'])\n",
    "plt.show()\n"
   ]
  },
  {
   "cell_type": "code",
   "execution_count": 49,
   "metadata": {},
   "outputs": [],
   "source": [
    "# wx, gtk, osx, tk, empty uses default\n",
    "%matplotlib qt\n",
    "plt.clf()\n",
    "# fig2 = plt.figure()\n",
    "plt.plot(predict_y, 'b-',label = 'predict ave change')\n",
    "plt.plot(test_y, 'r-', label = 'true ave change')\n",
    "plt.title('601318SH Pingan Financial Group change price prediction')\n",
    "plt.xlabel('Days')\n",
    "plt.ylabel('change price')\n",
    "plt.legend()\n",
    "plt.show()\n",
    "\n"
   ]
  },
  {
   "cell_type": "code",
   "execution_count": 24,
   "metadata": {
    "scrolled": true
   },
   "outputs": [
    {
     "name": "stdout",
     "output_type": "stream",
     "text": [
      "380 380\n",
      "257 122\n"
     ]
    }
   ],
   "source": [
    "trend_list = [1,]\n",
    "for i in range(1, len(predict_y)):\n",
    "    if predict_y[i] <= quantile033:\n",
    "        trend_list.append(-1)\n",
    "    elif quantile033 <= predict_y[i] <= quantile067:\n",
    "        trend_list.append(0)\n",
    "    else:\n",
    "        trend_list.append(1)\n",
    "\n",
    "real_trend_list = [1,]\n",
    "for i in range(1, len(test_y)):\n",
    "    if test_y[i] <= quantile033:\n",
    "        real_trend_list.append(-1)\n",
    "    elif quantile033 <= test_y[i] <= quantile067:\n",
    "        real_trend_list.append(0)\n",
    "    else:\n",
    "        real_trend_list.append(1)\n",
    "        \n",
    "\n",
    "\n",
    "true_count = 0\n",
    "false_count = 0\n",
    "\n",
    "\n",
    "print(len(test_y), len(predict_y))\n",
    "\n",
    "pair_list = []\n",
    "\n",
    "for i in range(len(predict_y)-1):\n",
    "    pair_list.append([real_trend_list[i], trend_list[i]])\n",
    "    if real_trend_list[i] == trend_list[i]:\n",
    "        true_count = true_count + 1\n",
    "    else:\n",
    "        false_count = false_count + 1\n",
    "\n",
    "# print(pair_list)\n",
    "print(true_count, false_count)\n"
   ]
  },
  {
   "cell_type": "code",
   "execution_count": 25,
   "metadata": {},
   "outputs": [
    {
     "data": {
      "text/plain": [
       "(380, 380)"
      ]
     },
     "execution_count": 25,
     "metadata": {},
     "output_type": "execute_result"
    }
   ],
   "source": [
    "len(real_trend_list) , len(trend_list)"
   ]
  },
  {
   "cell_type": "code",
   "execution_count": 26,
   "metadata": {},
   "outputs": [
    {
     "data": {
      "text/plain": [
       "0.6763157894736842"
      ]
     },
     "execution_count": 26,
     "metadata": {},
     "output_type": "execute_result"
    }
   ],
   "source": [
    "accuracy = true_count/ len(predict_y)\n",
    "accuracy"
   ]
  },
  {
   "cell_type": "code",
   "execution_count": 27,
   "metadata": {},
   "outputs": [
    {
     "name": "stdout",
     "output_type": "stream",
     "text": [
      "预测数据 <keras.callbacks.History object at 0x000001FA7B73DB38>\n",
      "真实数据 <keras.callbacks.History object at 0x000001FA7B73DB38>\n"
     ]
    }
   ],
   "source": [
    "from collections import Counter\n",
    "\n",
    "prediction_result = Counter(trend_list)\n",
    "print (\"预测数据\", result)\n",
    "prediction_result = Counter(real_trend_list)\n",
    "print (\"真实数据\", result)"
   ]
  },
  {
   "cell_type": "code",
   "execution_count": 28,
   "metadata": {},
   "outputs": [],
   "source": [
    "# count = 0\n",
    "# for i in predict_y:\n",
    "#     if quantile033 < i < quantile067:\n",
    "#         count += 1\n",
    "\n",
    "# print(count)"
   ]
  },
  {
   "cell_type": "code",
   "execution_count": 29,
   "metadata": {},
   "outputs": [
    {
     "name": "stdout",
     "output_type": "stream",
     "text": [
      "_________________________________________________________________\n",
      "Layer (type)                 Output Shape              Param #   \n",
      "=================================================================\n",
      "lstm_1 (LSTM)                (None, None, 10)          840       \n",
      "_________________________________________________________________\n",
      "dropout_1 (Dropout)          (None, None, 10)          0         \n",
      "_________________________________________________________________\n",
      "lstm_2 (LSTM)                (None, 200)               168800    \n",
      "_________________________________________________________________\n",
      "dropout_2 (Dropout)          (None, 200)               0         \n",
      "_________________________________________________________________\n",
      "dense_1 (Dense)              (None, 1)                 201       \n",
      "_________________________________________________________________\n",
      "activation_1 (Activation)    (None, 1)                 0         \n",
      "=================================================================\n",
      "Total params: 169,841\n",
      "Trainable params: 169,841\n",
      "Non-trainable params: 0\n",
      "_________________________________________________________________\n"
     ]
    }
   ],
   "source": [
    "model.summary()"
   ]
  },
  {
   "cell_type": "code",
   "execution_count": 30,
   "metadata": {},
   "outputs": [
    {
     "data": {
      "text/html": [
       "<div>\n",
       "<style scoped>\n",
       "    .dataframe tbody tr th:only-of-type {\n",
       "        vertical-align: middle;\n",
       "    }\n",
       "\n",
       "    .dataframe tbody tr th {\n",
       "        vertical-align: top;\n",
       "    }\n",
       "\n",
       "    .dataframe thead th {\n",
       "        text-align: right;\n",
       "    }\n",
       "</style>\n",
       "<table border=\"1\" class=\"dataframe\">\n",
       "  <thead>\n",
       "    <tr style=\"text-align: right;\">\n",
       "      <th></th>\n",
       "      <th>0</th>\n",
       "      <th>0</th>\n",
       "    </tr>\n",
       "  </thead>\n",
       "  <tbody>\n",
       "    <tr>\n",
       "      <th>0</th>\n",
       "      <td>1</td>\n",
       "      <td>1</td>\n",
       "    </tr>\n",
       "    <tr>\n",
       "      <th>1</th>\n",
       "      <td>0</td>\n",
       "      <td>0</td>\n",
       "    </tr>\n",
       "    <tr>\n",
       "      <th>2</th>\n",
       "      <td>0</td>\n",
       "      <td>0</td>\n",
       "    </tr>\n",
       "    <tr>\n",
       "      <th>3</th>\n",
       "      <td>0</td>\n",
       "      <td>0</td>\n",
       "    </tr>\n",
       "    <tr>\n",
       "      <th>4</th>\n",
       "      <td>1</td>\n",
       "      <td>0</td>\n",
       "    </tr>\n",
       "  </tbody>\n",
       "</table>\n",
       "</div>"
      ],
      "text/plain": [
       "   0  0\n",
       "0  1  1\n",
       "1  0  0\n",
       "2  0  0\n",
       "3  0  0\n",
       "4  1  0"
      ]
     },
     "execution_count": 30,
     "metadata": {},
     "output_type": "execute_result"
    }
   ],
   "source": [
    "real_df = pd.DataFrame(real_trend_list)\n",
    "pred_df = pd.DataFrame(trend_list)\n",
    "acc_df = pd.concat((real_df[0],pred_df[0]), axis=1)\n",
    "acc_df.head(5)"
   ]
  },
  {
   "cell_type": "code",
   "execution_count": 31,
   "metadata": {},
   "outputs": [],
   "source": [
    "temp_list = []\n",
    "temp_df =  real_df[0] - pred_df[0]\n",
    "for i in range(0, len(temp_df)):\n",
    "    temp_list.append([i, temp_df[i]])"
   ]
  },
  {
   "cell_type": "code",
   "execution_count": 32,
   "metadata": {},
   "outputs": [
    {
     "data": {
      "text/plain": [
       "[[0, 0],\n",
       " [1, 0],\n",
       " [2, 0],\n",
       " [3, 0],\n",
       " [4, 1],\n",
       " [5, 0],\n",
       " [6, 0],\n",
       " [7, 0],\n",
       " [8, 0],\n",
       " [9, 0]]"
      ]
     },
     "execution_count": 32,
     "metadata": {},
     "output_type": "execute_result"
    }
   ],
   "source": [
    "temp_list[0:10]"
   ]
  },
  {
   "cell_type": "code",
   "execution_count": 53,
   "metadata": {},
   "outputs": [
    {
     "data": {
      "text/plain": [
       "380"
      ]
     },
     "execution_count": 53,
     "metadata": {},
     "output_type": "execute_result"
    }
   ],
   "source": [
    "len(temp_df)"
   ]
  },
  {
   "cell_type": "code",
   "execution_count": 52,
   "metadata": {},
   "outputs": [
    {
     "data": {
      "text/plain": [
       " 0    257\n",
       " 1     71\n",
       "-1     44\n",
       " 2      7\n",
       "-2      1\n",
       "Name: 0, dtype: int64"
      ]
     },
     "execution_count": 52,
     "metadata": {},
     "output_type": "execute_result"
    }
   ],
   "source": [
    "temp_df.value_counts()"
   ]
  },
  {
   "cell_type": "code",
   "execution_count": 54,
   "metadata": {},
   "outputs": [],
   "source": [
    "%matplotlib qt\n",
    "plt.clf()\n",
    "# plt.figure()\n",
    "plt.scatter( *zip(*temp_list), )\n",
    "# plt.scatter(real_df.index.values, pred_df[0],color='blue', marker='^')\n",
    "# plt.scatter(real_df.index.values, real_df[0],color='red', marker='.')\n",
    "plt.title('Trend Prediction Accuracy of 601318SH = {}'.format(accuracy))\n",
    "plt.xlabel('Days')\n",
    "plt.ylabel('Trend Prediction')\n",
    "plt.show()"
   ]
  },
  {
   "cell_type": "code",
   "execution_count": 34,
   "metadata": {},
   "outputs": [],
   "source": [
    "%matplotlib qt\n",
    "plt.clf()\n",
    "plt.plot(result.history['rmse'])\n",
    "plt.plot(result.history['val_rmse'])\n",
    "plt.title('model mse')\n",
    "plt.ylabel('mse')\n",
    "plt.xlabel('epoch')\n",
    "plt.legend(['train', 'test'], loc='upper left')\n",
    "plt.show()\n"
   ]
  },
  {
   "cell_type": "code",
   "execution_count": 35,
   "metadata": {},
   "outputs": [],
   "source": [
    "%matplotlib qt\n",
    "plt.clf()\n",
    "plt.plot(result.history['mean_squared_error'])\n",
    "plt.plot(result.history['val_mean_squared_error'])\n",
    "plt.title('model R^2')\n",
    "plt.ylabel('R^2')\n",
    "plt.xlabel('epoch')\n",
    "plt.legend(['train', 'test'], loc='upper left')\n",
    "plt.show()"
   ]
  },
  {
   "cell_type": "code",
   "execution_count": 36,
   "metadata": {},
   "outputs": [
    {
     "data": {
      "text/plain": [
       "((1518, 10, 10), (380, 10, 10), (1909, 11), (1909, 10))"
      ]
     },
     "execution_count": 36,
     "metadata": {},
     "output_type": "execute_result"
    }
   ],
   "source": [
    "train_x.shape, test_x.shape , df.shape, input_data.shape"
   ]
  },
  {
   "cell_type": "code",
   "execution_count": 37,
   "metadata": {},
   "outputs": [],
   "source": [
    "new_data = df.copy()\n",
    "new_data['ave_change'] = input_data['ave_change']"
   ]
  },
  {
   "cell_type": "code",
   "execution_count": 38,
   "metadata": {},
   "outputs": [
    {
     "data": {
      "text/html": [
       "<div>\n",
       "<style scoped>\n",
       "    .dataframe tbody tr th:only-of-type {\n",
       "        vertical-align: middle;\n",
       "    }\n",
       "\n",
       "    .dataframe tbody tr th {\n",
       "        vertical-align: top;\n",
       "    }\n",
       "\n",
       "    .dataframe thead th {\n",
       "        text-align: right;\n",
       "    }\n",
       "</style>\n",
       "<table border=\"1\" class=\"dataframe\">\n",
       "  <thead>\n",
       "    <tr style=\"text-align: right;\">\n",
       "      <th></th>\n",
       "      <th>ts_code</th>\n",
       "      <th>trade_date</th>\n",
       "      <th>open</th>\n",
       "      <th>high</th>\n",
       "      <th>low</th>\n",
       "      <th>close</th>\n",
       "      <th>pre_close</th>\n",
       "      <th>change</th>\n",
       "      <th>pct_chg</th>\n",
       "      <th>vol</th>\n",
       "      <th>amount</th>\n",
       "      <th>ave_change</th>\n",
       "    </tr>\n",
       "  </thead>\n",
       "  <tbody>\n",
       "    <tr>\n",
       "      <th>0</th>\n",
       "      <td>601318.SH</td>\n",
       "      <td>20110104</td>\n",
       "      <td>56.85</td>\n",
       "      <td>57.60</td>\n",
       "      <td>56.50</td>\n",
       "      <td>56.91</td>\n",
       "      <td>56.16</td>\n",
       "      <td>0.75</td>\n",
       "      <td>1.34</td>\n",
       "      <td>245626.82</td>\n",
       "      <td>1400499.338</td>\n",
       "      <td>-1.300000</td>\n",
       "    </tr>\n",
       "    <tr>\n",
       "      <th>1</th>\n",
       "      <td>601318.SH</td>\n",
       "      <td>20110105</td>\n",
       "      <td>56.59</td>\n",
       "      <td>56.80</td>\n",
       "      <td>54.80</td>\n",
       "      <td>54.86</td>\n",
       "      <td>56.91</td>\n",
       "      <td>-2.05</td>\n",
       "      <td>-3.60</td>\n",
       "      <td>427554.25</td>\n",
       "      <td>2368305.774</td>\n",
       "      <td>-0.943333</td>\n",
       "    </tr>\n",
       "    <tr>\n",
       "      <th>2</th>\n",
       "      <td>601318.SH</td>\n",
       "      <td>20110106</td>\n",
       "      <td>54.94</td>\n",
       "      <td>54.94</td>\n",
       "      <td>51.45</td>\n",
       "      <td>52.59</td>\n",
       "      <td>54.86</td>\n",
       "      <td>-2.27</td>\n",
       "      <td>-4.14</td>\n",
       "      <td>947078.65</td>\n",
       "      <td>4971851.955</td>\n",
       "      <td>-0.156667</td>\n",
       "    </tr>\n",
       "    <tr>\n",
       "      <th>3</th>\n",
       "      <td>601318.SH</td>\n",
       "      <td>20110107</td>\n",
       "      <td>52.97</td>\n",
       "      <td>54.25</td>\n",
       "      <td>51.80</td>\n",
       "      <td>53.01</td>\n",
       "      <td>52.59</td>\n",
       "      <td>0.42</td>\n",
       "      <td>0.80</td>\n",
       "      <td>659013.87</td>\n",
       "      <td>3494756.547</td>\n",
       "      <td>-0.006667</td>\n",
       "    </tr>\n",
       "    <tr>\n",
       "      <th>4</th>\n",
       "      <td>601318.SH</td>\n",
       "      <td>20110110</td>\n",
       "      <td>52.90</td>\n",
       "      <td>53.90</td>\n",
       "      <td>51.90</td>\n",
       "      <td>52.03</td>\n",
       "      <td>53.01</td>\n",
       "      <td>-0.98</td>\n",
       "      <td>-1.85</td>\n",
       "      <td>282919.36</td>\n",
       "      <td>1494174.281</td>\n",
       "      <td>0.316667</td>\n",
       "    </tr>\n",
       "  </tbody>\n",
       "</table>\n",
       "</div>"
      ],
      "text/plain": [
       "     ts_code  trade_date   open   high    low  close  pre_close  change  \\\n",
       "0  601318.SH    20110104  56.85  57.60  56.50  56.91      56.16    0.75   \n",
       "1  601318.SH    20110105  56.59  56.80  54.80  54.86      56.91   -2.05   \n",
       "2  601318.SH    20110106  54.94  54.94  51.45  52.59      54.86   -2.27   \n",
       "3  601318.SH    20110107  52.97  54.25  51.80  53.01      52.59    0.42   \n",
       "4  601318.SH    20110110  52.90  53.90  51.90  52.03      53.01   -0.98   \n",
       "\n",
       "   pct_chg        vol       amount  ave_change  \n",
       "0     1.34  245626.82  1400499.338   -1.300000  \n",
       "1    -3.60  427554.25  2368305.774   -0.943333  \n",
       "2    -4.14  947078.65  4971851.955   -0.156667  \n",
       "3     0.80  659013.87  3494756.547   -0.006667  \n",
       "4    -1.85  282919.36  1494174.281    0.316667  "
      ]
     },
     "execution_count": 38,
     "metadata": {},
     "output_type": "execute_result"
    }
   ],
   "source": [
    "new_data.head()"
   ]
  },
  {
   "cell_type": "code",
   "execution_count": 39,
   "metadata": {},
   "outputs": [
    {
     "data": {
      "text/plain": [
       "1528   -0.046667\n",
       "1529   -0.216667\n",
       "1530   -0.070000\n",
       "1531    0.056667\n",
       "1532    0.860000\n",
       "1533    0.660000\n",
       "1534    0.986667\n",
       "1535    0.353333\n",
       "1536    0.440000\n",
       "1537   -0.176667\n",
       "1538   -0.093333\n",
       "1539   -0.026667\n",
       "1540    0.806667\n",
       "1541    0.850000\n",
       "1542    0.673333\n",
       "1543    0.883333\n",
       "1544    0.670000\n",
       "1545    0.680000\n",
       "1546    0.160000\n",
       "1547   -0.073333\n",
       "Name: ave_change, dtype: float64"
      ]
     },
     "execution_count": 39,
     "metadata": {},
     "output_type": "execute_result"
    }
   ],
   "source": [
    "new_data['ave_change'].iloc[1528:].head(20)"
   ]
  },
  {
   "cell_type": "code",
   "execution_count": 40,
   "metadata": {
    "scrolled": true
   },
   "outputs": [
    {
     "data": {
      "text/plain": [
       "(array([[-0.04666667],\n",
       "        [-0.21666667],\n",
       "        [-0.07      ],\n",
       "        [ 0.05666667],\n",
       "        [ 0.86      ],\n",
       "        [ 0.66      ],\n",
       "        [ 0.98666667],\n",
       "        [ 0.35333333],\n",
       "        [ 0.44      ],\n",
       "        [-0.17666667],\n",
       "        [-0.09333333],\n",
       "        [-0.02666667],\n",
       "        [ 0.80666667],\n",
       "        [ 0.85      ],\n",
       "        [ 0.67333333],\n",
       "        [ 0.88333333],\n",
       "        [ 0.67      ],\n",
       "        [ 0.68      ],\n",
       "        [ 0.16      ],\n",
       "        [-0.07333333]]), array([[-0.00761507],\n",
       "        [-0.07022592],\n",
       "        [-0.21626616],\n",
       "        [-0.00226721],\n",
       "        [ 0.21084011]]))"
      ]
     },
     "execution_count": 40,
     "metadata": {},
     "output_type": "execute_result"
    }
   ],
   "source": [
    "test_y[0:20] , predict_y[0:5]"
   ]
  },
  {
   "cell_type": "code",
   "execution_count": 41,
   "metadata": {},
   "outputs": [],
   "source": [
    "save_data = new_data[1528:-1]"
   ]
  },
  {
   "cell_type": "code",
   "execution_count": 42,
   "metadata": {},
   "outputs": [
    {
     "data": {
      "text/plain": [
       "((380, 12), (380, 10, 10), (380, 1), 380, 380)"
      ]
     },
     "execution_count": 42,
     "metadata": {},
     "output_type": "execute_result"
    }
   ],
   "source": [
    "save_data.shape , test_x.shape, predict_y.shape , len(trend_list), len(real_trend_list)"
   ]
  },
  {
   "cell_type": "code",
   "execution_count": 43,
   "metadata": {},
   "outputs": [
    {
     "name": "stderr",
     "output_type": "stream",
     "text": [
      "d:\\ProgramData\\Anaconda3\\lib\\site-packages\\ipykernel_launcher.py:1: SettingWithCopyWarning: \n",
      "A value is trying to be set on a copy of a slice from a DataFrame.\n",
      "Try using .loc[row_indexer,col_indexer] = value instead\n",
      "\n",
      "See the caveats in the documentation: http://pandas.pydata.org/pandas-docs/stable/indexing.html#indexing-view-versus-copy\n",
      "  \"\"\"Entry point for launching an IPython kernel.\n"
     ]
    }
   ],
   "source": [
    "save_data['pred_ave_change'] = predict_y"
   ]
  },
  {
   "cell_type": "code",
   "execution_count": 44,
   "metadata": {
    "scrolled": true
   },
   "outputs": [
    {
     "name": "stderr",
     "output_type": "stream",
     "text": [
      "d:\\ProgramData\\Anaconda3\\lib\\site-packages\\ipykernel_launcher.py:1: SettingWithCopyWarning: \n",
      "A value is trying to be set on a copy of a slice from a DataFrame.\n",
      "Try using .loc[row_indexer,col_indexer] = value instead\n",
      "\n",
      "See the caveats in the documentation: http://pandas.pydata.org/pandas-docs/stable/indexing.html#indexing-view-versus-copy\n",
      "  \"\"\"Entry point for launching an IPython kernel.\n",
      "d:\\ProgramData\\Anaconda3\\lib\\site-packages\\ipykernel_launcher.py:2: SettingWithCopyWarning: \n",
      "A value is trying to be set on a copy of a slice from a DataFrame.\n",
      "Try using .loc[row_indexer,col_indexer] = value instead\n",
      "\n",
      "See the caveats in the documentation: http://pandas.pydata.org/pandas-docs/stable/indexing.html#indexing-view-versus-copy\n",
      "  \n"
     ]
    }
   ],
   "source": [
    "save_data['real_trend'] = real_trend_list\n",
    "save_data['pred_trend'] = trend_list"
   ]
  },
  {
   "cell_type": "code",
   "execution_count": 45,
   "metadata": {},
   "outputs": [
    {
     "data": {
      "text/html": [
       "<div>\n",
       "<style scoped>\n",
       "    .dataframe tbody tr th:only-of-type {\n",
       "        vertical-align: middle;\n",
       "    }\n",
       "\n",
       "    .dataframe tbody tr th {\n",
       "        vertical-align: top;\n",
       "    }\n",
       "\n",
       "    .dataframe thead th {\n",
       "        text-align: right;\n",
       "    }\n",
       "</style>\n",
       "<table border=\"1\" class=\"dataframe\">\n",
       "  <thead>\n",
       "    <tr style=\"text-align: right;\">\n",
       "      <th></th>\n",
       "      <th>ts_code</th>\n",
       "      <th>trade_date</th>\n",
       "      <th>open</th>\n",
       "      <th>high</th>\n",
       "      <th>low</th>\n",
       "      <th>close</th>\n",
       "      <th>pre_close</th>\n",
       "      <th>change</th>\n",
       "      <th>pct_chg</th>\n",
       "      <th>vol</th>\n",
       "      <th>amount</th>\n",
       "      <th>ave_change</th>\n",
       "      <th>pred_ave_change</th>\n",
       "      <th>real_trend</th>\n",
       "      <th>pred_trend</th>\n",
       "    </tr>\n",
       "  </thead>\n",
       "  <tbody>\n",
       "    <tr>\n",
       "      <th>1528</th>\n",
       "      <td>601318.SH</td>\n",
       "      <td>20170428</td>\n",
       "      <td>37.90</td>\n",
       "      <td>38.07</td>\n",
       "      <td>37.61</td>\n",
       "      <td>37.96</td>\n",
       "      <td>37.82</td>\n",
       "      <td>0.14</td>\n",
       "      <td>0.37</td>\n",
       "      <td>678663.87</td>\n",
       "      <td>2568647.819</td>\n",
       "      <td>-0.046667</td>\n",
       "      <td>-0.007615</td>\n",
       "      <td>1</td>\n",
       "      <td>1</td>\n",
       "    </tr>\n",
       "    <tr>\n",
       "      <th>1529</th>\n",
       "      <td>601318.SH</td>\n",
       "      <td>20170502</td>\n",
       "      <td>37.80</td>\n",
       "      <td>38.38</td>\n",
       "      <td>37.80</td>\n",
       "      <td>37.91</td>\n",
       "      <td>37.96</td>\n",
       "      <td>-0.05</td>\n",
       "      <td>-0.13</td>\n",
       "      <td>619325.39</td>\n",
       "      <td>2359210.184</td>\n",
       "      <td>-0.216667</td>\n",
       "      <td>-0.070226</td>\n",
       "      <td>0</td>\n",
       "      <td>0</td>\n",
       "    </tr>\n",
       "    <tr>\n",
       "      <th>1530</th>\n",
       "      <td>601318.SH</td>\n",
       "      <td>20170503</td>\n",
       "      <td>37.95</td>\n",
       "      <td>38.28</td>\n",
       "      <td>37.82</td>\n",
       "      <td>38.00</td>\n",
       "      <td>37.91</td>\n",
       "      <td>0.09</td>\n",
       "      <td>0.24</td>\n",
       "      <td>505383.86</td>\n",
       "      <td>1920918.772</td>\n",
       "      <td>-0.070000</td>\n",
       "      <td>-0.216266</td>\n",
       "      <td>0</td>\n",
       "      <td>0</td>\n",
       "    </tr>\n",
       "    <tr>\n",
       "      <th>1531</th>\n",
       "      <td>601318.SH</td>\n",
       "      <td>20170504</td>\n",
       "      <td>37.95</td>\n",
       "      <td>38.10</td>\n",
       "      <td>37.73</td>\n",
       "      <td>37.82</td>\n",
       "      <td>38.00</td>\n",
       "      <td>-0.18</td>\n",
       "      <td>-0.47</td>\n",
       "      <td>548573.55</td>\n",
       "      <td>2080732.893</td>\n",
       "      <td>0.056667</td>\n",
       "      <td>-0.002267</td>\n",
       "      <td>0</td>\n",
       "      <td>0</td>\n",
       "    </tr>\n",
       "    <tr>\n",
       "      <th>1532</th>\n",
       "      <td>601318.SH</td>\n",
       "      <td>20170505</td>\n",
       "      <td>37.70</td>\n",
       "      <td>37.86</td>\n",
       "      <td>37.20</td>\n",
       "      <td>37.26</td>\n",
       "      <td>37.82</td>\n",
       "      <td>-0.56</td>\n",
       "      <td>-1.48</td>\n",
       "      <td>623979.60</td>\n",
       "      <td>2337681.712</td>\n",
       "      <td>0.860000</td>\n",
       "      <td>0.210840</td>\n",
       "      <td>1</td>\n",
       "      <td>0</td>\n",
       "    </tr>\n",
       "  </tbody>\n",
       "</table>\n",
       "</div>"
      ],
      "text/plain": [
       "        ts_code  trade_date   open   high    low  close  pre_close  change  \\\n",
       "1528  601318.SH    20170428  37.90  38.07  37.61  37.96      37.82    0.14   \n",
       "1529  601318.SH    20170502  37.80  38.38  37.80  37.91      37.96   -0.05   \n",
       "1530  601318.SH    20170503  37.95  38.28  37.82  38.00      37.91    0.09   \n",
       "1531  601318.SH    20170504  37.95  38.10  37.73  37.82      38.00   -0.18   \n",
       "1532  601318.SH    20170505  37.70  37.86  37.20  37.26      37.82   -0.56   \n",
       "\n",
       "      pct_chg        vol       amount  ave_change  pred_ave_change  \\\n",
       "1528     0.37  678663.87  2568647.819   -0.046667        -0.007615   \n",
       "1529    -0.13  619325.39  2359210.184   -0.216667        -0.070226   \n",
       "1530     0.24  505383.86  1920918.772   -0.070000        -0.216266   \n",
       "1531    -0.47  548573.55  2080732.893    0.056667        -0.002267   \n",
       "1532    -1.48  623979.60  2337681.712    0.860000         0.210840   \n",
       "\n",
       "      real_trend  pred_trend  \n",
       "1528           1           1  \n",
       "1529           0           0  \n",
       "1530           0           0  \n",
       "1531           0           0  \n",
       "1532           1           0  "
      ]
     },
     "execution_count": 45,
     "metadata": {},
     "output_type": "execute_result"
    }
   ],
   "source": [
    "save_data.head()"
   ]
  },
  {
   "cell_type": "code",
   "execution_count": 46,
   "metadata": {},
   "outputs": [],
   "source": [
    "save_data.to_csv('Result-Pingan-from-20110101-to-20181118.csv', index=False)"
   ]
  },
  {
   "cell_type": "code",
   "execution_count": 47,
   "metadata": {},
   "outputs": [
    {
     "data": {
      "text/plain": [
       "1528   -0.007615\n",
       "1529   -0.070226\n",
       "1530   -0.216266\n",
       "1531   -0.002267\n",
       "1532    0.210840\n",
       "1533    0.611569\n",
       "1534    0.581645\n",
       "1535    0.268698\n",
       "1536    0.370684\n",
       "1537   -0.008500\n",
       "1538   -0.230298\n",
       "1539   -0.150035\n",
       "1540    0.162737\n",
       "1541    0.683848\n",
       "1542    0.707318\n",
       "1543    0.017456\n",
       "1544    0.661369\n",
       "1545    0.646607\n",
       "1546   -0.248776\n",
       "1547    0.174148\n",
       "1548   -0.035105\n",
       "1549   -0.385505\n",
       "1550    0.250812\n",
       "1551    0.421082\n",
       "1552    0.437751\n",
       "1553    0.577631\n",
       "1554    0.320854\n",
       "1555    0.072707\n",
       "1556   -0.586908\n",
       "1557   -0.670483\n",
       "          ...   \n",
       "1878   -0.829226\n",
       "1879   -0.236265\n",
       "1880   -0.707561\n",
       "1881   -0.080949\n",
       "1882   -0.048187\n",
       "1883    0.155490\n",
       "1884    0.253537\n",
       "1885   -0.733713\n",
       "1886    0.648135\n",
       "1887    1.548989\n",
       "1888   -0.191912\n",
       "1889   -0.308765\n",
       "1890    0.128473\n",
       "1891   -0.367033\n",
       "1892   -1.185533\n",
       "1893   -0.631756\n",
       "1894    0.372763\n",
       "1895    0.547336\n",
       "1896    0.863067\n",
       "1897    0.457024\n",
       "1898   -0.176415\n",
       "1899   -0.198674\n",
       "1900   -0.280669\n",
       "1901   -0.464033\n",
       "1902   -0.308840\n",
       "1903    0.113791\n",
       "1904   -0.256374\n",
       "1905   -0.026460\n",
       "1906    0.173094\n",
       "1907   -1.132869\n",
       "Name: pred_ave_change, Length: 380, dtype: float64"
      ]
     },
     "execution_count": 47,
     "metadata": {},
     "output_type": "execute_result"
    }
   ],
   "source": [
    "save_data.pop('pred_ave_change')"
   ]
  },
  {
   "cell_type": "code",
   "execution_count": 48,
   "metadata": {},
   "outputs": [
    {
     "data": {
      "text/html": [
       "<div>\n",
       "<style scoped>\n",
       "    .dataframe tbody tr th:only-of-type {\n",
       "        vertical-align: middle;\n",
       "    }\n",
       "\n",
       "    .dataframe tbody tr th {\n",
       "        vertical-align: top;\n",
       "    }\n",
       "\n",
       "    .dataframe thead th {\n",
       "        text-align: right;\n",
       "    }\n",
       "</style>\n",
       "<table border=\"1\" class=\"dataframe\">\n",
       "  <thead>\n",
       "    <tr style=\"text-align: right;\">\n",
       "      <th></th>\n",
       "      <th>ts_code</th>\n",
       "      <th>trade_date</th>\n",
       "      <th>open</th>\n",
       "      <th>high</th>\n",
       "      <th>low</th>\n",
       "      <th>close</th>\n",
       "      <th>pre_close</th>\n",
       "      <th>change</th>\n",
       "      <th>pct_chg</th>\n",
       "      <th>vol</th>\n",
       "      <th>amount</th>\n",
       "      <th>ave_change</th>\n",
       "      <th>real_trend</th>\n",
       "      <th>pred_trend</th>\n",
       "    </tr>\n",
       "  </thead>\n",
       "  <tbody>\n",
       "    <tr>\n",
       "      <th>1528</th>\n",
       "      <td>601318.SH</td>\n",
       "      <td>20170428</td>\n",
       "      <td>37.90</td>\n",
       "      <td>38.07</td>\n",
       "      <td>37.61</td>\n",
       "      <td>37.96</td>\n",
       "      <td>37.82</td>\n",
       "      <td>0.14</td>\n",
       "      <td>0.37</td>\n",
       "      <td>678663.87</td>\n",
       "      <td>2568647.819</td>\n",
       "      <td>-0.046667</td>\n",
       "      <td>1</td>\n",
       "      <td>1</td>\n",
       "    </tr>\n",
       "    <tr>\n",
       "      <th>1529</th>\n",
       "      <td>601318.SH</td>\n",
       "      <td>20170502</td>\n",
       "      <td>37.80</td>\n",
       "      <td>38.38</td>\n",
       "      <td>37.80</td>\n",
       "      <td>37.91</td>\n",
       "      <td>37.96</td>\n",
       "      <td>-0.05</td>\n",
       "      <td>-0.13</td>\n",
       "      <td>619325.39</td>\n",
       "      <td>2359210.184</td>\n",
       "      <td>-0.216667</td>\n",
       "      <td>0</td>\n",
       "      <td>0</td>\n",
       "    </tr>\n",
       "    <tr>\n",
       "      <th>1530</th>\n",
       "      <td>601318.SH</td>\n",
       "      <td>20170503</td>\n",
       "      <td>37.95</td>\n",
       "      <td>38.28</td>\n",
       "      <td>37.82</td>\n",
       "      <td>38.00</td>\n",
       "      <td>37.91</td>\n",
       "      <td>0.09</td>\n",
       "      <td>0.24</td>\n",
       "      <td>505383.86</td>\n",
       "      <td>1920918.772</td>\n",
       "      <td>-0.070000</td>\n",
       "      <td>0</td>\n",
       "      <td>0</td>\n",
       "    </tr>\n",
       "    <tr>\n",
       "      <th>1531</th>\n",
       "      <td>601318.SH</td>\n",
       "      <td>20170504</td>\n",
       "      <td>37.95</td>\n",
       "      <td>38.10</td>\n",
       "      <td>37.73</td>\n",
       "      <td>37.82</td>\n",
       "      <td>38.00</td>\n",
       "      <td>-0.18</td>\n",
       "      <td>-0.47</td>\n",
       "      <td>548573.55</td>\n",
       "      <td>2080732.893</td>\n",
       "      <td>0.056667</td>\n",
       "      <td>0</td>\n",
       "      <td>0</td>\n",
       "    </tr>\n",
       "    <tr>\n",
       "      <th>1532</th>\n",
       "      <td>601318.SH</td>\n",
       "      <td>20170505</td>\n",
       "      <td>37.70</td>\n",
       "      <td>37.86</td>\n",
       "      <td>37.20</td>\n",
       "      <td>37.26</td>\n",
       "      <td>37.82</td>\n",
       "      <td>-0.56</td>\n",
       "      <td>-1.48</td>\n",
       "      <td>623979.60</td>\n",
       "      <td>2337681.712</td>\n",
       "      <td>0.860000</td>\n",
       "      <td>1</td>\n",
       "      <td>0</td>\n",
       "    </tr>\n",
       "  </tbody>\n",
       "</table>\n",
       "</div>"
      ],
      "text/plain": [
       "        ts_code  trade_date   open   high    low  close  pre_close  change  \\\n",
       "1528  601318.SH    20170428  37.90  38.07  37.61  37.96      37.82    0.14   \n",
       "1529  601318.SH    20170502  37.80  38.38  37.80  37.91      37.96   -0.05   \n",
       "1530  601318.SH    20170503  37.95  38.28  37.82  38.00      37.91    0.09   \n",
       "1531  601318.SH    20170504  37.95  38.10  37.73  37.82      38.00   -0.18   \n",
       "1532  601318.SH    20170505  37.70  37.86  37.20  37.26      37.82   -0.56   \n",
       "\n",
       "      pct_chg        vol       amount  ave_change  real_trend  pred_trend  \n",
       "1528     0.37  678663.87  2568647.819   -0.046667           1           1  \n",
       "1529    -0.13  619325.39  2359210.184   -0.216667           0           0  \n",
       "1530     0.24  505383.86  1920918.772   -0.070000           0           0  \n",
       "1531    -0.47  548573.55  2080732.893    0.056667           0           0  \n",
       "1532    -1.48  623979.60  2337681.712    0.860000           1           0  "
      ]
     },
     "execution_count": 48,
     "metadata": {},
     "output_type": "execute_result"
    }
   ],
   "source": [
    "save_data.head()"
   ]
  },
  {
   "cell_type": "code",
   "execution_count": null,
   "metadata": {},
   "outputs": [],
   "source": []
  }
 ],
 "metadata": {
  "kernelspec": {
   "display_name": "Python 3",
   "language": "python",
   "name": "python3"
  },
  "language_info": {
   "codemirror_mode": {
    "name": "ipython",
    "version": 3
   },
   "file_extension": ".py",
   "mimetype": "text/x-python",
   "name": "python",
   "nbconvert_exporter": "python",
   "pygments_lexer": "ipython3",
   "version": "3.6.5"
  }
 },
 "nbformat": 4,
 "nbformat_minor": 2
}
