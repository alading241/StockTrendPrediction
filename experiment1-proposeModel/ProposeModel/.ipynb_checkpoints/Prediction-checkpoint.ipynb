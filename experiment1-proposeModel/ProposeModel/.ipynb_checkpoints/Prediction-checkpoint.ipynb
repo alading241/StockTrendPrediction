{
 "cells": [
  {
   "cell_type": "markdown",
   "metadata": {},
   "source": [
    "##### 三类股票分类，\n",
    "##### 使用未来三天的平均change来作为标签值y，并用0.33, 0.67分位值作为三类标签的划分边界\n",
    "\n",
    "##### 数据: 基本指标 \n",
    "##### 模型:  LSTM\n"
   ]
  },
  {
   "cell_type": "code",
   "execution_count": 1,
   "metadata": {},
   "outputs": [
    {
     "name": "stderr",
     "output_type": "stream",
     "text": [
      "d:\\ProgramData\\Anaconda3\\lib\\site-packages\\h5py\\__init__.py:36: FutureWarning: Conversion of the second argument of issubdtype from `float` to `np.floating` is deprecated. In future, it will be treated as `np.float64 == np.dtype(float).type`.\n",
      "  from ._conv import register_converters as _register_converters\n",
      "Using TensorFlow backend.\n"
     ]
    }
   ],
   "source": [
    "import pandas as pd\n",
    "from pandas import DataFrame\n",
    "import numpy as np\n",
    "from numpy import row_stack,column_stack\n",
    "import matplotlib.pyplot as plt\n",
    "from matplotlib.dates import DateFormatter, WeekdayLocator, DayLocator, MONDAY,YEARLY\n",
    "# from mpl_finance import quotes_historical_yahoo_ohlc, candlestick_ohlc\n",
    "from matplotlib.pylab import date2num\n",
    "from sklearn.preprocessing import MinMaxScaler,StandardScaler\n",
    "from keras.models import Sequential\n",
    "from keras.layers import LSTM, Dense, Activation,Dropout\n",
    "import tushare as ts\n",
    "import datetime\n",
    "import time"
   ]
  },
  {
   "cell_type": "markdown",
   "metadata": {},
   "source": [
    "### softmax三类分类写不出来，用回归代替"
   ]
  },
  {
   "cell_type": "markdown",
   "metadata": {},
   "source": [
    "### 加工数据"
   ]
  },
  {
   "cell_type": "code",
   "execution_count": 2,
   "metadata": {},
   "outputs": [],
   "source": [
    "ts.set_token('29ea8fa19e717f1a3d3618796f87067ee07219783a9e01422eb90ef8')\n",
    "pro = ts.pro_api()\n",
    "\n",
    "df = pro.daily(ts_code='601318.SH', start_date = '20110101', end_date = '20181118')\n",
    "df = df.iloc[::-1]\n",
    "df.head()\n",
    "\n",
    "df.to_csv('601318SH-from-20110101-to-20181118.csv', index=False)\n",
    "\n",
    "df = pd.read_csv('601318SH-from-20110101-to-20181118.csv')\n",
    "df.head()\n",
    "\n",
    "input_data = df[[ 'open','high','low','pre_close','change','pct_chg','vol','amount','close']]\n"
   ]
  },
  {
   "cell_type": "code",
   "execution_count": 3,
   "metadata": {},
   "outputs": [
    {
     "data": {
      "text/html": [
       "<div>\n",
       "<style scoped>\n",
       "    .dataframe tbody tr th:only-of-type {\n",
       "        vertical-align: middle;\n",
       "    }\n",
       "\n",
       "    .dataframe tbody tr th {\n",
       "        vertical-align: top;\n",
       "    }\n",
       "\n",
       "    .dataframe thead th {\n",
       "        text-align: right;\n",
       "    }\n",
       "</style>\n",
       "<table border=\"1\" class=\"dataframe\">\n",
       "  <thead>\n",
       "    <tr style=\"text-align: right;\">\n",
       "      <th></th>\n",
       "      <th>ts_code</th>\n",
       "      <th>trade_date</th>\n",
       "      <th>open</th>\n",
       "      <th>high</th>\n",
       "      <th>low</th>\n",
       "      <th>close</th>\n",
       "      <th>pre_close</th>\n",
       "      <th>change</th>\n",
       "      <th>pct_chg</th>\n",
       "      <th>vol</th>\n",
       "      <th>amount</th>\n",
       "    </tr>\n",
       "  </thead>\n",
       "  <tbody>\n",
       "    <tr>\n",
       "      <th>0</th>\n",
       "      <td>601318.SH</td>\n",
       "      <td>20110104</td>\n",
       "      <td>56.85</td>\n",
       "      <td>57.60</td>\n",
       "      <td>56.50</td>\n",
       "      <td>56.91</td>\n",
       "      <td>56.16</td>\n",
       "      <td>0.75</td>\n",
       "      <td>1.34</td>\n",
       "      <td>245626.82</td>\n",
       "      <td>1400499.338</td>\n",
       "    </tr>\n",
       "    <tr>\n",
       "      <th>1</th>\n",
       "      <td>601318.SH</td>\n",
       "      <td>20110105</td>\n",
       "      <td>56.59</td>\n",
       "      <td>56.80</td>\n",
       "      <td>54.80</td>\n",
       "      <td>54.86</td>\n",
       "      <td>56.91</td>\n",
       "      <td>-2.05</td>\n",
       "      <td>-3.60</td>\n",
       "      <td>427554.25</td>\n",
       "      <td>2368305.774</td>\n",
       "    </tr>\n",
       "    <tr>\n",
       "      <th>2</th>\n",
       "      <td>601318.SH</td>\n",
       "      <td>20110106</td>\n",
       "      <td>54.94</td>\n",
       "      <td>54.94</td>\n",
       "      <td>51.45</td>\n",
       "      <td>52.59</td>\n",
       "      <td>54.86</td>\n",
       "      <td>-2.27</td>\n",
       "      <td>-4.14</td>\n",
       "      <td>947078.65</td>\n",
       "      <td>4971851.955</td>\n",
       "    </tr>\n",
       "    <tr>\n",
       "      <th>3</th>\n",
       "      <td>601318.SH</td>\n",
       "      <td>20110107</td>\n",
       "      <td>52.97</td>\n",
       "      <td>54.25</td>\n",
       "      <td>51.80</td>\n",
       "      <td>53.01</td>\n",
       "      <td>52.59</td>\n",
       "      <td>0.42</td>\n",
       "      <td>0.80</td>\n",
       "      <td>659013.87</td>\n",
       "      <td>3494756.547</td>\n",
       "    </tr>\n",
       "    <tr>\n",
       "      <th>4</th>\n",
       "      <td>601318.SH</td>\n",
       "      <td>20110110</td>\n",
       "      <td>52.90</td>\n",
       "      <td>53.90</td>\n",
       "      <td>51.90</td>\n",
       "      <td>52.03</td>\n",
       "      <td>53.01</td>\n",
       "      <td>-0.98</td>\n",
       "      <td>-1.85</td>\n",
       "      <td>282919.36</td>\n",
       "      <td>1494174.281</td>\n",
       "    </tr>\n",
       "  </tbody>\n",
       "</table>\n",
       "</div>"
      ],
      "text/plain": [
       "     ts_code  trade_date   open   high    low  close  pre_close  change  \\\n",
       "0  601318.SH    20110104  56.85  57.60  56.50  56.91      56.16    0.75   \n",
       "1  601318.SH    20110105  56.59  56.80  54.80  54.86      56.91   -2.05   \n",
       "2  601318.SH    20110106  54.94  54.94  51.45  52.59      54.86   -2.27   \n",
       "3  601318.SH    20110107  52.97  54.25  51.80  53.01      52.59    0.42   \n",
       "4  601318.SH    20110110  52.90  53.90  51.90  52.03      53.01   -0.98   \n",
       "\n",
       "   pct_chg        vol       amount  \n",
       "0     1.34  245626.82  1400499.338  \n",
       "1    -3.60  427554.25  2368305.774  \n",
       "2    -4.14  947078.65  4971851.955  \n",
       "3     0.80  659013.87  3494756.547  \n",
       "4    -1.85  282919.36  1494174.281  "
      ]
     },
     "execution_count": 3,
     "metadata": {},
     "output_type": "execute_result"
    }
   ],
   "source": [
    "df.head()"
   ]
  },
  {
   "cell_type": "code",
   "execution_count": 4,
   "metadata": {},
   "outputs": [],
   "source": [
    "# input_data['change'].quantile([0.33,0.5, 0.67,])\n",
    "quantile033 = input_data['change'].quantile([0.33]).iloc[0]\n",
    "quantile067 = input_data['change'].quantile([0.67]).iloc[0]"
   ]
  },
  {
   "cell_type": "code",
   "execution_count": 5,
   "metadata": {},
   "outputs": [
    {
     "data": {
      "text/plain": [
       "(-0.24, 0.25360000000000127)"
      ]
     },
     "execution_count": 5,
     "metadata": {},
     "output_type": "execute_result"
    }
   ],
   "source": [
    "quantile033, quantile067"
   ]
  },
  {
   "cell_type": "code",
   "execution_count": 6,
   "metadata": {},
   "outputs": [
    {
     "data": {
      "text/plain": [
       "0.01"
      ]
     },
     "execution_count": 6,
     "metadata": {},
     "output_type": "execute_result"
    }
   ],
   "source": [
    "input_data['change'].median()"
   ]
  },
  {
   "cell_type": "code",
   "execution_count": 7,
   "metadata": {},
   "outputs": [],
   "source": [
    "data = input_data['change'].quantile([0.33,])"
   ]
  },
  {
   "cell_type": "code",
   "execution_count": 8,
   "metadata": {},
   "outputs": [
    {
     "data": {
      "text/plain": [
       "-0.24"
      ]
     },
     "execution_count": 8,
     "metadata": {},
     "output_type": "execute_result"
    }
   ],
   "source": [
    "data.iloc[0]"
   ]
  },
  {
   "cell_type": "code",
   "execution_count": 9,
   "metadata": {},
   "outputs": [],
   "source": [
    "change = input_data['change']"
   ]
  },
  {
   "cell_type": "code",
   "execution_count": 10,
   "metadata": {},
   "outputs": [],
   "source": [
    "ave_change_column = [ ]\n",
    "for i in range(0, len(change)):\n",
    "    if i >= len(change) - 3:\n",
    "        ave_change = change[i]\n",
    "        \n",
    "    else:\n",
    "        ave_change = (change[i+1] + change[i+2] + change[i+3]) / 3\n",
    "    \n",
    "    ave_change_column.append(ave_change)\n",
    "\n"
   ]
  },
  {
   "cell_type": "code",
   "execution_count": 11,
   "metadata": {},
   "outputs": [
    {
     "data": {
      "text/plain": [
       "(1909, 1909)"
      ]
     },
     "execution_count": 11,
     "metadata": {},
     "output_type": "execute_result"
    }
   ],
   "source": [
    "len(change) , len(ave_change_column)"
   ]
  },
  {
   "cell_type": "code",
   "execution_count": 12,
   "metadata": {},
   "outputs": [
    {
     "name": "stderr",
     "output_type": "stream",
     "text": [
      "d:\\ProgramData\\Anaconda3\\lib\\site-packages\\ipykernel_launcher.py:1: SettingWithCopyWarning: \n",
      "A value is trying to be set on a copy of a slice from a DataFrame.\n",
      "Try using .loc[row_indexer,col_indexer] = value instead\n",
      "\n",
      "See the caveats in the documentation: http://pandas.pydata.org/pandas-docs/stable/indexing.html#indexing-view-versus-copy\n",
      "  \"\"\"Entry point for launching an IPython kernel.\n"
     ]
    }
   ],
   "source": [
    "input_data['ave_change'] = ave_change_column"
   ]
  },
  {
   "cell_type": "code",
   "execution_count": 13,
   "metadata": {},
   "outputs": [
    {
     "data": {
      "text/html": [
       "<div>\n",
       "<style scoped>\n",
       "    .dataframe tbody tr th:only-of-type {\n",
       "        vertical-align: middle;\n",
       "    }\n",
       "\n",
       "    .dataframe tbody tr th {\n",
       "        vertical-align: top;\n",
       "    }\n",
       "\n",
       "    .dataframe thead th {\n",
       "        text-align: right;\n",
       "    }\n",
       "</style>\n",
       "<table border=\"1\" class=\"dataframe\">\n",
       "  <thead>\n",
       "    <tr style=\"text-align: right;\">\n",
       "      <th></th>\n",
       "      <th>open</th>\n",
       "      <th>high</th>\n",
       "      <th>low</th>\n",
       "      <th>pre_close</th>\n",
       "      <th>change</th>\n",
       "      <th>pct_chg</th>\n",
       "      <th>vol</th>\n",
       "      <th>amount</th>\n",
       "      <th>close</th>\n",
       "      <th>ave_change</th>\n",
       "    </tr>\n",
       "  </thead>\n",
       "  <tbody>\n",
       "    <tr>\n",
       "      <th>0</th>\n",
       "      <td>56.85</td>\n",
       "      <td>57.60</td>\n",
       "      <td>56.50</td>\n",
       "      <td>56.16</td>\n",
       "      <td>0.75</td>\n",
       "      <td>1.34</td>\n",
       "      <td>245626.82</td>\n",
       "      <td>1400499.338</td>\n",
       "      <td>56.91</td>\n",
       "      <td>-1.300000</td>\n",
       "    </tr>\n",
       "    <tr>\n",
       "      <th>1</th>\n",
       "      <td>56.59</td>\n",
       "      <td>56.80</td>\n",
       "      <td>54.80</td>\n",
       "      <td>56.91</td>\n",
       "      <td>-2.05</td>\n",
       "      <td>-3.60</td>\n",
       "      <td>427554.25</td>\n",
       "      <td>2368305.774</td>\n",
       "      <td>54.86</td>\n",
       "      <td>-0.943333</td>\n",
       "    </tr>\n",
       "    <tr>\n",
       "      <th>2</th>\n",
       "      <td>54.94</td>\n",
       "      <td>54.94</td>\n",
       "      <td>51.45</td>\n",
       "      <td>54.86</td>\n",
       "      <td>-2.27</td>\n",
       "      <td>-4.14</td>\n",
       "      <td>947078.65</td>\n",
       "      <td>4971851.955</td>\n",
       "      <td>52.59</td>\n",
       "      <td>-0.156667</td>\n",
       "    </tr>\n",
       "    <tr>\n",
       "      <th>3</th>\n",
       "      <td>52.97</td>\n",
       "      <td>54.25</td>\n",
       "      <td>51.80</td>\n",
       "      <td>52.59</td>\n",
       "      <td>0.42</td>\n",
       "      <td>0.80</td>\n",
       "      <td>659013.87</td>\n",
       "      <td>3494756.547</td>\n",
       "      <td>53.01</td>\n",
       "      <td>-0.006667</td>\n",
       "    </tr>\n",
       "    <tr>\n",
       "      <th>4</th>\n",
       "      <td>52.90</td>\n",
       "      <td>53.90</td>\n",
       "      <td>51.90</td>\n",
       "      <td>53.01</td>\n",
       "      <td>-0.98</td>\n",
       "      <td>-1.85</td>\n",
       "      <td>282919.36</td>\n",
       "      <td>1494174.281</td>\n",
       "      <td>52.03</td>\n",
       "      <td>0.316667</td>\n",
       "    </tr>\n",
       "  </tbody>\n",
       "</table>\n",
       "</div>"
      ],
      "text/plain": [
       "    open   high    low  pre_close  change  pct_chg        vol       amount  \\\n",
       "0  56.85  57.60  56.50      56.16    0.75     1.34  245626.82  1400499.338   \n",
       "1  56.59  56.80  54.80      56.91   -2.05    -3.60  427554.25  2368305.774   \n",
       "2  54.94  54.94  51.45      54.86   -2.27    -4.14  947078.65  4971851.955   \n",
       "3  52.97  54.25  51.80      52.59    0.42     0.80  659013.87  3494756.547   \n",
       "4  52.90  53.90  51.90      53.01   -0.98    -1.85  282919.36  1494174.281   \n",
       "\n",
       "   close  ave_change  \n",
       "0  56.91   -1.300000  \n",
       "1  54.86   -0.943333  \n",
       "2  52.59   -0.156667  \n",
       "3  53.01   -0.006667  \n",
       "4  52.03    0.316667  "
      ]
     },
     "execution_count": 13,
     "metadata": {},
     "output_type": "execute_result"
    }
   ],
   "source": [
    "input_data.head(5)"
   ]
  },
  {
   "cell_type": "code",
   "execution_count": 14,
   "metadata": {},
   "outputs": [],
   "source": [
    "data = input_data.values\n",
    "\n",
    "dd1=input_data.sort_index()\n",
    "\n",
    "dd2=dd1.values.flatten()\n",
    "\n",
    "dd3=pd.DataFrame(dd1['close'])"
   ]
  },
  {
   "cell_type": "code",
   "execution_count": 15,
   "metadata": {},
   "outputs": [],
   "source": [
    "def load_data(df, sequence_length=10, split=0.8):\n",
    "    \n",
    "    \n",
    "    # 转为float型\n",
    "    data_all = np.array(df.astype(float))\n",
    "    # 标准化\n",
    "    x_scaler = MinMaxScaler()\n",
    "    data_all[:, :-1] = x_scaler.fit_transform(data_all[:, :-1])\n",
    "    data = []\n",
    "    for i in range(len(data_all) - sequence_length - 1):\n",
    "        data.append(data_all[i: i + sequence_length + 1])\n",
    "    reshaped_data = np.array(data).astype('float64')\n",
    "    x = reshaped_data[:, :-1]\n",
    "    y = reshaped_data[:, -1][:, -1]\n",
    "    scaler = MinMaxScaler()\n",
    "    y = scaler.fit_transform(y.reshape(-1, 1))\n",
    "    split_boundary = int(reshaped_data.shape[0] * split)\n",
    "    train_x = x[: split_boundary]\n",
    "    test_x = x[split_boundary:]\n",
    "\n",
    "    train_y = y[: split_boundary]\n",
    "    test_y = y[split_boundary:]\n",
    "\n",
    "    return train_x, train_y, test_x, test_y, scaler"
   ]
  },
  {
   "cell_type": "code",
   "execution_count": 16,
   "metadata": {},
   "outputs": [],
   "source": [
    "# 添加自定义评价函数\n",
    "\n",
    "# root mean squared error (rmse) for regression\n",
    "def rmse(y_true, y_pred):\n",
    "    from keras import backend\n",
    "    return backend.sqrt(backend.mean(backend.square(y_pred - y_true), axis=-1))\n",
    "\n",
    "# mean squared error (mse) for regression\n",
    "def mse(y_true, y_pred):\n",
    "    from keras import backend\n",
    "    return backend.mean(backend.square(y_pred - y_true), axis=-1)\n",
    "\n",
    "# coefficient of determination (R^2) for regression\n",
    "def r_square(y_true, y_pred):\n",
    "    from keras import backend as K\n",
    "    SS_res =  K.sum(K.square(y_true - y_pred)) \n",
    "    SS_tot = K.sum(K.square(y_true - K.mean(y_true))) \n",
    "    return (1 - SS_res/(SS_tot + K.epsilon()))\n",
    "\n",
    "def r_square_loss(y_true, y_pred):\n",
    "    from keras import backend as K\n",
    "    SS_res =  K.sum(K.square(y_true - y_pred)) \n",
    "    SS_tot = K.sum(K.square(y_true - K.mean(y_true))) \n",
    "    return 1 - ( 1 - SS_res/(SS_tot + K.epsilon()))\n",
    "\n"
   ]
  },
  {
   "cell_type": "code",
   "execution_count": 17,
   "metadata": {},
   "outputs": [],
   "source": [
    "def build_model(layers):\n",
    "    model = Sequential()\n",
    "\n",
    "    # By setting return_sequences to True we are able to stack another LSTM layer\n",
    "    model.add(LSTM(\n",
    "        input_dim=layers[0],\n",
    "        output_dim=layers[1],\n",
    "        return_sequences=True))\n",
    "    model.add(Dropout(0.5))\n",
    "\n",
    "    model.add(LSTM(\n",
    "        layers[2],\n",
    "        return_sequences=False))\n",
    "    model.add(Dropout(0.5))\n",
    "\n",
    "    model.add(Dense(\n",
    "        output_dim=layers[3]))\n",
    "    model.add(Activation(\"linear\"))\n",
    "\n",
    "    start = time.time()\n",
    "    model.compile(loss=\"mse\", optimizer=\"adam\", metrics=['accuracy','mean_squared_error',rmse, r_square])\n",
    "    print(\"Compilation Time : \", time.time() - start)\n",
    "    return model"
   ]
  },
  {
   "cell_type": "code",
   "execution_count": 18,
   "metadata": {},
   "outputs": [],
   "source": [
    "def train_model(train_x, train_y, test_x, test_y):\n",
    "    model = build_model([train_x.shape[2], train_x.shape[1], 200, 1])\n",
    "\n",
    "    try:\n",
    "        result  = model.fit(train_x, train_y, batch_size=40, nb_epoch=200, validation_split=0.1)\n",
    "        predict = model.predict(test_x)\n",
    "        predict = np.reshape(predict, (predict.size, ))\n",
    "    except KeyboardInterrupt:\n",
    "        print(predict)\n",
    "        print(test_y)\n",
    "#     print(predict)\n",
    "#     print(test_y)\n",
    "    try:\n",
    "        fig = plt.figure(1)\n",
    "        plt.plot(predict, 'r:')\n",
    "        plt.plot(test_y, 'g-')\n",
    "        plt.legend(['predict', 'true'])\n",
    "    except Exception as e:\n",
    "        print(e)\n",
    "    return predict, test_y , model, result "
   ]
  },
  {
   "cell_type": "code",
   "execution_count": 19,
   "metadata": {},
   "outputs": [
    {
     "data": {
      "text/plain": [
       "(1909, 10)"
      ]
     },
     "execution_count": 19,
     "metadata": {},
     "output_type": "execute_result"
    }
   ],
   "source": [
    "dd1.shape"
   ]
  },
  {
   "cell_type": "code",
   "execution_count": 20,
   "metadata": {},
   "outputs": [],
   "source": [
    "train_x, train_y, test_x, test_y, scaler =load_data(dd1, sequence_length=10, split=0.8)"
   ]
  },
  {
   "cell_type": "code",
   "execution_count": 21,
   "metadata": {},
   "outputs": [
    {
     "name": "stdout",
     "output_type": "stream",
     "text": [
      "train_x (1518, 10, 10)\n",
      "train_y (1518, 1)\n",
      "test_x (380, 10, 10)\n",
      "test_y (380, 1)\n"
     ]
    }
   ],
   "source": [
    "print(\"train_x\", train_x.shape)\n",
    "print(\"train_y\", train_y.shape)\n",
    "print(\"test_x\", test_x.shape)\n",
    "print(\"test_y\", test_y.shape)"
   ]
  },
  {
   "cell_type": "code",
   "execution_count": 22,
   "metadata": {},
   "outputs": [
    {
     "name": "stderr",
     "output_type": "stream",
     "text": [
      "d:\\ProgramData\\Anaconda3\\lib\\site-packages\\ipykernel_launcher.py:8: UserWarning: The `input_dim` and `input_length` arguments in recurrent layers are deprecated. Use `input_shape` instead.\n",
      "  \n",
      "d:\\ProgramData\\Anaconda3\\lib\\site-packages\\ipykernel_launcher.py:8: UserWarning: Update your `LSTM` call to the Keras 2 API: `LSTM(return_sequences=True, input_shape=(None, 10), units=10)`\n",
      "  \n",
      "d:\\ProgramData\\Anaconda3\\lib\\site-packages\\ipykernel_launcher.py:17: UserWarning: Update your `Dense` call to the Keras 2 API: `Dense(units=1)`\n",
      "d:\\ProgramData\\Anaconda3\\lib\\site-packages\\ipykernel_launcher.py:5: UserWarning: The `nb_epoch` argument in `fit` has been renamed `epochs`.\n",
      "  \"\"\"\n"
     ]
    },
    {
     "name": "stdout",
     "output_type": "stream",
     "text": [
      "Compilation Time :  0.04787468910217285\n",
      "Train on 1366 samples, validate on 152 samples\n",
      "Epoch 1/200\n",
      "1366/1366 [==============================] - 3s 2ms/step - loss: 0.0470 - acc: 7.3206e-04 - mean_squared_error: 0.0470 - rmse: 0.1617 - r_square: -5.0880 - val_loss: 6.5536e-04 - val_acc: 0.0000e+00 - val_mean_squared_error: 6.5536e-04 - val_rmse: 0.0195 - val_r_square: -0.0765\n",
      "Epoch 2/200\n",
      "1366/1366 [==============================] - 1s 965us/step - loss: 0.0136 - acc: 0.0000e+00 - mean_squared_error: 0.0136 - rmse: 0.0860 - r_square: -0.7381 - val_loss: 6.3789e-04 - val_acc: 0.0000e+00 - val_mean_squared_error: 6.3789e-04 - val_rmse: 0.0189 - val_r_square: -0.0675\n",
      "Epoch 3/200\n",
      "1366/1366 [==============================] - 1s 848us/step - loss: 0.0125 - acc: 7.3206e-04 - mean_squared_error: 0.0125 - rmse: 0.0830 - r_square: -0.6361 - val_loss: 6.0935e-04 - val_acc: 0.0000e+00 - val_mean_squared_error: 6.0935e-04 - val_rmse: 0.0188 - val_r_square: -0.0075\n",
      "Epoch 4/200\n",
      "1366/1366 [==============================] - 1s 915us/step - loss: 0.0112 - acc: 7.3206e-04 - mean_squared_error: 0.0112 - rmse: 0.0767 - r_square: -0.4838 - val_loss: 6.3511e-04 - val_acc: 0.0000e+00 - val_mean_squared_error: 6.3511e-04 - val_rmse: 0.0189 - val_r_square: -0.0735\n",
      "Epoch 5/200\n",
      "1366/1366 [==============================] - 1s 885us/step - loss: 0.0107 - acc: 7.3206e-04 - mean_squared_error: 0.0107 - rmse: 0.0744 - r_square: -0.3499 - val_loss: 5.4933e-04 - val_acc: 0.0000e+00 - val_mean_squared_error: 5.4933e-04 - val_rmse: 0.0176 - val_r_square: 0.0888\n",
      "Epoch 6/200\n",
      "1366/1366 [==============================] - 1s 845us/step - loss: 0.0108 - acc: 0.0000e+00 - mean_squared_error: 0.0108 - rmse: 0.0747 - r_square: -0.4025 - val_loss: 7.8786e-04 - val_acc: 0.0000e+00 - val_mean_squared_error: 7.8786e-04 - val_rmse: 0.0223 - val_r_square: -0.3378\n",
      "Epoch 7/200\n",
      "1366/1366 [==============================] - 1s 826us/step - loss: 0.0100 - acc: 0.0000e+00 - mean_squared_error: 0.0100 - rmse: 0.0720 - r_square: -0.2706 - val_loss: 0.0018 - val_acc: 0.0000e+00 - val_mean_squared_error: 0.0018 - val_rmse: 0.0373 - val_r_square: -2.3341\n",
      "Epoch 8/200\n",
      "1366/1366 [==============================] - 1s 830us/step - loss: 0.0099 - acc: 0.0000e+00 - mean_squared_error: 0.0099 - rmse: 0.0708 - r_square: -0.2495 - val_loss: 5.5015e-04 - val_acc: 0.0000e+00 - val_mean_squared_error: 5.5015e-04 - val_rmse: 0.0178 - val_r_square: 0.0947\n",
      "Epoch 9/200\n",
      "1366/1366 [==============================] - 1s 795us/step - loss: 0.0097 - acc: 7.3206e-04 - mean_squared_error: 0.0097 - rmse: 0.0705 - r_square: -0.2282 - val_loss: 8.7403e-04 - val_acc: 0.0000e+00 - val_mean_squared_error: 8.7403e-04 - val_rmse: 0.0240 - val_r_square: -0.5314\n",
      "Epoch 10/200\n",
      "1366/1366 [==============================] - 1s 839us/step - loss: 0.0097 - acc: 0.0000e+00 - mean_squared_error: 0.0097 - rmse: 0.0701 - r_square: -0.1873 - val_loss: 5.3155e-04 - val_acc: 0.0000e+00 - val_mean_squared_error: 5.3155e-04 - val_rmse: 0.0178 - val_r_square: 0.1068\n",
      "Epoch 11/200\n",
      "1366/1366 [==============================] - 1s 802us/step - loss: 0.0094 - acc: 0.0000e+00 - mean_squared_error: 0.0094 - rmse: 0.0688 - r_square: -0.2037 - val_loss: 5.0644e-04 - val_acc: 0.0000e+00 - val_mean_squared_error: 5.0644e-04 - val_rmse: 0.0171 - val_r_square: 0.1061\n",
      "Epoch 12/200\n",
      "1366/1366 [==============================] - 1s 810us/step - loss: 0.0096 - acc: 0.0000e+00 - mean_squared_error: 0.0096 - rmse: 0.0710 - r_square: -0.2425 - val_loss: 5.5528e-04 - val_acc: 0.0000e+00 - val_mean_squared_error: 5.5528e-04 - val_rmse: 0.0185 - val_r_square: 0.0597\n",
      "Epoch 13/200\n",
      "1366/1366 [==============================] - 1s 837us/step - loss: 0.0093 - acc: 7.3206e-04 - mean_squared_error: 0.0093 - rmse: 0.0693 - r_square: -0.1854 - val_loss: 4.6426e-04 - val_acc: 0.0000e+00 - val_mean_squared_error: 4.6426e-04 - val_rmse: 0.0164 - val_r_square: 0.2127\n",
      "Epoch 14/200\n",
      "1366/1366 [==============================] - 1s 864us/step - loss: 0.0090 - acc: 0.0000e+00 - mean_squared_error: 0.0090 - rmse: 0.0681 - r_square: -0.1706 - val_loss: 0.0011 - val_acc: 0.0000e+00 - val_mean_squared_error: 0.0011 - val_rmse: 0.0273 - val_r_square: -0.9127\n",
      "Epoch 15/200\n",
      "1366/1366 [==============================] - 1s 949us/step - loss: 0.0090 - acc: 7.3206e-04 - mean_squared_error: 0.0090 - rmse: 0.0695 - r_square: -0.1984 - val_loss: 5.6462e-04 - val_acc: 0.0000e+00 - val_mean_squared_error: 5.6462e-04 - val_rmse: 0.0187 - val_r_square: 0.0404\n",
      "Epoch 16/200\n",
      "1366/1366 [==============================] - 1s 821us/step - loss: 0.0089 - acc: 0.0000e+00 - mean_squared_error: 0.0089 - rmse: 0.0660 - r_square: -0.1319 - val_loss: 4.9460e-04 - val_acc: 0.0000e+00 - val_mean_squared_error: 4.9460e-04 - val_rmse: 0.0170 - val_r_square: 0.1351\n",
      "Epoch 17/200\n",
      "1366/1366 [==============================] - 1s 821us/step - loss: 0.0090 - acc: 7.3206e-04 - mean_squared_error: 0.0090 - rmse: 0.0682 - r_square: -0.1336 - val_loss: 6.1538e-04 - val_acc: 0.0000e+00 - val_mean_squared_error: 6.1538e-04 - val_rmse: 0.0197 - val_r_square: -0.0708\n",
      "Epoch 18/200\n",
      "1366/1366 [==============================] - 1s 854us/step - loss: 0.0079 - acc: 7.3206e-04 - mean_squared_error: 0.0079 - rmse: 0.0631 - r_square: -0.0108 - val_loss: 5.6862e-04 - val_acc: 0.0000e+00 - val_mean_squared_error: 5.6862e-04 - val_rmse: 0.0185 - val_r_square: -0.0375\n",
      "Epoch 19/200\n",
      "1366/1366 [==============================] - 1s 835us/step - loss: 0.0082 - acc: 0.0000e+00 - mean_squared_error: 0.0082 - rmse: 0.0650 - r_square: -0.0456 - val_loss: 4.7652e-04 - val_acc: 0.0000e+00 - val_mean_squared_error: 4.7652e-04 - val_rmse: 0.0168 - val_r_square: 0.1569\n",
      "Epoch 20/200\n",
      "1366/1366 [==============================] - 1s 824us/step - loss: 0.0085 - acc: 0.0000e+00 - mean_squared_error: 0.0085 - rmse: 0.0653 - r_square: -0.0815 - val_loss: 4.0589e-04 - val_acc: 0.0000e+00 - val_mean_squared_error: 4.0589e-04 - val_rmse: 0.0155 - val_r_square: 0.2921\n",
      "Epoch 21/200\n",
      "1366/1366 [==============================] - 1s 813us/step - loss: 0.0074 - acc: 7.3206e-04 - mean_squared_error: 0.0074 - rmse: 0.0615 - r_square: 0.0509 - val_loss: 6.1740e-04 - val_acc: 0.0000e+00 - val_mean_squared_error: 6.1740e-04 - val_rmse: 0.0196 - val_r_square: -0.1642\n",
      "Epoch 22/200\n",
      "1366/1366 [==============================] - 1s 800us/step - loss: 0.0079 - acc: 7.3206e-04 - mean_squared_error: 0.0079 - rmse: 0.0637 - r_square: -0.0322 - val_loss: 4.4085e-04 - val_acc: 0.0000e+00 - val_mean_squared_error: 4.4085e-04 - val_rmse: 0.0164 - val_r_square: 0.2315\n",
      "Epoch 23/200\n",
      "1366/1366 [==============================] - 1s 806us/step - loss: 0.0081 - acc: 7.3206e-04 - mean_squared_error: 0.0081 - rmse: 0.0638 - r_square: -0.0156 - val_loss: 5.2650e-04 - val_acc: 0.0000e+00 - val_mean_squared_error: 5.2650e-04 - val_rmse: 0.0183 - val_r_square: 0.0840\n",
      "Epoch 24/200\n",
      "1366/1366 [==============================] - 1s 776us/step - loss: 0.0079 - acc: 7.3206e-04 - mean_squared_error: 0.0079 - rmse: 0.0625 - r_square: -0.0022 - val_loss: 7.4609e-04 - val_acc: 0.0000e+00 - val_mean_squared_error: 7.4609e-04 - val_rmse: 0.0222 - val_r_square: -0.3287\n",
      "Epoch 25/200\n",
      "1366/1366 [==============================] - 1s 787us/step - loss: 0.0077 - acc: 7.3206e-04 - mean_squared_error: 0.0077 - rmse: 0.0634 - r_square: -0.0093 - val_loss: 4.1418e-04 - val_acc: 0.0000e+00 - val_mean_squared_error: 4.1418e-04 - val_rmse: 0.0157 - val_r_square: 0.2710\n",
      "Epoch 26/200\n",
      "1366/1366 [==============================] - 1s 799us/step - loss: 0.0076 - acc: 7.3206e-04 - mean_squared_error: 0.0076 - rmse: 0.0619 - r_square: 0.0311 - val_loss: 0.0015 - val_acc: 0.0000e+00 - val_mean_squared_error: 0.0015 - val_rmse: 0.0348 - val_r_square: -2.0253\n",
      "Epoch 27/200\n",
      "1366/1366 [==============================] - 1s 783us/step - loss: 0.0082 - acc: 7.3206e-04 - mean_squared_error: 0.0082 - rmse: 0.0644 - r_square: -0.0613 - val_loss: 6.9649e-04 - val_acc: 0.0000e+00 - val_mean_squared_error: 6.9649e-04 - val_rmse: 0.0214 - val_r_square: -0.2506\n",
      "Epoch 28/200\n",
      "1366/1366 [==============================] - 1s 784us/step - loss: 0.0076 - acc: 7.3206e-04 - mean_squared_error: 0.0076 - rmse: 0.0604 - r_square: 0.0246 - val_loss: 3.8718e-04 - val_acc: 0.0000e+00 - val_mean_squared_error: 3.8718e-04 - val_rmse: 0.0152 - val_r_square: 0.3201\n"
     ]
    },
    {
     "name": "stdout",
     "output_type": "stream",
     "text": [
      "Epoch 29/200\n",
      "1366/1366 [==============================] - 1s 799us/step - loss: 0.0072 - acc: 7.3206e-04 - mean_squared_error: 0.0072 - rmse: 0.0605 - r_square: 0.0084 - val_loss: 7.9057e-04 - val_acc: 0.0000e+00 - val_mean_squared_error: 7.9057e-04 - val_rmse: 0.0233 - val_r_square: -0.4356\n",
      "Epoch 30/200\n",
      "1366/1366 [==============================] - 1s 828us/step - loss: 0.0074 - acc: 0.0000e+00 - mean_squared_error: 0.0074 - rmse: 0.0598 - r_square: 0.0420 - val_loss: 5.6732e-04 - val_acc: 0.0000e+00 - val_mean_squared_error: 5.6732e-04 - val_rmse: 0.0191 - val_r_square: -0.0022\n",
      "Epoch 31/200\n",
      "1366/1366 [==============================] - 1s 802us/step - loss: 0.0076 - acc: 7.3206e-04 - mean_squared_error: 0.0076 - rmse: 0.0619 - r_square: 0.0084 - val_loss: 4.7639e-04 - val_acc: 0.0000e+00 - val_mean_squared_error: 4.7639e-04 - val_rmse: 0.0171 - val_r_square: 0.1241\n",
      "Epoch 32/200\n",
      "1366/1366 [==============================] - 1s 766us/step - loss: 0.0073 - acc: 7.3206e-04 - mean_squared_error: 0.0073 - rmse: 0.0609 - r_square: 0.0783 - val_loss: 3.6853e-04 - val_acc: 0.0000e+00 - val_mean_squared_error: 3.6853e-04 - val_rmse: 0.0149 - val_r_square: 0.3676\n",
      "Epoch 33/200\n",
      "1366/1366 [==============================] - 1s 782us/step - loss: 0.0073 - acc: 7.3206e-04 - mean_squared_error: 0.0073 - rmse: 0.0610 - r_square: 0.0533 - val_loss: 6.9196e-04 - val_acc: 0.0000e+00 - val_mean_squared_error: 6.9196e-04 - val_rmse: 0.0215 - val_r_square: -0.2474 mean_squared_error: 0.0071 - rmse: 0.0600 - r_square: \n",
      "Epoch 34/200\n",
      "1366/1366 [==============================] - 1s 781us/step - loss: 0.0073 - acc: 7.3206e-04 - mean_squared_error: 0.0073 - rmse: 0.0602 - r_square: 0.0310 - val_loss: 3.6888e-04 - val_acc: 0.0000e+00 - val_mean_squared_error: 3.6888e-04 - val_rmse: 0.0149 - val_r_square: 0.3511\n",
      "Epoch 35/200\n",
      "1366/1366 [==============================] - 1s 765us/step - loss: 0.0071 - acc: 0.0000e+00 - mean_squared_error: 0.0071 - rmse: 0.0600 - r_square: 0.0453 - val_loss: 4.8073e-04 - val_acc: 0.0000e+00 - val_mean_squared_error: 4.8073e-04 - val_rmse: 0.0172 - val_r_square: 0.1056\n",
      "Epoch 36/200\n",
      "1366/1366 [==============================] - 1s 838us/step - loss: 0.0072 - acc: 7.3206e-04 - mean_squared_error: 0.0072 - rmse: 0.0588 - r_square: 0.0794 - val_loss: 3.9461e-04 - val_acc: 0.0000e+00 - val_mean_squared_error: 3.9461e-04 - val_rmse: 0.0154 - val_r_square: 0.2905\n",
      "Epoch 37/200\n",
      "1366/1366 [==============================] - 1s 765us/step - loss: 0.0071 - acc: 7.3206e-04 - mean_squared_error: 0.0071 - rmse: 0.0580 - r_square: 0.1294 - val_loss: 8.3172e-04 - val_acc: 0.0000e+00 - val_mean_squared_error: 8.3172e-04 - val_rmse: 0.0241 - val_r_square: -0.5140\n",
      "Epoch 38/200\n",
      "1366/1366 [==============================] - 1s 845us/step - loss: 0.0067 - acc: 7.3206e-04 - mean_squared_error: 0.0067 - rmse: 0.0576 - r_square: 0.1700 - val_loss: 6.5031e-04 - val_acc: 0.0000e+00 - val_mean_squared_error: 6.5031e-04 - val_rmse: 0.0207 - val_r_square: -0.1594\n",
      "Epoch 39/200\n",
      "1366/1366 [==============================] - 1s 756us/step - loss: 0.0069 - acc: 7.3206e-04 - mean_squared_error: 0.0069 - rmse: 0.0583 - r_square: 0.1163 - val_loss: 3.6615e-04 - val_acc: 0.0000e+00 - val_mean_squared_error: 3.6615e-04 - val_rmse: 0.0147 - val_r_square: 0.3705\n",
      "Epoch 40/200\n",
      "1366/1366 [==============================] - 1s 844us/step - loss: 0.0070 - acc: 7.3206e-04 - mean_squared_error: 0.0070 - rmse: 0.0582 - r_square: 0.1111 - val_loss: 3.7380e-04 - val_acc: 0.0000e+00 - val_mean_squared_error: 3.7380e-04 - val_rmse: 0.0150 - val_r_square: 0.3303\n",
      "Epoch 41/200\n",
      "1366/1366 [==============================] - 1s 802us/step - loss: 0.0067 - acc: 7.3206e-04 - mean_squared_error: 0.0067 - rmse: 0.0568 - r_square: 0.1702 - val_loss: 6.5861e-04 - val_acc: 0.0000e+00 - val_mean_squared_error: 6.5861e-04 - val_rmse: 0.0209 - val_r_square: -0.1810\n",
      "Epoch 42/200\n",
      "1366/1366 [==============================] - 1s 797us/step - loss: 0.0072 - acc: 7.3206e-04 - mean_squared_error: 0.0072 - rmse: 0.0593 - r_square: 0.0739 - val_loss: 4.0255e-04 - val_acc: 0.0000e+00 - val_mean_squared_error: 4.0255e-04 - val_rmse: 0.0155 - val_r_square: 0.2718\n",
      "Epoch 43/200\n",
      "1366/1366 [==============================] - 1s 766us/step - loss: 0.0068 - acc: 7.3206e-04 - mean_squared_error: 0.0068 - rmse: 0.0577 - r_square: 0.1146 - val_loss: 3.7030e-04 - val_acc: 0.0000e+00 - val_mean_squared_error: 3.7030e-04 - val_rmse: 0.0149 - val_r_square: 0.3612\n",
      "Epoch 44/200\n",
      "1366/1366 [==============================] - 1s 846us/step - loss: 0.0069 - acc: 7.3206e-04 - mean_squared_error: 0.0069 - rmse: 0.0581 - r_square: 0.0632 - val_loss: 3.5402e-04 - val_acc: 0.0000e+00 - val_mean_squared_error: 3.5402e-04 - val_rmse: 0.0144 - val_r_square: 0.3792\n",
      "Epoch 45/200\n",
      "1366/1366 [==============================] - 1s 844us/step - loss: 0.0070 - acc: 7.3206e-04 - mean_squared_error: 0.0070 - rmse: 0.0596 - r_square: 0.0823 - val_loss: 5.6173e-04 - val_acc: 0.0000e+00 - val_mean_squared_error: 5.6173e-04 - val_rmse: 0.0191 - val_r_square: -0.0653\n",
      "Epoch 46/200\n",
      "1366/1366 [==============================] - 1s 922us/step - loss: 0.0066 - acc: 7.3206e-04 - mean_squared_error: 0.0066 - rmse: 0.0559 - r_square: 0.1391 - val_loss: 3.9242e-04 - val_acc: 0.0000e+00 - val_mean_squared_error: 3.9242e-04 - val_rmse: 0.0155 - val_r_square: 0.3147\n",
      "Epoch 47/200\n",
      "1366/1366 [==============================] - 1s 876us/step - loss: 0.0066 - acc: 7.3206e-04 - mean_squared_error: 0.0066 - rmse: 0.0566 - r_square: 0.1098 - val_loss: 9.0480e-04 - val_acc: 0.0000e+00 - val_mean_squared_error: 9.0480e-04 - val_rmse: 0.0255 - val_r_square: -0.6656\n",
      "Epoch 48/200\n",
      "1366/1366 [==============================] - 1s 873us/step - loss: 0.0068 - acc: 7.3206e-04 - mean_squared_error: 0.0068 - rmse: 0.0572 - r_square: 0.1372 - val_loss: 3.7915e-04 - val_acc: 0.0000e+00 - val_mean_squared_error: 3.7915e-04 - val_rmse: 0.0151 - val_r_square: 0.3519\n",
      "Epoch 49/200\n",
      "1366/1366 [==============================] - 1s 1ms/step - loss: 0.0063 - acc: 7.3206e-04 - mean_squared_error: 0.0063 - rmse: 0.0544 - r_square: 0.1852 - val_loss: 4.0560e-04 - val_acc: 0.0000e+00 - val_mean_squared_error: 4.0560e-04 - val_rmse: 0.0158 - val_r_square: 0.2999\n",
      "Epoch 50/200\n",
      "1366/1366 [==============================] - 1s 1ms/step - loss: 0.0066 - acc: 7.3206e-04 - mean_squared_error: 0.0066 - rmse: 0.0568 - r_square: 0.1871 - val_loss: 4.0447e-04 - val_acc: 0.0000e+00 - val_mean_squared_error: 4.0447e-04 - val_rmse: 0.0156 - val_r_square: 0.2551\n",
      "Epoch 51/200\n",
      "1366/1366 [==============================] - 1s 844us/step - loss: 0.0067 - acc: 7.3206e-04 - mean_squared_error: 0.0067 - rmse: 0.0550 - r_square: 0.1513 - val_loss: 3.6578e-04 - val_acc: 0.0000e+00 - val_mean_squared_error: 3.6578e-04 - val_rmse: 0.0149 - val_r_square: 0.3624\n",
      "Epoch 52/200\n",
      "1366/1366 [==============================] - 1s 852us/step - loss: 0.0067 - acc: 7.3206e-04 - mean_squared_error: 0.0067 - rmse: 0.0566 - r_square: 0.1373 - val_loss: 6.1315e-04 - val_acc: 0.0000e+00 - val_mean_squared_error: 6.1315e-04 - val_rmse: 0.0200 - val_r_square: -0.1698\n",
      "Epoch 53/200\n",
      "1366/1366 [==============================] - 1s 898us/step - loss: 0.0068 - acc: 7.3206e-04 - mean_squared_error: 0.0068 - rmse: 0.0575 - r_square: 0.1470 - val_loss: 3.3286e-04 - val_acc: 0.0000e+00 - val_mean_squared_error: 3.3286e-04 - val_rmse: 0.0141 - val_r_square: 0.4158\n",
      "Epoch 54/200\n",
      "1366/1366 [==============================] - 1s 760us/step - loss: 0.0066 - acc: 7.3206e-04 - mean_squared_error: 0.0066 - rmse: 0.0570 - r_square: 0.1549 - val_loss: 5.3063e-04 - val_acc: 0.0000e+00 - val_mean_squared_error: 5.3063e-04 - val_rmse: 0.0186 - val_r_square: -0.0112\n",
      "Epoch 55/200\n",
      "1366/1366 [==============================] - 1s 838us/step - loss: 0.0066 - acc: 7.3206e-04 - mean_squared_error: 0.0066 - rmse: 0.0561 - r_square: 0.1797 - val_loss: 4.6573e-04 - val_acc: 0.0000e+00 - val_mean_squared_error: 4.6573e-04 - val_rmse: 0.0172 - val_r_square: 0.1756\n",
      "Epoch 56/200\n",
      "1366/1366 [==============================] - 1s 791us/step - loss: 0.0062 - acc: 7.3206e-04 - mean_squared_error: 0.0062 - rmse: 0.0542 - r_square: 0.2330 - val_loss: 3.6118e-04 - val_acc: 0.0000e+00 - val_mean_squared_error: 3.6118e-04 - val_rmse: 0.0148 - val_r_square: 0.3597\n"
     ]
    },
    {
     "name": "stdout",
     "output_type": "stream",
     "text": [
      "Epoch 57/200\n",
      "1366/1366 [==============================] - 1s 811us/step - loss: 0.0062 - acc: 7.3206e-04 - mean_squared_error: 0.0062 - rmse: 0.0551 - r_square: 0.1620 - val_loss: 3.4021e-04 - val_acc: 0.0000e+00 - val_mean_squared_error: 3.4021e-04 - val_rmse: 0.0143 - val_r_square: 0.4016\n",
      "Epoch 58/200\n",
      "1366/1366 [==============================] - 1s 798us/step - loss: 0.0063 - acc: 7.3206e-04 - mean_squared_error: 0.0063 - rmse: 0.0551 - r_square: 0.1755 - val_loss: 3.6399e-04 - val_acc: 0.0000e+00 - val_mean_squared_error: 3.6399e-04 - val_rmse: 0.0149 - val_r_square: 0.3701\n",
      "Epoch 59/200\n",
      "1366/1366 [==============================] - 1s 835us/step - loss: 0.0065 - acc: 7.3206e-04 - mean_squared_error: 0.0065 - rmse: 0.0546 - r_square: 0.1683 - val_loss: 4.6911e-04 - val_acc: 0.0000e+00 - val_mean_squared_error: 4.6911e-04 - val_rmse: 0.0170 - val_r_square: 0.1282\n",
      "Epoch 60/200\n",
      "1366/1366 [==============================] - 1s 800us/step - loss: 0.0064 - acc: 7.3206e-04 - mean_squared_error: 0.0064 - rmse: 0.0555 - r_square: 0.2028 - val_loss: 5.2160e-04 - val_acc: 0.0000e+00 - val_mean_squared_error: 5.2160e-04 - val_rmse: 0.0183 - val_r_square: 0.0670\n",
      "Epoch 61/200\n",
      "1366/1366 [==============================] - 1s 831us/step - loss: 0.0060 - acc: 7.3206e-04 - mean_squared_error: 0.0060 - rmse: 0.0538 - r_square: 0.2195 - val_loss: 3.6691e-04 - val_acc: 0.0000e+00 - val_mean_squared_error: 3.6691e-04 - val_rmse: 0.0150 - val_r_square: 0.3553\n",
      "Epoch 62/200\n",
      "1366/1366 [==============================] - 1s 875us/step - loss: 0.0059 - acc: 7.3206e-04 - mean_squared_error: 0.0059 - rmse: 0.0536 - r_square: 0.2583 - val_loss: 3.3502e-04 - val_acc: 0.0000e+00 - val_mean_squared_error: 3.3502e-04 - val_rmse: 0.0141 - val_r_square: 0.4131\n",
      "Epoch 63/200\n",
      "1366/1366 [==============================] - 1s 825us/step - loss: 0.0063 - acc: 7.3206e-04 - mean_squared_error: 0.0063 - rmse: 0.0557 - r_square: 0.1751 - val_loss: 3.6596e-04 - val_acc: 0.0000e+00 - val_mean_squared_error: 3.6596e-04 - val_rmse: 0.0150 - val_r_square: 0.3609\n",
      "Epoch 64/200\n",
      "1366/1366 [==============================] - 1s 764us/step - loss: 0.0062 - acc: 7.3206e-04 - mean_squared_error: 0.0062 - rmse: 0.0545 - r_square: 0.1907 - val_loss: 3.3594e-04 - val_acc: 0.0000e+00 - val_mean_squared_error: 3.3594e-04 - val_rmse: 0.0142 - val_r_square: 0.4166\n",
      "Epoch 65/200\n",
      "1366/1366 [==============================] - 1s 881us/step - loss: 0.0061 - acc: 7.3206e-04 - mean_squared_error: 0.0061 - rmse: 0.0535 - r_square: 0.2211 - val_loss: 3.2467e-04 - val_acc: 0.0000e+00 - val_mean_squared_error: 3.2467e-04 - val_rmse: 0.0140 - val_r_square: 0.4334\n",
      "Epoch 66/200\n",
      "1366/1366 [==============================] - 1s 1000us/step - loss: 0.0059 - acc: 7.3206e-04 - mean_squared_error: 0.0059 - rmse: 0.0528 - r_square: 0.2028 - val_loss: 3.8478e-04 - val_acc: 0.0000e+00 - val_mean_squared_error: 3.8478e-04 - val_rmse: 0.0154 - val_r_square: 0.3139\n",
      "Epoch 67/200\n",
      "1366/1366 [==============================] - 1s 799us/step - loss: 0.0061 - acc: 7.3206e-04 - mean_squared_error: 0.0061 - rmse: 0.0543 - r_square: 0.1920 - val_loss: 4.0893e-04 - val_acc: 0.0000e+00 - val_mean_squared_error: 4.0893e-04 - val_rmse: 0.0159 - val_r_square: 0.2771\n",
      "Epoch 68/200\n",
      "1366/1366 [==============================] - 1s 820us/step - loss: 0.0064 - acc: 7.3206e-04 - mean_squared_error: 0.0064 - rmse: 0.0563 - r_square: 0.1891 - val_loss: 4.4833e-04 - val_acc: 0.0000e+00 - val_mean_squared_error: 4.4833e-04 - val_rmse: 0.0165 - val_r_square: 0.1550\n",
      "Epoch 69/200\n",
      "1366/1366 [==============================] - 1s 753us/step - loss: 0.0057 - acc: 7.3206e-04 - mean_squared_error: 0.0057 - rmse: 0.0521 - r_square: 0.2633 - val_loss: 3.2075e-04 - val_acc: 0.0000e+00 - val_mean_squared_error: 3.2075e-04 - val_rmse: 0.0138 - val_r_square: 0.4252\n",
      "Epoch 70/200\n",
      "1366/1366 [==============================] - 1s 706us/step - loss: 0.0055 - acc: 7.3206e-04 - mean_squared_error: 0.0055 - rmse: 0.0519 - r_square: 0.3022 - val_loss: 3.2001e-04 - val_acc: 0.0000e+00 - val_mean_squared_error: 3.2001e-04 - val_rmse: 0.0138 - val_r_square: 0.4312\n",
      "Epoch 71/200\n",
      "1366/1366 [==============================] - 1s 694us/step - loss: 0.0061 - acc: 7.3206e-04 - mean_squared_error: 0.0061 - rmse: 0.0531 - r_square: 0.2264 - val_loss: 3.2697e-04 - val_acc: 0.0000e+00 - val_mean_squared_error: 3.2697e-04 - val_rmse: 0.0141 - val_r_square: 0.4223\n",
      "Epoch 72/200\n",
      "1366/1366 [==============================] - 1s 675us/step - loss: 0.0060 - acc: 7.3206e-04 - mean_squared_error: 0.0060 - rmse: 0.0529 - r_square: 0.1951 - val_loss: 4.6887e-04 - val_acc: 0.0000e+00 - val_mean_squared_error: 4.6887e-04 - val_rmse: 0.0173 - val_r_square: 0.1591\n",
      "Epoch 73/200\n",
      "1366/1366 [==============================] - 1s 779us/step - loss: 0.0058 - acc: 7.3206e-04 - mean_squared_error: 0.0058 - rmse: 0.0523 - r_square: 0.2395 - val_loss: 3.2471e-04 - val_acc: 0.0000e+00 - val_mean_squared_error: 3.2471e-04 - val_rmse: 0.0139 - val_r_square: 0.4278\n",
      "Epoch 74/200\n",
      "1366/1366 [==============================] - 1s 801us/step - loss: 0.0059 - acc: 7.3206e-04 - mean_squared_error: 0.0059 - rmse: 0.0526 - r_square: 0.1336 - val_loss: 3.1306e-04 - val_acc: 0.0000e+00 - val_mean_squared_error: 3.1306e-04 - val_rmse: 0.0137 - val_r_square: 0.4423\n",
      "Epoch 75/200\n",
      "1366/1366 [==============================] - 1s 811us/step - loss: 0.0061 - acc: 7.3206e-04 - mean_squared_error: 0.0061 - rmse: 0.0529 - r_square: 0.1901 - val_loss: 8.0002e-04 - val_acc: 0.0000e+00 - val_mean_squared_error: 8.0002e-04 - val_rmse: 0.0240 - val_r_square: -0.4933\n",
      "Epoch 76/200\n",
      "1366/1366 [==============================] - 1s 791us/step - loss: 0.0060 - acc: 7.3206e-04 - mean_squared_error: 0.0060 - rmse: 0.0537 - r_square: 0.2426 - val_loss: 3.3795e-04 - val_acc: 0.0000e+00 - val_mean_squared_error: 3.3795e-04 - val_rmse: 0.0144 - val_r_square: 0.4095\n",
      "Epoch 77/200\n",
      "1366/1366 [==============================] - 1s 753us/step - loss: 0.0058 - acc: 7.3206e-04 - mean_squared_error: 0.0058 - rmse: 0.0520 - r_square: 0.2436 - val_loss: 5.3748e-04 - val_acc: 0.0000e+00 - val_mean_squared_error: 5.3748e-04 - val_rmse: 0.0187 - val_r_square: 0.0198\n",
      "Epoch 78/200\n",
      "1366/1366 [==============================] - 1s 721us/step - loss: 0.0057 - acc: 7.3206e-04 - mean_squared_error: 0.0057 - rmse: 0.0517 - r_square: 0.2659 - val_loss: 3.2055e-04 - val_acc: 0.0000e+00 - val_mean_squared_error: 3.2055e-04 - val_rmse: 0.0139 - val_r_square: 0.4341\n",
      "Epoch 79/200\n",
      "1366/1366 [==============================] - 1s 865us/step - loss: 0.0054 - acc: 7.3206e-04 - mean_squared_error: 0.0054 - rmse: 0.0509 - r_square: 0.3090 - val_loss: 3.1802e-04 - val_acc: 0.0000e+00 - val_mean_squared_error: 3.1802e-04 - val_rmse: 0.0138 - val_r_square: 0.4406\n",
      "Epoch 80/200\n",
      "1366/1366 [==============================] - 1s 1ms/step - loss: 0.0059 - acc: 7.3206e-04 - mean_squared_error: 0.0059 - rmse: 0.0528 - r_square: 0.2253 - val_loss: 4.2098e-04 - val_acc: 0.0000e+00 - val_mean_squared_error: 4.2098e-04 - val_rmse: 0.0160 - val_r_square: 0.2158\n",
      "Epoch 81/200\n",
      "1366/1366 [==============================] - 1s 862us/step - loss: 0.0058 - acc: 7.3206e-04 - mean_squared_error: 0.0058 - rmse: 0.0515 - r_square: 0.2816 - val_loss: 4.6077e-04 - val_acc: 0.0000e+00 - val_mean_squared_error: 4.6077e-04 - val_rmse: 0.0172 - val_r_square: 0.1532\n",
      "Epoch 82/200\n",
      "1366/1366 [==============================] - 1s 830us/step - loss: 0.0060 - acc: 7.3206e-04 - mean_squared_error: 0.0060 - rmse: 0.0525 - r_square: 0.2403 - val_loss: 3.7769e-04 - val_acc: 0.0000e+00 - val_mean_squared_error: 3.7769e-04 - val_rmse: 0.0152 - val_r_square: 0.3231\n",
      "Epoch 83/200\n",
      "1366/1366 [==============================] - 1s 783us/step - loss: 0.0057 - acc: 7.3206e-04 - mean_squared_error: 0.0057 - rmse: 0.0518 - r_square: 0.2314 - val_loss: 4.6197e-04 - val_acc: 0.0000e+00 - val_mean_squared_error: 4.6197e-04 - val_rmse: 0.0171 - val_r_square: 0.1705\n",
      "Epoch 84/200\n",
      "1366/1366 [==============================] - 1s 819us/step - loss: 0.0058 - acc: 7.3206e-04 - mean_squared_error: 0.0058 - rmse: 0.0527 - r_square: 0.2241 - val_loss: 4.4624e-04 - val_acc: 0.0000e+00 - val_mean_squared_error: 4.4624e-04 - val_rmse: 0.0168 - val_r_square: 0.1920\n",
      "Epoch 85/200\n"
     ]
    },
    {
     "name": "stdout",
     "output_type": "stream",
     "text": [
      "1366/1366 [==============================] - 1s 955us/step - loss: 0.0058 - acc: 7.3206e-04 - mean_squared_error: 0.0058 - rmse: 0.0529 - r_square: 0.2384 - val_loss: 3.4789e-04 - val_acc: 0.0000e+00 - val_mean_squared_error: 3.4789e-04 - val_rmse: 0.0143 - val_r_square: 0.3701\n",
      "Epoch 86/200\n",
      "1366/1366 [==============================] - 1s 921us/step - loss: 0.0057 - acc: 7.3206e-04 - mean_squared_error: 0.0057 - rmse: 0.0515 - r_square: 0.2627 - val_loss: 3.1912e-04 - val_acc: 0.0000e+00 - val_mean_squared_error: 3.1912e-04 - val_rmse: 0.0137 - val_r_square: 0.4312\n",
      "Epoch 87/200\n",
      "1366/1366 [==============================] - 1s 782us/step - loss: 0.0054 - acc: 7.3206e-04 - mean_squared_error: 0.0054 - rmse: 0.0509 - r_square: 0.3343 - val_loss: 3.5582e-04 - val_acc: 0.0000e+00 - val_mean_squared_error: 3.5582e-04 - val_rmse: 0.0147 - val_r_square: 0.3733\n",
      "Epoch 88/200\n",
      "1366/1366 [==============================] - 1s 680us/step - loss: 0.0057 - acc: 7.3206e-04 - mean_squared_error: 0.0057 - rmse: 0.0517 - r_square: 0.2621 - val_loss: 5.0514e-04 - val_acc: 0.0000e+00 - val_mean_squared_error: 5.0514e-04 - val_rmse: 0.0180 - val_r_square: 0.0869\n",
      "Epoch 89/200\n",
      "1366/1366 [==============================] - 1s 685us/step - loss: 0.0060 - acc: 7.3206e-04 - mean_squared_error: 0.0060 - rmse: 0.0524 - r_square: 0.1928 - val_loss: 4.9134e-04 - val_acc: 0.0000e+00 - val_mean_squared_error: 4.9134e-04 - val_rmse: 0.0177 - val_r_square: 0.1102\n",
      "Epoch 90/200\n",
      "1366/1366 [==============================] - 1s 695us/step - loss: 0.0059 - acc: 7.3206e-04 - mean_squared_error: 0.0059 - rmse: 0.0509 - r_square: 0.2615 - val_loss: 3.5558e-04 - val_acc: 0.0000e+00 - val_mean_squared_error: 3.5558e-04 - val_rmse: 0.0145 - val_r_square: 0.3556\n",
      "Epoch 91/200\n",
      "1366/1366 [==============================] - 1s 724us/step - loss: 0.0055 - acc: 7.3206e-04 - mean_squared_error: 0.0055 - rmse: 0.0513 - r_square: 0.2956 - val_loss: 6.3608e-04 - val_acc: 0.0000e+00 - val_mean_squared_error: 6.3608e-04 - val_rmse: 0.0208 - val_r_square: -0.1757\n",
      "Epoch 92/200\n",
      "1366/1366 [==============================] - 1s 778us/step - loss: 0.0058 - acc: 7.3206e-04 - mean_squared_error: 0.0058 - rmse: 0.0513 - r_square: 0.2725 - val_loss: 3.1165e-04 - val_acc: 0.0000e+00 - val_mean_squared_error: 3.1165e-04 - val_rmse: 0.0136 - val_r_square: 0.4427\n",
      "Epoch 93/200\n",
      "1366/1366 [==============================] - 1s 848us/step - loss: 0.0056 - acc: 7.3206e-04 - mean_squared_error: 0.0056 - rmse: 0.0503 - r_square: 0.2906 - val_loss: 3.1470e-04 - val_acc: 0.0000e+00 - val_mean_squared_error: 3.1470e-04 - val_rmse: 0.0137 - val_r_square: 0.4421\n",
      "Epoch 94/200\n",
      "1366/1366 [==============================] - 1s 883us/step - loss: 0.0054 - acc: 7.3206e-04 - mean_squared_error: 0.0054 - rmse: 0.0502 - r_square: 0.2868 - val_loss: 3.0735e-04 - val_acc: 0.0000e+00 - val_mean_squared_error: 3.0735e-04 - val_rmse: 0.0135 - val_r_square: 0.4495\n",
      "Epoch 95/200\n",
      "1366/1366 [==============================] - 1s 921us/step - loss: 0.0055 - acc: 7.3206e-04 - mean_squared_error: 0.0055 - rmse: 0.0505 - r_square: 0.2819 - val_loss: 3.3425e-04 - val_acc: 0.0000e+00 - val_mean_squared_error: 3.3425e-04 - val_rmse: 0.0140 - val_r_square: 0.3904\n",
      "Epoch 96/200\n",
      "1366/1366 [==============================] - 1s 909us/step - loss: 0.0055 - acc: 7.3206e-04 - mean_squared_error: 0.0055 - rmse: 0.0504 - r_square: 0.2926 - val_loss: 3.6089e-04 - val_acc: 0.0000e+00 - val_mean_squared_error: 3.6089e-04 - val_rmse: 0.0146 - val_r_square: 0.3304\n",
      "Epoch 97/200\n",
      "1366/1366 [==============================] - 1s 701us/step - loss: 0.0055 - acc: 7.3206e-04 - mean_squared_error: 0.0055 - rmse: 0.0505 - r_square: 0.3045 - val_loss: 3.0641e-04 - val_acc: 0.0000e+00 - val_mean_squared_error: 3.0641e-04 - val_rmse: 0.0135 - val_r_square: 0.4489\n",
      "Epoch 98/200\n",
      "1366/1366 [==============================] - 1s 712us/step - loss: 0.0055 - acc: 7.3206e-04 - mean_squared_error: 0.0055 - rmse: 0.0508 - r_square: 0.3206 - val_loss: 3.4835e-04 - val_acc: 0.0000e+00 - val_mean_squared_error: 3.4835e-04 - val_rmse: 0.0143 - val_r_square: 0.3568\n",
      "Epoch 99/200\n",
      "1366/1366 [==============================] - 1s 810us/step - loss: 0.0054 - acc: 7.3206e-04 - mean_squared_error: 0.0054 - rmse: 0.0494 - r_square: 0.3392 - val_loss: 4.0059e-04 - val_acc: 0.0000e+00 - val_mean_squared_error: 4.0059e-04 - val_rmse: 0.0158 - val_r_square: 0.2798\n",
      "Epoch 100/200\n",
      "1366/1366 [==============================] - 1s 1ms/step - loss: 0.0052 - acc: 7.3206e-04 - mean_squared_error: 0.0052 - rmse: 0.0490 - r_square: 0.3448 - val_loss: 3.6383e-04 - val_acc: 0.0000e+00 - val_mean_squared_error: 3.6383e-04 - val_rmse: 0.0150 - val_r_square: 0.3518\n",
      "Epoch 101/200\n",
      "1366/1366 [==============================] - 1s 811us/step - loss: 0.0055 - acc: 7.3206e-04 - mean_squared_error: 0.0055 - rmse: 0.0492 - r_square: 0.3038 - val_loss: 3.0060e-04 - val_acc: 0.0000e+00 - val_mean_squared_error: 3.0060e-04 - val_rmse: 0.0133 - val_r_square: 0.4605\n",
      "Epoch 102/200\n",
      "1366/1366 [==============================] - 1s 808us/step - loss: 0.0050 - acc: 7.3206e-04 - mean_squared_error: 0.0050 - rmse: 0.0485 - r_square: 0.3606 - val_loss: 3.5838e-04 - val_acc: 0.0000e+00 - val_mean_squared_error: 3.5838e-04 - val_rmse: 0.0146 - val_r_square: 0.3368\n",
      "Epoch 103/200\n",
      "1366/1366 [==============================] - 1s 745us/step - loss: 0.0053 - acc: 7.3206e-04 - mean_squared_error: 0.0053 - rmse: 0.0490 - r_square: 0.3173 - val_loss: 3.0624e-04 - val_acc: 0.0000e+00 - val_mean_squared_error: 3.0624e-04 - val_rmse: 0.0135 - val_r_square: 0.4563\n",
      "Epoch 104/200\n",
      "1366/1366 [==============================] - 1s 712us/step - loss: 0.0053 - acc: 7.3206e-04 - mean_squared_error: 0.0053 - rmse: 0.0493 - r_square: 0.3280 - val_loss: 3.1198e-04 - val_acc: 0.0000e+00 - val_mean_squared_error: 3.1198e-04 - val_rmse: 0.0135 - val_r_square: 0.4413\n",
      "Epoch 105/200\n",
      "1366/1366 [==============================] - 1s 690us/step - loss: 0.0056 - acc: 7.3206e-04 - mean_squared_error: 0.0056 - rmse: 0.0501 - r_square: 0.2791 - val_loss: 3.3143e-04 - val_acc: 0.0000e+00 - val_mean_squared_error: 3.3143e-04 - val_rmse: 0.0140 - val_r_square: 0.3968\n",
      "Epoch 106/200\n",
      "1366/1366 [==============================] - 1s 778us/step - loss: 0.0054 - acc: 7.3206e-04 - mean_squared_error: 0.0054 - rmse: 0.0498 - r_square: 0.2723 - val_loss: 3.4529e-04 - val_acc: 0.0000e+00 - val_mean_squared_error: 3.4529e-04 - val_rmse: 0.0145 - val_r_square: 0.3839\n",
      "Epoch 107/200\n",
      "1366/1366 [==============================] - 1s 732us/step - loss: 0.0052 - acc: 7.3206e-04 - mean_squared_error: 0.0052 - rmse: 0.0488 - r_square: 0.3099 - val_loss: 3.2896e-04 - val_acc: 0.0000e+00 - val_mean_squared_error: 3.2896e-04 - val_rmse: 0.0141 - val_r_square: 0.4097\n",
      "Epoch 108/200\n",
      "1366/1366 [==============================] - 1s 754us/step - loss: 0.0054 - acc: 7.3206e-04 - mean_squared_error: 0.0054 - rmse: 0.0493 - r_square: 0.3144 - val_loss: 3.3441e-04 - val_acc: 0.0000e+00 - val_mean_squared_error: 3.3441e-04 - val_rmse: 0.0141 - val_r_square: 0.3849\n",
      "Epoch 109/200\n",
      "1366/1366 [==============================] - 1s 754us/step - loss: 0.0053 - acc: 7.3206e-04 - mean_squared_error: 0.0053 - rmse: 0.0487 - r_square: 0.3217 - val_loss: 4.2418e-04 - val_acc: 0.0000e+00 - val_mean_squared_error: 4.2418e-04 - val_rmse: 0.0161 - val_r_square: 0.2015\n",
      "Epoch 110/200\n",
      "1366/1366 [==============================] - 1s 791us/step - loss: 0.0050 - acc: 7.3206e-04 - mean_squared_error: 0.0050 - rmse: 0.0488 - r_square: 0.3576 - val_loss: 4.7897e-04 - val_acc: 0.0000e+00 - val_mean_squared_error: 4.7897e-04 - val_rmse: 0.0175 - val_r_square: 0.1320\n",
      "Epoch 111/200\n",
      "1366/1366 [==============================] - 1s 705us/step - loss: 0.0053 - acc: 7.3206e-04 - mean_squared_error: 0.0053 - rmse: 0.0500 - r_square: 0.3276 - val_loss: 2.9401e-04 - val_acc: 0.0000e+00 - val_mean_squared_error: 2.9401e-04 - val_rmse: 0.0131 - val_r_square: 0.4706\n",
      "Epoch 112/200\n",
      "1366/1366 [==============================] - 1s 681us/step - loss: 0.0054 - acc: 7.3206e-04 - mean_squared_error: 0.0054 - rmse: 0.0493 - r_square: 0.3116 - val_loss: 4.0803e-04 - val_acc: 0.0000e+00 - val_mean_squared_error: 4.0803e-04 - val_rmse: 0.0160 - val_r_square: 0.2601\n",
      "Epoch 113/200\n"
     ]
    },
    {
     "name": "stdout",
     "output_type": "stream",
     "text": [
      "1366/1366 [==============================] - 1s 671us/step - loss: 0.0052 - acc: 7.3206e-04 - mean_squared_error: 0.0052 - rmse: 0.0489 - r_square: 0.3240 - val_loss: 3.1946e-04 - val_acc: 0.0000e+00 - val_mean_squared_error: 3.1946e-04 - val_rmse: 0.0137 - val_r_square: 0.4134\n",
      "Epoch 114/200\n",
      "1366/1366 [==============================] - 1s 675us/step - loss: 0.0055 - acc: 7.3206e-04 - mean_squared_error: 0.0055 - rmse: 0.0500 - r_square: 0.3294 - val_loss: 3.5796e-04 - val_acc: 0.0000e+00 - val_mean_squared_error: 3.5796e-04 - val_rmse: 0.0148 - val_r_square: 0.3481\n",
      "Epoch 115/200\n",
      "1366/1366 [==============================] - 1s 681us/step - loss: 0.0050 - acc: 7.3206e-04 - mean_squared_error: 0.0050 - rmse: 0.0475 - r_square: 0.3605 - val_loss: 2.9998e-04 - val_acc: 0.0000e+00 - val_mean_squared_error: 2.9998e-04 - val_rmse: 0.0134 - val_r_square: 0.4705\n",
      "Epoch 116/200\n",
      "1366/1366 [==============================] - 1s 729us/step - loss: 0.0051 - acc: 7.3206e-04 - mean_squared_error: 0.0051 - rmse: 0.0485 - r_square: 0.3369 - val_loss: 3.0302e-04 - val_acc: 0.0000e+00 - val_mean_squared_error: 3.0302e-04 - val_rmse: 0.0134 - val_r_square: 0.4426\n",
      "Epoch 117/200\n",
      "1366/1366 [==============================] - 1s 700us/step - loss: 0.0049 - acc: 7.3206e-04 - mean_squared_error: 0.0049 - rmse: 0.0475 - r_square: 0.3559 - val_loss: 2.9595e-04 - val_acc: 0.0000e+00 - val_mean_squared_error: 2.9595e-04 - val_rmse: 0.0131 - val_r_square: 0.4633\n",
      "Epoch 118/200\n",
      "1366/1366 [==============================] - 1s 684us/step - loss: 0.0050 - acc: 7.3206e-04 - mean_squared_error: 0.0050 - rmse: 0.0472 - r_square: 0.3831 - val_loss: 3.0109e-04 - val_acc: 0.0000e+00 - val_mean_squared_error: 3.0109e-04 - val_rmse: 0.0135 - val_r_square: 0.4669\n",
      "Epoch 119/200\n",
      "1366/1366 [==============================] - 1s 675us/step - loss: 0.0051 - acc: 7.3206e-04 - mean_squared_error: 0.0051 - rmse: 0.0481 - r_square: 0.3482 - val_loss: 3.0005e-04 - val_acc: 0.0000e+00 - val_mean_squared_error: 3.0005e-04 - val_rmse: 0.0132 - val_r_square: 0.4476\n",
      "Epoch 120/200\n",
      "1366/1366 [==============================] - 1s 800us/step - loss: 0.0050 - acc: 7.3206e-04 - mean_squared_error: 0.0050 - rmse: 0.0477 - r_square: 0.3787 - val_loss: 3.0934e-04 - val_acc: 0.0000e+00 - val_mean_squared_error: 3.0934e-04 - val_rmse: 0.0136 - val_r_square: 0.4422\n",
      "Epoch 121/200\n",
      "1366/1366 [==============================] - 1s 826us/step - loss: 0.0049 - acc: 7.3206e-04 - mean_squared_error: 0.0049 - rmse: 0.0481 - r_square: 0.3706 - val_loss: 2.8718e-04 - val_acc: 0.0000e+00 - val_mean_squared_error: 2.8718e-04 - val_rmse: 0.0130 - val_r_square: 0.4859\n",
      "Epoch 122/200\n",
      "1366/1366 [==============================] - 1s 862us/step - loss: 0.0052 - acc: 7.3206e-04 - mean_squared_error: 0.0052 - rmse: 0.0478 - r_square: 0.2968 - val_loss: 2.9325e-04 - val_acc: 0.0000e+00 - val_mean_squared_error: 2.9325e-04 - val_rmse: 0.0131 - val_r_square: 0.4805\n",
      "Epoch 123/200\n",
      "1366/1366 [==============================] - 1s 988us/step - loss: 0.0049 - acc: 7.3206e-04 - mean_squared_error: 0.0049 - rmse: 0.0475 - r_square: 0.3629 - val_loss: 2.8591e-04 - val_acc: 0.0000e+00 - val_mean_squared_error: 2.8591e-04 - val_rmse: 0.0129 - val_r_square: 0.4824\n",
      "Epoch 124/200\n",
      "1366/1366 [==============================] - 1s 849us/step - loss: 0.0046 - acc: 7.3206e-04 - mean_squared_error: 0.0046 - rmse: 0.0459 - r_square: 0.3915 - val_loss: 3.1186e-04 - val_acc: 0.0000e+00 - val_mean_squared_error: 3.1186e-04 - val_rmse: 0.0134 - val_r_square: 0.4282acc: 7.3529e-04 - mean_squared_error: 0.0046 - rmse: 0.0460 - r_square: 0.39\n",
      "Epoch 125/200\n",
      "1366/1366 [==============================] - 1s 785us/step - loss: 0.0049 - acc: 7.3206e-04 - mean_squared_error: 0.0049 - rmse: 0.0464 - r_square: 0.3363 - val_loss: 2.9888e-04 - val_acc: 0.0000e+00 - val_mean_squared_error: 2.9888e-04 - val_rmse: 0.0134 - val_r_square: 0.4713\n",
      "Epoch 126/200\n",
      "1366/1366 [==============================] - 1s 776us/step - loss: 0.0047 - acc: 7.3206e-04 - mean_squared_error: 0.0047 - rmse: 0.0459 - r_square: 0.4037 - val_loss: 2.6281e-04 - val_acc: 0.0000e+00 - val_mean_squared_error: 2.6281e-04 - val_rmse: 0.0122 - val_r_square: 0.5331\n",
      "Epoch 127/200\n",
      "1366/1366 [==============================] - 1s 766us/step - loss: 0.0045 - acc: 7.3206e-04 - mean_squared_error: 0.0045 - rmse: 0.0450 - r_square: 0.4249 - val_loss: 3.9786e-04 - val_acc: 0.0000e+00 - val_mean_squared_error: 3.9786e-04 - val_rmse: 0.0157 - val_r_square: 0.2444\n",
      "Epoch 128/200\n",
      "1366/1366 [==============================] - 1s 784us/step - loss: 0.0046 - acc: 7.3206e-04 - mean_squared_error: 0.0046 - rmse: 0.0472 - r_square: 0.4039 - val_loss: 2.4189e-04 - val_acc: 0.0000e+00 - val_mean_squared_error: 2.4189e-04 - val_rmse: 0.0115 - val_r_square: 0.5661\n",
      "Epoch 129/200\n",
      "1366/1366 [==============================] - 1s 822us/step - loss: 0.0043 - acc: 7.3206e-04 - mean_squared_error: 0.0043 - rmse: 0.0454 - r_square: 0.4399 - val_loss: 2.8158e-04 - val_acc: 0.0000e+00 - val_mean_squared_error: 2.8158e-04 - val_rmse: 0.0128 - val_r_square: 0.4902\n",
      "Epoch 130/200\n",
      "1366/1366 [==============================] - 1s 873us/step - loss: 0.0044 - acc: 7.3206e-04 - mean_squared_error: 0.0044 - rmse: 0.0454 - r_square: 0.4100 - val_loss: 2.5123e-04 - val_acc: 0.0000e+00 - val_mean_squared_error: 2.5123e-04 - val_rmse: 0.0119 - val_r_square: 0.5586\n",
      "Epoch 131/200\n",
      "1366/1366 [==============================] - 1s 827us/step - loss: 0.0045 - acc: 7.3206e-04 - mean_squared_error: 0.0045 - rmse: 0.0452 - r_square: 0.4237 - val_loss: 3.2921e-04 - val_acc: 0.0000e+00 - val_mean_squared_error: 3.2921e-04 - val_rmse: 0.0142 - val_r_square: 0.4201\n",
      "Epoch 132/200\n",
      "1366/1366 [==============================] - 1s 856us/step - loss: 0.0047 - acc: 7.3206e-04 - mean_squared_error: 0.0047 - rmse: 0.0458 - r_square: 0.4125 - val_loss: 2.7135e-04 - val_acc: 0.0000e+00 - val_mean_squared_error: 2.7135e-04 - val_rmse: 0.0124 - val_r_square: 0.5118\n",
      "Epoch 133/200\n",
      "1366/1366 [==============================] - 1s 830us/step - loss: 0.0042 - acc: 7.3206e-04 - mean_squared_error: 0.0042 - rmse: 0.0442 - r_square: 0.4130 - val_loss: 3.5065e-04 - val_acc: 0.0000e+00 - val_mean_squared_error: 3.5065e-04 - val_rmse: 0.0148 - val_r_square: 0.3691\n",
      "Epoch 134/200\n",
      "1366/1366 [==============================] - 1s 803us/step - loss: 0.0042 - acc: 7.3206e-04 - mean_squared_error: 0.0042 - rmse: 0.0434 - r_square: 0.4346 - val_loss: 3.6336e-04 - val_acc: 0.0000e+00 - val_mean_squared_error: 3.6336e-04 - val_rmse: 0.0151 - val_r_square: 0.3479\n",
      "Epoch 135/200\n",
      "1366/1366 [==============================] - 1s 860us/step - loss: 0.0043 - acc: 7.3206e-04 - mean_squared_error: 0.0043 - rmse: 0.0445 - r_square: 0.4305 - val_loss: 2.6648e-04 - val_acc: 0.0000e+00 - val_mean_squared_error: 2.6648e-04 - val_rmse: 0.0124 - val_r_square: 0.5159\n",
      "Epoch 136/200\n",
      "1366/1366 [==============================] - 1s 892us/step - loss: 0.0042 - acc: 7.3206e-04 - mean_squared_error: 0.0042 - rmse: 0.0431 - r_square: 0.4460 - val_loss: 2.8918e-04 - val_acc: 0.0000e+00 - val_mean_squared_error: 2.8918e-04 - val_rmse: 0.0130 - val_r_square: 0.4893\n",
      "Epoch 137/200\n",
      "1366/1366 [==============================] - 1s 1ms/step - loss: 0.0043 - acc: 7.3206e-04 - mean_squared_error: 0.0043 - rmse: 0.0437 - r_square: 0.4483 - val_loss: 2.4625e-04 - val_acc: 0.0000e+00 - val_mean_squared_error: 2.4625e-04 - val_rmse: 0.0116 - val_r_square: 0.5755\n",
      "Epoch 138/200\n",
      "1366/1366 [==============================] - 1s 949us/step - loss: 0.0042 - acc: 7.3206e-04 - mean_squared_error: 0.0042 - rmse: 0.0437 - r_square: 0.4383 - val_loss: 2.3957e-04 - val_acc: 0.0000e+00 - val_mean_squared_error: 2.3957e-04 - val_rmse: 0.0114 - val_r_square: 0.5787\n",
      "Epoch 139/200\n",
      "1366/1366 [==============================] - 1s 1ms/step - loss: 0.0039 - acc: 7.3206e-04 - mean_squared_error: 0.0039 - rmse: 0.0429 - r_square: 0.4276 - val_loss: 2.3474e-04 - val_acc: 0.0000e+00 - val_mean_squared_error: 2.3474e-04 - val_rmse: 0.0113 - val_r_square: 0.5875\n",
      "Epoch 140/200\n",
      "1366/1366 [==============================] - 1s 993us/step - loss: 0.0043 - acc: 7.3206e-04 - mean_squared_error: 0.0043 - rmse: 0.0449 - r_square: 0.4331 - val_loss: 2.4818e-04 - val_acc: 0.0000e+00 - val_mean_squared_error: 2.4818e-04 - val_rmse: 0.0117 - val_r_square: 0.5538\n"
     ]
    },
    {
     "name": "stdout",
     "output_type": "stream",
     "text": [
      "Epoch 141/200\n",
      "1366/1366 [==============================] - 1s 970us/step - loss: 0.0045 - acc: 7.3206e-04 - mean_squared_error: 0.0045 - rmse: 0.0442 - r_square: 0.4422 - val_loss: 2.6135e-04 - val_acc: 0.0000e+00 - val_mean_squared_error: 2.6135e-04 - val_rmse: 0.0121 - val_r_square: 0.5274\n",
      "Epoch 142/200\n",
      "1366/1366 [==============================] - 1s 940us/step - loss: 0.0042 - acc: 7.3206e-04 - mean_squared_error: 0.0042 - rmse: 0.0440 - r_square: 0.4310 - val_loss: 3.9052e-04 - val_acc: 0.0000e+00 - val_mean_squared_error: 3.9052e-04 - val_rmse: 0.0156 - val_r_square: 0.2574\n",
      "Epoch 143/200\n",
      "1366/1366 [==============================] - 1s 916us/step - loss: 0.0040 - acc: 7.3206e-04 - mean_squared_error: 0.0040 - rmse: 0.0426 - r_square: 0.4938 - val_loss: 2.4540e-04 - val_acc: 0.0000e+00 - val_mean_squared_error: 2.4540e-04 - val_rmse: 0.0116 - val_r_square: 0.5705\n",
      "Epoch 144/200\n",
      "1366/1366 [==============================] - 1s 1ms/step - loss: 0.0043 - acc: 7.3206e-04 - mean_squared_error: 0.0043 - rmse: 0.0437 - r_square: 0.4744 - val_loss: 2.6373e-04 - val_acc: 0.0000e+00 - val_mean_squared_error: 2.6373e-04 - val_rmse: 0.0121 - val_r_square: 0.5209\n",
      "Epoch 145/200\n",
      "1366/1366 [==============================] - 1s 1ms/step - loss: 0.0039 - acc: 7.3206e-04 - mean_squared_error: 0.0039 - rmse: 0.0424 - r_square: 0.4960 - val_loss: 2.4665e-04 - val_acc: 0.0000e+00 - val_mean_squared_error: 2.4665e-04 - val_rmse: 0.0116 - val_r_square: 0.5772\n",
      "Epoch 146/200\n",
      "1366/1366 [==============================] - 1s 1ms/step - loss: 0.0038 - acc: 7.3206e-04 - mean_squared_error: 0.0038 - rmse: 0.0424 - r_square: 0.4960 - val_loss: 2.5060e-04 - val_acc: 0.0000e+00 - val_mean_squared_error: 2.5060e-04 - val_rmse: 0.0118 - val_r_square: 0.5483\n",
      "Epoch 147/200\n",
      "1366/1366 [==============================] - 1s 1ms/step - loss: 0.0039 - acc: 7.3206e-04 - mean_squared_error: 0.0039 - rmse: 0.0423 - r_square: 0.4969 - val_loss: 2.4614e-04 - val_acc: 0.0000e+00 - val_mean_squared_error: 2.4614e-04 - val_rmse: 0.0117 - val_r_square: 0.5577\n",
      "Epoch 148/200\n",
      "1366/1366 [==============================] - 1s 969us/step - loss: 0.0040 - acc: 7.3206e-04 - mean_squared_error: 0.0040 - rmse: 0.0434 - r_square: 0.4816 - val_loss: 2.3034e-04 - val_acc: 0.0000e+00 - val_mean_squared_error: 2.3034e-04 - val_rmse: 0.0110 - val_r_square: 0.5898\n",
      "Epoch 149/200\n",
      "1366/1366 [==============================] - 1s 1ms/step - loss: 0.0039 - acc: 7.3206e-04 - mean_squared_error: 0.0039 - rmse: 0.0421 - r_square: 0.4870 - val_loss: 2.5966e-04 - val_acc: 0.0000e+00 - val_mean_squared_error: 2.5966e-04 - val_rmse: 0.0122 - val_r_square: 0.5485\n",
      "Epoch 150/200\n",
      "1366/1366 [==============================] - 1s 1ms/step - loss: 0.0040 - acc: 7.3206e-04 - mean_squared_error: 0.0040 - rmse: 0.0422 - r_square: 0.4655 - val_loss: 2.4109e-04 - val_acc: 0.0000e+00 - val_mean_squared_error: 2.4109e-04 - val_rmse: 0.0113 - val_r_square: 0.5800\n",
      "Epoch 151/200\n",
      "1366/1366 [==============================] - 1s 1ms/step - loss: 0.0039 - acc: 7.3206e-04 - mean_squared_error: 0.0039 - rmse: 0.0430 - r_square: 0.4993 - val_loss: 2.7097e-04 - val_acc: 0.0000e+00 - val_mean_squared_error: 2.7097e-04 - val_rmse: 0.0124 - val_r_square: 0.5241\n",
      "Epoch 152/200\n",
      "1366/1366 [==============================] - 1s 1ms/step - loss: 0.0042 - acc: 7.3206e-04 - mean_squared_error: 0.0042 - rmse: 0.0429 - r_square: 0.4637 - val_loss: 2.5369e-04 - val_acc: 0.0000e+00 - val_mean_squared_error: 2.5369e-04 - val_rmse: 0.0119 - val_r_square: 0.5669\n",
      "Epoch 153/200\n",
      "1366/1366 [==============================] - 1s 963us/step - loss: 0.0040 - acc: 7.3206e-04 - mean_squared_error: 0.0040 - rmse: 0.0429 - r_square: 0.4663 - val_loss: 2.4336e-04 - val_acc: 0.0000e+00 - val_mean_squared_error: 2.4336e-04 - val_rmse: 0.0114 - val_r_square: 0.5746\n",
      "Epoch 154/200\n",
      "1366/1366 [==============================] - 1s 904us/step - loss: 0.0038 - acc: 7.3206e-04 - mean_squared_error: 0.0038 - rmse: 0.0418 - r_square: 0.5074 - val_loss: 2.2705e-04 - val_acc: 0.0000e+00 - val_mean_squared_error: 2.2705e-04 - val_rmse: 0.0109 - val_r_square: 0.6023\n",
      "Epoch 155/200\n",
      "1366/1366 [==============================] - 1s 985us/step - loss: 0.0040 - acc: 7.3206e-04 - mean_squared_error: 0.0040 - rmse: 0.0418 - r_square: 0.4986 - val_loss: 2.6513e-04 - val_acc: 0.0000e+00 - val_mean_squared_error: 2.6513e-04 - val_rmse: 0.0122 - val_r_square: 0.5118\n",
      "Epoch 156/200\n",
      "1366/1366 [==============================] - 1s 993us/step - loss: 0.0041 - acc: 7.3206e-04 - mean_squared_error: 0.0041 - rmse: 0.0423 - r_square: 0.4504 - val_loss: 2.3429e-04 - val_acc: 0.0000e+00 - val_mean_squared_error: 2.3429e-04 - val_rmse: 0.0112 - val_r_square: 0.5774\n",
      "Epoch 157/200\n",
      "1366/1366 [==============================] - 1s 997us/step - loss: 0.0038 - acc: 7.3206e-04 - mean_squared_error: 0.0038 - rmse: 0.0418 - r_square: 0.5111 - val_loss: 2.5608e-04 - val_acc: 0.0000e+00 - val_mean_squared_error: 2.5608e-04 - val_rmse: 0.0119 - val_r_square: 0.5552\n",
      "Epoch 158/200\n",
      "1366/1366 [==============================] - 1s 1ms/step - loss: 0.0042 - acc: 7.3206e-04 - mean_squared_error: 0.0042 - rmse: 0.0433 - r_square: 0.4641 - val_loss: 3.0322e-04 - val_acc: 0.0000e+00 - val_mean_squared_error: 3.0322e-04 - val_rmse: 0.0133 - val_r_square: 0.4378\n",
      "Epoch 159/200\n",
      "1366/1366 [==============================] - 1s 984us/step - loss: 0.0039 - acc: 7.3206e-04 - mean_squared_error: 0.0039 - rmse: 0.0421 - r_square: 0.4698 - val_loss: 2.3679e-04 - val_acc: 0.0000e+00 - val_mean_squared_error: 2.3679e-04 - val_rmse: 0.0113 - val_r_square: 0.5818\n",
      "Epoch 160/200\n",
      "1366/1366 [==============================] - 1s 999us/step - loss: 0.0038 - acc: 7.3206e-04 - mean_squared_error: 0.0038 - rmse: 0.0414 - r_square: 0.5250 - val_loss: 2.2780e-04 - val_acc: 0.0000e+00 - val_mean_squared_error: 2.2780e-04 - val_rmse: 0.0109 - val_r_square: 0.5946\n",
      "Epoch 161/200\n",
      "1366/1366 [==============================] - 1s 955us/step - loss: 0.0040 - acc: 7.3206e-04 - mean_squared_error: 0.0040 - rmse: 0.0427 - r_square: 0.5018 - val_loss: 2.6434e-04 - val_acc: 0.0000e+00 - val_mean_squared_error: 2.6434e-04 - val_rmse: 0.0122 - val_r_square: 0.5147\n",
      "Epoch 162/200\n",
      "1366/1366 [==============================] - 1s 956us/step - loss: 0.0036 - acc: 7.3206e-04 - mean_squared_error: 0.0036 - rmse: 0.0410 - r_square: 0.5309 - val_loss: 2.3250e-04 - val_acc: 0.0000e+00 - val_mean_squared_error: 2.3250e-04 - val_rmse: 0.0111 - val_r_square: 0.5931\n",
      "Epoch 163/200\n",
      "1366/1366 [==============================] - 1s 993us/step - loss: 0.0038 - acc: 7.3206e-04 - mean_squared_error: 0.0038 - rmse: 0.0411 - r_square: 0.5139 - val_loss: 2.3000e-04 - val_acc: 0.0000e+00 - val_mean_squared_error: 2.3000e-04 - val_rmse: 0.0110 - val_r_square: 0.5908\n",
      "Epoch 164/200\n",
      "1366/1366 [==============================] - 1s 985us/step - loss: 0.0036 - acc: 7.3206e-04 - mean_squared_error: 0.0036 - rmse: 0.0420 - r_square: 0.4964 - val_loss: 2.5009e-04 - val_acc: 0.0000e+00 - val_mean_squared_error: 2.5009e-04 - val_rmse: 0.0117 - val_r_square: 0.5512\n",
      "Epoch 165/200\n",
      "1366/1366 [==============================] - 1s 967us/step - loss: 0.0038 - acc: 7.3206e-04 - mean_squared_error: 0.0038 - rmse: 0.0413 - r_square: 0.5149 - val_loss: 2.9560e-04 - val_acc: 0.0000e+00 - val_mean_squared_error: 2.9560e-04 - val_rmse: 0.0132 - val_r_square: 0.4709\n",
      "Epoch 166/200\n",
      "1366/1366 [==============================] - 1s 919us/step - loss: 0.0039 - acc: 7.3206e-04 - mean_squared_error: 0.0039 - rmse: 0.0431 - r_square: 0.4337 - val_loss: 2.3829e-04 - val_acc: 0.0000e+00 - val_mean_squared_error: 2.3829e-04 - val_rmse: 0.0112 - val_r_square: 0.5819\n",
      "Epoch 167/200\n",
      "1366/1366 [==============================] - 1s 987us/step - loss: 0.0039 - acc: 7.3206e-04 - mean_squared_error: 0.0039 - rmse: 0.0408 - r_square: 0.4781 - val_loss: 2.7421e-04 - val_acc: 0.0000e+00 - val_mean_squared_error: 2.7421e-04 - val_rmse: 0.0124 - val_r_square: 0.4999\n",
      "Epoch 168/200\n",
      "1366/1366 [==============================] - 1s 943us/step - loss: 0.0040 - acc: 7.3206e-04 - mean_squared_error: 0.0040 - rmse: 0.0425 - r_square: 0.4802 - val_loss: 2.4110e-04 - val_acc: 0.0000e+00 - val_mean_squared_error: 2.4110e-04 - val_rmse: 0.0114 - val_r_square: 0.5853\n",
      "Epoch 169/200\n"
     ]
    },
    {
     "name": "stdout",
     "output_type": "stream",
     "text": [
      "1366/1366 [==============================] - 1s 982us/step - loss: 0.0038 - acc: 7.3206e-04 - mean_squared_error: 0.0038 - rmse: 0.0420 - r_square: 0.4988 - val_loss: 2.3416e-04 - val_acc: 0.0000e+00 - val_mean_squared_error: 2.3416e-04 - val_rmse: 0.0112 - val_r_square: 0.5860\n",
      "Epoch 170/200\n",
      "1366/1366 [==============================] - 1s 1ms/step - loss: 0.0039 - acc: 7.3206e-04 - mean_squared_error: 0.0039 - rmse: 0.0425 - r_square: 0.4808 - val_loss: 3.6034e-04 - val_acc: 0.0000e+00 - val_mean_squared_error: 3.6034e-04 - val_rmse: 0.0149 - val_r_square: 0.3143\n",
      "Epoch 171/200\n",
      "1366/1366 [==============================] - 1s 995us/step - loss: 0.0038 - acc: 7.3206e-04 - mean_squared_error: 0.0038 - rmse: 0.0412 - r_square: 0.5016 - val_loss: 2.6096e-04 - val_acc: 0.0000e+00 - val_mean_squared_error: 2.6096e-04 - val_rmse: 0.0121 - val_r_square: 0.5270\n",
      "Epoch 172/200\n",
      "1366/1366 [==============================] - 1s 1ms/step - loss: 0.0040 - acc: 7.3206e-04 - mean_squared_error: 0.0040 - rmse: 0.0418 - r_square: 0.4761 - val_loss: 2.2434e-04 - val_acc: 0.0000e+00 - val_mean_squared_error: 2.2434e-04 - val_rmse: 0.0110 - val_r_square: 0.5981\n",
      "Epoch 173/200\n",
      "1366/1366 [==============================] - 1s 1ms/step - loss: 0.0037 - acc: 7.3206e-04 - mean_squared_error: 0.0037 - rmse: 0.0413 - r_square: 0.5432 - val_loss: 2.4530e-04 - val_acc: 0.0000e+00 - val_mean_squared_error: 2.4530e-04 - val_rmse: 0.0116 - val_r_square: 0.5730\n",
      "Epoch 174/200\n",
      "1366/1366 [==============================] - 1s 973us/step - loss: 0.0038 - acc: 7.3206e-04 - mean_squared_error: 0.0038 - rmse: 0.0407 - r_square: 0.4982 - val_loss: 2.4213e-04 - val_acc: 0.0000e+00 - val_mean_squared_error: 2.4213e-04 - val_rmse: 0.0114 - val_r_square: 0.5735\n",
      "Epoch 175/200\n",
      "1366/1366 [==============================] - 1s 1ms/step - loss: 0.0038 - acc: 7.3206e-04 - mean_squared_error: 0.0038 - rmse: 0.0411 - r_square: 0.5020 - val_loss: 2.4611e-04 - val_acc: 0.0000e+00 - val_mean_squared_error: 2.4611e-04 - val_rmse: 0.0116 - val_r_square: 0.5579\n",
      "Epoch 176/200\n",
      "1366/1366 [==============================] - 1s 986us/step - loss: 0.0038 - acc: 7.3206e-04 - mean_squared_error: 0.0038 - rmse: 0.0414 - r_square: 0.5031 - val_loss: 2.3476e-04 - val_acc: 0.0000e+00 - val_mean_squared_error: 2.3476e-04 - val_rmse: 0.0112 - val_r_square: 0.5850\n",
      "Epoch 177/200\n",
      "1366/1366 [==============================] - 1s 1ms/step - loss: 0.0034 - acc: 7.3206e-04 - mean_squared_error: 0.0034 - rmse: 0.0399 - r_square: 0.5484 - val_loss: 2.4682e-04 - val_acc: 0.0000e+00 - val_mean_squared_error: 2.4682e-04 - val_rmse: 0.0115 - val_r_square: 0.5706\n",
      "Epoch 178/200\n",
      "1366/1366 [==============================] - 1s 1ms/step - loss: 0.0038 - acc: 7.3206e-04 - mean_squared_error: 0.0038 - rmse: 0.0411 - r_square: 0.5292 - val_loss: 2.9926e-04 - val_acc: 0.0000e+00 - val_mean_squared_error: 2.9926e-04 - val_rmse: 0.0133 - val_r_square: 0.4690\n",
      "Epoch 179/200\n",
      "1366/1366 [==============================] - 1s 1ms/step - loss: 0.0038 - acc: 7.3206e-04 - mean_squared_error: 0.0038 - rmse: 0.0406 - r_square: 0.5115 - val_loss: 2.5356e-04 - val_acc: 0.0000e+00 - val_mean_squared_error: 2.5356e-04 - val_rmse: 0.0119 - val_r_square: 0.5516\n",
      "Epoch 180/200\n",
      "1366/1366 [==============================] - 1s 992us/step - loss: 0.0034 - acc: 7.3206e-04 - mean_squared_error: 0.0034 - rmse: 0.0396 - r_square: 0.5413 - val_loss: 2.5968e-04 - val_acc: 0.0000e+00 - val_mean_squared_error: 2.5968e-04 - val_rmse: 0.0121 - val_r_square: 0.5340\n",
      "Epoch 181/200\n",
      "1366/1366 [==============================] - 1s 1ms/step - loss: 0.0034 - acc: 7.3206e-04 - mean_squared_error: 0.0034 - rmse: 0.0400 - r_square: 0.5605 - val_loss: 3.5192e-04 - val_acc: 0.0000e+00 - val_mean_squared_error: 3.5192e-04 - val_rmse: 0.0147 - val_r_square: 0.3349\n",
      "Epoch 182/200\n",
      "1366/1366 [==============================] - 1s 985us/step - loss: 0.0036 - acc: 7.3206e-04 - mean_squared_error: 0.0036 - rmse: 0.0400 - r_square: 0.5332 - val_loss: 2.3940e-04 - val_acc: 0.0000e+00 - val_mean_squared_error: 2.3940e-04 - val_rmse: 0.0111 - val_r_square: 0.5825\n",
      "Epoch 183/200\n",
      "1366/1366 [==============================] - 1s 1ms/step - loss: 0.0037 - acc: 7.3206e-04 - mean_squared_error: 0.0037 - rmse: 0.0408 - r_square: 0.5092 - val_loss: 2.4536e-04 - val_acc: 0.0000e+00 - val_mean_squared_error: 2.4536e-04 - val_rmse: 0.0117 - val_r_square: 0.5535\n",
      "Epoch 184/200\n",
      "1366/1366 [==============================] - 1s 1ms/step - loss: 0.0036 - acc: 7.3206e-04 - mean_squared_error: 0.0036 - rmse: 0.0405 - r_square: 0.5004 - val_loss: 2.5862e-04 - val_acc: 0.0000e+00 - val_mean_squared_error: 2.5862e-04 - val_rmse: 0.0121 - val_r_square: 0.5265\n",
      "Epoch 185/200\n",
      "1366/1366 [==============================] - 1s 983us/step - loss: 0.0036 - acc: 7.3206e-04 - mean_squared_error: 0.0036 - rmse: 0.0406 - r_square: 0.5104 - val_loss: 2.2801e-04 - val_acc: 0.0000e+00 - val_mean_squared_error: 2.2801e-04 - val_rmse: 0.0108 - val_r_square: 0.6013\n",
      "Epoch 186/200\n",
      "1366/1366 [==============================] - 1s 1ms/step - loss: 0.0035 - acc: 7.3206e-04 - mean_squared_error: 0.0035 - rmse: 0.0400 - r_square: 0.5363 - val_loss: 3.0288e-04 - val_acc: 0.0000e+00 - val_mean_squared_error: 3.0288e-04 - val_rmse: 0.0133 - val_r_square: 0.4583\n",
      "Epoch 187/200\n",
      "1366/1366 [==============================] - 1s 882us/step - loss: 0.0036 - acc: 7.3206e-04 - mean_squared_error: 0.0036 - rmse: 0.0400 - r_square: 0.5196 - val_loss: 2.3155e-04 - val_acc: 0.0000e+00 - val_mean_squared_error: 2.3155e-04 - val_rmse: 0.0110 - val_r_square: 0.5983\n",
      "Epoch 188/200\n",
      "1366/1366 [==============================] - 1s 971us/step - loss: 0.0037 - acc: 7.3206e-04 - mean_squared_error: 0.0037 - rmse: 0.0407 - r_square: 0.5290 - val_loss: 2.3125e-04 - val_acc: 0.0000e+00 - val_mean_squared_error: 2.3125e-04 - val_rmse: 0.0110 - val_r_square: 0.5883\n",
      "Epoch 189/200\n",
      "1366/1366 [==============================] - 1s 993us/step - loss: 0.0034 - acc: 7.3206e-04 - mean_squared_error: 0.0034 - rmse: 0.0401 - r_square: 0.5476 - val_loss: 2.2360e-04 - val_acc: 0.0000e+00 - val_mean_squared_error: 2.2360e-04 - val_rmse: 0.0107 - val_r_square: 0.6052\n",
      "Epoch 190/200\n",
      "1366/1366 [==============================] - 1s 915us/step - loss: 0.0036 - acc: 7.3206e-04 - mean_squared_error: 0.0036 - rmse: 0.0399 - r_square: 0.5495 - val_loss: 3.2637e-04 - val_acc: 0.0000e+00 - val_mean_squared_error: 3.2637e-04 - val_rmse: 0.0140 - val_r_square: 0.4083\n",
      "Epoch 191/200\n",
      "1366/1366 [==============================] - 1s 902us/step - loss: 0.0034 - acc: 7.3206e-04 - mean_squared_error: 0.0034 - rmse: 0.0389 - r_square: 0.5454 - val_loss: 2.3446e-04 - val_acc: 0.0000e+00 - val_mean_squared_error: 2.3446e-04 - val_rmse: 0.0110 - val_r_square: 0.5945\n",
      "Epoch 192/200\n",
      "1366/1366 [==============================] - 1s 935us/step - loss: 0.0038 - acc: 7.3206e-04 - mean_squared_error: 0.0038 - rmse: 0.0407 - r_square: 0.4929 - val_loss: 2.2683e-04 - val_acc: 0.0000e+00 - val_mean_squared_error: 2.2683e-04 - val_rmse: 0.0109 - val_r_square: 0.6004\n",
      "Epoch 193/200\n",
      "1366/1366 [==============================] - 1s 976us/step - loss: 0.0037 - acc: 7.3206e-04 - mean_squared_error: 0.0037 - rmse: 0.0400 - r_square: 0.5216 - val_loss: 2.6788e-04 - val_acc: 0.0000e+00 - val_mean_squared_error: 2.6788e-04 - val_rmse: 0.0123 - val_r_square: 0.5111\n",
      "Epoch 194/200\n",
      "1366/1366 [==============================] - 1s 878us/step - loss: 0.0035 - acc: 7.3206e-04 - mean_squared_error: 0.0035 - rmse: 0.0410 - r_square: 0.5532 - val_loss: 2.3574e-04 - val_acc: 0.0000e+00 - val_mean_squared_error: 2.3574e-04 - val_rmse: 0.0113 - val_r_square: 0.5799\n",
      "Epoch 195/200\n",
      "1366/1366 [==============================] - 1s 924us/step - loss: 0.0035 - acc: 7.3206e-04 - mean_squared_error: 0.0035 - rmse: 0.0395 - r_square: 0.5431 - val_loss: 2.3693e-04 - val_acc: 0.0000e+00 - val_mean_squared_error: 2.3693e-04 - val_rmse: 0.0110 - val_r_square: 0.5891\n",
      "Epoch 196/200\n",
      "1366/1366 [==============================] - 1s 963us/step - loss: 0.0036 - acc: 7.3206e-04 - mean_squared_error: 0.0036 - rmse: 0.0408 - r_square: 0.5269 - val_loss: 2.3677e-04 - val_acc: 0.0000e+00 - val_mean_squared_error: 2.3677e-04 - val_rmse: 0.0113 - val_r_square: 0.5772\n",
      "Epoch 197/200\n"
     ]
    },
    {
     "name": "stdout",
     "output_type": "stream",
     "text": [
      "1366/1366 [==============================] - 1s 891us/step - loss: 0.0035 - acc: 7.3206e-04 - mean_squared_error: 0.0035 - rmse: 0.0394 - r_square: 0.5590 - val_loss: 2.7801e-04 - val_acc: 0.0000e+00 - val_mean_squared_error: 2.7801e-04 - val_rmse: 0.0127 - val_r_square: 0.4897\n",
      "Epoch 198/200\n",
      "1366/1366 [==============================] - 1s 835us/step - loss: 0.0034 - acc: 7.3206e-04 - mean_squared_error: 0.0034 - rmse: 0.0398 - r_square: 0.5669 - val_loss: 2.2360e-04 - val_acc: 0.0000e+00 - val_mean_squared_error: 2.2360e-04 - val_rmse: 0.0107 - val_r_square: 0.6065\n",
      "Epoch 199/200\n",
      "1366/1366 [==============================] - 1s 836us/step - loss: 0.0036 - acc: 7.3206e-04 - mean_squared_error: 0.0036 - rmse: 0.0401 - r_square: 0.5125 - val_loss: 2.3335e-04 - val_acc: 0.0000e+00 - val_mean_squared_error: 2.3335e-04 - val_rmse: 0.0109 - val_r_square: 0.5968\n",
      "Epoch 200/200\n",
      "1366/1366 [==============================] - 1s 825us/step - loss: 0.0034 - acc: 7.3206e-04 - mean_squared_error: 0.0034 - rmse: 0.0391 - r_square: 0.5414 - val_loss: 3.0206e-04 - val_acc: 0.0000e+00 - val_mean_squared_error: 3.0206e-04 - val_rmse: 0.0133 - val_r_square: 0.4621\n"
     ]
    },
    {
     "data": {
      "image/png": "[encoded data removed]",
      "text/plain": [
       "<Figure size 432x288 with 1 Axes>"
      ]
     },
     "metadata": {},
     "output_type": "display_data"
    },
    {
     "data": {
      "image/png": "[encoded data removed]",
      "text/plain": [
       "<Figure size 432x288 with 1 Axes>"
      ]
     },
     "metadata": {},
     "output_type": "display_data"
    }
   ],
   "source": [
    "predict_y, test_y, model,result = train_model(train_x, train_y, test_x, test_y)\n",
    "predict_y = scaler.inverse_transform([[i] for i in predict_y])\n",
    "test_y = scaler.inverse_transform(test_y)\n",
    "fig2 = plt.figure(2)\n",
    "plt.plot(predict_y, 'g:')\n",
    "plt.plot(test_y, 'r-')\n",
    "plt.legend(['predict', 'true'])\n",
    "plt.show()\n"
   ]
  },
  {
   "cell_type": "code",
   "execution_count": 23,
   "metadata": {},
   "outputs": [],
   "source": [
    "# wx, gtk, osx, tk, empty uses default\n",
    "%matplotlib qt\n",
    "plt.clf()\n",
    "# fig2 = plt.figure()\n",
    "plt.plot(predict_y, 'b-',label = 'predict ave change')\n",
    "plt.plot(test_y, 'r-', label = 'true ave change')\n",
    "plt.title('601318SH Pingan Financial Group change price prediction')\n",
    "plt.xlabel('Days')\n",
    "plt.ylabel('change price')\n",
    "plt.legend()\n",
    "plt.show()\n",
    "\n"
   ]
  },
  {
   "cell_type": "code",
   "execution_count": 24,
   "metadata": {
    "scrolled": true
   },
   "outputs": [
    {
     "name": "stdout",
     "output_type": "stream",
     "text": [
      "380 380\n",
      "243 136\n"
     ]
    }
   ],
   "source": [
    "trend_list = [1,]\n",
    "for i in range(1, len(predict_y)):\n",
    "    if predict_y[i] <= quantile033:\n",
    "        trend_list.append(-1)\n",
    "    elif quantile033 <= predict_y[i] <= quantile067:\n",
    "        trend_list.append(0)\n",
    "    else:\n",
    "        trend_list.append(1)\n",
    "\n",
    "real_trend_list = [1,]\n",
    "for i in range(1, len(test_y)):\n",
    "    if test_y[i] <= quantile033:\n",
    "        real_trend_list.append(-1)\n",
    "    elif quantile033 <= test_y[i] <= quantile067:\n",
    "        real_trend_list.append(0)\n",
    "    else:\n",
    "        real_trend_list.append(1)\n",
    "        \n",
    "\n",
    "\n",
    "true_count = 0\n",
    "false_count = 0\n",
    "\n",
    "\n",
    "print(len(test_y), len(predict_y))\n",
    "\n",
    "pair_list = []\n",
    "\n",
    "for i in range(len(predict_y)-1):\n",
    "    pair_list.append([real_trend_list[i], trend_list[i]])\n",
    "    if real_trend_list[i] == trend_list[i]:\n",
    "        true_count = true_count + 1\n",
    "    else:\n",
    "        false_count = false_count + 1\n",
    "\n",
    "# print(pair_list)\n",
    "print(true_count, false_count)\n"
   ]
  },
  {
   "cell_type": "code",
   "execution_count": 25,
   "metadata": {},
   "outputs": [
    {
     "data": {
      "text/plain": [
       "(380, 380)"
      ]
     },
     "execution_count": 25,
     "metadata": {},
     "output_type": "execute_result"
    }
   ],
   "source": [
    "len(real_trend_list) , len(trend_list)"
   ]
  },
  {
   "cell_type": "code",
   "execution_count": 26,
   "metadata": {},
   "outputs": [
    {
     "data": {
      "text/plain": [
       "0.6394736842105263"
      ]
     },
     "execution_count": 26,
     "metadata": {},
     "output_type": "execute_result"
    }
   ],
   "source": [
    "accuracy = true_count/ len(predict_y)\n",
    "accuracy"
   ]
  },
  {
   "cell_type": "code",
   "execution_count": 27,
   "metadata": {},
   "outputs": [
    {
     "name": "stdout",
     "output_type": "stream",
     "text": [
      "预测数据 <keras.callbacks.History object at 0x0000019567C15EF0>\n",
      "真实数据 <keras.callbacks.History object at 0x0000019567C15EF0>\n"
     ]
    }
   ],
   "source": [
    "from collections import Counter\n",
    "\n",
    "prediction_result = Counter(trend_list)\n",
    "print (\"预测数据\", result)\n",
    "prediction_result = Counter(real_trend_list)\n",
    "print (\"真实数据\", result)"
   ]
  },
  {
   "cell_type": "code",
   "execution_count": 28,
   "metadata": {},
   "outputs": [],
   "source": [
    "# count = 0\n",
    "# for i in predict_y:\n",
    "#     if quantile033 < i < quantile067:\n",
    "#         count += 1\n",
    "\n",
    "# print(count)"
   ]
  },
  {
   "cell_type": "code",
   "execution_count": 29,
   "metadata": {},
   "outputs": [
    {
     "name": "stdout",
     "output_type": "stream",
     "text": [
      "_________________________________________________________________\n",
      "Layer (type)                 Output Shape              Param #   \n",
      "=================================================================\n",
      "lstm_1 (LSTM)                (None, None, 10)          840       \n",
      "_________________________________________________________________\n",
      "dropout_1 (Dropout)          (None, None, 10)          0         \n",
      "_________________________________________________________________\n",
      "lstm_2 (LSTM)                (None, 200)               168800    \n",
      "_________________________________________________________________\n",
      "dropout_2 (Dropout)          (None, 200)               0         \n",
      "_________________________________________________________________\n",
      "dense_1 (Dense)              (None, 1)                 201       \n",
      "_________________________________________________________________\n",
      "activation_1 (Activation)    (None, 1)                 0         \n",
      "=================================================================\n",
      "Total params: 169,841\n",
      "Trainable params: 169,841\n",
      "Non-trainable params: 0\n",
      "_________________________________________________________________\n"
     ]
    }
   ],
   "source": [
    "model.summary()"
   ]
  },
  {
   "cell_type": "code",
   "execution_count": 30,
   "metadata": {},
   "outputs": [
    {
     "data": {
      "text/html": [
       "<div>\n",
       "<style scoped>\n",
       "    .dataframe tbody tr th:only-of-type {\n",
       "        vertical-align: middle;\n",
       "    }\n",
       "\n",
       "    .dataframe tbody tr th {\n",
       "        vertical-align: top;\n",
       "    }\n",
       "\n",
       "    .dataframe thead th {\n",
       "        text-align: right;\n",
       "    }\n",
       "</style>\n",
       "<table border=\"1\" class=\"dataframe\">\n",
       "  <thead>\n",
       "    <tr style=\"text-align: right;\">\n",
       "      <th></th>\n",
       "      <th>0</th>\n",
       "      <th>0</th>\n",
       "    </tr>\n",
       "  </thead>\n",
       "  <tbody>\n",
       "    <tr>\n",
       "      <th>0</th>\n",
       "      <td>1</td>\n",
       "      <td>1</td>\n",
       "    </tr>\n",
       "    <tr>\n",
       "      <th>1</th>\n",
       "      <td>0</td>\n",
       "      <td>0</td>\n",
       "    </tr>\n",
       "    <tr>\n",
       "      <th>2</th>\n",
       "      <td>0</td>\n",
       "      <td>-1</td>\n",
       "    </tr>\n",
       "    <tr>\n",
       "      <th>3</th>\n",
       "      <td>0</td>\n",
       "      <td>0</td>\n",
       "    </tr>\n",
       "    <tr>\n",
       "      <th>4</th>\n",
       "      <td>1</td>\n",
       "      <td>0</td>\n",
       "    </tr>\n",
       "  </tbody>\n",
       "</table>\n",
       "</div>"
      ],
      "text/plain": [
       "   0  0\n",
       "0  1  1\n",
       "1  0  0\n",
       "2  0 -1\n",
       "3  0  0\n",
       "4  1  0"
      ]
     },
     "execution_count": 30,
     "metadata": {},
     "output_type": "execute_result"
    }
   ],
   "source": [
    "real_df = pd.DataFrame(real_trend_list)\n",
    "pred_df = pd.DataFrame(trend_list)\n",
    "acc_df = pd.concat((real_df[0],pred_df[0]), axis=1)\n",
    "acc_df.head(5)"
   ]
  },
  {
   "cell_type": "code",
   "execution_count": 31,
   "metadata": {},
   "outputs": [],
   "source": [
    "temp_list = []\n",
    "temp_df =  real_df[0] - pred_df[0]\n",
    "for i in range(0, len(temp_df)):\n",
    "    temp_list.append([i, temp_df[i]])"
   ]
  },
  {
   "cell_type": "code",
   "execution_count": 32,
   "metadata": {},
   "outputs": [
    {
     "data": {
      "text/plain": [
       "[[0, 0],\n",
       " [1, 0],\n",
       " [2, 1],\n",
       " [3, 0],\n",
       " [4, 1],\n",
       " [5, 0],\n",
       " [6, 0],\n",
       " [7, 1],\n",
       " [8, 0],\n",
       " [9, 0]]"
      ]
     },
     "execution_count": 32,
     "metadata": {},
     "output_type": "execute_result"
    }
   ],
   "source": [
    "temp_list[0:10]"
   ]
  },
  {
   "cell_type": "code",
   "execution_count": 33,
   "metadata": {},
   "outputs": [],
   "source": [
    "%matplotlib qt\n",
    "plt.clf()\n",
    "# plt.figure()\n",
    "plt.scatter( *zip(*temp_list), )\n",
    "# plt.scatter(real_df.index.values, pred_df[0],color='blue', marker='^')\n",
    "# plt.scatter(real_df.index.values, real_df[0],color='red', marker='.')\n",
    "plt.title('Trend Prediction Accuracy of 601318SH = {}'.format(accuracy))\n",
    "plt.xlabel('Days')\n",
    "plt.ylabel('Trend Prediction')\n",
    "plt.show()"
   ]
  },
  {
   "cell_type": "code",
   "execution_count": 34,
   "metadata": {},
   "outputs": [],
   "source": [
    "%matplotlib qt\n",
    "plt.clf()\n",
    "plt.plot(result.history['rmse'])\n",
    "plt.plot(result.history['val_rmse'])\n",
    "plt.title('model mse')\n",
    "plt.ylabel('mse')\n",
    "plt.xlabel('epoch')\n",
    "plt.legend(['train', 'test'], loc='upper left')\n",
    "plt.show()\n"
   ]
  },
  {
   "cell_type": "code",
   "execution_count": 35,
   "metadata": {},
   "outputs": [],
   "source": [
    "%matplotlib qt\n",
    "plt.clf()\n",
    "plt.plot(result.history['mean_squared_error'])\n",
    "plt.plot(result.history['val_mean_squared_error'])\n",
    "plt.title('model R^2')\n",
    "plt.ylabel('R^2')\n",
    "plt.xlabel('epoch')\n",
    "plt.legend(['train', 'test'], loc='upper left')\n",
    "plt.show()"
   ]
  },
  {
   "cell_type": "code",
   "execution_count": 36,
   "metadata": {},
   "outputs": [
    {
     "data": {
      "text/plain": [
       "((1518, 10, 10), (380, 10, 10), (1909, 11), (1909, 10))"
      ]
     },
     "execution_count": 36,
     "metadata": {},
     "output_type": "execute_result"
    }
   ],
   "source": [
    "train_x.shape, test_x.shape , df.shape, input_data.shape"
   ]
  },
  {
   "cell_type": "code",
   "execution_count": 37,
   "metadata": {},
   "outputs": [],
   "source": [
    "new_data = df.copy()\n",
    "new_data['ave_change'] = input_data['ave_change']"
   ]
  },
  {
   "cell_type": "code",
   "execution_count": 38,
   "metadata": {},
   "outputs": [
    {
     "data": {
      "text/html": [
       "<div>\n",
       "<style scoped>\n",
       "    .dataframe tbody tr th:only-of-type {\n",
       "        vertical-align: middle;\n",
       "    }\n",
       "\n",
       "    .dataframe tbody tr th {\n",
       "        vertical-align: top;\n",
       "    }\n",
       "\n",
       "    .dataframe thead th {\n",
       "        text-align: right;\n",
       "    }\n",
       "</style>\n",
       "<table border=\"1\" class=\"dataframe\">\n",
       "  <thead>\n",
       "    <tr style=\"text-align: right;\">\n",
       "      <th></th>\n",
       "      <th>ts_code</th>\n",
       "      <th>trade_date</th>\n",
       "      <th>open</th>\n",
       "      <th>high</th>\n",
       "      <th>low</th>\n",
       "      <th>close</th>\n",
       "      <th>pre_close</th>\n",
       "      <th>change</th>\n",
       "      <th>pct_chg</th>\n",
       "      <th>vol</th>\n",
       "      <th>amount</th>\n",
       "      <th>ave_change</th>\n",
       "    </tr>\n",
       "  </thead>\n",
       "  <tbody>\n",
       "    <tr>\n",
       "      <th>0</th>\n",
       "      <td>601318.SH</td>\n",
       "      <td>20110104</td>\n",
       "      <td>56.85</td>\n",
       "      <td>57.60</td>\n",
       "      <td>56.50</td>\n",
       "      <td>56.91</td>\n",
       "      <td>56.16</td>\n",
       "      <td>0.75</td>\n",
       "      <td>1.34</td>\n",
       "      <td>245626.82</td>\n",
       "      <td>1400499.338</td>\n",
       "      <td>-1.300000</td>\n",
       "    </tr>\n",
       "    <tr>\n",
       "      <th>1</th>\n",
       "      <td>601318.SH</td>\n",
       "      <td>20110105</td>\n",
       "      <td>56.59</td>\n",
       "      <td>56.80</td>\n",
       "      <td>54.80</td>\n",
       "      <td>54.86</td>\n",
       "      <td>56.91</td>\n",
       "      <td>-2.05</td>\n",
       "      <td>-3.60</td>\n",
       "      <td>427554.25</td>\n",
       "      <td>2368305.774</td>\n",
       "      <td>-0.943333</td>\n",
       "    </tr>\n",
       "    <tr>\n",
       "      <th>2</th>\n",
       "      <td>601318.SH</td>\n",
       "      <td>20110106</td>\n",
       "      <td>54.94</td>\n",
       "      <td>54.94</td>\n",
       "      <td>51.45</td>\n",
       "      <td>52.59</td>\n",
       "      <td>54.86</td>\n",
       "      <td>-2.27</td>\n",
       "      <td>-4.14</td>\n",
       "      <td>947078.65</td>\n",
       "      <td>4971851.955</td>\n",
       "      <td>-0.156667</td>\n",
       "    </tr>\n",
       "    <tr>\n",
       "      <th>3</th>\n",
       "      <td>601318.SH</td>\n",
       "      <td>20110107</td>\n",
       "      <td>52.97</td>\n",
       "      <td>54.25</td>\n",
       "      <td>51.80</td>\n",
       "      <td>53.01</td>\n",
       "      <td>52.59</td>\n",
       "      <td>0.42</td>\n",
       "      <td>0.80</td>\n",
       "      <td>659013.87</td>\n",
       "      <td>3494756.547</td>\n",
       "      <td>-0.006667</td>\n",
       "    </tr>\n",
       "    <tr>\n",
       "      <th>4</th>\n",
       "      <td>601318.SH</td>\n",
       "      <td>20110110</td>\n",
       "      <td>52.90</td>\n",
       "      <td>53.90</td>\n",
       "      <td>51.90</td>\n",
       "      <td>52.03</td>\n",
       "      <td>53.01</td>\n",
       "      <td>-0.98</td>\n",
       "      <td>-1.85</td>\n",
       "      <td>282919.36</td>\n",
       "      <td>1494174.281</td>\n",
       "      <td>0.316667</td>\n",
       "    </tr>\n",
       "  </tbody>\n",
       "</table>\n",
       "</div>"
      ],
      "text/plain": [
       "     ts_code  trade_date   open   high    low  close  pre_close  change  \\\n",
       "0  601318.SH    20110104  56.85  57.60  56.50  56.91      56.16    0.75   \n",
       "1  601318.SH    20110105  56.59  56.80  54.80  54.86      56.91   -2.05   \n",
       "2  601318.SH    20110106  54.94  54.94  51.45  52.59      54.86   -2.27   \n",
       "3  601318.SH    20110107  52.97  54.25  51.80  53.01      52.59    0.42   \n",
       "4  601318.SH    20110110  52.90  53.90  51.90  52.03      53.01   -0.98   \n",
       "\n",
       "   pct_chg        vol       amount  ave_change  \n",
       "0     1.34  245626.82  1400499.338   -1.300000  \n",
       "1    -3.60  427554.25  2368305.774   -0.943333  \n",
       "2    -4.14  947078.65  4971851.955   -0.156667  \n",
       "3     0.80  659013.87  3494756.547   -0.006667  \n",
       "4    -1.85  282919.36  1494174.281    0.316667  "
      ]
     },
     "execution_count": 38,
     "metadata": {},
     "output_type": "execute_result"
    }
   ],
   "source": [
    "new_data.head()"
   ]
  },
  {
   "cell_type": "code",
   "execution_count": 39,
   "metadata": {},
   "outputs": [
    {
     "data": {
      "text/plain": [
       "1528   -0.046667\n",
       "1529   -0.216667\n",
       "1530   -0.070000\n",
       "1531    0.056667\n",
       "1532    0.860000\n",
       "1533    0.660000\n",
       "1534    0.986667\n",
       "1535    0.353333\n",
       "1536    0.440000\n",
       "1537   -0.176667\n",
       "1538   -0.093333\n",
       "1539   -0.026667\n",
       "1540    0.806667\n",
       "1541    0.850000\n",
       "1542    0.673333\n",
       "1543    0.883333\n",
       "1544    0.670000\n",
       "1545    0.680000\n",
       "1546    0.160000\n",
       "1547   -0.073333\n",
       "Name: ave_change, dtype: float64"
      ]
     },
     "execution_count": 39,
     "metadata": {},
     "output_type": "execute_result"
    }
   ],
   "source": [
    "new_data['ave_change'].iloc[1528:].head(20)"
   ]
  },
  {
   "cell_type": "code",
   "execution_count": 40,
   "metadata": {
    "scrolled": true
   },
   "outputs": [
    {
     "data": {
      "text/plain": [
       "(array([[-0.04666667],\n",
       "        [-0.21666667],\n",
       "        [-0.07      ],\n",
       "        [ 0.05666667],\n",
       "        [ 0.86      ],\n",
       "        [ 0.66      ],\n",
       "        [ 0.98666667],\n",
       "        [ 0.35333333],\n",
       "        [ 0.44      ],\n",
       "        [-0.17666667],\n",
       "        [-0.09333333],\n",
       "        [-0.02666667],\n",
       "        [ 0.80666667],\n",
       "        [ 0.85      ],\n",
       "        [ 0.67333333],\n",
       "        [ 0.88333333],\n",
       "        [ 0.67      ],\n",
       "        [ 0.68      ],\n",
       "        [ 0.16      ],\n",
       "        [-0.07333333]]), array([[-0.05451565],\n",
       "        [-0.15932675],\n",
       "        [-0.27679023],\n",
       "        [-0.06274199],\n",
       "        [ 0.12653078]]))"
      ]
     },
     "execution_count": 40,
     "metadata": {},
     "output_type": "execute_result"
    }
   ],
   "source": [
    "test_y[0:20] , predict_y[0:5]"
   ]
  },
  {
   "cell_type": "code",
   "execution_count": 41,
   "metadata": {},
   "outputs": [],
   "source": [
    "save_data = new_data[1528:-1]"
   ]
  },
  {
   "cell_type": "code",
   "execution_count": 42,
   "metadata": {},
   "outputs": [
    {
     "data": {
      "text/plain": [
       "((380, 12), (380, 10, 10), (380, 1), 380, 380)"
      ]
     },
     "execution_count": 42,
     "metadata": {},
     "output_type": "execute_result"
    }
   ],
   "source": [
    "save_data.shape , test_x.shape, predict_y.shape , len(trend_list), len(real_trend_list)"
   ]
  },
  {
   "cell_type": "code",
   "execution_count": 43,
   "metadata": {},
   "outputs": [
    {
     "name": "stderr",
     "output_type": "stream",
     "text": [
      "d:\\ProgramData\\Anaconda3\\lib\\site-packages\\ipykernel_launcher.py:1: SettingWithCopyWarning: \n",
      "A value is trying to be set on a copy of a slice from a DataFrame.\n",
      "Try using .loc[row_indexer,col_indexer] = value instead\n",
      "\n",
      "See the caveats in the documentation: http://pandas.pydata.org/pandas-docs/stable/indexing.html#indexing-view-versus-copy\n",
      "  \"\"\"Entry point for launching an IPython kernel.\n"
     ]
    }
   ],
   "source": [
    "save_data['pred_ave_change'] = predict_y"
   ]
  },
  {
   "cell_type": "code",
   "execution_count": 44,
   "metadata": {
    "scrolled": true
   },
   "outputs": [
    {
     "name": "stderr",
     "output_type": "stream",
     "text": [
      "d:\\ProgramData\\Anaconda3\\lib\\site-packages\\ipykernel_launcher.py:1: SettingWithCopyWarning: \n",
      "A value is trying to be set on a copy of a slice from a DataFrame.\n",
      "Try using .loc[row_indexer,col_indexer] = value instead\n",
      "\n",
      "See the caveats in the documentation: http://pandas.pydata.org/pandas-docs/stable/indexing.html#indexing-view-versus-copy\n",
      "  \"\"\"Entry point for launching an IPython kernel.\n",
      "d:\\ProgramData\\Anaconda3\\lib\\site-packages\\ipykernel_launcher.py:2: SettingWithCopyWarning: \n",
      "A value is trying to be set on a copy of a slice from a DataFrame.\n",
      "Try using .loc[row_indexer,col_indexer] = value instead\n",
      "\n",
      "See the caveats in the documentation: http://pandas.pydata.org/pandas-docs/stable/indexing.html#indexing-view-versus-copy\n",
      "  \n"
     ]
    }
   ],
   "source": [
    "save_data['real_trend'] = real_trend_list\n",
    "save_data['pred_trend'] = trend_list"
   ]
  },
  {
   "cell_type": "code",
   "execution_count": 45,
   "metadata": {},
   "outputs": [
    {
     "data": {
      "text/html": [
       "<div>\n",
       "<style scoped>\n",
       "    .dataframe tbody tr th:only-of-type {\n",
       "        vertical-align: middle;\n",
       "    }\n",
       "\n",
       "    .dataframe tbody tr th {\n",
       "        vertical-align: top;\n",
       "    }\n",
       "\n",
       "    .dataframe thead th {\n",
       "        text-align: right;\n",
       "    }\n",
       "</style>\n",
       "<table border=\"1\" class=\"dataframe\">\n",
       "  <thead>\n",
       "    <tr style=\"text-align: right;\">\n",
       "      <th></th>\n",
       "      <th>ts_code</th>\n",
       "      <th>trade_date</th>\n",
       "      <th>open</th>\n",
       "      <th>high</th>\n",
       "      <th>low</th>\n",
       "      <th>close</th>\n",
       "      <th>pre_close</th>\n",
       "      <th>change</th>\n",
       "      <th>pct_chg</th>\n",
       "      <th>vol</th>\n",
       "      <th>amount</th>\n",
       "      <th>ave_change</th>\n",
       "      <th>pred_ave_change</th>\n",
       "      <th>real_trend</th>\n",
       "      <th>pred_trend</th>\n",
       "    </tr>\n",
       "  </thead>\n",
       "  <tbody>\n",
       "    <tr>\n",
       "      <th>1528</th>\n",
       "      <td>601318.SH</td>\n",
       "      <td>20170428</td>\n",
       "      <td>37.90</td>\n",
       "      <td>38.07</td>\n",
       "      <td>37.61</td>\n",
       "      <td>37.96</td>\n",
       "      <td>37.82</td>\n",
       "      <td>0.14</td>\n",
       "      <td>0.37</td>\n",
       "      <td>678663.87</td>\n",
       "      <td>2568647.819</td>\n",
       "      <td>-0.046667</td>\n",
       "      <td>-0.054516</td>\n",
       "      <td>1</td>\n",
       "      <td>1</td>\n",
       "    </tr>\n",
       "    <tr>\n",
       "      <th>1529</th>\n",
       "      <td>601318.SH</td>\n",
       "      <td>20170502</td>\n",
       "      <td>37.80</td>\n",
       "      <td>38.38</td>\n",
       "      <td>37.80</td>\n",
       "      <td>37.91</td>\n",
       "      <td>37.96</td>\n",
       "      <td>-0.05</td>\n",
       "      <td>-0.13</td>\n",
       "      <td>619325.39</td>\n",
       "      <td>2359210.184</td>\n",
       "      <td>-0.216667</td>\n",
       "      <td>-0.159327</td>\n",
       "      <td>0</td>\n",
       "      <td>0</td>\n",
       "    </tr>\n",
       "    <tr>\n",
       "      <th>1530</th>\n",
       "      <td>601318.SH</td>\n",
       "      <td>20170503</td>\n",
       "      <td>37.95</td>\n",
       "      <td>38.28</td>\n",
       "      <td>37.82</td>\n",
       "      <td>38.00</td>\n",
       "      <td>37.91</td>\n",
       "      <td>0.09</td>\n",
       "      <td>0.24</td>\n",
       "      <td>505383.86</td>\n",
       "      <td>1920918.772</td>\n",
       "      <td>-0.070000</td>\n",
       "      <td>-0.276790</td>\n",
       "      <td>0</td>\n",
       "      <td>-1</td>\n",
       "    </tr>\n",
       "    <tr>\n",
       "      <th>1531</th>\n",
       "      <td>601318.SH</td>\n",
       "      <td>20170504</td>\n",
       "      <td>37.95</td>\n",
       "      <td>38.10</td>\n",
       "      <td>37.73</td>\n",
       "      <td>37.82</td>\n",
       "      <td>38.00</td>\n",
       "      <td>-0.18</td>\n",
       "      <td>-0.47</td>\n",
       "      <td>548573.55</td>\n",
       "      <td>2080732.893</td>\n",
       "      <td>0.056667</td>\n",
       "      <td>-0.062742</td>\n",
       "      <td>0</td>\n",
       "      <td>0</td>\n",
       "    </tr>\n",
       "    <tr>\n",
       "      <th>1532</th>\n",
       "      <td>601318.SH</td>\n",
       "      <td>20170505</td>\n",
       "      <td>37.70</td>\n",
       "      <td>37.86</td>\n",
       "      <td>37.20</td>\n",
       "      <td>37.26</td>\n",
       "      <td>37.82</td>\n",
       "      <td>-0.56</td>\n",
       "      <td>-1.48</td>\n",
       "      <td>623979.60</td>\n",
       "      <td>2337681.712</td>\n",
       "      <td>0.860000</td>\n",
       "      <td>0.126531</td>\n",
       "      <td>1</td>\n",
       "      <td>0</td>\n",
       "    </tr>\n",
       "  </tbody>\n",
       "</table>\n",
       "</div>"
      ],
      "text/plain": [
       "        ts_code  trade_date   open   high    low  close  pre_close  change  \\\n",
       "1528  601318.SH    20170428  37.90  38.07  37.61  37.96      37.82    0.14   \n",
       "1529  601318.SH    20170502  37.80  38.38  37.80  37.91      37.96   -0.05   \n",
       "1530  601318.SH    20170503  37.95  38.28  37.82  38.00      37.91    0.09   \n",
       "1531  601318.SH    20170504  37.95  38.10  37.73  37.82      38.00   -0.18   \n",
       "1532  601318.SH    20170505  37.70  37.86  37.20  37.26      37.82   -0.56   \n",
       "\n",
       "      pct_chg        vol       amount  ave_change  pred_ave_change  \\\n",
       "1528     0.37  678663.87  2568647.819   -0.046667        -0.054516   \n",
       "1529    -0.13  619325.39  2359210.184   -0.216667        -0.159327   \n",
       "1530     0.24  505383.86  1920918.772   -0.070000        -0.276790   \n",
       "1531    -0.47  548573.55  2080732.893    0.056667        -0.062742   \n",
       "1532    -1.48  623979.60  2337681.712    0.860000         0.126531   \n",
       "\n",
       "      real_trend  pred_trend  \n",
       "1528           1           1  \n",
       "1529           0           0  \n",
       "1530           0          -1  \n",
       "1531           0           0  \n",
       "1532           1           0  "
      ]
     },
     "execution_count": 45,
     "metadata": {},
     "output_type": "execute_result"
    }
   ],
   "source": [
    "save_data.head()"
   ]
  },
  {
   "cell_type": "code",
   "execution_count": 46,
   "metadata": {},
   "outputs": [],
   "source": [
    "save_data.to_csv('Result-Pingan-from-20110101-to-20181118.csv', index=False)"
   ]
  },
  {
   "cell_type": "code",
   "execution_count": 48,
   "metadata": {},
   "outputs": [
    {
     "data": {
      "text/plain": [
       "1528   -0.054516\n",
       "1529   -0.159327\n",
       "1530   -0.276790\n",
       "1531   -0.062742\n",
       "1532    0.126531\n",
       "1533    0.569292\n",
       "1534    0.532270\n",
       "1535    0.244051\n",
       "1536    0.330399\n",
       "1537   -0.024949\n",
       "1538   -0.275849\n",
       "1539   -0.193179\n",
       "1540    0.071617\n",
       "1541    0.633867\n",
       "1542    0.652103\n",
       "1543   -0.020119\n",
       "1544    0.656788\n",
       "1545    0.588352\n",
       "1546   -0.273291\n",
       "1547    0.216996\n",
       "1548   -0.145665\n",
       "1549   -0.488065\n",
       "1550    0.258256\n",
       "1551    0.280023\n",
       "1552    0.408748\n",
       "1553    0.585743\n",
       "1554    0.270055\n",
       "1555    0.043705\n",
       "1556   -0.596815\n",
       "1557   -0.779103\n",
       "          ...   \n",
       "1878   -0.990518\n",
       "1879   -0.354378\n",
       "1880   -0.875281\n",
       "1881   -0.134958\n",
       "1882   -0.049962\n",
       "1883    0.079483\n",
       "1884    0.218699\n",
       "1885   -0.732222\n",
       "1886    0.549832\n",
       "1887    1.442984\n",
       "1888   -0.223844\n",
       "1889   -0.305958\n",
       "1890    0.125757\n",
       "1891   -0.572575\n",
       "1892   -1.258221\n",
       "1893   -0.798844\n",
       "1894    0.242317\n",
       "1895    0.510069\n",
       "1896    0.867975\n",
       "1897    0.369490\n",
       "1898   -0.161182\n",
       "1899   -0.144442\n",
       "1900   -0.390750\n",
       "1901   -0.553796\n",
       "1902   -0.398399\n",
       "1903   -0.060822\n",
       "1904   -0.391556\n",
       "1905   -0.037693\n",
       "1906    0.171434\n",
       "1907   -1.199696\n",
       "Name: pred_ave_change, Length: 380, dtype: float64"
      ]
     },
     "execution_count": 48,
     "metadata": {},
     "output_type": "execute_result"
    }
   ],
   "source": [
    "save_data.pop('pred_ave_change')"
   ]
  },
  {
   "cell_type": "code",
   "execution_count": 50,
   "metadata": {},
   "outputs": [
    {
     "data": {
      "text/html": [
       "<div>\n",
       "<style scoped>\n",
       "    .dataframe tbody tr th:only-of-type {\n",
       "        vertical-align: middle;\n",
       "    }\n",
       "\n",
       "    .dataframe tbody tr th {\n",
       "        vertical-align: top;\n",
       "    }\n",
       "\n",
       "    .dataframe thead th {\n",
       "        text-align: right;\n",
       "    }\n",
       "</style>\n",
       "<table border=\"1\" class=\"dataframe\">\n",
       "  <thead>\n",
       "    <tr style=\"text-align: right;\">\n",
       "      <th></th>\n",
       "      <th>ts_code</th>\n",
       "      <th>trade_date</th>\n",
       "      <th>open</th>\n",
       "      <th>high</th>\n",
       "      <th>low</th>\n",
       "      <th>close</th>\n",
       "      <th>pre_close</th>\n",
       "      <th>change</th>\n",
       "      <th>pct_chg</th>\n",
       "      <th>vol</th>\n",
       "      <th>amount</th>\n",
       "      <th>ave_change</th>\n",
       "      <th>real_trend</th>\n",
       "      <th>pred_trend</th>\n",
       "    </tr>\n",
       "  </thead>\n",
       "  <tbody>\n",
       "    <tr>\n",
       "      <th>1528</th>\n",
       "      <td>601318.SH</td>\n",
       "      <td>20170428</td>\n",
       "      <td>37.90</td>\n",
       "      <td>38.07</td>\n",
       "      <td>37.61</td>\n",
       "      <td>37.96</td>\n",
       "      <td>37.82</td>\n",
       "      <td>0.14</td>\n",
       "      <td>0.37</td>\n",
       "      <td>678663.87</td>\n",
       "      <td>2568647.819</td>\n",
       "      <td>-0.046667</td>\n",
       "      <td>1</td>\n",
       "      <td>1</td>\n",
       "    </tr>\n",
       "    <tr>\n",
       "      <th>1529</th>\n",
       "      <td>601318.SH</td>\n",
       "      <td>20170502</td>\n",
       "      <td>37.80</td>\n",
       "      <td>38.38</td>\n",
       "      <td>37.80</td>\n",
       "      <td>37.91</td>\n",
       "      <td>37.96</td>\n",
       "      <td>-0.05</td>\n",
       "      <td>-0.13</td>\n",
       "      <td>619325.39</td>\n",
       "      <td>2359210.184</td>\n",
       "      <td>-0.216667</td>\n",
       "      <td>0</td>\n",
       "      <td>0</td>\n",
       "    </tr>\n",
       "    <tr>\n",
       "      <th>1530</th>\n",
       "      <td>601318.SH</td>\n",
       "      <td>20170503</td>\n",
       "      <td>37.95</td>\n",
       "      <td>38.28</td>\n",
       "      <td>37.82</td>\n",
       "      <td>38.00</td>\n",
       "      <td>37.91</td>\n",
       "      <td>0.09</td>\n",
       "      <td>0.24</td>\n",
       "      <td>505383.86</td>\n",
       "      <td>1920918.772</td>\n",
       "      <td>-0.070000</td>\n",
       "      <td>0</td>\n",
       "      <td>-1</td>\n",
       "    </tr>\n",
       "    <tr>\n",
       "      <th>1531</th>\n",
       "      <td>601318.SH</td>\n",
       "      <td>20170504</td>\n",
       "      <td>37.95</td>\n",
       "      <td>38.10</td>\n",
       "      <td>37.73</td>\n",
       "      <td>37.82</td>\n",
       "      <td>38.00</td>\n",
       "      <td>-0.18</td>\n",
       "      <td>-0.47</td>\n",
       "      <td>548573.55</td>\n",
       "      <td>2080732.893</td>\n",
       "      <td>0.056667</td>\n",
       "      <td>0</td>\n",
       "      <td>0</td>\n",
       "    </tr>\n",
       "    <tr>\n",
       "      <th>1532</th>\n",
       "      <td>601318.SH</td>\n",
       "      <td>20170505</td>\n",
       "      <td>37.70</td>\n",
       "      <td>37.86</td>\n",
       "      <td>37.20</td>\n",
       "      <td>37.26</td>\n",
       "      <td>37.82</td>\n",
       "      <td>-0.56</td>\n",
       "      <td>-1.48</td>\n",
       "      <td>623979.60</td>\n",
       "      <td>2337681.712</td>\n",
       "      <td>0.860000</td>\n",
       "      <td>1</td>\n",
       "      <td>0</td>\n",
       "    </tr>\n",
       "  </tbody>\n",
       "</table>\n",
       "</div>"
      ],
      "text/plain": [
       "        ts_code  trade_date   open   high    low  close  pre_close  change  \\\n",
       "1528  601318.SH    20170428  37.90  38.07  37.61  37.96      37.82    0.14   \n",
       "1529  601318.SH    20170502  37.80  38.38  37.80  37.91      37.96   -0.05   \n",
       "1530  601318.SH    20170503  37.95  38.28  37.82  38.00      37.91    0.09   \n",
       "1531  601318.SH    20170504  37.95  38.10  37.73  37.82      38.00   -0.18   \n",
       "1532  601318.SH    20170505  37.70  37.86  37.20  37.26      37.82   -0.56   \n",
       "\n",
       "      pct_chg        vol       amount  ave_change  real_trend  pred_trend  \n",
       "1528     0.37  678663.87  2568647.819   -0.046667           1           1  \n",
       "1529    -0.13  619325.39  2359210.184   -0.216667           0           0  \n",
       "1530     0.24  505383.86  1920918.772   -0.070000           0          -1  \n",
       "1531    -0.47  548573.55  2080732.893    0.056667           0           0  \n",
       "1532    -1.48  623979.60  2337681.712    0.860000           1           0  "
      ]
     },
     "execution_count": 50,
     "metadata": {},
     "output_type": "execute_result"
    }
   ],
   "source": [
    "save_data.head()"
   ]
  },
  {
   "cell_type": "code",
   "execution_count": null,
   "metadata": {},
   "outputs": [],
   "source": []
  }
 ],
 "metadata": {
  "kernelspec": {
   "display_name": "Python 3",
   "language": "python",
   "name": "python3"
  },
  "language_info": {
   "codemirror_mode": {
    "name": "ipython",
    "version": 3
   },
   "file_extension": ".py",
   "mimetype": "text/x-python",
   "name": "python",
   "nbconvert_exporter": "python",
   "pygments_lexer": "ipython3",
   "version": "3.6.5"
  }
 },
 "nbformat": 4,
 "nbformat_minor": 2
}
